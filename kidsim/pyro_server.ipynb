{
 "cells": [
  {
   "cell_type": "code",
   "execution_count": null,
   "id": "9f07d536-accf-4470-be47-2fc7745616c3",
   "metadata": {},
   "outputs": [],
   "source": [
    "from qick_training import *\n",
    "from qick.pyro import start_server\n",
    "# start_server(ns_host=\"localhost\", ns_port=8888, proxy_name=\"myqick\")\n",
    "start_server(ns_host=\"localhost\", ns_port=8888, proxy_name=\"myqick\",\n",
    "             soc_class=QickTrainingSoc,\n",
    "             # bitfile=\"../../fw/2024-07-17_4x2_tprocv2r20_kidsim/qick_4x2.bit\")\n",
    "             bitfile=\"/data/fw/2024-07-15_216_tprocv2r20_kidsim-dynROv1-2/qick_216.bit\")"
   ]
  }
 ],
 "metadata": {
  "kernelspec": {
   "display_name": "Python 3 (ipykernel)",
   "language": "python",
   "name": "python3"
  },
  "language_info": {
   "codemirror_mode": {
    "name": "ipython",
    "version": 3
   },
   "file_extension": ".py",
   "mimetype": "text/x-python",
   "name": "python",
   "nbconvert_exporter": "python",
   "pygments_lexer": "ipython3",
   "version": "3.11.2"
  }
 },
 "nbformat": 4,
 "nbformat_minor": 5
}
