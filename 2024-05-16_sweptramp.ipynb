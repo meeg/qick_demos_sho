{
 "cells": [
  {
   "cell_type": "markdown",
   "metadata": {},
   "source": [
    "# Playing with swept linear ramps\n",
    "\n",
    "Here are two ways to make a linear ramp with a swept starting point.\n",
    "\n",
    "Normally this is something you'd play at DC, for a bias ramp, but I use RF here so the demo will work without DC-coupled DACs and ADCs."
   ]
  },
  {
   "cell_type": "code",
   "execution_count": 1,
   "metadata": {},
   "outputs": [],
   "source": [
    "# Import the QICK drivers and auxiliary libraries\n",
    "from qick import *\n",
    "from qick.averager_program import QickSweep\n",
    "import matplotlib.pyplot as plt\n",
    "import numpy as np"
   ]
  },
  {
   "cell_type": "code",
   "execution_count": 2,
   "metadata": {},
   "outputs": [
    {
     "data": {
      "application/javascript": [
       "\n",
       "try {\n",
       "require(['notebook/js/codecell'], function(codecell) {\n",
       "  codecell.CodeCell.options_default.highlight_modes[\n",
       "      'magic_text/x-csrc'] = {'reg':[/^%%microblaze/]};\n",
       "  Jupyter.notebook.events.one('kernel_ready.Kernel', function(){\n",
       "      Jupyter.notebook.get_cells().map(function(cell){\n",
       "          if (cell.cell_type == 'code'){ cell.auto_highlight(); } }) ;\n",
       "  });\n",
       "});\n",
       "} catch (e) {};\n"
      ]
     },
     "metadata": {},
     "output_type": "display_data"
    },
    {
     "data": {
      "application/javascript": [
       "\n",
       "try {\n",
       "require(['notebook/js/codecell'], function(codecell) {\n",
       "  codecell.CodeCell.options_default.highlight_modes[\n",
       "      'magic_text/x-csrc'] = {'reg':[/^%%pybind11/]};\n",
       "  Jupyter.notebook.events.one('kernel_ready.Kernel', function(){\n",
       "      Jupyter.notebook.get_cells().map(function(cell){\n",
       "          if (cell.cell_type == 'code'){ cell.auto_highlight(); } }) ;\n",
       "  });\n",
       "});\n",
       "} catch (e) {};\n"
      ]
     },
     "metadata": {},
     "output_type": "display_data"
    },
    {
     "name": "stdout",
     "output_type": "stream",
     "text": [
      "\n",
      "QICK configuration:\n",
      "\n",
      "\tBoard: RFSoC4x2\n",
      "\n",
      "\tSoftware version: 0.2.261\n",
      "\tFirmware timestamp: Wed Sep  6 18:49:29 2023\n",
      "\n",
      "\tGlobal clocks (MHz): tProcessor 409.600, RF reference 491.520\n",
      "\n",
      "\t2 signal generator channels:\n",
      "\t0:\taxis_signal_gen_v6 - envelope memory 65536 samples (6.667 us)\n",
      "\t\tfs=9830.400 MHz, fabric=614.400 MHz, 32-bit DDS, range=9830.400 MHz\n",
      "\t\tDAC tile 0, blk 0 is DAC_B\n",
      "\t1:\taxis_signal_gen_v6 - envelope memory 65536 samples (6.667 us)\n",
      "\t\tfs=9830.400 MHz, fabric=614.400 MHz, 32-bit DDS, range=9830.400 MHz\n",
      "\t\tDAC tile 2, blk 0 is DAC_A\n",
      "\n",
      "\t2 readout channels:\n",
      "\t0:\taxis_readout_v2 - configured by PYNQ\n",
      "\t\tfs=4423.680 MHz, decimated=552.960 MHz, 32-bit DDS, range=4423.680 MHz\n",
      "\t\tmaxlen 16384 accumulated, 1024 decimated (1.852 us)\n",
      "\t\ttriggered by output 7, pin 14, feedback to tProc input 0\n",
      "\t\tADC tile 0, blk 0 is ADC_D\n",
      "\t1:\taxis_readout_v2 - configured by PYNQ\n",
      "\t\tfs=4423.680 MHz, decimated=552.960 MHz, 32-bit DDS, range=4423.680 MHz\n",
      "\t\tmaxlen 16384 accumulated, 1024 decimated (1.852 us)\n",
      "\t\ttriggered by output 7, pin 15, feedback to tProc input 1\n",
      "\t\tADC tile 0, blk 1 is ADC_C\n",
      "\n",
      "\t8 digital output pins:\n",
      "\t0:\tPMOD0_0\n",
      "\t1:\tPMOD0_1\n",
      "\t2:\tPMOD0_2\n",
      "\t3:\tPMOD0_3\n",
      "\t4:\tPMOD0_4\n",
      "\t5:\tPMOD0_5\n",
      "\t6:\tPMOD0_6\n",
      "\t7:\tPMOD0_7\n",
      "\n",
      "\ttProc axis_tproc64x32_x8 (\"v1\") rev 4: program memory 1024 words, data memory 1024 words\n",
      "\t\texternal start pin: PMOD1_0\n",
      "\n",
      "\tDDR4 memory buffer: 1073741824 samples (1.942 sec), 256 samples/transfer\n",
      "\t\twired to readouts [0, 1]\n",
      "\n",
      "\tMR buffer: 8192 samples (1.852 us), wired to readouts [0, 1]\n"
     ]
    }
   ],
   "source": [
    "# Load bitstream with custom overlay\n",
    "soc = QickSoc()\n",
    "# Since we're running locally on the QICK, we don't need a separate QickConfig object.\n",
    "# If running remotely, you could generate a QickConfig from the QickSoc:\n",
    "#     soccfg = QickConfig(soc.get_cfg())\n",
    "# or save the config to file, and load it later:\n",
    "#     with open(\"qick_config.json\", \"w\") as f:\n",
    "#         f.write(soc.dump_cfg())\n",
    "#     soccfg = QickConfig(\"qick_config.json\")\n",
    "soccfg = soc\n",
    "print(soccfg)"
   ]
  },
  {
   "cell_type": "markdown",
   "metadata": {},
   "source": [
    "## staircase ramp\n",
    "\n",
    "You can make an arbitrarily long ramp by concatenating square pulses while ramping the gain, but it is going to have steps.\n",
    "\n",
    "The code for each step compiles to regwi (write the pulse time), set (send the pulse to the generator), mathi (increment the gain). Looking at the state machine in https://github.com/openquantumhardware/qick/blob/main/firmware/ip/axis_tproc64x32_x8_v1/src/ctrl.sv, regwi is 2 ticks, set is 4 ticks, mathi is 5 ticks - 11 ticks total of the tProc clock. You can get rid of the regwi but it only gets you to 9 ticks; on this firmware that's ~13 generator ticks, if your steps are shorter you will eventually get gaps between them."
   ]
  },
  {
   "cell_type": "code",
   "execution_count": 3,
   "metadata": {
    "scrolled": false
   },
   "outputs": [
    {
     "data": {
      "application/vnd.jupyter.widget-view+json": {
       "model_id": "cb0093314c57429a949c3b87cc5dfae8",
       "version_major": 2,
       "version_minor": 0
      },
      "text/plain": [
       "  0%|          | 0/1 [00:00<?, ?it/s]"
      ]
     },
     "metadata": {},
     "output_type": "display_data"
    },
    {
     "data": {
      "image/png": "[encoded data removed]",
      "text/plain": [
       "<Figure size 432x288 with 1 Axes>"
      ]
     },
     "metadata": {
      "needs_background": "light"
     },
     "output_type": "display_data"
    }
   ],
   "source": [
    "# see how fast we can go\n",
    "from qick.asm_v1 import QickRegisterManagerMixin\n",
    "class FastStepsProgram(QickRegisterManagerMixin, AveragerProgram):\n",
    "    def initialize(self):\n",
    "        cfg = self.cfg\n",
    "        res_ch = cfg[\"res_ch\"]\n",
    "        self.declare_gen(ch=cfg[\"res_ch\"], nqz=1)\n",
    "        for ch in cfg[\"ro_chs\"]:\n",
    "            self.declare_readout(ch=ch, length=self.cfg[\"readout_length\"],\n",
    "                                 freq=self.cfg[\"pulse_freq\"], gen_ch=cfg[\"res_ch\"])\n",
    "\n",
    "        freq = self.freq2reg(cfg[\"pulse_freq\"], gen_ch=res_ch, ro_ch=cfg[\"ro_chs\"][0])\n",
    "\n",
    "        self.set_pulse_registers(ch=res_ch, style=\"const\", freq=freq, phase=0, gain=cfg[\"g_start\"], length=cfg[\"length\"])\n",
    "        \n",
    "        self.res_r_gain = self.get_gen_reg(cfg[\"res_ch\"], \"gain\")\n",
    "        self.synci(200)  # give processor some time to configure pulses\n",
    "\n",
    "    def body(self):\n",
    "        self.trigger(adcs=self.ro_chs,\n",
    "                     pins=[0], \n",
    "                     adc_trig_offset=self.cfg[\"adc_trig_offset\"])\n",
    "\n",
    "        for n in range(self.cfg[\"step_count\"]):\n",
    "#             # default behavior: calculates and sets a new start time for every pulse\n",
    "#             t = 'auto'\n",
    "\n",
    "            # set the time register to 0 for first pulse, don't rewrite it for later pulses\n",
    "            # this saves one regwi per pulse\n",
    "            # this takes advantage of the fact that the generator will play pulses sequentially if they'd overlap\n",
    "            t = 0 if n==0 else None\n",
    "            self.pulse(ch=self.cfg[\"res_ch\"], t=t)\n",
    "            self.res_r_gain.set_to(self.res_r_gain, \"+\", self.cfg[\"step_size\"])\n",
    "        self.wait_all()\n",
    "        self.sync_all(self.us2cycles(self.cfg[\"relax_delay\"]))\n",
    "\n",
    "config={\"res_ch\":0, # --Fixed\n",
    "        \"ro_chs\":[0], # --Fixed\n",
    "        \"reps\":1, # --Fixed\n",
    "        \"relax_delay\":1.0, # --us\n",
    "        \"res_phase\":0, # --degrees\n",
    "        \"pulse_style\": \"const\", # --Fixed\n",
    "        \"step_count\": 100,\n",
    "        \"step_size\": 200,\n",
    "        \"g_start\": 1000,\n",
    "        \"length\":12, # [Clock ticks]\n",
    "        \"readout_length\":1000, # [Clock ticks]\n",
    "        \"pulse_freq\": 250, # [MHz]\n",
    "        \"adc_trig_offset\": 100, # [Clock ticks]\n",
    "        \"soft_avgs\":1\n",
    "       }\n",
    "\n",
    "prog =FastStepsProgram(soccfg, config)\n",
    "iq_list = prog.acquire_decimated(soc, progress=True)\n",
    "iq = iq_list[0]\n",
    "plt.plot(np.abs(iq[0]+1j*iq[1]), label=\"mag\")\n",
    "plt.ylabel(\"a.u.\")\n",
    "plt.xlabel(\"Clock ticks\")\n",
    "plt.legend();"
   ]
  },
  {
   "cell_type": "code",
   "execution_count": 4,
   "metadata": {},
   "outputs": [
    {
     "data": {
      "application/vnd.jupyter.widget-view+json": {
       "model_id": "86242f2fbd6241f49a8a5ab2b12b088e",
       "version_major": 2,
       "version_minor": 0
      },
      "text/plain": [
       "  0%|          | 0/1 [00:00<?, ?it/s]"
      ]
     },
     "metadata": {},
     "output_type": "display_data"
    },
    {
     "data": {
      "image/png": "[encoded data removed]",
      "text/plain": [
       "<Figure size 432x288 with 1 Axes>"
      ]
     },
     "metadata": {
      "needs_background": "light"
     },
     "output_type": "display_data"
    }
   ],
   "source": [
    "# we can sweep the starting point of the ramp\n",
    "class SweptStepsProgram(NDAveragerProgram):\n",
    "    def initialize(self):\n",
    "        cfg = self.cfg\n",
    "        res_ch = cfg[\"res_ch\"]\n",
    "        self.declare_gen(ch=cfg[\"res_ch\"], nqz=1)\n",
    "        for ch in cfg[\"ro_chs\"]:\n",
    "            self.declare_readout(ch=ch, length=self.cfg[\"readout_length\"],\n",
    "                                 freq=self.cfg[\"pulse_freq\"], gen_ch=cfg[\"res_ch\"])\n",
    "\n",
    "        freq = self.freq2reg(cfg[\"pulse_freq\"], gen_ch=res_ch, ro_ch=cfg[\"ro_chs\"][0])\n",
    "\n",
    "        self.set_pulse_registers(ch=res_ch, style=\"const\", freq=freq, phase=0, gain=cfg[\"g_start\"], length=cfg[\"length\"])\n",
    "        \n",
    "        self.res_r_gain = self.get_gen_reg(cfg[\"res_ch\"], \"gain\")\n",
    "        self.add_sweep(QickSweep(self, self.res_r_gain, cfg[\"g_start\"], cfg[\"g_stop\"], cfg[\"g_expts\"]))\n",
    "\n",
    "        self.synci(200)  # give processor some time to configure pulses\n",
    "\n",
    "    def body(self):\n",
    "        self.trigger(adcs=self.ro_chs,\n",
    "                     pins=[0], \n",
    "                     adc_trig_offset=self.cfg[\"adc_trig_offset\"])\n",
    "\n",
    "        for n in range(self.cfg[\"step_count\"]):\n",
    "            t = 0 if n==0 else None\n",
    "            self.pulse(ch=self.cfg[\"res_ch\"], t=t)\n",
    "            self.res_r_gain.set_to(self.res_r_gain, \"+\", self.cfg[\"step_size\"])\n",
    "\n",
    "        # bring the gain back to where it was before we ramped it\n",
    "        self.res_r_gain.set_to(self.res_r_gain, \"-\", self.cfg[\"step_count\"]*self.cfg[\"step_size\"])\n",
    "        self.wait_all()\n",
    "        self.sync_all(self.us2cycles(self.cfg[\"relax_delay\"]))\n",
    "\n",
    "config={\"res_ch\":0, # --Fixed\n",
    "        \"ro_chs\":[0], # --Fixed\n",
    "        \"reps\":1, # --Fixed\n",
    "        \"relax_delay\":1.0, # --us\n",
    "        \"pulse_style\": \"const\", # --Fixed\n",
    "        \"step_count\": 20,\n",
    "        \"step_size\": 200,\n",
    "        \"g_start\": 1000,\n",
    "        \"g_stop\": 10000,\n",
    "        \"g_expts\": 3,\n",
    "        \"length\":12, # [Clock ticks]\n",
    "        \"readout_length\":300, # [Clock ticks]\n",
    "        \"pulse_freq\": 250, # [MHz]\n",
    "        \"adc_trig_offset\": 100, # [Clock ticks]\n",
    "       }\n",
    "\n",
    "prog =SweptStepsProgram(soccfg, config)\n",
    "iq_list = prog.acquire_decimated(soc, progress=True, soft_avgs=1)\n",
    "for ii, iq in enumerate(iq_list[0]):\n",
    "    plt.plot(np.abs(iq[:,0]+1j*iq[:,1]), label=\"mag, rep %d\"%(ii))\n",
    "plt.ylabel(\"a.u.\")\n",
    "plt.xlabel(\"Clock ticks\")\n",
    "plt.legend();"
   ]
  },
  {
   "cell_type": "code",
   "execution_count": 5,
   "metadata": {
    "scrolled": false
   },
   "outputs": [
    {
     "name": "stdout",
     "output_type": "stream",
     "text": [
      "\n",
      "// Program\n",
      "\n",
      "                regwi 0, $22, 109226664;        //freq = 109226664\n",
      "                regwi 0, $23, 0;                //phase = 0\n",
      "                regwi 0, $25, 1000;             //gain = 1000\n",
      "                regwi 0, $26, 589836;           //phrst| stdysel | mode | | outsel = 0b01001 | length = 12 \n",
      "                synci 200;\n",
      "                regwi 0, $13, 0;\n",
      "                regwi 0, $14, 0;\n",
      "LOOP_rep:       regwi 0, $25, 1000;             //'gen0_gain' <= 1000 \n",
      "                regwi 0, $17, 2;\n",
      "LOOP_gen0_gain: regwi 0, $16, 16385;            //out = 0b0100000000000001\n",
      "                seti 7, 0, $16, 100;            //ch =0 out = $16 @t = 0\n",
      "                seti 7, 0, $0, 110;             //ch =0 out = 0 @t = 0\n",
      "                regwi 0, $27, 0;                //t = 0\n",
      "                set 0, 0, $22, $23, $0, $25, $26, $27;//ch = 0, pulse @t = $27\n",
      "                mathi 0, $25, $25 + 200;        // 'gen0_gain' <= 'gen0_gain' + 200 \n",
      "                set 0, 0, $22, $23, $0, $25, $26, $27;//ch = 0, pulse @t = $27\n",
      "                mathi 0, $25, $25 + 200;        // 'gen0_gain' <= 'gen0_gain' + 200 \n",
      "                set 0, 0, $22, $23, $0, $25, $26, $27;//ch = 0, pulse @t = $27\n",
      "                mathi 0, $25, $25 + 200;        // 'gen0_gain' <= 'gen0_gain' + 200 \n",
      "                set 0, 0, $22, $23, $0, $25, $26, $27;//ch = 0, pulse @t = $27\n",
      "                mathi 0, $25, $25 + 200;        // 'gen0_gain' <= 'gen0_gain' + 200 \n",
      "                set 0, 0, $22, $23, $0, $25, $26, $27;//ch = 0, pulse @t = $27\n",
      "                mathi 0, $25, $25 + 200;        // 'gen0_gain' <= 'gen0_gain' + 200 \n",
      "                set 0, 0, $22, $23, $0, $25, $26, $27;//ch = 0, pulse @t = $27\n",
      "                mathi 0, $25, $25 + 200;        // 'gen0_gain' <= 'gen0_gain' + 200 \n",
      "                set 0, 0, $22, $23, $0, $25, $26, $27;//ch = 0, pulse @t = $27\n",
      "                mathi 0, $25, $25 + 200;        // 'gen0_gain' <= 'gen0_gain' + 200 \n",
      "                set 0, 0, $22, $23, $0, $25, $26, $27;//ch = 0, pulse @t = $27\n",
      "                mathi 0, $25, $25 + 200;        // 'gen0_gain' <= 'gen0_gain' + 200 \n",
      "                set 0, 0, $22, $23, $0, $25, $26, $27;//ch = 0, pulse @t = $27\n",
      "                mathi 0, $25, $25 + 200;        // 'gen0_gain' <= 'gen0_gain' + 200 \n",
      "                set 0, 0, $22, $23, $0, $25, $26, $27;//ch = 0, pulse @t = $27\n",
      "                mathi 0, $25, $25 + 200;        // 'gen0_gain' <= 'gen0_gain' + 200 \n",
      "                set 0, 0, $22, $23, $0, $25, $26, $27;//ch = 0, pulse @t = $27\n",
      "                mathi 0, $25, $25 + 200;        // 'gen0_gain' <= 'gen0_gain' + 200 \n",
      "                set 0, 0, $22, $23, $0, $25, $26, $27;//ch = 0, pulse @t = $27\n",
      "                mathi 0, $25, $25 + 200;        // 'gen0_gain' <= 'gen0_gain' + 200 \n",
      "                set 0, 0, $22, $23, $0, $25, $26, $27;//ch = 0, pulse @t = $27\n",
      "                mathi 0, $25, $25 + 200;        // 'gen0_gain' <= 'gen0_gain' + 200 \n",
      "                set 0, 0, $22, $23, $0, $25, $26, $27;//ch = 0, pulse @t = $27\n",
      "                mathi 0, $25, $25 + 200;        // 'gen0_gain' <= 'gen0_gain' + 200 \n",
      "                set 0, 0, $22, $23, $0, $25, $26, $27;//ch = 0, pulse @t = $27\n",
      "                mathi 0, $25, $25 + 200;        // 'gen0_gain' <= 'gen0_gain' + 200 \n",
      "                set 0, 0, $22, $23, $0, $25, $26, $27;//ch = 0, pulse @t = $27\n",
      "                mathi 0, $25, $25 + 200;        // 'gen0_gain' <= 'gen0_gain' + 200 \n",
      "                set 0, 0, $22, $23, $0, $25, $26, $27;//ch = 0, pulse @t = $27\n",
      "                mathi 0, $25, $25 + 200;        // 'gen0_gain' <= 'gen0_gain' + 200 \n",
      "                set 0, 0, $22, $23, $0, $25, $26, $27;//ch = 0, pulse @t = $27\n",
      "                mathi 0, $25, $25 + 200;        // 'gen0_gain' <= 'gen0_gain' + 200 \n",
      "                set 0, 0, $22, $23, $0, $25, $26, $27;//ch = 0, pulse @t = $27\n",
      "                mathi 0, $25, $25 + 200;        // 'gen0_gain' <= 'gen0_gain' + 200 \n",
      "                set 0, 0, $22, $23, $0, $25, $26, $27;//ch = 0, pulse @t = $27\n",
      "                mathi 0, $25, $25 + 200;        // 'gen0_gain' <= 'gen0_gain' + 200 \n",
      "                mathi 0, $25, $25 - 4000;       // 'gen0_gain' <= 'gen0_gain' - 4000 \n",
      "                waiti 0, 322;\n",
      "                synci 732;\n",
      "                mathi 0, $13, $13 + 1;\n",
      "                memwi 0, $13, 1;\n",
      "                mathi 0, $25, $25 + 4500;       // 'gen0_gain' <= 'gen0_gain' + 4500 \n",
      "                loopnz 0, $17, @LOOP_gen0_gain;\n",
      "                loopnz 0, $14, @LOOP_rep;\n",
      "                end ;\n"
     ]
    }
   ],
   "source": [
    "print(prog)"
   ]
  },
  {
   "cell_type": "markdown",
   "metadata": {},
   "source": [
    "## sliding window\n",
    "\n",
    "A different trick is to make an envelope that's longer than your desired ramp, play only part of it, and slide that window across the envelope. This only works if the long envelope fits in your generator's envelope memory."
   ]
  },
  {
   "cell_type": "code",
   "execution_count": 6,
   "metadata": {},
   "outputs": [
    {
     "data": {
      "application/vnd.jupyter.widget-view+json": {
       "model_id": "b66ed947d9bd4d68b6fcd218a547dcb0",
       "version_major": 2,
       "version_minor": 0
      },
      "text/plain": [
       "  0%|          | 0/1 [00:00<?, ?it/s]"
      ]
     },
     "metadata": {},
     "output_type": "display_data"
    },
    {
     "data": {
      "image/png": "[encoded data removed]",
      "text/plain": [
       "<Figure size 432x288 with 1 Axes>"
      ]
     },
     "metadata": {
      "needs_background": "light"
     },
     "output_type": "display_data"
    }
   ],
   "source": [
    "class SlidingWindowProgram(NDAveragerProgram):\n",
    "    def initialize(self):\n",
    "        cfg = self.cfg\n",
    "        res_ch = cfg[\"res_ch\"]\n",
    "        self.declare_gen(ch=cfg[\"res_ch\"], nqz=1)\n",
    "        for ch in cfg[\"ro_chs\"]:\n",
    "            self.declare_readout(ch=ch, length=self.cfg[\"readout_length\"],\n",
    "                                 freq=self.cfg[\"pulse_freq\"], gen_ch=cfg[\"res_ch\"])\n",
    "\n",
    "        freq = self.freq2reg(cfg[\"pulse_freq\"], gen_ch=res_ch, ro_ch=cfg[\"ro_chs\"][0])\n",
    "        \n",
    "        self.add_pulse(ch=cfg['res_ch'], name='ramp', idata=(np.linspace(cfg['g_min'], cfg['g_max'], cfg[\"total_len\"]*16)).astype(int))\n",
    "\n",
    "        self.set_pulse_registers(ch=res_ch, style=\"arb\", waveform='ramp', freq=freq, phase=0, gain=32000)\n",
    "        \n",
    "        truncation = cfg['total_len'] - cfg['window_len']\n",
    "        \n",
    "        # shrink the pulse length so we only play part of the envelope we defined\n",
    "        # you need to know that the pulse length is packed in the bottom 16 bits of the \"mode\" register:\n",
    "        # https://github.com/openquantumhardware/qick/blob/e8b3c3be20da0a4b42a6c9463700917b83e3b582/qick_lib/qick/asm_v1.py#L335-L336\n",
    "        self.res_r_mode = self.get_gen_reg(cfg[\"res_ch\"], \"mode\")\n",
    "        self.res_r_mode.set_to(self.res_r_mode, \"-\", truncation)\n",
    "\n",
    "        # now we can sweep the start address of the pulse so it slides over the envelope\n",
    "        self.res_r_addr = self.get_gen_reg(cfg[\"res_ch\"], \"addr\")\n",
    "        self.add_sweep(QickSweep(self, self.res_r_addr, 0, truncation, cfg[\"g_expts\"]))\n",
    "\n",
    "        self.synci(200)  # give processor some time to configure pulses\n",
    "\n",
    "    def body(self):\n",
    "        self.trigger(adcs=self.ro_chs,\n",
    "                     pins=[0], \n",
    "                     adc_trig_offset=self.cfg[\"adc_trig_offset\"])\n",
    "\n",
    "        self.pulse(ch=self.cfg[\"res_ch\"])\n",
    "\n",
    "        self.wait_all()\n",
    "        self.sync_all(self.us2cycles(self.cfg[\"relax_delay\"]))\n",
    "\n",
    "config={\"res_ch\":0, # --Fixed\n",
    "        \"ro_chs\":[0], # --Fixed\n",
    "        \"reps\":1, # --Fixed\n",
    "        \"relax_delay\":1.0, # --us\n",
    "        \"pulse_style\": \"const\", # --Fixed\n",
    "        \"window_len\": 200,\n",
    "        \"g_min\": 0,\n",
    "        \"g_max\": 32000,\n",
    "        \"g_expts\": 3,\n",
    "        \"total_len\":1000, # [Clock ticks]\n",
    "        \"readout_length\":300, # [Clock ticks]\n",
    "        \"pulse_freq\": 250, # [MHz]\n",
    "        \"adc_trig_offset\": 100, # [Clock ticks]\n",
    "       }\n",
    "\n",
    "prog =SlidingWindowProgram(soccfg, config)\n",
    "iq_list = prog.acquire_decimated(soc, progress=True, soft_avgs=1)\n",
    "for ii, iq in enumerate(iq_list[0]):\n",
    "    plt.plot(np.abs(iq[:,0]+1j*iq[:,1]), label=\"mag, rep %d\"%(ii))\n",
    "plt.ylabel(\"a.u.\")\n",
    "plt.xlabel(\"Clock ticks\")\n",
    "plt.legend();"
   ]
  },
  {
   "cell_type": "code",
   "execution_count": 7,
   "metadata": {},
   "outputs": [
    {
     "name": "stdout",
     "output_type": "stream",
     "text": [
      "\n",
      "// Program\n",
      "\n",
      "                regwi 0, $22, 109226664;        //freq = 109226664\n",
      "                regwi 0, $23, 0;                //phase = 0\n",
      "                regwi 0, $25, 32000;            //gain = 32000\n",
      "                regwi 0, $24, 0;                //addr = 0\n",
      "                regwi 0, $26, 525288;           //phrst| stdysel | mode | | outsel = 0b01000 | length = 1000 \n",
      "                mathi 0, $26, $26 - 800;        // 'gen0_mode' <= 'gen0_mode' - 800 \n",
      "                synci 200;\n",
      "                regwi 0, $13, 0;\n",
      "                regwi 0, $14, 0;\n",
      "LOOP_rep:       regwi 0, $24, 0;                //'gen0_addr' <= 0 \n",
      "                regwi 0, $17, 2;\n",
      "LOOP_gen0_addr: regwi 0, $16, 16385;            //out = 0b0100000000000001\n",
      "                seti 7, 0, $16, 100;            //ch =0 out = $16 @t = 0\n",
      "                seti 7, 0, $0, 110;             //ch =0 out = 0 @t = 0\n",
      "                regwi 0, $27, 0;                //t = 0\n",
      "                set 0, 0, $22, $23, $24, $25, $26, $27;//ch = 0, pulse @t = $27\n",
      "                waiti 0, 322;\n",
      "                synci 1076;\n",
      "                mathi 0, $13, $13 + 1;\n",
      "                memwi 0, $13, 1;\n",
      "                mathi 0, $24, $24 + 400;        // 'gen0_addr' <= 'gen0_addr' + 400 \n",
      "                loopnz 0, $17, @LOOP_gen0_addr;\n",
      "                loopnz 0, $14, @LOOP_rep;\n",
      "                end ;\n"
     ]
    }
   ],
   "source": [
    "print(prog)"
   ]
  }
 ],
 "metadata": {
  "kernelspec": {
   "display_name": "Python 3 (ipykernel)",
   "language": "python",
   "name": "python3"
  },
  "language_info": {
   "codemirror_mode": {
    "name": "ipython",
    "version": 3
   },
   "file_extension": ".py",
   "mimetype": "text/x-python",
   "name": "python",
   "nbconvert_exporter": "python",
   "pygments_lexer": "ipython3",
   "version": "3.10.4"
  },
  "vscode": {
   "interpreter": {
    "hash": "618feb7b2b0a35f7e820dec88779cac1ef83ad948f0212540d069fdb92cbb234"
   }
  }
 },
 "nbformat": 4,
 "nbformat_minor": 2
}
