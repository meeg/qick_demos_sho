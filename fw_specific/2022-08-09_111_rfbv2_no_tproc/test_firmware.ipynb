{
 "cells": [
  {
   "cell_type": "markdown",
   "metadata": {},
   "source": [
    "# debug firmware\n",
    "This notebook uses a special firmware which doesn't have a tProcessor (so you can't run regular QICK programs, readout is less efficient, and interfaces are clunkier), but wires all DACs and ADCs and reads out through a full-speed (not decimated) buffer.\n",
    "\n",
    "We can use this to get power spectra at the ADCs and check for spurs.\n",
    "\n",
    "This notebook (and all notebooks in this directory) was run in loopback with 26 dB of external attenuation: 16 dB estimated end-to-end attenuation in the Run 14 NEXUS setup, and 10 dB additional pad."
   ]
  },
  {
   "cell_type": "code",
   "execution_count": 1,
   "metadata": {},
   "outputs": [
    {
     "data": {
      "application/javascript": [
       "\n",
       "try {\n",
       "require(['notebook/js/codecell'], function(codecell) {\n",
       "  codecell.CodeCell.options_default.highlight_modes[\n",
       "      'magic_text/x-csrc'] = {'reg':[/^%%microblaze/]};\n",
       "  Jupyter.notebook.events.one('kernel_ready.Kernel', function(){\n",
       "      Jupyter.notebook.get_cells().map(function(cell){\n",
       "          if (cell.cell_type == 'code'){ cell.auto_highlight(); } }) ;\n",
       "  });\n",
       "});\n",
       "} catch (e) {};\n"
      ]
     },
     "metadata": {},
     "output_type": "display_data"
    },
    {
     "data": {
      "application/javascript": [
       "\n",
       "try {\n",
       "require(['notebook/js/codecell'], function(codecell) {\n",
       "  codecell.CodeCell.options_default.highlight_modes[\n",
       "      'magic_text/x-csrc'] = {'reg':[/^%%pybind11/]};\n",
       "  Jupyter.notebook.events.one('kernel_ready.Kernel', function(){\n",
       "      Jupyter.notebook.get_cells().map(function(cell){\n",
       "          if (cell.cell_type == 'code'){ cell.auto_highlight(); } }) ;\n",
       "  });\n",
       "});\n",
       "} catch (e) {};\n"
      ]
     },
     "metadata": {},
     "output_type": "display_data"
    },
    {
     "name": "stdout",
     "output_type": "stream",
     "text": [
      "Populating the interactive namespace from numpy and matplotlib\n"
     ]
    }
   ],
   "source": [
    "# from test_rfboard_dr import *\n",
    "from qick.rfboard import *\n",
    "\n",
    "from scipy.signal import welch\n",
    "%pylab inline"
   ]
  },
  {
   "cell_type": "code",
   "execution_count": 2,
   "metadata": {},
   "outputs": [],
   "source": [
    "class Test(RFQickSocV2):\n",
    "    def __init__(self, bitfile=None, force_init_clks=True, ignore_version=True, **kwargs):\n",
    "        \"\"\"\n",
    "        By default, re-initialize the clocks every time.\n",
    "        This ensures that the LO output to the RF board is enabled.\n",
    "        \"\"\"\n",
    "        super().__init__(bitfile=bitfile, force_init_clks=force_init_clks, ignore_version=ignore_version, no_tproc=True, **kwargs)\n",
    "        \n",
    "        self.switch_gen = self.axis_dds_mr_switch_0\n",
    "        \n",
    "        # Signal Generators.\n",
    "        self.gen = [getattr(self, \"axis_signal_gen_v3_%d\"%(i)) for i in range(8)]\n",
    "        for i, gen in enumerate(self.gen):\n",
    "            gen.config(self.axi_dma_0, self.axis_dds_mr_switch_0, self.axis_switch_0, i, \"DAC\")\n",
    "                \n",
    "        # Signal Generators Control.\n",
    "        self.gen_ctrl = [getattr(self, \"axis_signal_gen_v3_c_%d\"%(i)) for i in range(8)]\n",
    "        for i, dac in enumerate(self.dacs): dac.gen_ctrl = self.gen_ctrl[i]\n",
    "        \n",
    "        # Buffer for ADC channels.\n",
    "        self.switch_buf = self.axis_switch_1\n",
    "        self.buf = self.mr_buffer_et_0\n",
    "        self.buf.config(self.axi_dma_1,self.switch_buf)\n",
    "\n",
    "        def capture(self):\n",
    "            self.switch.sel(slv=self.ch)\n",
    "            time.sleep(0.1)\n",
    "            self.buf.enable()\n",
    "            time.sleep(0.1)\n",
    "            self.buf.disable()\n",
    "        def transfer(self, buff):\n",
    "            self.buf.transfer(buff)\n",
    "        for i, adc in enumerate(self.adcs):\n",
    "            adc.switch = self.switch_buf\n",
    "            adc.buf = self.buf\n",
    "            adc.capture = capture.__get__(adc, adc.__class__)\n",
    "            adc.transfer = transfer.__get__(adc, adc.__class__)"
   ]
  },
  {
   "cell_type": "code",
   "execution_count": 3,
   "metadata": {},
   "outputs": [
    {
     "name": "stdout",
     "output_type": "stream",
     "text": [
      "resetting clocks: 204.8\n"
     ]
    }
   ],
   "source": [
    "# Load bitstream with custom overlay\n",
    "# soc = PfbSoc('../test_rfboard.bit',init_clks=True, ignore_version=True)\n",
    "#soc = RFQickSocV2('test_rfboard_v2.bit')\n",
    "soc = Test('test_rfboard_v2.bit')\n",
    "\n",
    "# Sampling frequency of ADC/DAC.\n",
    "#fs_adc = 8*384\n",
    "#fs_dac = 16*256\n",
    "fs_adc = 3072\n",
    "fs_dac = 6144\n",
    "\n",
    "# Set sampling frequency of controller.\n",
    "for i in range(8): soc.gen_ctrl[i].set_fs(fs_dac)\n",
    "for i in range(8): soc.gen_ctrl[i].add(freq=200,gain=0)\n",
    "    \n",
    "# Define receive buffer for Full-Speed data.\n",
    "buff = allocate(shape=(soc.buf.MAX_LENGTH), dtype=np.int16)"
   ]
  },
  {
   "cell_type": "code",
   "execution_count": 4,
   "metadata": {},
   "outputs": [
    {
     "name": "stdout",
     "output_type": "stream",
     "text": [
      "  i |   f_vco  | DIV | DLY_SEL |   n  | osc_2x |   R  | mult | R_pre |  f_pfd  |   f_out  | Delta f |   Metric   \n",
      "----|----------|-----|---------|------|--------|------|------|-------|---------|----------|---------|------------\n",
      "  0 | 13762.56 |   2 |       2 |  112 |  False |    1 |    1 |     1 |  122.88 |  6881.28 |    0.00 | 2.2400e+02\n",
      "\n",
      "Choosing solution 0 with minimal metric 224.\n",
      "LO locked on attempt 1 after 0.01 sec\n",
      "  i |   f_vco  | DIV | DLY_SEL |   n  | osc_2x |   R  | mult | R_pre |  f_pfd  |   f_out  | Delta f |   Metric   \n",
      "----|----------|-----|---------|------|--------|------|------|-------|---------|----------|---------|------------\n",
      "  0 | 13762.56 |   4 |       2 |  112 |  False |    1 |    1 |     1 |  122.88 |  3440.64 |    0.00 | 4.4800e+02\n",
      "\n",
      "Choosing solution 0 with minimal metric 448.\n",
      "lock attempt 1 failed\n",
      "LO locked on attempt 2 after 0.01 sec\n",
      "  i |   f_vco  | DIV | DLY_SEL |   n  | osc_2x |   R  | mult | R_pre |  f_pfd  |   f_out  | Delta f |   Metric   \n",
      "----|----------|-----|---------|------|--------|------|------|-------|---------|----------|---------|------------\n",
      "  0 | 13762.56 |   2 |       2 |  112 |  False |    1 |    1 |     1 |  122.88 |  6881.28 |    0.00 | 2.2400e+02\n",
      "\n",
      "Choosing solution 0 with minimal metric 224.\n",
      "LO locked on attempt 1 after 0.01 sec\n",
      "qubit IF=1216.460000, readout IF=1052.780000\n"
     ]
    }
   ],
   "source": [
    "# darkfreq800 = [6.18807, 5.8285, 6.075045, 5.95940] # Best for 800 gain\n",
    "# qubitresPulse = [4.800, 4.6571, 4.4928, 4.6518]\n",
    "\n",
    "hw_cfg={\"res_ch\":6, # RF board channel indexing (not tProc)\n",
    "        \"qubit_ch\":2,\n",
    "        \"ro_ch\":1,\n",
    "        \"f_res\":5828.5,\n",
    "        \"f_ge\": 4657.1\n",
    "       }\n",
    "\n",
    "rfb_cfg={\"f_lo_ro\":122.88*56,\n",
    "         \"f_lo_qubit\":122.88*28,\n",
    "        \"att_res\":(0,14.5),\n",
    "        \"att_qubit\":(0,16),\n",
    "         \"att_ro\":30\n",
    "       }\n",
    "# f_lo_ro = 122.88*56 # 6881\n",
    "# f_lo_qubit = 122.88*28 # 3441\n",
    "\n",
    "soc.rfb_set_lo(rfb_cfg['f_lo_ro'], ch=0, verbose=True) # ADCs\n",
    "soc.rfb_set_lo(rfb_cfg['f_lo_qubit'], ch=1, verbose=True) # DACs 0-3\n",
    "soc.rfb_set_lo(rfb_cfg['f_lo_ro'], ch=2, verbose=True) # DACs 4-7\n",
    "\n",
    "# as long as you're not saturating at any point in the chain (check with gain sweep), better to attenuate later\n",
    "soc.dacs[hw_cfg['res_ch']].set_rf(att1=rfb_cfg['att_res'][0], att2=rfb_cfg['att_res'][1])\n",
    "soc.adcs[hw_cfg['ro_ch']].set_attn_db(rfb_cfg['att_ro'])\n",
    "\n",
    "meas_cfg={\"res_gain\":800,\n",
    "    \"if_res\": abs(rfb_cfg['f_lo_ro'] - hw_cfg['f_res']), # MHz, start value\n",
    "    \"if_ge\": abs(rfb_cfg['f_lo_qubit'] - hw_cfg['f_ge']), # MHz, start value\n",
    "          \"nqz\":1,\n",
    "          \"qubit_gain\":19500\n",
    "       }\n",
    "\n",
    "print(\"qubit IF=%f, readout IF=%f\"%(meas_cfg['if_ge'], meas_cfg['if_res']))"
   ]
  },
  {
   "cell_type": "code",
   "execution_count": 5,
   "metadata": {},
   "outputs": [
    {
     "name": "stdout",
     "output_type": "stream",
     "text": [
      "[True, True, True]\n",
      "[6881.28, 3440.64, 6881.28]\n"
     ]
    }
   ],
   "source": [
    "print([lo.is_locked() for lo in soc.lo])\n",
    "print([lo.freq for lo in soc.lo])"
   ]
  },
  {
   "cell_type": "code",
   "execution_count": 11,
   "metadata": {},
   "outputs": [
    {
     "data": {
      "text/plain": [
       "<matplotlib.legend.Legend at 0xffff7b55f070>"
      ]
     },
     "execution_count": 11,
     "metadata": {},
     "output_type": "execute_result"
    },
    {
     "data": {
      "image/png": "[encoded data removed]",
      "text/plain": [
       "<Figure size 432x288 with 1 Axes>"
      ]
     },
     "metadata": {
      "needs_background": "light"
     },
     "output_type": "display_data"
    }
   ],
   "source": [
    "# normal readout config\n",
    "soc.dacs[hw_cfg['res_ch']].gen_ctrl.add(freq=meas_cfg['if_res'],gain=meas_cfg['res_gain'])\n",
    "\n",
    "time.sleep(0.1)\n",
    "# Capture data on adc.\n",
    "soc.adcs[hw_cfg['ro_ch']].capture()\n",
    "# Transfer\n",
    "soc.adcs[hw_cfg['ro_ch']].transfer(buff=buff)\n",
    "\n",
    "# back to normal\n",
    "soc.dacs[hw_cfg['res_ch']].gen_ctrl.add(freq=200,gain=0)\n",
    "\n",
    "fft_freqs, psd = welch(buff, fs_adc, nperseg=4096)\n",
    "plt.semilogy(fft_freqs, psd, label='PSD')\n",
    "plt.axvline(meas_cfg['if_res'], label=\"expected\",color='r', ymin=0,ymax=0.1)\n",
    "plt.legend()"
   ]
  },
  {
   "cell_type": "code",
   "execution_count": 12,
   "metadata": {},
   "outputs": [
    {
     "data": {
      "text/plain": [
       "<matplotlib.legend.Legend at 0xffff7b4d5c10>"
      ]
     },
     "execution_count": 12,
     "metadata": {},
     "output_type": "execute_result"
    },
    {
     "data": {
      "image/png": "[encoded data removed]",
      "text/plain": [
       "<Figure size 432x288 with 1 Axes>"
      ]
     },
     "metadata": {
      "needs_background": "light"
     },
     "output_type": "display_data"
    }
   ],
   "source": [
    "# configure DAC for qubit drive and ADC for readout, to see if we have any interesting spurs on qubit drive\n",
    "# we need to reduce the power a lot, so as not to overdrive the ADC\n",
    "soc.rfb_set_lo(rfb_cfg['f_lo_ro'], ch=1) # DACs 0-3\n",
    "soc.rfb_set_lo(rfb_cfg['f_lo_qubit'], ch=2) # DACs 4-7\n",
    "# soc.dacs[hw_cfg['res_ch']].gen_ctrl.add(freq=meas_cfg['if_ge'],gain=meas_cfg['qubit_gain'])\n",
    "soc.dacs[hw_cfg['res_ch']].gen_ctrl.add(freq=meas_cfg['if_ge'],gain=1000)\n",
    "soc.dacs[hw_cfg['res_ch']].set_rf(att1=rfb_cfg['att_qubit'][0], att2=rfb_cfg['att_qubit'][1])\n",
    "\n",
    "time.sleep(0.1)\n",
    "# Capture data on adc.\n",
    "soc.adcs[hw_cfg['ro_ch']].capture()\n",
    "# Transfer\n",
    "soc.adcs[hw_cfg['ro_ch']].transfer(buff=buff)\n",
    "\n",
    "# back to normal\n",
    "soc.rfb_set_lo(rfb_cfg['f_lo_qubit'], ch=1) # DACs 0-3\n",
    "soc.rfb_set_lo(rfb_cfg['f_lo_ro'], ch=2) # DACs 4-7\n",
    "soc.dacs[hw_cfg['res_ch']].gen_ctrl.add(freq=200,gain=0)\n",
    "soc.dacs[hw_cfg['res_ch']].set_rf(att1=rfb_cfg['att_res'][0], att2=rfb_cfg['att_res'][1])\n",
    "\n",
    "fft_freqs, psd = welch(buff, fs_adc, nperseg=4096)\n",
    "plt.semilogy(fft_freqs, psd, label='psd')\n",
    "# qubit drive mixed with readout LO?\n",
    "plt.axvline(meas_cfg['if_ge'], label=\"spur1\",color='r', ymin=0,ymax=0.1)\n",
    "# lower sideband, RF->IF leakage, getting past the IF low-pass filter and into 2nd nyquist?\n",
    "plt.axvline(meas_cfg['if_ge']-(rfb_cfg['f_lo_qubit']-fs_adc), label=\"spur2\",color='g', ymin=0,ymax=0.1)\n",
    "# 2x IF (distortion maybe), mixed up with 2x LO and mixed down with 1/2 LO?\n",
    "plt.axvline(rfb_cfg['f_lo_qubit']-2*meas_cfg['if_ge'], label=\"spur3\", color='aqua', ymin=0,ymax=0.1)\n",
    "\n",
    "plt.legend()"
   ]
  },
  {
   "cell_type": "code",
   "execution_count": 13,
   "metadata": {},
   "outputs": [
    {
     "data": {
      "text/plain": [
       "<matplotlib.legend.Legend at 0xffff7b364d00>"
      ]
     },
     "execution_count": 13,
     "metadata": {},
     "output_type": "execute_result"
    },
    {
     "data": {
      "image/png": "[encoded data removed]",
      "text/plain": [
       "<Figure size 432x288 with 1 Axes>"
      ]
     },
     "metadata": {
      "needs_background": "light"
     },
     "output_type": "display_data"
    }
   ],
   "source": [
    "# configure DAC for qubit drive and ADC for qubit drive\n",
    "# we need to reduce the power a lot, so as not to overdrive the ADC\n",
    "\n",
    "soc.rfb_set_lo(rfb_cfg['f_lo_qubit'], ch=0) # ADCs\n",
    "soc.rfb_set_lo(rfb_cfg['f_lo_ro'], ch=1) # DACs 0-3\n",
    "soc.rfb_set_lo(rfb_cfg['f_lo_qubit'], ch=2) # DACs 4-7\n",
    "# soc.dacs[hw_cfg['res_ch']].gen_ctrl.add(freq=meas_cfg['if_ge'],gain=meas_cfg['qubit_gain'])\n",
    "soc.dacs[hw_cfg['res_ch']].gen_ctrl.add(freq=meas_cfg['if_ge'],gain=1000)\n",
    "soc.dacs[hw_cfg['res_ch']].set_rf(att1=rfb_cfg['att_qubit'][0], att2=rfb_cfg['att_qubit'][1])\n",
    "\n",
    "time.sleep(0.1)\n",
    "# Capture data on adc.\n",
    "soc.adcs[hw_cfg['ro_ch']].capture()\n",
    "# Transfer\n",
    "soc.adcs[hw_cfg['ro_ch']].transfer(buff=buff)\n",
    "\n",
    "# back to normal\n",
    "soc.rfb_set_lo(rfb_cfg['f_lo_ro'], ch=0) # ADCs\n",
    "soc.rfb_set_lo(rfb_cfg['f_lo_qubit'], ch=1) # DACs 0-3\n",
    "soc.rfb_set_lo(rfb_cfg['f_lo_ro'], ch=2) # DACs 4-7\n",
    "soc.dacs[hw_cfg['res_ch']].gen_ctrl.add(freq=200,gain=0)\n",
    "soc.dacs[hw_cfg['res_ch']].set_rf(att1=rfb_cfg['att_res'][0], att2=rfb_cfg['att_res'][1])\n",
    "\n",
    "fft_freqs, psd = welch(buff, fs_adc, nperseg=4096)\n",
    "plt.semilogy(fft_freqs, psd, label='PSD')\n",
    "plt.axvline(meas_cfg['if_ge'], label=\"expected\",color='r', ymin=0,ymax=0.1)\n",
    "# nyquist image of RF->IF leakage, getting past the low-pass filter??\n",
    "plt.axvline(meas_cfg['if_ge']-(rfb_cfg['f_lo_qubit']-fs_adc), label=\"spur1\",color='g', ymin=0,ymax=0.1)\n",
    "# 2x IF (distortion) mixing with 2*LO? visible on spectrum analyzer at 4.44 GHz\n",
    "plt.axvline(rfb_cfg['f_lo_qubit']-2*meas_cfg['if_ge'], label=\"spur2\", color='aqua', ymin=0,ymax=0.1)\n",
    "\n",
    "plt.legend()"
   ]
  },
  {
   "cell_type": "code",
   "execution_count": 14,
   "metadata": {},
   "outputs": [
    {
     "data": {
      "text/plain": [
       "<matplotlib.legend.Legend at 0xffff7b229580>"
      ]
     },
     "execution_count": 14,
     "metadata": {},
     "output_type": "execute_result"
    },
    {
     "data": {
      "image/png": "[encoded data removed]",
      "text/plain": [
       "<Figure size 432x288 with 1 Axes>"
      ]
     },
     "metadata": {
      "needs_background": "light"
     },
     "output_type": "display_data"
    }
   ],
   "source": [
    "# configure DAC for readout drive and ADC for qubit drive\n",
    "# this should tell us if the readout DAC drives any power at qubit frequencies\n",
    "\n",
    "soc.rfb_set_lo(rfb_cfg['f_lo_qubit'], ch=0) # ADCs\n",
    "soc.dacs[hw_cfg['res_ch']].gen_ctrl.add(freq=meas_cfg['if_res'],gain=meas_cfg['res_gain'])\n",
    "\n",
    "time.sleep(0.1)\n",
    "# Capture data on adc.\n",
    "soc.adcs[hw_cfg['ro_ch']].capture()\n",
    "# time.sleep(0.1)\n",
    "# Transfer\n",
    "soc.adcs[hw_cfg['ro_ch']].transfer(buff=buff)\n",
    "# time.sleep(0.1)\n",
    "\n",
    "# back to normal\n",
    "soc.rfb_set_lo(rfb_cfg['f_lo_ro'], ch=0) # ADCs\n",
    "soc.dacs[hw_cfg['res_ch']].gen_ctrl.add(freq=200,gain=0)\n",
    "\n",
    "fft_freqs, psd = welch(buff, fs_adc, nperseg=4096)\n",
    "plt.semilogy(fft_freqs, psd, label='PSD')\n",
    "# IF-RF leakage?\n",
    "plt.axvline(meas_cfg['if_res'], label=\"spur\",color='aqua', ymin=0,ymax=0.1)\n",
    "\n",
    "\n",
    "plt.legend()"
   ]
  },
  {
   "cell_type": "code",
   "execution_count": 10,
   "metadata": {},
   "outputs": [],
   "source": [
    "# scratchwork below"
   ]
  },
  {
   "cell_type": "code",
   "execution_count": null,
   "metadata": {},
   "outputs": [],
   "source": []
  },
  {
   "cell_type": "code",
   "execution_count": null,
   "metadata": {},
   "outputs": [],
   "source": []
  },
  {
   "cell_type": "code",
   "execution_count": null,
   "metadata": {},
   "outputs": [],
   "source": []
  },
  {
   "cell_type": "code",
   "execution_count": null,
   "metadata": {},
   "outputs": [],
   "source": []
  },
  {
   "cell_type": "code",
   "execution_count": null,
   "metadata": {},
   "outputs": [],
   "source": []
  },
  {
   "cell_type": "code",
   "execution_count": null,
   "metadata": {},
   "outputs": [],
   "source": [
    "# Sweep LO and first attenuator.\n",
    "lo_f = np.linspace(start=4000, stop=8000, num=10)\n",
    "db = np.linspace(start=0, stop=30, num=50)\n",
    "for i in range(len(lo_f)):\n",
    "    # Set LO frequency.\n",
    "    soc.lo[1].set_freq(lo_f[i])\n",
    "    for j in range(len(db)):\n",
    "        #print(\"LO = %f MHz, ATT[1] = %f dB\" %(lo_f[i],db[j]))\n",
    "        soc.dacs[6].attn[0].set_att(db[j])\n",
    "        soc.dacs[7].attn[0].set_att(db[j])\n",
    "        time.sleep(0.1)"
   ]
  },
  {
   "cell_type": "code",
   "execution_count": null,
   "metadata": {},
   "outputs": [],
   "source": [
    "# Sweep LO.\n",
    "soc.dacs[6].attn[0].set_att(0)\n",
    "soc.dacs[6].attn[1].set_att(14)\n",
    "soc.dacs[7].attn[0].set_att(0)\n",
    "lo_f = np.linspace(start=7000, stop=8000, num=50)\n",
    "for i in range(len(lo_f)):\n",
    "    # Set LO frequency.\n",
    "    soc.lo[1].set_freq(lo_f[i])\n",
    "    time.sleep(1)"
   ]
  },
  {
   "cell_type": "code",
   "execution_count": null,
   "metadata": {},
   "outputs": [],
   "source": [
    "soc.dacs[2].gen_ctrl.add(freq=1800,gain=5000)\n",
    "soc.dacs[2].attn[0].set_att(10)\n",
    "soc.dacs[2].attn[1].set_att(10)\n",
    "soc.dacs[2].rfsw_sel(\"DC\")"
   ]
  },
  {
   "cell_type": "code",
   "execution_count": null,
   "metadata": {},
   "outputs": [],
   "source": [
    "for i in range(30):\n",
    "    soc.dacs[3].set_attn_db(0,0)\n",
    "    time.sleep(1)"
   ]
  },
  {
   "cell_type": "code",
   "execution_count": null,
   "metadata": {},
   "outputs": [],
   "source": [
    "soc.lo[0].set_freq(4000)\n",
    "soc.dacs[2].gen_ctrl.add(freq=100,gain=25000)\n",
    "soc.dacs[3].gen_ctrl.add(freq=100,gain=25000)\n",
    "soc.dacs[2].attn[0].set_att(0)\n",
    "soc.dacs[2].attn[1].set_att(10)\n",
    "soc.dacs[3].attn[0].set_att(0)\n",
    "soc.dacs[3].attn[1].set_att(10)\n",
    "soc.dacs[2].rfsw_sel(\"RF\")\n",
    "soc.dacs[3].rfsw_sel(\"RF\")"
   ]
  },
  {
   "cell_type": "code",
   "execution_count": null,
   "metadata": {},
   "outputs": [],
   "source": [
    "soc.dacs[7].set_attn_db(0,10)\n",
    "soc.dacs[7].set_attn_db(1,20)\n",
    "#soc.adcs[0].set_attn_db(30)"
   ]
  },
  {
   "cell_type": "code",
   "execution_count": null,
   "metadata": {},
   "outputs": [],
   "source": [
    "soc.adcs"
   ]
  },
  {
   "cell_type": "code",
   "execution_count": null,
   "metadata": {},
   "outputs": [],
   "source": [
    "soc.dacs[0]"
   ]
  },
  {
   "cell_type": "code",
   "execution_count": null,
   "metadata": {},
   "outputs": [],
   "source": [
    "soc.buf.enable()"
   ]
  },
  {
   "cell_type": "code",
   "execution_count": null,
   "metadata": {},
   "outputs": [],
   "source": [
    "soc.buf.disable()"
   ]
  },
  {
   "cell_type": "code",
   "execution_count": null,
   "metadata": {},
   "outputs": [],
   "source": [
    "fs_adc = 3072\n",
    "fs_dac = 6144"
   ]
  },
  {
   "cell_type": "code",
   "execution_count": null,
   "metadata": {},
   "outputs": [],
   "source": [
    "fs_adc,fs_dac"
   ]
  },
  {
   "cell_type": "code",
   "execution_count": null,
   "metadata": {},
   "outputs": [],
   "source": [
    "# Enable DC outputs\n",
    "soc.dac_pwr.bits_reset(bits=[0,1,2,3,4,5,6,7],dev_addr=1)"
   ]
  },
  {
   "cell_type": "code",
   "execution_count": null,
   "metadata": {},
   "outputs": [],
   "source": [
    "# Disable DC outputs\n",
    "soc.dac_pwr.bits_set(bits=[0,1,2,3,4,5,6,7],dev_addr=1)"
   ]
  },
  {
   "cell_type": "code",
   "execution_count": null,
   "metadata": {},
   "outputs": [],
   "source": [
    "# Enable RF outputs\n",
    "soc.dac_pwr.bits_set(bits=[0,1,2,3,4,5,6,7],dev_addr=0)"
   ]
  },
  {
   "cell_type": "code",
   "execution_count": null,
   "metadata": {},
   "outputs": [],
   "source": [
    "# Disable RF outputs\n",
    "soc.dac_pwr.bits_reset(bits=[0,1,2,3,4,5,6,7],dev_addr=0)"
   ]
  },
  {
   "cell_type": "code",
   "execution_count": null,
   "metadata": {},
   "outputs": [],
   "source": [
    "# Enable DC-Coupled ADC Inputs.\n",
    "soc.adc_pwr.bits_reset(bits=[4,5,6,7])"
   ]
  },
  {
   "cell_type": "code",
   "execution_count": null,
   "metadata": {},
   "outputs": [],
   "source": [
    "# Disable DC-Coupled ADC Inputs.\n",
    "soc.adc_pwr.bits_set(bits=[4,5,6,7])"
   ]
  },
  {
   "cell_type": "code",
   "execution_count": null,
   "metadata": {},
   "outputs": [],
   "source": [
    "# Enable RF ADC Inputs.\n",
    "soc.adc_pwr.bits_set(bits=[0,1,2,3])"
   ]
  },
  {
   "cell_type": "code",
   "execution_count": null,
   "metadata": {},
   "outputs": [],
   "source": [
    "# Disable RF ADC Inputs.\n",
    "soc.adc_pwr.bits_reset(bits=[0,1,2,3])"
   ]
  },
  {
   "cell_type": "code",
   "execution_count": null,
   "metadata": {},
   "outputs": [],
   "source": [
    "# Set DAC Output Switch\n",
    "for i in range(8):\n",
    "    soc.dacs[i].rfsw_sel(\"DC\")"
   ]
  },
  {
   "cell_type": "code",
   "execution_count": null,
   "metadata": {},
   "outputs": [],
   "source": [
    "# Set frequency.\n",
    "for i in range(8):\n",
    "    #soc.dacs[i].gen_ctrl.add(freq=500,gain=32000)\n",
    "    soc.gen_ctrl[i].add(freq=100,gain=32000)\n",
    "    soc.dacs[i].rfsw_sel(\"DC\")"
   ]
  },
  {
   "cell_type": "code",
   "execution_count": null,
   "metadata": {},
   "outputs": [],
   "source": [
    "# Set DAC Output Switch\n",
    "for i in range(8):\n",
    "    soc.dacs[i].rfsw_sel(\"RF\")"
   ]
  },
  {
   "cell_type": "code",
   "execution_count": null,
   "metadata": {},
   "outputs": [],
   "source": [
    "# One tone on each channel.\n",
    "for i in range(8):\n",
    "    #soc.dacs[i].gen_ctrl.add(freq=1000,gain=15000)\n",
    "    soc.gen_ctrl[i].add(freq=1000,gain=32000)\n",
    "    soc.dacs[i].rfsw_sel(\"RF\")"
   ]
  },
  {
   "cell_type": "code",
   "execution_count": null,
   "metadata": {
    "scrolled": true
   },
   "outputs": [],
   "source": [
    "# use the fancy ipq thing\n",
    "for lo in soc.lo:\n",
    "    lo.reset()\n",
    "    lo.set_freq(122.88*62,pwr=31)"
   ]
  },
  {
   "cell_type": "code",
   "execution_count": null,
   "metadata": {},
   "outputs": [],
   "source": [
    "# One tone on each channel.\n",
    "for i in range(8):\n",
    "    soc.dacs[i].gen_ctrl.add(freq=1000,gain=30000)\n",
    "#     soc.gen_ctrl[i].add(freq=0,gain=0)\n",
    "    soc.dacs[i].rfsw_sel(\"RF\")\n",
    "    soc.dacs[i].attn[0].set_att(20)\n",
    "    soc.dacs[i].attn[1].set_att(31.75)"
   ]
  },
  {
   "cell_type": "code",
   "execution_count": null,
   "metadata": {},
   "outputs": [],
   "source": [
    "soc.buf.route(2)\n",
    "soc.buf.capture()\n",
    "x = soc.buf.transfer()\n",
    "max(x)"
   ]
  },
  {
   "cell_type": "code",
   "execution_count": null,
   "metadata": {},
   "outputs": [],
   "source": [
    "plt.figure(figsize=(16,5))\n",
    "plt.plot(x)\n",
    "plt.xlim([500,1000])"
   ]
  },
  {
   "cell_type": "code",
   "execution_count": null,
   "metadata": {},
   "outputs": [],
   "source": [
    "w = sp.hanning(len(x))\n",
    "xw = x*w\n",
    "F = (np.arange(len(x))/len(x)-0.5)*fs_adc\n",
    "Y = sp.fftpack.fftshift(sp.fft(xw))\n",
    "Y = abs(Y)\n",
    "plt.figure(figsize=(16,5))\n",
    "#plt.figure(1,dpi=100)\n",
    "plt.plot(F,20*np.log10(Y/np.max(Y)))"
   ]
  },
  {
   "cell_type": "code",
   "execution_count": null,
   "metadata": {},
   "outputs": [],
   "source": [
    "w = sp.hanning(len(x))\n",
    "xw = x*w\n",
    "F = (np.arange(len(x))/len(x)-0.5)*fs_adc\n",
    "Y = sp.fftpack.fftshift(sp.fft(xw))\n",
    "Y = abs(Y/len(x))\n",
    "plt.figure(figsize=(16,5))\n",
    "#plt.figure(1,dpi=100)\n",
    "plt.plot(F,20*np.log10(Y))"
   ]
  },
  {
   "cell_type": "code",
   "execution_count": null,
   "metadata": {},
   "outputs": [],
   "source": [
    "soc.adcs[4].set_gain_db(db=-6)"
   ]
  },
  {
   "cell_type": "code",
   "execution_count": null,
   "metadata": {},
   "outputs": [],
   "source": [
    "soc.adcs[1].set_attn_db(30)"
   ]
  },
  {
   "cell_type": "code",
   "execution_count": null,
   "metadata": {},
   "outputs": [],
   "source": [
    "fs_adc/len(x)"
   ]
  },
  {
   "cell_type": "code",
   "execution_count": null,
   "metadata": {},
   "outputs": [],
   "source": [
    "fs_adc"
   ]
  },
  {
   "cell_type": "code",
   "execution_count": null,
   "metadata": {},
   "outputs": [],
   "source": [
    "# Save data to file.\n",
    "fn = \"data.mat\"\n",
    "sio.savemat(fn,{'xi':x})\n",
    "\n",
    "print(\"Written file \" + fn)"
   ]
  },
  {
   "cell_type": "code",
   "execution_count": null,
   "metadata": {},
   "outputs": [],
   "source": [
    "# Program DAC attenuators.\n",
    "chan=5\n",
    "soc.dacs[chan].attn[0].set_att(31.75)\n",
    "soc.dacs[chan].attn[1].set_att(31.75)"
   ]
  },
  {
   "cell_type": "code",
   "execution_count": null,
   "metadata": {},
   "outputs": [],
   "source": [
    "# Sweep attenuator.\n",
    "chan = 5\n",
    "att = 0\n",
    "for i in np.linspace(start=0,stop=30, num=10):\n",
    "    soc.dacs[chan].attn[att].set_att(i)\n",
    "    time.sleep(2)"
   ]
  },
  {
   "cell_type": "code",
   "execution_count": null,
   "metadata": {},
   "outputs": [],
   "source": [
    "# Program ADC attenuator.\n",
    "soc.adcs[3].set_attn_db(31)"
   ]
  },
  {
   "cell_type": "code",
   "execution_count": null,
   "metadata": {},
   "outputs": [],
   "source": []
  }
 ],
 "metadata": {
  "kernelspec": {
   "display_name": "Python 3",
   "language": "python",
   "name": "python3"
  },
  "language_info": {
   "codemirror_mode": {
    "name": "ipython",
    "version": 3
   },
   "file_extension": ".py",
   "mimetype": "text/x-python",
   "name": "python",
   "nbconvert_exporter": "python",
   "pygments_lexer": "ipython3",
   "version": "3.8.2"
  }
 },
 "nbformat": 4,
 "nbformat_minor": 2
}
