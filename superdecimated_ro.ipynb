{
 "cells": [
  {
   "cell_type": "markdown",
   "metadata": {},
   "source": [
    "# Super-decimated readout\n",
    "\n",
    "There are two ways to do time-series readouts with durations that exceed the decimated buffer capacity: the DDR4 buffer and the \"super-decimated readout\" technique.\n",
    "\n",
    "The DDR4 buffer is relatively simple to use (see https://github.com/openquantumhardware/qick/blob/main/qick_demos/08_Special_buffers.ipynb) and has the same time resolution as the decimated buffer, but can only be triggered once in a program (so if you want multiple shots, you need to record them all in a single DDR4 capture and slice the data later), can only be connected to one readout channel in a program, and for very long readouts the data volume may limit the rep rate.\n",
    "\n",
    "Super-decimated readout uses repeated accumulated readouts to emulate a decimated readout.\n",
    "The time resolution is reduced to the interval between accumulated readouts.\n",
    "Super-decimated readout is not so much a QICK feature, as a hacky way to adapt QICK features to do something they were not intended to do.\n",
    "As such, it requires a high level of understanding of QICK; don't attempt unless you are already comfortable with writing your own QICK programs."
   ]
  },
  {
   "cell_type": "code",
   "execution_count": 1,
   "metadata": {},
   "outputs": [],
   "source": [
    "# boilerplate code for jupyter setup\n",
    "%matplotlib inline\n",
    "import matplotlib.pyplot as plt\n",
    "import numpy as np\n",
    "\n",
    "# Import the QICK drivers and auxiliary libraries\n",
    "from qick import *\n",
    "# from qick.averager_program import QickSweep"
   ]
  },
  {
   "cell_type": "code",
   "execution_count": 2,
   "metadata": {},
   "outputs": [
    {
     "data": {
      "application/javascript": [
       "\n",
       "try {\n",
       "require(['notebook/js/codecell'], function(codecell) {\n",
       "  codecell.CodeCell.options_default.highlight_modes[\n",
       "      'magic_text/x-csrc'] = {'reg':[/^%%microblaze/]};\n",
       "  Jupyter.notebook.events.one('kernel_ready.Kernel', function(){\n",
       "      Jupyter.notebook.get_cells().map(function(cell){\n",
       "          if (cell.cell_type == 'code'){ cell.auto_highlight(); } }) ;\n",
       "  });\n",
       "});\n",
       "} catch (e) {};\n"
      ]
     },
     "metadata": {},
     "output_type": "display_data"
    },
    {
     "data": {
      "application/javascript": [
       "\n",
       "try {\n",
       "require(['notebook/js/codecell'], function(codecell) {\n",
       "  codecell.CodeCell.options_default.highlight_modes[\n",
       "      'magic_text/x-csrc'] = {'reg':[/^%%pybind11/]};\n",
       "  Jupyter.notebook.events.one('kernel_ready.Kernel', function(){\n",
       "      Jupyter.notebook.get_cells().map(function(cell){\n",
       "          if (cell.cell_type == 'code'){ cell.auto_highlight(); } }) ;\n",
       "  });\n",
       "});\n",
       "} catch (e) {};\n"
      ]
     },
     "metadata": {},
     "output_type": "display_data"
    },
    {
     "name": "stdout",
     "output_type": "stream",
     "text": [
      "QICK running on RFSoC4x2, software version 0.2.356\n",
      "\n",
      "Firmware configuration (built Wed Sep  6 18:49:29 2023):\n",
      "\n",
      "\tGlobal clocks (MHz): tProc dispatcher timing 409.600, RF reference 491.520\n",
      "\tGroups of related clocks: [tProc clock, DAC tile 0], [DAC tile 2], [ADC tile 0]\n",
      "\n",
      "\t2 signal generator channels:\n",
      "\t0:\taxis_signal_gen_v6 - fs=9830.400 Msps, fabric=614.400 MHz\n",
      "\t\tenvelope memory: 65536 complex samples (6.667 us)\n",
      "\t\t32-bit DDS, range=9830.400 MHz\n",
      "\t\tDAC tile 0, blk 0 is DAC_B\n",
      "\t1:\taxis_signal_gen_v6 - fs=9830.400 Msps, fabric=614.400 MHz\n",
      "\t\tenvelope memory: 65536 complex samples (6.667 us)\n",
      "\t\t32-bit DDS, range=9830.400 MHz\n",
      "\t\tDAC tile 2, blk 0 is DAC_A\n",
      "\n",
      "\t2 readout channels:\n",
      "\t0:\taxis_readout_v2 - configured by PYNQ\n",
      "\t\tfs=4423.680 Msps, decimated=552.960 MHz, 32-bit DDS, range=4423.680 MHz\n",
      "\t\taxis_avg_buffer v1.0 (no edge counter, no weights)\n",
      "\t\tmemory 16384 accumulated, 1024 decimated (1.852 us)\n",
      "\t\ttriggered by output 7, pin 14, feedback to tProc input 0\n",
      "\t\tADC tile 0, blk 0 is ADC_D\n",
      "\t1:\taxis_readout_v2 - configured by PYNQ\n",
      "\t\tfs=4423.680 Msps, decimated=552.960 MHz, 32-bit DDS, range=4423.680 MHz\n",
      "\t\taxis_avg_buffer v1.0 (no edge counter, no weights)\n",
      "\t\tmemory 16384 accumulated, 1024 decimated (1.852 us)\n",
      "\t\ttriggered by output 7, pin 15, feedback to tProc input 1\n",
      "\t\tADC tile 0, blk 2 is ADC_C\n",
      "\n",
      "\t8 digital output pins:\n",
      "\t0:\tPMOD0_0\n",
      "\t1:\tPMOD0_1\n",
      "\t2:\tPMOD0_2\n",
      "\t3:\tPMOD0_3\n",
      "\t4:\tPMOD0_4\n",
      "\t5:\tPMOD0_5\n",
      "\t6:\tPMOD0_6\n",
      "\t7:\tPMOD0_7\n",
      "\n",
      "\ttProc: axis_tproc64x32_x8 (\"v1\") rev 4, program memory 1024 words, data memory 1024 words\n",
      "\t\texternal start pin: PMOD1_0\n",
      "\n",
      "\tDDR4 memory buffer: 1073741824 samples (1.942 sec), 256 samples/transfer\n",
      "\t\twired to readouts [0, 1]\n",
      "\n",
      "\tMR buffer: 8192 samples (1.852 us), wired to readouts [0, 1]\n"
     ]
    }
   ],
   "source": [
    "# Load bitstream\n",
    "soc = QickSoc()\n",
    "soccfg = soc\n",
    "print(soccfg)"
   ]
  },
  {
   "cell_type": "code",
   "execution_count": 3,
   "metadata": {},
   "outputs": [],
   "source": [
    "GEN_CH = 0\n",
    "RO_CH = 0\n",
    "FREQ = 250 # MHz\n",
    "DDR4_OFFSET = 0.02 # us\n"
   ]
  },
  {
   "cell_type": "markdown",
   "metadata": {},
   "source": [
    "We're demonstrating two useful techniques in this program:\n",
    "* We're using a periodic pulse to play a constant-envelope pulse of unlimited length.\n",
    "\n",
    " Normally you play pulses in a single step by telling the generator to play a pulse with a defined length; this length is typically limited to a 16-bit integer.\n",
    "\n",
    " Here we are using a two-step process, where first we tell the generator to play a short pulse repeatedly (back-to-back, with no gaps - so this will look like a continuous tone), and later we tell it to play a \"stopper\" pulse (a zero-gain pulse, which stops the repetition without playing any visible signal itself).\n",
    "These pulses should usually be as short as possible: you can't interrupt a pulse while it's playing, so after the stopper is sent the periodic pulse is still going to play to completion.\n",
    "\n",
    "* We're using super-decimated readout. \n",
    "\n",
    " We need to send a series of readout triggers with a fixed spacing: we do this by writing a for loop in the QICK assembly language. The AveragerProgram is built around a similar for loop, which you can see in https://docs.qick.dev/latest/_modules/qick/averager_program.html#AveragerProgram.make_program.\n",
    "\n",
    " In order for the data-processing code to grab the data we captured, it needs to know how many triggers we send in a shot. Normally it figures this out by counting `trigger()` statements in the body, but in our program we have one trigger statement that gets looped over. So we need to use `set_reads_per_shot()` to explicity declare the number of triggers.\n",
    " \n",
    " \n",
    "We're doing some other stuff for testing/visualization purposes:\n",
    "\n",
    "* We're setting separate generator and readout frequencies; if we set them to different values, our downconverted signal will have a slow oscillation which will show up in our super-decimated data points.\n",
    "* We're also triggering the DDR4 buffer, so we can align our super-decimated data points with a global timeline."
   ]
  },
  {
   "cell_type": "code",
   "execution_count": 4,
   "metadata": {},
   "outputs": [],
   "source": [
    "class LongPulseProgram(AveragerProgram):\n",
    "    def __init__(self, soccfg, cfg):\n",
    "        super().__init__(soccfg, cfg)\n",
    "        # tell the data-processing code how many times we're triggering the readout\n",
    "        self.set_reads_per_shot([config['n_trigs']])\n",
    "    \n",
    "    def initialize(self):\n",
    "        cfg=self.cfg\n",
    "\n",
    "        # set the nyquist zone\n",
    "        self.declare_gen(ch=cfg['gen_ch'], nqz=1)\n",
    "        \n",
    "        # configure the readout lengths and downconversion frequencies (ensuring it is an available DAC frequency)\n",
    "        self.declare_readout(ch=cfg['ro_ch'], length=cfg['ro_len'],\n",
    "                             freq=self.cfg['ro_freq'], gen_ch=cfg['gen_ch'])\n",
    "\n",
    "        # convert frequency to DAC frequency (ensuring it is an available ADC frequency)\n",
    "        freq = self.freq2reg(cfg[\"pulse_freq\"], gen_ch=cfg['gen_ch'], ro_ch=cfg['ro_ch'])\n",
    "        \n",
    "        # we'll be setting up two types of pulses: the periodic pulse and the stopper pulse\n",
    "        # for efficiency, the parameters that the two pulses have in common should be set in initialize()\n",
    "        self.default_pulse_registers(ch=cfg['gen_ch'], style='const', freq=freq, phase=0,\n",
    "                                     length=3, # this is the minimum length for a pulse\n",
    "                                    )\n",
    "        self.synci(200)  # give processor some time to configure pulses\n",
    "        \n",
    "    def body(self):\n",
    "        cfg=self.cfg\n",
    "\n",
    "        # set up and play the periodic pulse\n",
    "        self.set_pulse_registers(ch=cfg['gen_ch'], \n",
    "                                 gain=cfg['pulse_gain'], \n",
    "                                 mode='periodic')\n",
    "        self.pulse(ch=cfg['gen_ch'], t=0)\n",
    "        # set up and play the dummy \"stopper\" pulse\n",
    "        self.set_pulse_registers(ch=cfg['gen_ch'], \n",
    "                                 gain=0,\n",
    "                                 mode='oneshot')\n",
    "        self.pulse(ch=cfg['gen_ch'], t=cfg['pulse_len'])\n",
    "        \n",
    "        # this block of code is how you write a for loop\n",
    "        COUNTER_PAGE, COUNTER_ADDR = (0, 1) # the counter value goes in a register\n",
    "        self.safe_regwi(COUNTER_PAGE, COUNTER_ADDR, cfg['n_trigs']-1) # pseudocode: \"i = n_trigs - 1\"\n",
    "        self.label(\"TRIGLOOP\") # pseudocode: \"do\"\n",
    "        \n",
    "        self.trigger(adcs=[cfg['ro_ch']], # trigger the standard buffer\n",
    "                     ddr4=True, # trigger the DDR4 (only the first DDR4 trigger will be used)\n",
    "                     pins=[0],  # if you put a scope on output pin 0, you will see a pulse for each trigger\n",
    "                     adc_trig_offset=cfg['adc_trig_offset'])\n",
    "        self.synci(cfg['trig_interval']) # push the reference time forward for the next loop iteration\n",
    "        \n",
    "        self.loopnz(COUNTER_PAGE, COUNTER_ADDR, 'TRIGLOOP') # pseudocode: \"while (i-- != 0)\"\n",
    "        \n",
    "        self.waiti(0, 0) # the first arg is a fummy value, the second is the time until which to wait\n",
    "        self.synci(self.us2cycles(cfg['relax_delay'])) # push the reference time forward for the next shot"
   ]
  },
  {
   "cell_type": "markdown",
   "metadata": {},
   "source": [
    "First we'll run in decimated mode, where we'll capture a time window for each of our triggers.\n",
    "In this mode, the total length of our decimated windows has to fit in the decimated buffer.\n",
    "Later we'll switch to accumulated mode, where we only get the average of each window and can run for much longer."
   ]
  },
  {
   "cell_type": "code",
   "execution_count": 5,
   "metadata": {},
   "outputs": [
    {
     "data": {
      "application/vnd.jupyter.widget-view+json": {
       "model_id": "951891620d0742b192f1847bc7b785e8",
       "version_major": 2,
       "version_minor": 0
      },
      "text/plain": [
       "  0%|          | 0/1 [00:00<?, ?it/s]"
      ]
     },
     "metadata": {},
     "output_type": "display_data"
    }
   ],
   "source": [
    "config={\"gen_ch\":GEN_CH, # --Fixed\n",
    "        \"ro_ch\":RO_CH, # --Fixed\n",
    "        \n",
    "        \"pulse_len\": soccfg.us2cycles(1.0), # [us]\n",
    "        \"ro_len\": soccfg.us2cycles(0.1, ro_ch=RO_CH), # [us]\n",
    "        \"trig_interval\": soccfg.us2cycles(0.15), # [us]\n",
    "\n",
    "        \"pulse_gain\":30000, # [DAC units, +/- 2^15-2]\n",
    "        \"pulse_freq\": FREQ, # [MHz]\n",
    "        \"ro_freq\": FREQ+0.5, # [MHz]\n",
    "\n",
    "        \"adc_trig_offset\": 100, # [tProc clock ticks]\n",
    "        \n",
    "        \"n_trigs\": 10,\n",
    "\n",
    "        \"relax_delay\":1.0, # [us]\n",
    "\n",
    "        \"reps\":1, # --Fixed\n",
    "        \"soft_avgs\":1\n",
    "       }\n",
    "\n",
    "prog =LongPulseProgram(soccfg, config)\n",
    "\n",
    "n_transfers = 1000 # each transfer (aka burst) is 256 decimated samples\n",
    "\n",
    "# Arm the DDR4 buffer\n",
    "soc.arm_ddr4(ch=RO_CH, nt=n_transfers)\n",
    "\n",
    "# Run the program\n",
    "iq_list = prog.acquire_decimated(soc, progress=True)\n",
    "# print(prog)"
   ]
  },
  {
   "cell_type": "markdown",
   "metadata": {},
   "source": [
    "We can plot the decimated data on top of the DDR4 data, to see that we're triggering the standard buffer at the expected times.\n",
    "\n",
    "Two caveats:\n",
    "* The DDR4 and standard buffers have slightly different trigger delays, so we shift the plots by a DDR4_OFFSET value to line them up. This value is firmware-dependent. Another way to align the data would be to trigger the DDR4 buffer slightly earlier.\n",
    "* If you look very closely, you will probably find that the individual segments from the standard buffer are not completely consistently aligned with the DDR4 - there will be a jitter of one clock tick. This happens when the tProc and readout clocks have different frequencies; the triggers are scheduled in tProc time units and get translated to the readout clock (jargon: \"clock domain crossing\")."
   ]
  },
  {
   "cell_type": "code",
   "execution_count": 6,
   "metadata": {},
   "outputs": [
    {
     "data": {
      "image/png": "[encoded data removed]",
      "text/plain": [
       "<Figure size 432x288 with 1 Axes>"
      ]
     },
     "metadata": {
      "needs_background": "light"
     },
     "output_type": "display_data"
    }
   ],
   "source": [
    "trig_interval = soccfg.cycles2us(config['trig_interval'])\n",
    "\n",
    "# could work out how many DDR4 transfers we need . . .\n",
    "# nsamp_ro = trig_interval*config['n_trigs']*soccfg['readouts'][RO_CH]['f_output']\n",
    "# nt = np.ceil((soccfg['ddr4_buf']['junk_len'] + nsamp_ro)/soccfg['ddr4_buf']['burst_len'])\n",
    "\n",
    "iq_ddr4 = soc.get_ddr4(n_transfers)\n",
    "t_ddr4 = prog.get_time_axis_ddr4(RO_CH, iq_ddr4) + DDR4_OFFSET\n",
    "plt.plot(t_ddr4, iq_ddr4[:,0], label=\"I\")\n",
    "plt.plot(t_ddr4, iq_ddr4[:,1], label=\"Q\")\n",
    "\n",
    "# get the time window for the decimated data, and the interval between triggers\n",
    "t_dec = prog.get_time_axis(0)\n",
    "for i, iq in enumerate(iq_list[0]):\n",
    "    plt.plot(t_dec + i*trig_interval, iq[0], label=\"I value\", color='red')\n",
    "    plt.plot(t_dec + i*trig_interval, iq[1], label=\"Q value\", color='blue')\n",
    "\n",
    "plt.xlim([0, trig_interval*config['n_trigs']])\n",
    "plt.ylabel(\"amplitude [arb. units]\")\n",
    "plt.xlabel(\"time [us]\");\n"
   ]
  },
  {
   "cell_type": "markdown",
   "metadata": {},
   "source": [
    "Now let's run the same program in accumulated mode.\n",
    "We get 10 points instead of 10 time slices."
   ]
  },
  {
   "cell_type": "code",
   "execution_count": 7,
   "metadata": {},
   "outputs": [
    {
     "data": {
      "application/vnd.jupyter.widget-view+json": {
       "model_id": "52edf2e39a1043a68582da7cf74d21db",
       "version_major": 2,
       "version_minor": 0
      },
      "text/plain": [
       "  0%|          | 0/1 [00:00<?, ?it/s]"
      ]
     },
     "metadata": {},
     "output_type": "display_data"
    },
    {
     "data": {
      "image/png": "[encoded data removed]",
      "text/plain": [
       "<Figure size 432x288 with 1 Axes>"
      ]
     },
     "metadata": {
      "needs_background": "light"
     },
     "output_type": "display_data"
    }
   ],
   "source": [
    "n_transfers = 1000 # each transfer (aka burst) is 256 decimated samples\n",
    "\n",
    "# Arm the DDR4 buffer\n",
    "soc.arm_ddr4(ch=RO_CH, nt=n_transfers)\n",
    "\n",
    "# Run the program\n",
    "iq_list = prog.acquire(soc, progress=True)\n",
    "\n",
    "iq_ddr4 = soc.get_ddr4(n_transfers)\n",
    "t_ddr4 = prog.get_time_axis_ddr4(RO_CH, iq_ddr4) + DDR4_OFFSET\n",
    "plt.plot(t_ddr4, iq_ddr4[:,0], label=\"I\")\n",
    "plt.plot(t_ddr4, iq_ddr4[:,1], label=\"Q\")\n",
    "\n",
    "trig_interval = soccfg.cycles2us(config['trig_interval'])\n",
    "t_superdec = trig_interval*(np.arange(config['n_trigs']))\n",
    "\n",
    "# we'll plot a point at the trigger time, and a bar to indicate the integration window\n",
    "bars = np.zeros((2,config['n_trigs']))\n",
    "bars[1,:] = soccfg.cycles2us(config['ro_len'], ro_ch=RO_CH)\n",
    "\n",
    "plt.errorbar(t_superdec, iq_list[0][0], xerr=bars, fmt='.', label=\"I value\", color='red')\n",
    "plt.errorbar(t_superdec, iq_list[1][0], xerr=bars, fmt='.', label=\"Q value\", color='blue')\n",
    "\n",
    "plt.xlim([0, trig_interval*config['n_trigs']])\n",
    "plt.ylabel(\"amplitude [arb. units]\")\n",
    "plt.xlabel(\"time [us]\");\n"
   ]
  },
  {
   "cell_type": "markdown",
   "metadata": {},
   "source": [
    "Now let's do a much longer acquisition."
   ]
  },
  {
   "cell_type": "code",
   "execution_count": 9,
   "metadata": {},
   "outputs": [
    {
     "data": {
      "application/vnd.jupyter.widget-view+json": {
       "model_id": "887ef85ec6ef48169abd515624af53b3",
       "version_major": 2,
       "version_minor": 0
      },
      "text/plain": [
       "  0%|          | 0/1 [00:00<?, ?it/s]"
      ]
     },
     "metadata": {},
     "output_type": "display_data"
    },
    {
     "data": {
      "image/png": "[encoded data removed]",
      "text/plain": [
       "<Figure size 432x288 with 1 Axes>"
      ]
     },
     "metadata": {
      "needs_background": "light"
     },
     "output_type": "display_data"
    }
   ],
   "source": [
    "config[\"pulse_len\"] = soccfg.us2cycles(1000.0)\n",
    "config[\"n_trigs\"] = 10000\n",
    "config[\"ro_freq\"] = FREQ+0.002, # [MHz]\n",
    "\n",
    "prog =LongPulseProgram(soccfg, config)\n",
    "\n",
    "# Arm the DDR4 buffer\n",
    "soc.arm_ddr4(ch=RO_CH, nt=n_transfers)\n",
    "\n",
    "# Run the program\n",
    "iq_list = prog.acquire(soc, progress=True)\n",
    "\n",
    "iq_ddr4 = soc.get_ddr4(n_transfers)\n",
    "t_ddr4 = prog.get_time_axis_ddr4(RO_CH, iq_ddr4) + DDR4_OFFSET\n",
    "plt.plot(t_ddr4, iq_ddr4[:,0], label=\"I\")\n",
    "plt.plot(t_ddr4, iq_ddr4[:,1], label=\"Q\")\n",
    "\n",
    "trig_interval = soccfg.cycles2us(config['trig_interval'])\n",
    "t_superdec = trig_interval*(np.arange(config['n_trigs']))\n",
    "\n",
    "# we'll plot a point at the trigger time, and a bar to indicate the integration window\n",
    "bars = np.zeros((2,config['n_trigs']))\n",
    "bars[1,:] = soccfg.cycles2us(config['ro_len'], ro_ch=RO_CH)\n",
    "\n",
    "plt.errorbar(t_superdec, iq_list[0][0], xerr=bars, fmt='.', label=\"I value\", color='red')\n",
    "plt.errorbar(t_superdec, iq_list[1][0], xerr=bars, fmt='.', label=\"Q value\", color='blue')\n",
    "\n",
    "plt.xlim([0, trig_interval*config['n_trigs']])\n",
    "plt.ylabel(\"amplitude [arb. units]\")\n",
    "plt.xlabel(\"time [us]\");\n"
   ]
  }
 ],
 "metadata": {
  "kernelspec": {
   "display_name": "Python 3 (ipykernel)",
   "language": "python",
   "name": "python3"
  },
  "language_info": {
   "codemirror_mode": {
    "name": "ipython",
    "version": 3
   },
   "file_extension": ".py",
   "mimetype": "text/x-python",
   "name": "python",
   "nbconvert_exporter": "python",
   "pygments_lexer": "ipython3",
   "version": "3.10.4"
  },
  "vscode": {
   "interpreter": {
    "hash": "618feb7b2b0a35f7e820dec88779cac1ef83ad948f0212540d069fdb92cbb234"
   }
  }
 },
 "nbformat": 4,
 "nbformat_minor": 2
}
