{
 "cells": [
  {
   "cell_type": "code",
   "execution_count": 1,
   "id": "bd548c6a",
   "metadata": {},
   "outputs": [
    {
     "data": {
      "application/javascript": [
       "\n",
       "try {\n",
       "require(['notebook/js/codecell'], function(codecell) {\n",
       "  codecell.CodeCell.options_default.highlight_modes[\n",
       "      'magic_text/x-csrc'] = {'reg':[/^%%microblaze/]};\n",
       "  Jupyter.notebook.events.one('kernel_ready.Kernel', function(){\n",
       "      Jupyter.notebook.get_cells().map(function(cell){\n",
       "          if (cell.cell_type == 'code'){ cell.auto_highlight(); } }) ;\n",
       "  });\n",
       "});\n",
       "} catch (e) {};\n"
      ]
     },
     "metadata": {},
     "output_type": "display_data"
    },
    {
     "data": {
      "application/javascript": [
       "\n",
       "try {\n",
       "require(['notebook/js/codecell'], function(codecell) {\n",
       "  codecell.CodeCell.options_default.highlight_modes[\n",
       "      'magic_text/x-csrc'] = {'reg':[/^%%pybind11/]};\n",
       "  Jupyter.notebook.events.one('kernel_ready.Kernel', function(){\n",
       "      Jupyter.notebook.get_cells().map(function(cell){\n",
       "          if (cell.cell_type == 'code'){ cell.auto_highlight(); } }) ;\n",
       "  });\n",
       "});\n",
       "} catch (e) {};\n"
      ]
     },
     "metadata": {},
     "output_type": "display_data"
    }
   ],
   "source": [
    "from qick import *"
   ]
  },
  {
   "cell_type": "code",
   "execution_count": 2,
   "id": "8d898297",
   "metadata": {},
   "outputs": [],
   "source": [
    "soc = QickSoc(bitfile=\"../../qick-amo/pynq/qick-amo.bit\")\n",
    "soccfg = soc"
   ]
  },
  {
   "cell_type": "code",
   "execution_count": 3,
   "id": "cede7087",
   "metadata": {},
   "outputs": [
    {
     "name": "stdout",
     "output_type": "stream",
     "text": [
      "\n",
      "QICK configuration:\n",
      "\n",
      "\tBoard: ZCU216\n",
      "\n",
      "\tGlobal clocks (MHz): tProcessor 349.997, RF reference 245.760\n",
      "\n",
      "\t7 signal generator channels:\n",
      "\t0:\taxis_sg_int4_v1 - tProc output 0, switch ch 0, maxlen 4096\n",
      "\t\tDAC tile 2, ch 0, 16-bit DDS, fabric=430.080 MHz, fs=1720.320 MHz\n",
      "\t1:\taxis_sg_int4_v1 - tProc output 1, switch ch 1, maxlen 4096\n",
      "\t\tDAC tile 2, ch 1, 16-bit DDS, fabric=430.080 MHz, fs=1720.320 MHz\n",
      "\t2:\taxis_sg_int4_v1 - tProc output 2, switch ch 2, maxlen 4096\n",
      "\t\tDAC tile 2, ch 2, 16-bit DDS, fabric=430.080 MHz, fs=1720.320 MHz\n",
      "\t3:\taxis_sg_int4_v1 - tProc output 3, switch ch 3, maxlen 4096\n",
      "\t\tDAC tile 2, ch 3, 16-bit DDS, fabric=430.080 MHz, fs=1720.320 MHz\n",
      "\t4:\taxis_signal_gen_v6 - tProc output 4, switch ch 4, maxlen 65536\n",
      "\t\tDAC tile 3, ch 0, 32-bit DDS, fabric=599.040 MHz, fs=9584.640 MHz\n",
      "\t5:\taxis_signal_gen_v6 - tProc output 5, switch ch 5, maxlen 65536\n",
      "\t\tDAC tile 3, ch 1, 32-bit DDS, fabric=599.040 MHz, fs=9584.640 MHz\n",
      "\t6:\taxis_signal_gen_v6 - tProc output 6, switch ch 6, maxlen 65536\n",
      "\t\tDAC tile 3, ch 2, 32-bit DDS, fabric=599.040 MHz, fs=9584.640 MHz\n",
      "\n",
      "\t4 constant-IQ outputs:\n",
      "\t0:\tDAC tile 1, ch 0, fs=6881.280 MHz\n",
      "\t1:\tDAC tile 1, ch 1, fs=6881.280 MHz\n",
      "\t2:\tDAC tile 1, ch 2, fs=6881.280 MHz\n",
      "\t3:\tDAC tile 1, ch 3, fs=6881.280 MHz\n",
      "\n",
      "\t4 readout channels:\n",
      "\t0:\tADC tile 2, ch 0, 32-bit DDS, fabric=307.200 MHz, fs=2457.600 MHz\n",
      "\t\tmaxlen 1024 (avg) 1024 (decimated), trigger bit 4, tProc input 0\n",
      "\t1:\tADC tile 2, ch 1, 32-bit DDS, fabric=307.200 MHz, fs=2457.600 MHz\n",
      "\t\tmaxlen 1024 (avg) 1024 (decimated), trigger bit 5, tProc input 1\n",
      "\t2:\tADC tile 2, ch 2, 32-bit DDS, fabric=307.200 MHz, fs=2457.600 MHz\n",
      "\t\tmaxlen 1024 (avg) 1024 (decimated), trigger bit 6, tProc input 2\n",
      "\t3:\tADC tile 2, ch 3, 32-bit DDS, fabric=307.200 MHz, fs=2457.600 MHz\n",
      "\t\tmaxlen 1024 (avg) 1024 (decimated), trigger bit 7, tProc input 3\n",
      "\n",
      "\t11 DACs:\n",
      "\t\tDAC tile 1, ch 0 is 0_229\n",
      "\t\tDAC tile 1, ch 1 is 1_229\n",
      "\t\tDAC tile 1, ch 2 is 2_229\n",
      "\t\tDAC tile 1, ch 3 is 3_229\n",
      "\t\tDAC tile 2, ch 0 is 0_230\n",
      "\t\tDAC tile 2, ch 1 is 1_230\n",
      "\t\tDAC tile 2, ch 2 is 2_230\n",
      "\t\tDAC tile 2, ch 3 is 3_230\n",
      "\t\tDAC tile 3, ch 0 is 0_231\n",
      "\t\tDAC tile 3, ch 1 is 1_231\n",
      "\t\tDAC tile 3, ch 2 is 2_231\n",
      "\n",
      "\t4 ADCs:\n",
      "\t\tADC tile 2, ch 0 is 0_226\n",
      "\t\tADC tile 2, ch 1 is 1_226\n",
      "\t\tADC tile 2, ch 2 is 2_226\n",
      "\t\tADC tile 2, ch 3 is 3_226\n",
      "\n",
      "\t4 digital output pins:\n",
      "\t0:\tPMOD0_0_LS\n",
      "\t1:\tPMOD0_1_LS\n",
      "\t2:\tPMOD0_2_LS\n",
      "\t3:\tPMOD0_3_LS\n",
      "\n",
      "\ttProc: 1024 words program memory, 1024 words data memory\n",
      "\t\texternal start pin: PMOD1_0_LS\n"
     ]
    }
   ],
   "source": [
    "print(soccfg)"
   ]
  },
  {
   "cell_type": "code",
   "execution_count": 4,
   "id": "f8af02b0",
   "metadata": {},
   "outputs": [
    {
     "name": "stdout",
     "output_type": "stream",
     "text": [
      "Populating the interactive namespace from numpy and matplotlib\n"
     ]
    }
   ],
   "source": [
    "%pylab inline"
   ]
  },
  {
   "cell_type": "markdown",
   "id": "1be17ad7",
   "metadata": {},
   "source": [
    "# Determine pulse timing\n",
    "\n",
    "We'll start w/ a conventional pulse/readout sequence connected w/ the variable attenuator and power detector, then align the readout such that the readout window is fully within the pulse. "
   ]
  },
  {
   "cell_type": "code",
   "execution_count": 5,
   "id": "216aa48c",
   "metadata": {},
   "outputs": [],
   "source": [
    "class AOMPulse(AveragerProgram):\n",
    "    def __init__(self,soccfg,cfg):\n",
    "        super().__init__(soccfg,cfg)\n",
    "\n",
    "    def initialize(self):\n",
    "        cfg=self.cfg   \n",
    "        aom_ch = cfg['aom_ch']\n",
    "         \n",
    "        self.declare_gen(ch=aom_ch, nqz=1, mixer_freq=cfg['mixer_freq'])\n",
    "        self.declare_readout(ch=cfg['ro_ch'], freq=cfg[\"demod_freq\"], length=cfg[\"readout_length\"], gen_ch=cfg[\"aom_ch\"])\n",
    "            \n",
    "        freq=self.freq2reg(cfg['pulse_freq'], gen_ch=aom_ch)  \n",
    "  \n",
    "        self.set_pulse_registers(ch=aom_ch, freq=freq, style=self.cfg['pulse_style'], phase=0, \n",
    "                                 gain=self.cfg['init_gain'], length=cfg['length'])\n",
    "        self.synci(200) \n",
    "    \n",
    "    def body(self):\n",
    "        self.trigger(adcs=self.ro_chs,pins=[0], adc_trig_offset=self.cfg[\"adc_trig_offset\"]) \n",
    "        self.pulse(ch=self.cfg['aom_ch']) \n",
    "        \n",
    "        # the extra time in wait_all needs to be at least ~30, otherwise you will read a stale value corresponding to the previous readout\n",
    "        # try a smaller value and you will see what I mean\n",
    "        self.wait_all(50) #pause execution of commands until the end of the readout window, plus N cycles\n",
    "        # the extra time here is optional? do whatever you need to get the timeline you want\n",
    "        # if you are only running one rep and there are no more triggers or pulses, you don't even need a sync\n",
    "        self.sync_all(500) #increment the time of subsequent pulse and trigger commands to the end of the last pulse, plus 500\n",
    "\n",
    "        # it's important to only use registers that are not used elsewhere\n",
    "        # some registers are used for averagerprogram/raveragerprogram counters, and each generator uses some registers for pulse parameters\n",
    "        # we don't currently have a nice way to check which registers are unused (this is issue #19)\n",
    "        # for now: page 0 registers 1-12 are not used\n",
    "        self.read(0, 0, \"lower\", 1) # read input 0's accumulated I into page 0, reg 1\n",
    "        self.read(0, 0, \"upper\", 2) # read input 0's accumulated Q into page 0, reg 2\n",
    "        self.memwi(0, 1, 123)\n",
    "        self.memwi(0, 2, 124)\n",
    "        # read the same stuff again, as a cross-check\n",
    "        self.read(0, 0, \"lower\", 3)\n",
    "        self.read(0, 0, \"upper\", 4)\n",
    "        self.memwi(0, 3, 125)\n",
    "        self.memwi(0, 4, 126)\n",
    "\n",
    "#averagerprogram does not have an \"update\" step        \n"
   ]
  },
  {
   "cell_type": "code",
   "execution_count": 6,
   "id": "923873e7",
   "metadata": {},
   "outputs": [
    {
     "data": {
      "application/vnd.jupyter.widget-view+json": {
       "model_id": "b97070c8e859471ca53703339f196e72",
       "version_major": 2,
       "version_minor": 0
      },
      "text/plain": [
       "  0%|          | 0/1 [00:00<?, ?it/s]"
      ]
     },
     "metadata": {},
     "output_type": "display_data"
    },
    {
     "name": "stdout",
     "output_type": "stream",
     "text": [
      "I and Q values read from tproc input: [-1679, 2, -1679, 2]\n",
      "sum of I and Q in decimated buffer: [-1679.0, 2.0]\n"
     ]
    }
   ],
   "source": [
    "\n",
    "config={\"aom_ch\":0, # --Fixed\n",
    "        \"mixer_freq\":0.0, # MHz\n",
    "        \"reps\":1, # --Fixed\n",
    "        \"pulse_style\": \"const\", # --Fixed\n",
    "        \"length\" : 200,\n",
    "        \"ro_ch\":0, # --Fixed\n",
    "        \n",
    "        \"init_gain\":30000, # [DAC units]\n",
    "        # Try varying pulse_gain from 500 to 30000 DAC units\n",
    "\n",
    "        \"pulse_freq\": 50, # [MHz]\n",
    "        'demod_freq': 0,\n",
    "        \"readout_length\":50 , # 200\n",
    "        \"expts\":1,\n",
    "        \n",
    "        \"adc_trig_offset\": 100+125, # 100 [Clock ticks]\n",
    "        \"soft_avgs\":1\n",
    "       }\n",
    "\n",
    "prog =AOMPulse(soccfg, config)\n",
    "soc.reset_gens() # clear any DC or periodic values on generators\n",
    "\n",
    "iq_list = prog.acquire_decimated(soc, load_pulses=True, progress=True, debug=False)\n",
    "# print(prog)\n",
    "results = [np.int32(soc.tproc.single_read(addr=addr)) for addr in range(123,127)]\n",
    "print(\"I and Q values read from tproc input:\", results)\n",
    "\n",
    "print(\"sum of I and Q in decimated buffer:\", [sum(iq) for iq in iq_list[0]])\n"
   ]
  },
  {
   "cell_type": "code",
   "execution_count": 7,
   "id": "36ac73f5",
   "metadata": {},
   "outputs": [
    {
     "name": "stdout",
     "output_type": "stream",
     "text": [
      "-1679.0 2.0\n"
     ]
    },
    {
     "data": {
      "text/plain": [
       "<matplotlib.legend.Legend at 0xffff590d0d30>"
      ]
     },
     "execution_count": 7,
     "metadata": {},
     "output_type": "execute_result"
    },
    {
     "data": {
      "image/png": "[encoded data removed]",
      "text/plain": [
       "<Figure size 432x288 with 1 Axes>"
      ]
     },
     "metadata": {
      "needs_background": "light"
     },
     "output_type": "display_data"
    }
   ],
   "source": [
    "# Plot results.\n",
    "plt.figure(1)\n",
    "iq = iq_list[0]\n",
    "plt.plot(iq[0], label=\"I value, ADC %d\"%(config['ro_ch']))\n",
    "plt.plot(iq[1], label=\"Q value, ADC %d\"%(config['ro_ch']))\n",
    "plt.plot(np.abs(iq[0]+1j*iq[1]), label=\"mag, ADC %d\"%(config['ro_ch']))\n",
    "\n",
    "print(sum(iq[0]), sum(iq[1]))\n",
    "\n",
    "plt.ylabel(\"a.u.\")\n",
    "plt.xlabel(\"Clock ticks\")\n",
    "plt.title(\"Averages = \" + str(config[\"soft_avgs\"]))\n",
    "plt.legend()\n",
    "# plt.savefig(\"images/Send_recieve_pulse_const.pdf\", dpi=350)"
   ]
  },
  {
   "cell_type": "code",
   "execution_count": 8,
   "id": "268877c5",
   "metadata": {},
   "outputs": [
    {
     "data": {
      "application/vnd.jupyter.widget-view+json": {
       "model_id": "0061826f106c4caf9d7c1c1e0e30755d",
       "version_major": 2,
       "version_minor": 0
      },
      "text/plain": [
       "  0%|          | 0/1 [00:00<?, ?it/s]"
      ]
     },
     "metadata": {},
     "output_type": "display_data"
    },
    {
     "name": "stdout",
     "output_type": "stream",
     "text": [
      "I and Q values read from tproc input: [2495, 3, 2495, 3]\n",
      "I and Q values in accumulated buffer: [array([[2495.]]), array([[3.]])]\n"
     ]
    }
   ],
   "source": [
    "iq_list = prog.acquire(soc, load_pulses=True, progress=True, debug=False)\n",
    "# print(prog)\n",
    "results = [np.int32(soc.tproc.single_read(addr=addr)) for addr in range(123,127)]\n",
    "print(\"I and Q values read from tproc input:\", results)\n",
    "\n",
    "print(\"I and Q values in accumulated buffer:\", [iq*config['readout_length'] for iq in iq_list])\n"
   ]
  },
  {
   "cell_type": "markdown",
   "id": "1a779f13",
   "metadata": {},
   "source": [
    "Above data was taken w/ the following setup: generated pulse is scaled w/ variable volgate attenuator, followed by ZX47-40 power detector, a DC block, and divided down by ~1/4 using a voltage divider. The latter is strictly speaking not necessary since the insertion loss of the var attenuator is always sufficient. However, can't hurt to be safe, and the RC time constant helps smooth out the signal a little (but fortuitously doesn't limit the risetime, which is already rather slow because of the ZX47-40 -- hence the readout is windowed on the second half of the pulse).\n",
    "\n",
    "There's still some slow settling time, but that should not be of any consequence for what we're trying to do here."
   ]
  },
  {
   "cell_type": "markdown",
   "id": "16cfec04",
   "metadata": {},
   "source": [
    "# use read to transfer the ADC value to a register block register. "
   ]
  }
 ],
 "metadata": {
  "kernelspec": {
   "display_name": "Python 3",
   "language": "python",
   "name": "python3"
  },
  "language_info": {
   "codemirror_mode": {
    "name": "ipython",
    "version": 3
   },
   "file_extension": ".py",
   "mimetype": "text/x-python",
   "name": "python",
   "nbconvert_exporter": "python",
   "pygments_lexer": "ipython3",
   "version": "3.8.2"
  }
 },
 "nbformat": 4,
 "nbformat_minor": 5
}
