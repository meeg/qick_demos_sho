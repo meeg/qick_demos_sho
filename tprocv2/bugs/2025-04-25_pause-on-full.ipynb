{
 "cells": [
  {
   "cell_type": "markdown",
   "id": "c82f764f",
   "metadata": {},
   "source": [
    "# possible bug: core execution does not pause when dispatcher FIFO is full\n",
    "\n",
    "Each tProc v2 dispatcher output (waveform, data, or trigger output) has a FIFO, which by default is 512 words deep (`FIFO_DEPTH=9` https://github.com/awsch/qick-spin/blob/a76ab8dc0f4c3975af3ce6416b3a1b4d5bc77fbf/firmware/ip/qick_processor/src/axis_qick_processor.sv#L33). \n",
    "These FIFOs are filled as the program is executed, and empty as each pulse's scheduled time is reached.\n",
    "A program that schedules a lot of pulses can fill up one of the FIFOs faster than the pulses get played.\n",
    "\n",
    "The tProc is supposed to pause execution when any of the FIFOs is full. This was the behavior in tProc v1; in v2 there is a config flag that is supposed to control this behavior (but the default is to pause).\n",
    "The manual describes this as \"D_FIFO: Disable FIFO_FULL_PAUSE (default 0: used for Debug purpose)\" - it says it's bit 10, but it's bit 11: https://github.com/awsch/qick-spin/blob/a76ab8dc0f4c3975af3ce6416b3a1b4d5bc77fbf/firmware/ip/qick_processor/src/qick_processor.sv#L215.\n",
    "\n",
    "Anyway, it appears that this behavior doesn't actually work; the tProc does not pause-on-full, so fast sequences with more than 512 pulses on a single generator may lose the later pulses."
   ]
  },
  {
   "cell_type": "code",
   "execution_count": 1,
   "id": "68f41a03",
   "metadata": {},
   "outputs": [],
   "source": [
    "import numpy as np\n",
    "from tqdm.notebook import tqdm\n",
    "from qick import *\n",
    "import matplotlib.pyplot as plt\n",
    "from qick.asm_v2 import AveragerProgramV2\n",
    "from qick.asm_v2 import QickSweep1D"
   ]
  },
  {
   "cell_type": "code",
   "execution_count": 2,
   "id": "252a0761",
   "metadata": {
    "scrolled": false
   },
   "outputs": [
    {
     "data": {
      "application/javascript": [
       "\n",
       "try {\n",
       "require(['notebook/js/codecell'], function(codecell) {\n",
       "  codecell.CodeCell.options_default.highlight_modes[\n",
       "      'magic_text/x-csrc'] = {'reg':[/^%%microblaze/]};\n",
       "  Jupyter.notebook.events.one('kernel_ready.Kernel', function(){\n",
       "      Jupyter.notebook.get_cells().map(function(cell){\n",
       "          if (cell.cell_type == 'code'){ cell.auto_highlight(); } }) ;\n",
       "  });\n",
       "});\n",
       "} catch (e) {};\n"
      ]
     },
     "metadata": {},
     "output_type": "display_data"
    },
    {
     "data": {
      "application/javascript": [
       "\n",
       "try {\n",
       "require(['notebook/js/codecell'], function(codecell) {\n",
       "  codecell.CodeCell.options_default.highlight_modes[\n",
       "      'magic_text/x-csrc'] = {'reg':[/^%%pybind11/]};\n",
       "  Jupyter.notebook.events.one('kernel_ready.Kernel', function(){\n",
       "      Jupyter.notebook.get_cells().map(function(cell){\n",
       "          if (cell.cell_type == 'code'){ cell.auto_highlight(); } }) ;\n",
       "  });\n",
       "});\n",
       "} catch (e) {};\n"
      ]
     },
     "metadata": {},
     "output_type": "display_data"
    },
    {
     "name": "stdout",
     "output_type": "stream",
     "text": [
      "QICK running on ZCU111, software version 0.2.318\n",
      "\n",
      "Firmware configuration (built Sun Sep 29 09:43:23 2024):\n",
      "\n",
      "\tGlobal clocks (MHz): tProc dispatcher timing 384.000, RF reference 204.800\n",
      "\n",
      "\t8 signal generator channels:\n",
      "\t0:\taxis_signal_gen_v6 - envelope memory 65536 samples (10.667 us)\n",
      "\t\tfs=6144.000 MHz, fabric=384.000 MHz, 32-bit DDS, range=6144.000 MHz\n",
      "\t\tDAC tile 0, blk 0 is DAC228_T0_CH0 or RF board output 0\n",
      "\t1:\taxis_signal_gen_v6 - envelope memory 65536 samples (10.667 us)\n",
      "\t\tfs=6144.000 MHz, fabric=384.000 MHz, 32-bit DDS, range=6144.000 MHz\n",
      "\t\tDAC tile 0, blk 1 is DAC228_T0_CH1 or RF board output 1\n",
      "\t2:\taxis_signal_gen_v6 - envelope memory 32768 samples (5.333 us)\n",
      "\t\tfs=6144.000 MHz, fabric=384.000 MHz, 32-bit DDS, range=6144.000 MHz\n",
      "\t\tDAC tile 0, blk 2 is DAC228_T0_CH2 or RF board output 2\n",
      "\t3:\taxis_signal_gen_v6 - envelope memory 32768 samples (5.333 us)\n",
      "\t\tfs=6144.000 MHz, fabric=384.000 MHz, 32-bit DDS, range=6144.000 MHz\n",
      "\t\tDAC tile 0, blk 3 is DAC228_T0_CH3 or RF board output 3\n",
      "\t4:\taxis_signal_gen_v6 - envelope memory 32768 samples (5.333 us)\n",
      "\t\tfs=6144.000 MHz, fabric=384.000 MHz, 32-bit DDS, range=6144.000 MHz\n",
      "\t\tDAC tile 1, blk 0 is DAC229_T1_CH0 or RF board output 4\n",
      "\t5:\taxis_signal_gen_v6 - envelope memory 32768 samples (5.333 us)\n",
      "\t\tfs=6144.000 MHz, fabric=384.000 MHz, 32-bit DDS, range=6144.000 MHz\n",
      "\t\tDAC tile 1, blk 1 is DAC229_T1_CH1 or RF board output 5\n",
      "\t6:\taxis_signal_gen_v6 - envelope memory 32768 samples (5.333 us)\n",
      "\t\tfs=6144.000 MHz, fabric=384.000 MHz, 32-bit DDS, range=6144.000 MHz\n",
      "\t\tDAC tile 1, blk 2 is DAC229_T1_CH2 or RF board output 6\n",
      "\t7:\taxis_signal_gen_v6 - envelope memory 32768 samples (5.333 us)\n",
      "\t\tfs=6144.000 MHz, fabric=384.000 MHz, 32-bit DDS, range=6144.000 MHz\n",
      "\t\tDAC tile 1, blk 3 is DAC229_T1_CH3 or RF board output 7\n",
      "\n",
      "\t4 readout channels:\n",
      "\t0:\taxis_dyn_readout_v1 - configured by tProc output 8\n",
      "\t\tfs=4096.000 MHz, decimated=512.000 MHz, 32-bit DDS, range=4096.000 MHz\n",
      "\t\taxis_avg_buffer v1.0 (no edge counter)\n",
      "\t\tmaxlen 16384 accumulated, 4096 decimated (8.000 us)\n",
      "\t\ttriggered by tport 10, pin 0, feedback to tProc input 0\n",
      "\t\tADC tile 0, blk 0 is ADC224_T0_CH0 or RF board AC input 0\n",
      "\t1:\taxis_dyn_readout_v1 - configured by tProc output 9\n",
      "\t\tfs=4096.000 MHz, decimated=512.000 MHz, 32-bit DDS, range=4096.000 MHz\n",
      "\t\taxis_avg_buffer v1.0 (no edge counter)\n",
      "\t\tmaxlen 16384 accumulated, 4096 decimated (8.000 us)\n",
      "\t\ttriggered by tport 11, pin 0, feedback to tProc input 1\n",
      "\t\tADC tile 0, blk 2 is ADC224_T0_CH1 or RF board AC input 1\n",
      "\t2:\taxis_dyn_readout_v1 - configured by tProc output 10\n",
      "\t\tfs=4096.000 MHz, decimated=512.000 MHz, 32-bit DDS, range=4096.000 MHz\n",
      "\t\taxis_avg_buffer v1.0 (no edge counter)\n",
      "\t\tmaxlen 16384 accumulated, 4096 decimated (8.000 us)\n",
      "\t\ttriggered by tport 12, pin 0, feedback to tProc input 2\n",
      "\t\tADC tile 2, blk 0 is ADC226_T2_CH0 or RF board DC input 0\n",
      "\t3:\taxis_dyn_readout_v1 - configured by tProc output 11\n",
      "\t\tfs=4096.000 MHz, decimated=512.000 MHz, 32-bit DDS, range=4096.000 MHz\n",
      "\t\taxis_avg_buffer v1.0 (no edge counter)\n",
      "\t\tmaxlen 16384 accumulated, 4096 decimated (8.000 us)\n",
      "\t\ttriggered by tport 13, pin 0, feedback to tProc input 3\n",
      "\t\tADC tile 2, blk 2 is ADC226_T2_CH1 or RF board DC input 1\n",
      "\n",
      "\t8 digital output pins:\n",
      "\t0:\tPMOD0_0_LS\n",
      "\t1:\tPMOD0_1_LS\n",
      "\t2:\tPMOD0_2_LS\n",
      "\t3:\tPMOD0_3_LS\n",
      "\t4:\tPMOD0_4_LS\n",
      "\t5:\tPMOD0_5_LS\n",
      "\t6:\tPMOD0_6_LS\n",
      "\t7:\tPMOD0_7_LS\n",
      "\n",
      "\ttProc: qick_processor (\"v2\") rev 21, core execution clock 199.998 MHz\n",
      "\t\tmemories (words): program 4096, data 16384, waveform 1024\n",
      "\t\texternal start pin: PMOD1_0_LS\n",
      "\t\texternal stop pin: PMOD1_1_LS\n",
      "\n",
      "\tDDR4 memory buffer: 1073741824 samples (2.097 sec), 256 samples/transfer\n",
      "\t\twired to readouts [0, 1, 2, 3]\n",
      "\n",
      "\tMR buffer: 8192 samples (2.000 us), wired to readouts [0, 1, 2, 3]\n"
     ]
    }
   ],
   "source": [
    "soc = QickSoc('/data/fw/2024-09-29_111_tprocv2r21_standard/qick_111.bit')\n",
    "soccfg = soc\n",
    "\n",
    "print(soccfg)"
   ]
  },
  {
   "cell_type": "code",
   "execution_count": 3,
   "id": "15fdfc37",
   "metadata": {},
   "outputs": [],
   "source": [
    "hardware = {\n",
    "        \"drive_ch\": 7,\n",
    "        \"ro_adc_ch\": 0\n",
    "    }"
   ]
  },
  {
   "cell_type": "markdown",
   "id": "89827c21",
   "metadata": {},
   "source": [
    "## example\n",
    "This example plays 1000 short pulses and reads them out using the DDR4 buffer. The last two lines in the body slow down tProc execution to avoid FIFO overflow. If you comment them out, you will see that only half of the pulses get played.\n",
    "\n",
    "Later on there is a test of setting the FIFO_FULL_PAUSE flag. This should disable pause-on-full, but it really seems that pause-on-full does not work regardless of the value of the flag."
   ]
  },
  {
   "cell_type": "code",
   "execution_count": 4,
   "id": "36d15c47",
   "metadata": {},
   "outputs": [],
   "source": [
    "class ManyPulseProg(AveragerProgramV2):\n",
    "    def _initialize(self, cfg):  \n",
    "        ro_ch = cfg[\"ro_adc_ch\"]\n",
    "        gen_ch = cfg[\"drive_ch\"]\n",
    "\n",
    "        self.declare_gen(ch=gen_ch, nqz=cfg['nqz_drive'])\n",
    "        self.declare_readout(ch=ro_ch, length=cfg['readout_length'])\n",
    "        self.add_readoutconfig(ch=ro_ch, name=\"myro\", freq=cfg['frequency_drive'], gen_ch=gen_ch)\n",
    "        self.add_pulse(ch=gen_ch, name=\"pulse10\", ro_ch=ro_ch, \n",
    "                   style=\"const\", \n",
    "                   freq=cfg['frequency_drive'], \n",
    "                   length=cfg['len_drive'],\n",
    "                   phase=0,\n",
    "                   gain=1, \n",
    "                  )\n",
    "        \n",
    "        self.send_readoutconfig(ch=cfg['ro_adc_ch'], name=\"myro\", t=0)\n",
    "        self.delay(1.0) # create some execution slack for the trigger\n",
    "        self.trigger(ddr4=True, t=0)\n",
    "        \n",
    "    def _body(self, cfg):\n",
    "        for p in range(cfg['n_drive']):\n",
    "            t = cfg['initial_drive'] + p*(cfg['len_drive']+cfg['gap_drive'])\n",
    "            self.pulse(ch=cfg['drive_ch'], name = 'pulse10', t=t, tag=\"drivepulse%d\"%(p))\n",
    "            \n",
    "            # if tProc execution gets too far ahead of the timeline, the pulse dispatcher will fill up\n",
    "            # so: periodically insert a wait, to limit the execution slack to ~initial_drive\n",
    "            # this is a dumb hack and you should not blindly reuse this (or use this ever, probably)\n",
    "            # it's just a way to prove that we are seeing dispatcher overflow\n",
    "            if cfg['wait_hack'] and p%100==0:\n",
    "                self.wait(p*(cfg['len_drive']+cfg['gap_drive']))"
   ]
  },
  {
   "cell_type": "code",
   "execution_count": 5,
   "id": "84410211",
   "metadata": {},
   "outputs": [],
   "source": [
    "n = 1000\n",
    "initial_start = 50\n",
    "gap_between_pulses = 0.1\n",
    "pulse_len = 0.1\n",
    "\n",
    "drive = {\n",
    "    \"frequency_drive\": 500,\n",
    "    \"nqz_drive\":1,\n",
    "    'initial_drive':initial_start,\n",
    "    'len_drive':pulse_len,\n",
    "    'gap_drive':gap_between_pulses,\n",
    "    'n_drive':n,\n",
    "}\n",
    "expt_config = {\n",
    "    \"wait_hack\": False,\n",
    "    \"readout_length\":5, # this is not actually used, we don't use the regular buffer\n",
    "}\n",
    "config = {**hardware, **drive, **expt_config}"
   ]
  },
  {
   "cell_type": "code",
   "execution_count": 6,
   "id": "451d9ae5",
   "metadata": {},
   "outputs": [
    {
     "data": {
      "application/vnd.jupyter.widget-view+json": {
       "model_id": "c21b9221e76c4fdeb977af04c86f309f",
       "version_major": 2,
       "version_minor": 0
      },
      "text/plain": [
       "  0%|          | 0/1 [00:00<?, ?it/s]"
      ]
     },
     "metadata": {},
     "output_type": "display_data"
    }
   ],
   "source": [
    "soc.tproc.tproc_cfg = 0 # this is the default - just making sure\n",
    "n_transfers = 2000\n",
    "soc.arm_ddr4(ch=config['ro_adc_ch'], nt=n_transfers)\n",
    "prog = ManyPulseProg(soccfg, reps=1, final_delay=10, cfg=config)\n",
    "\n",
    "prog.run_rounds(soc, rounds=1)\n",
    "\n",
    "iq_ddr4 = soc.get_ddr4(n_transfers)\n",
    "t = prog.get_time_axis_ddr4(config['ro_adc_ch'], iq_ddr4)"
   ]
  },
  {
   "cell_type": "code",
   "execution_count": 7,
   "id": "c9c8b690",
   "metadata": {
    "scrolled": true
   },
   "outputs": [],
   "source": [
    "# print(prog)"
   ]
  },
  {
   "cell_type": "code",
   "execution_count": 8,
   "id": "88d84fba",
   "metadata": {},
   "outputs": [
    {
     "data": {
      "text/plain": [
       "(45.0, 260.0)"
      ]
     },
     "execution_count": 8,
     "metadata": {},
     "output_type": "execute_result"
    },
    {
     "data": {
      "image/png": "[encoded data removed]",
      "text/plain": [
       "<Figure size 432x288 with 1 Axes>"
      ]
     },
     "metadata": {
      "needs_background": "light"
     },
     "output_type": "display_data"
    }
   ],
   "source": [
    "fig = plt.figure()\n",
    "plt.plot(t, iq_ddr4[:,0])\n",
    "plt.plot(t, iq_ddr4[:,1])\n",
    "plt.xlim([initial_start-5,initial_start + n*(pulse_len+gap_between_pulses)+10])\n",
    "# if all the pulses play, they should mostly fill the plot range"
   ]
  },
  {
   "cell_type": "code",
   "execution_count": 9,
   "id": "2239a040",
   "metadata": {},
   "outputs": [
    {
     "data": {
      "image/png": "[encoded data removed]",
      "text/plain": [
       "<Figure size 432x288 with 1 Axes>"
      ]
     },
     "execution_count": 9,
     "metadata": {},
     "output_type": "execute_result"
    }
   ],
   "source": [
    "# zooming in on the first few pulses, to check spacing\n",
    "fig.axes[0].set_xlim([50,55])\n",
    "fig"
   ]
  },
  {
   "cell_type": "code",
   "execution_count": 10,
   "id": "d00669bf",
   "metadata": {
    "scrolled": true
   },
   "outputs": [
    {
     "name": "stdout",
     "output_type": "stream",
     "text": [
      "50.0\n",
      "50.20052083333333\n",
      "50.401041666666664\n",
      "50.59895833333333\n",
      "50.799479166666664\n",
      "51.0\n",
      "51.20052083333333\n",
      "51.401041666666664\n",
      "51.59895833333333\n",
      "51.799479166666664\n"
     ]
    }
   ],
   "source": [
    "# print as-compiled pulse times\n",
    "for i in range(10):\n",
    "    print(prog.get_time_param('drivepulse%d'%(i), 't'))"
   ]
  },
  {
   "cell_type": "code",
   "execution_count": 11,
   "id": "bb18b51b",
   "metadata": {},
   "outputs": [
    {
     "data": {
      "application/vnd.jupyter.widget-view+json": {
       "model_id": "8e80d5cf03ff48a5941be5a7c72a363e",
       "version_major": 2,
       "version_minor": 0
      },
      "text/plain": [
       "  0%|          | 0/1 [00:00<?, ?it/s]"
      ]
     },
     "metadata": {},
     "output_type": "display_data"
    },
    {
     "data": {
      "text/plain": [
       "(45.0, 260.0)"
      ]
     },
     "execution_count": 11,
     "metadata": {},
     "output_type": "execute_result"
    },
    {
     "data": {
      "image/png": "[encoded data removed]",
      "text/plain": [
       "<Figure size 432x288 with 1 Axes>"
      ]
     },
     "metadata": {
      "needs_background": "light"
     },
     "output_type": "display_data"
    }
   ],
   "source": [
    "config['wait_hack'] = True\n",
    "\n",
    "n_transfers = 2000\n",
    "soc.arm_ddr4(ch=config['ro_adc_ch'], nt=n_transfers)\n",
    "prog = ManyPulseProg(soccfg, reps=1, final_delay=10, cfg=config)\n",
    "iq_list = prog.run_rounds(soc, rounds=1)\n",
    "iq_ddr4 = soc.get_ddr4(n_transfers)\n",
    "t = prog.get_time_axis_ddr4(config['ro_adc_ch'], iq_ddr4)\n",
    "\n",
    "fig = plt.figure()\n",
    "plt.plot(t, iq_ddr4[:,0])\n",
    "plt.plot(t, iq_ddr4[:,1])\n",
    "plt.xlim([initial_start-5,initial_start + n*(pulse_len+gap_between_pulses)+10])"
   ]
  },
  {
   "cell_type": "code",
   "execution_count": 12,
   "id": "98a047e7",
   "metadata": {},
   "outputs": [
    {
     "name": "stdout",
     "output_type": "stream",
     "text": [
      "setting tproc_cfg to 2048\n"
     ]
    },
    {
     "data": {
      "application/vnd.jupyter.widget-view+json": {
       "model_id": "6799564da4d84291acd02bd925595d5a",
       "version_major": 2,
       "version_minor": 0
      },
      "text/plain": [
       "  0%|          | 0/1 [00:00<?, ?it/s]"
      ]
     },
     "metadata": {},
     "output_type": "display_data"
    },
    {
     "name": "stdout",
     "output_type": "stream",
     "text": [
      "after run, tproc_cfg is 2048\n"
     ]
    },
    {
     "data": {
      "text/plain": [
       "(45.0, 260.0)"
      ]
     },
     "execution_count": 12,
     "metadata": {},
     "output_type": "execute_result"
    },
    {
     "data": {
      "image/png": "[encoded data removed]",
      "text/plain": [
       "<Figure size 432x288 with 1 Axes>"
      ]
     },
     "metadata": {
      "needs_background": "light"
     },
     "output_type": "display_data"
    }
   ],
   "source": [
    "config['wait_hack'] = False\n",
    "\n",
    "soc.tproc.tproc_cfg = 1 << 11 # this should disable pause-on-full\n",
    "print(\"setting tproc_cfg to\", soc.tproc.tproc_cfg)\n",
    "\n",
    "n_transfers = 2000\n",
    "soc.arm_ddr4(ch=config['ro_adc_ch'], nt=n_transfers)\n",
    "prog = ManyPulseProg(soccfg, reps=1, final_delay=10, cfg=config)\n",
    "iq_list = prog.run_rounds(soc, rounds=1)\n",
    "iq_ddr4 = soc.get_ddr4(n_transfers)\n",
    "t = prog.get_time_axis_ddr4(config['ro_adc_ch'], iq_ddr4)\n",
    "\n",
    "# print to confirm that tproc_cfg didn't get changed by the library\n",
    "print(\"after run, tproc_cfg is\", soc.tproc.tproc_cfg)\n",
    "\n",
    "fig = plt.figure()\n",
    "plt.plot(t, iq_ddr4[:,0])\n",
    "plt.plot(t, iq_ddr4[:,1])\n",
    "plt.xlim([initial_start-5,initial_start + n*(pulse_len+gap_between_pulses)+10])"
   ]
  }
 ],
 "metadata": {
  "kernelspec": {
   "display_name": "Python 3 (ipykernel)",
   "language": "python",
   "name": "python3"
  },
  "language_info": {
   "codemirror_mode": {
    "name": "ipython",
    "version": 3
   },
   "file_extension": ".py",
   "mimetype": "text/x-python",
   "name": "python",
   "nbconvert_exporter": "python",
   "pygments_lexer": "ipython3",
   "version": "3.10.4"
  }
 },
 "nbformat": 4,
 "nbformat_minor": 5
}
