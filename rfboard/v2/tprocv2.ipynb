{
 "cells": [
  {
   "cell_type": "code",
   "execution_count": 1,
   "id": "ab4dc4b4",
   "metadata": {},
   "outputs": [
    {
     "data": {
      "application/javascript": [
       "\n",
       "try {\n",
       "require(['notebook/js/codecell'], function(codecell) {\n",
       "  codecell.CodeCell.options_default.highlight_modes[\n",
       "      'magic_text/x-csrc'] = {'reg':[/^%%microblaze/]};\n",
       "  Jupyter.notebook.events.one('kernel_ready.Kernel', function(){\n",
       "      Jupyter.notebook.get_cells().map(function(cell){\n",
       "          if (cell.cell_type == 'code'){ cell.auto_highlight(); } }) ;\n",
       "  });\n",
       "});\n",
       "} catch (e) {};\n"
      ]
     },
     "metadata": {},
     "output_type": "display_data"
    },
    {
     "data": {
      "application/javascript": [
       "\n",
       "try {\n",
       "require(['notebook/js/codecell'], function(codecell) {\n",
       "  codecell.CodeCell.options_default.highlight_modes[\n",
       "      'magic_text/x-csrc'] = {'reg':[/^%%pybind11/]};\n",
       "  Jupyter.notebook.events.one('kernel_ready.Kernel', function(){\n",
       "      Jupyter.notebook.get_cells().map(function(cell){\n",
       "          if (cell.cell_type == 'code'){ cell.auto_highlight(); } }) ;\n",
       "  });\n",
       "});\n",
       "} catch (e) {};\n"
      ]
     },
     "metadata": {},
     "output_type": "display_data"
    },
    {
     "name": "stdout",
     "output_type": "stream",
     "text": [
      "Populating the interactive namespace from numpy and matplotlib\n"
     ]
    }
   ],
   "source": [
    "# Import the QICK drivers and auxiliary libraries\n",
    "from qick import *\n",
    "# from tqdm.auto import tqdm\n",
    "# from scipy.signal import welch\n",
    "%pylab inline"
   ]
  },
  {
   "cell_type": "code",
   "execution_count": 2,
   "id": "b7152fdb",
   "metadata": {},
   "outputs": [],
   "source": [
    "from qick.asm_v2 import AveragerProgramV2"
   ]
  },
  {
   "cell_type": "code",
   "execution_count": 3,
   "id": "50421469",
   "metadata": {},
   "outputs": [
    {
     "name": "stdout",
     "output_type": "stream",
     "text": [
      "resetting clocks: 122.88 204.8\n",
      "QICK running on ZCU111, software version 0.2.301\n",
      "\n",
      "Firmware configuration (built Fri Jan  3 15:35:30 2025):\n",
      "\n",
      "\tGlobal clocks (MHz): tProcessor 384.000, RF reference 204.800\n",
      "\n",
      "\t8 signal generator channels:\n",
      "\t0:\taxis_signal_gen_v6 - envelope memory 65536 samples (10.667 us)\n",
      "\t\tfs=6144.000 MHz, fabric=384.000 MHz, 32-bit DDS, range=6144.000 MHz\n",
      "\t\tDAC tile 0, blk 0 is DAC228_T0_CH0 or RF board output 0\n",
      "\t1:\taxis_signal_gen_v6 - envelope memory 65536 samples (10.667 us)\n",
      "\t\tfs=6144.000 MHz, fabric=384.000 MHz, 32-bit DDS, range=6144.000 MHz\n",
      "\t\tDAC tile 0, blk 1 is DAC228_T0_CH1 or RF board output 1\n",
      "\t2:\taxis_signal_gen_v6 - envelope memory 32768 samples (5.333 us)\n",
      "\t\tfs=6144.000 MHz, fabric=384.000 MHz, 32-bit DDS, range=6144.000 MHz\n",
      "\t\tDAC tile 0, blk 2 is DAC228_T0_CH2 or RF board output 2\n",
      "\t3:\taxis_signal_gen_v6 - envelope memory 32768 samples (5.333 us)\n",
      "\t\tfs=6144.000 MHz, fabric=384.000 MHz, 32-bit DDS, range=6144.000 MHz\n",
      "\t\tDAC tile 0, blk 3 is DAC228_T0_CH3 or RF board output 3\n",
      "\t4:\taxis_signal_gen_v6 - envelope memory 32768 samples (5.333 us)\n",
      "\t\tfs=6144.000 MHz, fabric=384.000 MHz, 32-bit DDS, range=6144.000 MHz\n",
      "\t\tDAC tile 1, blk 0 is DAC229_T1_CH0 or RF board output 4\n",
      "\t5:\taxis_signal_gen_v6 - envelope memory 32768 samples (5.333 us)\n",
      "\t\tfs=6144.000 MHz, fabric=384.000 MHz, 32-bit DDS, range=6144.000 MHz\n",
      "\t\tDAC tile 1, blk 1 is DAC229_T1_CH1 or RF board output 5\n",
      "\t6:\taxis_signal_gen_v6 - envelope memory 32768 samples (5.333 us)\n",
      "\t\tfs=6144.000 MHz, fabric=384.000 MHz, 32-bit DDS, range=6144.000 MHz\n",
      "\t\tDAC tile 1, blk 2 is DAC229_T1_CH2 or RF board output 6\n",
      "\t7:\taxis_signal_gen_v6 - envelope memory 32768 samples (5.333 us)\n",
      "\t\tfs=6144.000 MHz, fabric=384.000 MHz, 32-bit DDS, range=6144.000 MHz\n",
      "\t\tDAC tile 1, blk 3 is DAC229_T1_CH3 or RF board output 7\n",
      "\n",
      "\t4 readout channels:\n",
      "\t0:\taxis_dyn_readout_v1 - configured by tProc output 8\n",
      "\t\tfs=4096.000 MHz, decimated=512.000 MHz, 32-bit DDS, range=4096.000 MHz\n",
      "\t\taxis_avg_buffer v1.1 (has edge counter)\n",
      "\t\tmaxlen 16384 accumulated, 4096 decimated (8.000 us)\n",
      "\t\ttriggered by tport 10, pin 0, feedback to tProc input 0\n",
      "\t\tADC tile 0, blk 0 is ADC224_T0_CH0 or RF board AC input 0\n",
      "\t1:\taxis_dyn_readout_v1 - configured by tProc output 9\n",
      "\t\tfs=4096.000 MHz, decimated=512.000 MHz, 32-bit DDS, range=4096.000 MHz\n",
      "\t\taxis_avg_buffer v1.1 (has edge counter)\n",
      "\t\tmaxlen 16384 accumulated, 4096 decimated (8.000 us)\n",
      "\t\ttriggered by tport 11, pin 0, feedback to tProc input 1\n",
      "\t\tADC tile 0, blk 2 is ADC224_T0_CH1 or RF board AC input 1\n",
      "\t2:\taxis_dyn_readout_v1 - configured by tProc output 10\n",
      "\t\tfs=4096.000 MHz, decimated=512.000 MHz, 32-bit DDS, range=4096.000 MHz\n",
      "\t\taxis_avg_buffer v1.1 (has edge counter)\n",
      "\t\tmaxlen 16384 accumulated, 4096 decimated (8.000 us)\n",
      "\t\ttriggered by tport 12, pin 0, feedback to tProc input 2\n",
      "\t\tADC tile 2, blk 0 is ADC226_T2_CH0 or RF board DC input 0\n",
      "\t3:\taxis_dyn_readout_v1 - configured by tProc output 11\n",
      "\t\tfs=4096.000 MHz, decimated=512.000 MHz, 32-bit DDS, range=4096.000 MHz\n",
      "\t\taxis_avg_buffer v1.1 (has edge counter)\n",
      "\t\tmaxlen 16384 accumulated, 4096 decimated (8.000 us)\n",
      "\t\ttriggered by tport 13, pin 0, feedback to tProc input 3\n",
      "\t\tADC tile 2, blk 2 is ADC226_T2_CH1 or RF board DC input 1\n",
      "\n",
      "\t8 digital output pins:\n",
      "\t0:\tPMOD0_0_LS\n",
      "\t1:\tPMOD0_1_LS\n",
      "\t2:\tPMOD0_2_LS\n",
      "\t3:\tPMOD0_3_LS\n",
      "\t4:\tPMOD0_4_LS\n",
      "\t5:\tPMOD0_5_LS\n",
      "\t6:\tPMOD0_6_LS\n",
      "\t7:\tPMOD0_7_LS\n",
      "\n",
      "\ttProc qick_processor (\"v2\") rev 21: program memory 4096 words, data memory 16384 words\n",
      "\t\texternal start pin: None\n",
      "\n",
      "\tDDR4 memory buffer: 1073741824 samples (2.097 sec), 256 samples/transfer\n",
      "\t\twired to readouts [0, 1, 2, 3]\n",
      "\n",
      "\tMR buffer: 8192 samples (2.000 us), wired to readouts [0, 1, 2, 3]\n"
     ]
    }
   ],
   "source": [
    "from qick.rfboard import RFQickSocV2\n",
    "soc = RFQickSocV2('/home/xilinx/jupyter_notebooks/fw/2025-01-03_111_tprocv2r21_rfbv2/qick_111_rfbv2.bit')\n",
    "soccfg = soc\n",
    "\n",
    "print(soccfg)"
   ]
  },
  {
   "cell_type": "code",
   "execution_count": 4,
   "id": "c5765142",
   "metadata": {},
   "outputs": [],
   "source": [
    "F_LO = 122.88*64\n",
    "GEN_CH = 0\n",
    "RO_CH = 0\n",
    "RO_DC_CH = 2"
   ]
  },
  {
   "cell_type": "code",
   "execution_count": 5,
   "id": "1a654c33",
   "metadata": {},
   "outputs": [
    {
     "name": "stdout",
     "output_type": "stream",
     "text": [
      "  i |   f_vco  | DIV | MIN_N | DLY_SEL |   n  |   R  | R_pre |  f_pfd  |   f_out  | Delta f |   Metric   \n",
      "----|----------|-----|-------|---------|------|------|-------|---------|----------|---------|------------\n",
      "  0 |  7864.32 |   1 |    28 |       1 |   64 |    1 |     1 |  122.88 |  7864.32 |    0.00 | 6.4000e+01\n",
      "\n",
      "Choosing solution 0 with minimal metric 64.\n",
      "LO locked on attempt 1 after 0.01 sec\n",
      "  i |   f_vco  | DIV | MIN_N | DLY_SEL |   n  |   R  | R_pre |  f_pfd  |   f_out  | Delta f |   Metric   \n",
      "----|----------|-----|-------|---------|------|------|-------|---------|----------|---------|------------\n",
      "  0 |  7864.32 |   1 |    28 |       1 |   64 |    1 |     1 |  122.88 |  7864.32 |    0.00 | 6.4000e+01\n",
      "\n",
      "Choosing solution 0 with minimal metric 64.\n",
      "LO locked on attempt 1 after 0.01 sec\n",
      "  i |   f_vco  | DIV | MIN_N | DLY_SEL |   n  |   R  | R_pre |  f_pfd  |   f_out  | Delta f |   Metric   \n",
      "----|----------|-----|-------|---------|------|------|-------|---------|----------|---------|------------\n",
      "  0 |  7864.32 |   1 |    28 |       1 |   64 |    1 |     1 |  122.88 |  7864.32 |    0.00 | 6.4000e+01\n",
      "\n",
      "Choosing solution 0 with minimal metric 64.\n",
      "LO locked on attempt 1 after 0.00 sec\n",
      "set attenuators: (30.0, 31.75)\n",
      "set attenuators: 30.0\n"
     ]
    }
   ],
   "source": [
    "soc.rfb_set_lo(F_LO, verbose=True)\n",
    "# soc.rfb_set_lo(F_LO, ch=0, verbose=True) # ADCs\n",
    "# soc.rfb_set_lo(F_LO, ch=1, verbose=True) # DACs 0-3\n",
    "# soc.rfb_set_lo(F_LO, ch=2, verbose=True) # DACs 4-7\n",
    "\n",
    "# as long as you're not saturating at any point in the chain (check with gain sweep), better to attenuate later\n",
    "print(\"set attenuators:\", soc.rfb_set_gen_rf(gen_ch=GEN_CH, att1=30, att2=31.75))\n",
    "print(\"set attenuators:\", soc.rfb_set_ro_rf(ro_ch=RO_CH, att=30))"
   ]
  },
  {
   "cell_type": "code",
   "execution_count": 6,
   "id": "79e710bc",
   "metadata": {},
   "outputs": [
    {
     "data": {
      "application/vnd.jupyter.widget-view+json": {
       "model_id": "7abcc37e2aa04014b66217d32a58ff3f",
       "version_major": 2,
       "version_minor": 0
      },
      "text/plain": [
       "  0%|          | 0/1 [00:00<?, ?it/s]"
      ]
     },
     "metadata": {},
     "output_type": "display_data"
    },
    {
     "data": {
      "image/png": "[encoded data removed]",
      "text/plain": [
       "<Figure size 432x288 with 1 Axes>"
      ]
     },
     "metadata": {
      "needs_background": "light"
     },
     "output_type": "display_data"
    }
   ],
   "source": [
    "class LoopbackProgram(AveragerProgramV2):\n",
    "    def _initialize(self, cfg):\n",
    "        ro_ch = cfg['ro_ch']\n",
    "        gen_ch = cfg['gen_ch']\n",
    "        self.declare_gen(ch=gen_ch, nqz=cfg['nqz'])\n",
    "        self.declare_readout(ch=ro_ch, length=cfg['ro_len'])\n",
    "        self.add_readoutconfig(ch=ro_ch, name=\"myro\",\n",
    "                               freq=cfg['freq'],\n",
    "                               gen_ch=gen_ch,\n",
    "                               outsel='product')\n",
    "        self.add_cosine(ch=gen_ch, name=\"ramp\", length=cfg['ramp_len'], even_length=True)\n",
    "        self.add_pulse(ch=gen_ch, name=\"mypulse\", ro_ch=ro_ch,\n",
    "#                        style=\"const\",\n",
    "                       style=\"flat_top\", \n",
    "                       envelope=\"ramp\", \n",
    "                       freq=cfg['freq'],\n",
    "                       length=cfg['flat_len'],\n",
    "                       phase=cfg['phase'],\n",
    "                       gain=cfg['gain'],\n",
    "                      )\n",
    "        self.send_readoutconfig(ch=cfg['ro_ch'], name=\"myro\", t=0)\n",
    "    def _body(self, cfg):\n",
    "        self.delay_auto()\n",
    "        self.pulse(ch=cfg['gen_ch'], name=\"mypulse\", t=0.0)\n",
    "        self.trigger(ros=[cfg['ro_ch']], pins=[0], t=cfg['trig_time'], mr=True)\n",
    "\n",
    "config = {'gen_ch': GEN_CH,\n",
    "          'ro_ch': RO_CH,\n",
    "          'freq': 1000,\n",
    "          'nqz': 1,\n",
    "          'trig_time': 0.0,\n",
    "          'ro_len': 3.0,\n",
    "          'flat_len': 1.0,\n",
    "          'ramp_len': 1.0,\n",
    "          'phase': 0,\n",
    "          'gain': 1.0\n",
    "         }\n",
    "prog = LoopbackProgram(soccfg, reps=1, final_delay=0.5, cfg=config)\n",
    "# Set attenuator on DAC.\n",
    "soc.rfb_set_gen_rf(config['gen_ch'], 30, 30)\n",
    "# Set attenuator on ADC.\n",
    "soc.rfb_set_ro_rf(config['ro_ch'], 30)\n",
    "iq_list = prog.acquire_decimated(soc, soft_avgs=1)\n",
    "t = prog.get_time_axis(ro_index=0)\n",
    "iq = iq_list[0]\n",
    "plt.plot(t, iq[:,0], label=\"I value\")\n",
    "plt.plot(t, iq[:,1], label=\"Q value\")\n",
    "plt.legend()\n",
    "plt.ylabel(\"amplitude [ADU]\")\n",
    "plt.xlabel(\"time [us]\");"
   ]
  },
  {
   "cell_type": "code",
   "execution_count": 7,
   "id": "2b5df72e",
   "metadata": {},
   "outputs": [
    {
     "name": "stdout",
     "output_type": "stream",
     "text": [
      "set gain: 10\n"
     ]
    },
    {
     "data": {
      "application/vnd.jupyter.widget-view+json": {
       "model_id": "e5dd29b84d6e4177bc649ba48733b1dc",
       "version_major": 2,
       "version_minor": 0
      },
      "text/plain": [
       "  0%|          | 0/1 [00:00<?, ?it/s]"
      ]
     },
     "metadata": {},
     "output_type": "display_data"
    },
    {
     "name": "stdout",
     "output_type": "stream",
     "text": [
      "read gain: 10\n"
     ]
    },
    {
     "data": {
      "image/png": "[encoded data removed]",
      "text/plain": [
       "<Figure size 432x288 with 1 Axes>"
      ]
     },
     "metadata": {
      "needs_background": "light"
     },
     "output_type": "display_data"
    }
   ],
   "source": [
    "config = {'gen_ch': GEN_CH,\n",
    "          'ro_ch': RO_DC_CH,\n",
    "          'freq': 0,\n",
    "          'nqz': 1,\n",
    "          'trig_time': 0.0,\n",
    "          'ro_len': 7.5,\n",
    "          'flat_len': 1.0,\n",
    "          'ramp_len': 1.0,\n",
    "          'phase': 0,\n",
    "          'gain': 0.1\n",
    "         }\n",
    "prog = LoopbackProgram(soccfg, reps=1, final_delay=0.5, cfg=config)\n",
    "soc.rfb_set_gen_dc(config['gen_ch'])\n",
    "print(\"set gain:\", soc.rfb_set_ro_dc(config['ro_ch'], 10))\n",
    "iq_list = prog.acquire_decimated(soc, soft_avgs=1)\n",
    "t = prog.get_time_axis(ro_index=0)\n",
    "iq = iq_list[0]\n",
    "plt.plot(t, iq[:,0], label=\"I value\")\n",
    "plt.plot(t, iq[:,1], label=\"Q value\")\n",
    "plt.legend()\n",
    "plt.ylabel(\"amplitude [ADU]\")\n",
    "plt.xlabel(\"time [us]\");\n",
    "print(\"read gain:\", soc.adc_chains[4].get_gain())"
   ]
  },
  {
   "cell_type": "code",
   "execution_count": 8,
   "id": "ecd536aa",
   "metadata": {},
   "outputs": [
    {
     "name": "stdout",
     "output_type": "stream",
     "text": [
      "read bias: 3.8147118175402284e-05\n",
      "set bias: 1.0000267029827228\n",
      "read bias: 1.0000267029827228\n"
     ]
    }
   ],
   "source": [
    "print(\"read bias:\", soc.rfb_get_bias(0))\n",
    "print(\"set bias:\", soc.rfb_set_bias(0, 1))\n",
    "print(\"read bias:\", soc.rfb_get_bias(0))"
   ]
  }
 ],
 "metadata": {
  "kernelspec": {
   "display_name": "Python 3",
   "language": "python",
   "name": "python3"
  },
  "language_info": {
   "codemirror_mode": {
    "name": "ipython",
    "version": 3
   },
   "file_extension": ".py",
   "mimetype": "text/x-python",
   "name": "python",
   "nbconvert_exporter": "python",
   "pygments_lexer": "ipython3",
   "version": "3.8.2"
  }
 },
 "nbformat": 4,
 "nbformat_minor": 5
}
