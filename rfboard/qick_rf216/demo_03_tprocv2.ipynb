{
 "cells": [
  {
   "cell_type": "code",
   "execution_count": 1,
   "id": "be503286",
   "metadata": {},
   "outputs": [],
   "source": [
    "# jupyter setup boilerplate\n",
    "%matplotlib inline\n",
    "import matplotlib.pyplot as plt\n",
    "import numpy as np\n",
    "\n",
    "from tqdm.auto import tqdm\n",
    "\n",
    "from qick import *\n",
    "from qick.rfboard import RFQickSoc216V1\n",
    "\n",
    "# for now, all the tProc v2 classes need to be individually imported (can't use qick.*)\n",
    "\n",
    "# the main program class\n",
    "from qick.asm_v2 import AveragerProgramV2\n",
    "# for defining sweeps\n",
    "from qick.asm_v2 import QickSweep1D"
   ]
  },
  {
   "cell_type": "code",
   "execution_count": 2,
   "id": "0d52df3c",
   "metadata": {
    "scrolled": false
   },
   "outputs": [
    {
     "data": {
      "application/javascript": [
       "\n",
       "try {\n",
       "require(['notebook/js/codecell'], function(codecell) {\n",
       "  codecell.CodeCell.options_default.highlight_modes[\n",
       "      'magic_text/x-csrc'] = {'reg':[/^%%microblaze/]};\n",
       "  Jupyter.notebook.events.one('kernel_ready.Kernel', function(){\n",
       "      Jupyter.notebook.get_cells().map(function(cell){\n",
       "          if (cell.cell_type == 'code'){ cell.auto_highlight(); } }) ;\n",
       "  });\n",
       "});\n",
       "} catch (e) {};\n"
      ]
     },
     "metadata": {},
     "output_type": "display_data"
    },
    {
     "data": {
      "application/javascript": [
       "\n",
       "try {\n",
       "require(['notebook/js/codecell'], function(codecell) {\n",
       "  codecell.CodeCell.options_default.highlight_modes[\n",
       "      'magic_text/x-csrc'] = {'reg':[/^%%pybind11/]};\n",
       "  Jupyter.notebook.events.one('kernel_ready.Kernel', function(){\n",
       "      Jupyter.notebook.get_cells().map(function(cell){\n",
       "          if (cell.cell_type == 'code'){ cell.auto_highlight(); } }) ;\n",
       "  });\n",
       "});\n",
       "} catch (e) {};\n"
      ]
     },
     "metadata": {},
     "output_type": "display_data"
    },
    {
     "name": "stdout",
     "output_type": "stream",
     "text": [
      "QICK running on ZCU216, software version 0.2.289\n",
      "\n",
      "Firmware configuration (built Sat Sep 28 20:39:53 2024):\n",
      "\n",
      "\tGlobal clocks (MHz): tProcessor 430.080, RF reference 245.760\n",
      "\n",
      "\t16 signal generator channels:\n",
      "\t0:\taxis_signal_gen_v6 - envelope memory 65536 samples (6.838 us)\n",
      "\t\tfs=9584.640 MHz, fabric=599.040 MHz, 32-bit DDS, range=9584.640 MHz\n",
      "\t\tDAC tile 0, blk 0 is 0_228, on JHC1\n",
      "\t1:\taxis_signal_gen_v6 - envelope memory 16384 samples (1.709 us)\n",
      "\t\tfs=9584.640 MHz, fabric=599.040 MHz, 32-bit DDS, range=9584.640 MHz\n",
      "\t\tDAC tile 0, blk 1 is 1_228, on JHC2\n",
      "\t2:\taxis_signal_gen_v6 - envelope memory 32768 samples (3.419 us)\n",
      "\t\tfs=9584.640 MHz, fabric=599.040 MHz, 32-bit DDS, range=9584.640 MHz\n",
      "\t\tDAC tile 0, blk 2 is 2_228, on JHC1\n",
      "\t3:\taxis_signal_gen_v6 - envelope memory 16384 samples (1.709 us)\n",
      "\t\tfs=9584.640 MHz, fabric=599.040 MHz, 32-bit DDS, range=9584.640 MHz\n",
      "\t\tDAC tile 0, blk 3 is 3_228, on JHC2\n",
      "\t4:\taxis_sg_mixmux8_v1 - envelope memory 0 samples (0.000 us)\n",
      "\t\tfs=6881.280 MHz, fabric=430.080 MHz, 32-bit DDS, range=1720.320 MHz\n",
      "\t\tDAC tile 1, blk 0 is 0_229, on JHC1\n",
      "\t5:\taxis_sg_int4_v2 - envelope memory 16384 samples (38.095 us)\n",
      "\t\tfs=6881.280 MHz, fabric=430.080 MHz, 32-bit DDS, range=1720.320 MHz\n",
      "\t\tDAC tile 1, blk 1 is 1_229, on JHC2\n",
      "\t6:\taxis_sg_int4_v2 - envelope memory 8192 samples (19.048 us)\n",
      "\t\tfs=6881.280 MHz, fabric=430.080 MHz, 32-bit DDS, range=1720.320 MHz\n",
      "\t\tDAC tile 1, blk 2 is 2_229, on JHC1\n",
      "\t7:\taxis_sg_int4_v2 - envelope memory 16384 samples (38.095 us)\n",
      "\t\tfs=6881.280 MHz, fabric=430.080 MHz, 32-bit DDS, range=1720.320 MHz\n",
      "\t\tDAC tile 1, blk 3 is 3_229, on JHC2\n",
      "\t8:\taxis_sg_int4_v2 - envelope memory 8192 samples (19.048 us)\n",
      "\t\tfs=6881.280 MHz, fabric=430.080 MHz, 32-bit DDS, range=1720.320 MHz\n",
      "\t\tDAC tile 2, blk 0 is 0_230, on JHC3\n",
      "\t9:\taxis_sg_int4_v2 - envelope memory 8192 samples (19.048 us)\n",
      "\t\tfs=6881.280 MHz, fabric=430.080 MHz, 32-bit DDS, range=1720.320 MHz\n",
      "\t\tDAC tile 2, blk 1 is 1_230, on JHC4\n",
      "\t10:\taxis_sg_int4_v2 - envelope memory 8192 samples (19.048 us)\n",
      "\t\tfs=6881.280 MHz, fabric=430.080 MHz, 32-bit DDS, range=1720.320 MHz\n",
      "\t\tDAC tile 2, blk 2 is 2_230, on JHC3\n",
      "\t11:\taxis_sg_int4_v2 - envelope memory 8192 samples (19.048 us)\n",
      "\t\tfs=6881.280 MHz, fabric=430.080 MHz, 32-bit DDS, range=1720.320 MHz\n",
      "\t\tDAC tile 2, blk 3 is 3_230, on JHC4\n",
      "\t12:\taxis_sg_int4_v2 - envelope memory 8192 samples (19.048 us)\n",
      "\t\tfs=6881.280 MHz, fabric=430.080 MHz, 32-bit DDS, range=1720.320 MHz\n",
      "\t\tDAC tile 3, blk 0 is 0_231, on JHC3\n",
      "\t13:\taxis_sg_int4_v2 - envelope memory 8192 samples (19.048 us)\n",
      "\t\tfs=6881.280 MHz, fabric=430.080 MHz, 32-bit DDS, range=1720.320 MHz\n",
      "\t\tDAC tile 3, blk 1 is 1_231, on JHC4\n",
      "\t14:\taxis_sg_int4_v2 - envelope memory 8192 samples (19.048 us)\n",
      "\t\tfs=6881.280 MHz, fabric=430.080 MHz, 32-bit DDS, range=1720.320 MHz\n",
      "\t\tDAC tile 3, blk 2 is 2_231, on JHC3\n",
      "\t15:\taxis_sg_int4_v2 - envelope memory 8192 samples (19.048 us)\n",
      "\t\tfs=6881.280 MHz, fabric=430.080 MHz, 32-bit DDS, range=1720.320 MHz\n",
      "\t\tDAC tile 3, blk 3 is 3_231, on JHC4\n",
      "\n",
      "\t10 readout channels:\n",
      "\t0:\taxis_dyn_readout_v1 - configured by tProc output 4\n",
      "\t\tfs=2457.600 MHz, decimated=307.200 MHz, 32-bit DDS, range=2457.600 MHz\n",
      "\t\tmaxlen 8192 accumulated, 4096 decimated (13.333 us)\n",
      "\t\ttriggered by tport 10, pin 0, feedback to tProc input 0\n",
      "\t\tADC tile 2, blk 0 is 0_226, on JHC7\n",
      "\t1:\taxis_dyn_readout_v1 - configured by tProc output 4\n",
      "\t\tfs=2457.600 MHz, decimated=307.200 MHz, 32-bit DDS, range=2457.600 MHz\n",
      "\t\tmaxlen 8192 accumulated, 4096 decimated (13.333 us)\n",
      "\t\ttriggered by tport 11, pin 0, feedback to tProc input 1\n",
      "\t\tADC tile 2, blk 2 is 2_226, on JHC7\n",
      "\t2:\taxis_pfb_readout_v4 - configured by PYNQ\n",
      "\t\tfs=2457.600 MHz, decimated=38.400 MHz, 32-bit DDS, range=38.400 MHz\n",
      "\t\tmaxlen 8192 accumulated, 1024 decimated (26.667 us)\n",
      "\t\ttriggered by tport 12, pin 0, feedback to tProc input 2\n",
      "\t\tADC tile 2, blk 1 is 1_226, on JHC8\n",
      "\t3:\taxis_pfb_readout_v4 - configured by PYNQ\n",
      "\t\tfs=2457.600 MHz, decimated=38.400 MHz, 32-bit DDS, range=38.400 MHz\n",
      "\t\tmaxlen 8192 accumulated, 1024 decimated (26.667 us)\n",
      "\t\ttriggered by tport 13, pin 0, feedback to tProc input 3\n",
      "\t\tADC tile 2, blk 1 is 1_226, on JHC8\n",
      "\t4:\taxis_pfb_readout_v4 - configured by PYNQ\n",
      "\t\tfs=2457.600 MHz, decimated=38.400 MHz, 32-bit DDS, range=38.400 MHz\n",
      "\t\tmaxlen 8192 accumulated, 1024 decimated (26.667 us)\n",
      "\t\ttriggered by tport 14, pin 0, feedback to tProc input 4\n",
      "\t\tADC tile 2, blk 1 is 1_226, on JHC8\n",
      "\t5:\taxis_pfb_readout_v4 - configured by PYNQ\n",
      "\t\tfs=2457.600 MHz, decimated=38.400 MHz, 32-bit DDS, range=38.400 MHz\n",
      "\t\tmaxlen 8192 accumulated, 1024 decimated (26.667 us)\n",
      "\t\ttriggered by tport 15, pin 0, feedback to tProc input 5\n",
      "\t\tADC tile 2, blk 1 is 1_226, on JHC8\n",
      "\t6:\taxis_pfb_readout_v4 - configured by PYNQ\n",
      "\t\tfs=2457.600 MHz, decimated=38.400 MHz, 32-bit DDS, range=38.400 MHz\n",
      "\t\tmaxlen 8192 accumulated, 1024 decimated (26.667 us)\n",
      "\t\ttriggered by tport 16, pin 0, feedback to tProc input 6\n",
      "\t\tADC tile 2, blk 1 is 1_226, on JHC8\n",
      "\t7:\taxis_pfb_readout_v4 - configured by PYNQ\n",
      "\t\tfs=2457.600 MHz, decimated=38.400 MHz, 32-bit DDS, range=38.400 MHz\n",
      "\t\tmaxlen 8192 accumulated, 1024 decimated (26.667 us)\n",
      "\t\ttriggered by tport 17, pin 0, feedback to tProc input 7\n",
      "\t\tADC tile 2, blk 1 is 1_226, on JHC8\n",
      "\t8:\taxis_pfb_readout_v4 - configured by PYNQ\n",
      "\t\tfs=2457.600 MHz, decimated=38.400 MHz, 32-bit DDS, range=38.400 MHz\n",
      "\t\tmaxlen 8192 accumulated, 1024 decimated (26.667 us)\n",
      "\t\ttriggered by tport 6, pin 0, feedback to tProc input -1\n",
      "\t\tADC tile 2, blk 1 is 1_226, on JHC8\n",
      "\t9:\taxis_pfb_readout_v4 - configured by PYNQ\n",
      "\t\tfs=2457.600 MHz, decimated=38.400 MHz, 32-bit DDS, range=38.400 MHz\n",
      "\t\tmaxlen 8192 accumulated, 1024 decimated (26.667 us)\n",
      "\t\ttriggered by tport 7, pin 0, feedback to tProc input -1\n",
      "\t\tADC tile 2, blk 1 is 1_226, on JHC8\n",
      "\n",
      "\t6 digital output pins:\n",
      "\t0:\tSPARE0_1V8\n",
      "\t1:\tSPARE1_1V8\n",
      "\t2:\tSPARE2_1V8\n",
      "\t3:\tSPARE3_1V8\n",
      "\t4:\tSPARE4_1V8\n",
      "\t5:\tSPARE5_1V8\n",
      "\n",
      "\ttProc qick_processor (\"v2\") rev 21: program memory 4096 words, data memory 16384 words\n",
      "\t\texternal start pin: None\n",
      "\n",
      "\tDDR4 memory buffer: 1073741824 samples (3.495 sec), 128 samples/transfer\n",
      "\t\twired to readouts [0, 1, 2, 3, 4, 5, 6, 7, 8, 9]\n",
      "\n",
      "\tMR buffer: 8192 samples (3.333 us), wired to readouts [0, 1]\n"
     ]
    }
   ],
   "source": [
    "# Load bitstream with custom overlay\n",
    "# soc = RFQickSoc216V1('/home/xilinx/jupyter_notebooks/fw/2024-08-23_216_tprocv2r20_rfb-spifix/qick_216_rfb.bit', clk_output=None)\n",
    "# soc = RFQickSoc216V1('/home/xilinx/jupyter_notebooks/fw/2024-09-05_216_tprocv2r21_rfb/qick_216_rfb.bit', clk_output=None)\n",
    "# soc = RFQickSoc216V1('/home/xilinx/jupyter_notebooks/fw/2024-09-07_216_tprocv2r21_rfb-7864/qick_216_rfb.bit', clk_output=None)\n",
    "# soc = RFQickSoc216V1('/home/xilinx/jupyter_notebooks/fw/2024-09-26_216_tprocv2r21_rfb-7864/qick_216_rfb.bit', clk_output=None)\n",
    "# soc = RFQickSoc216V1('/home/xilinx/jupyter_notebooks/fw/2024-09-26_216_tprocv2r21_rfb_standard/qick_216_rfb.bit', clk_output=None)\n",
    "soc = RFQickSoc216V1('/home/xilinx/jupyter_notebooks/fw/2024-09-28_216_tprocv2r21_rfb_standard/qick_216_rfb.bit', clk_output=None)\n",
    "\n",
    "\n",
    "soccfg = soc\n",
    "\n",
    "print(soccfg)"
   ]
  },
  {
   "cell_type": "code",
   "execution_count": 3,
   "id": "d493e7fe",
   "metadata": {},
   "outputs": [],
   "source": [
    "# soc.rfb_set_gen_dc(0)"
   ]
  },
  {
   "cell_type": "code",
   "execution_count": 4,
   "id": "e7162dd2",
   "metadata": {},
   "outputs": [],
   "source": [
    "GEN_CH=15\n",
    "RO_CH=0"
   ]
  },
  {
   "cell_type": "code",
   "execution_count": 5,
   "id": "00398ad8",
   "metadata": {},
   "outputs": [
    {
     "data": {
      "application/vnd.jupyter.widget-view+json": {
       "model_id": "a3d91c26032b43c2ba9412ec5aa0c672",
       "version_major": 2,
       "version_minor": 0
      },
      "text/plain": [
       "  0%|          | 0/1 [00:00<?, ?it/s]"
      ]
     },
     "metadata": {},
     "output_type": "display_data"
    },
    {
     "data": {
      "image/png": "[encoded data removed]",
      "text/plain": [
       "<Figure size 432x288 with 1 Axes>"
      ]
     },
     "metadata": {
      "needs_background": "light"
     },
     "output_type": "display_data"
    }
   ],
   "source": [
    "class LoopbackProgram(AveragerProgramV2):\n",
    "    def _initialize(self, cfg):\n",
    "        ro_ch = cfg['ro_ch']\n",
    "        gen_ch = cfg['gen_ch']\n",
    "        self.declare_gen(ch=gen_ch, nqz=cfg['nqz'], mixer_freq=cfg['mixer_freq'], ro_ch=ro_ch)\n",
    "        self.declare_readout(ch=ro_ch, length=cfg['ro_len'])\n",
    "        self.add_readoutconfig(ch=ro_ch, name=\"myro\",\n",
    "                               freq=cfg['freq'],\n",
    "                               gen_ch=gen_ch,\n",
    "                               outsel='product')\n",
    "        self.add_cosine(ch=gen_ch, name=\"ramp\", length=cfg['ramp_len'], even_length=True)\n",
    "        self.add_pulse(ch=gen_ch, name=\"mypulse\", ro_ch=ro_ch,\n",
    "                       style=\"const\",\n",
    "#                        style=\"flat_top\", \n",
    "#                        envelope=\"ramp\", \n",
    "                       freq=cfg['freq'],\n",
    "                       length=cfg['flat_len'],\n",
    "                       phase=cfg['phase'],\n",
    "                       gain=cfg['gain'],\n",
    "                      )\n",
    "        self.send_readoutconfig(ch=cfg['ro_ch'], name=\"myro\", t=0)\n",
    "    def _body(self, cfg):\n",
    "        self.delay_auto()\n",
    "        self.pulse(ch=cfg['gen_ch'], name=\"mypulse\", t=0.0)\n",
    "        self.trigger(ros=[cfg['ro_ch']], pins=[0], t=cfg['trig_time'], mr=True)\n",
    "\n",
    "config = {'gen_ch': GEN_CH,\n",
    "          'ro_ch': RO_CH,\n",
    "          'mixer_freq': 3500,\n",
    "          'freq': 4000,\n",
    "          'nqz': 2,\n",
    "          'trig_time': 0.0,\n",
    "          'ro_len': 3.0,\n",
    "          'flat_len': 1.0,\n",
    "          'ramp_len': 1.0,\n",
    "          'phase': 0,\n",
    "          'gain': 1.0\n",
    "         }\n",
    "prog = LoopbackProgram(soccfg, reps=1, final_delay=0.5, cfg=config)\n",
    "freq = config['freq']\n",
    "soc.rfb_set_gen_filter(config['gen_ch'], fc=freq/1000, ftype='bandpass', bw=1.0)\n",
    "soc.rfb_set_ro_filter(config['ro_ch'], fc=freq/1000, ftype='bandpass', bw=1.0)\n",
    "# Set attenuator on DAC.\n",
    "soc.rfb_set_gen_rf(config['gen_ch'], 20, 30)\n",
    "# Set attenuator on ADC.\n",
    "soc.rfb_set_ro_rf(config['ro_ch'], 30)\n",
    "iq_list = prog.acquire_decimated(soc, soft_avgs=1)\n",
    "t = prog.get_time_axis(ro_index=0)\n",
    "iq = iq_list[0]\n",
    "plt.plot(t, iq[:,0], label=\"I value\")\n",
    "plt.plot(t, iq[:,1], label=\"Q value\")\n",
    "plt.legend()\n",
    "plt.ylabel(\"amplitude [ADU]\")\n",
    "plt.xlabel(\"time [us]\");"
   ]
  },
  {
   "cell_type": "code",
   "execution_count": 6,
   "id": "76b98cea",
   "metadata": {},
   "outputs": [
    {
     "data": {
      "application/vnd.jupyter.widget-view+json": {
       "model_id": "e182f9e7c1b246119ee1007636a38463",
       "version_major": 2,
       "version_minor": 0
      },
      "text/plain": [
       "  0%|          | 0/1 [00:00<?, ?it/s]"
      ]
     },
     "metadata": {},
     "output_type": "display_data"
    },
    {
     "data": {
      "image/png": "[encoded data removed]",
      "text/plain": [
       "<Figure size 432x288 with 1 Axes>"
      ]
     },
     "metadata": {
      "needs_background": "light"
     },
     "output_type": "display_data"
    }
   ],
   "source": [
    "soc.arm_mr(ch=config['ro_ch'])\n",
    "iq_list = prog.acquire_decimated(soc, soft_avgs=1)\n",
    "# look at the MR buffer just to see it works\n",
    "iq_mr = soc.get_mr()[450:550]\n",
    "t = prog.get_time_axis_mr(config['ro_ch'], iq_mr)\n",
    "plt.plot(t, iq_mr[:,0],label=\"I\")\n",
    "plt.plot(t, iq_mr[:,1],label=\"Q\")\n",
    "plt.xlabel(\"us\")\n",
    "plt.legend();"
   ]
  },
  {
   "cell_type": "code",
   "execution_count": null,
   "id": "6ce45668",
   "metadata": {},
   "outputs": [],
   "source": []
  },
  {
   "cell_type": "code",
   "execution_count": null,
   "id": "fd4794eb",
   "metadata": {},
   "outputs": [],
   "source": []
  },
  {
   "cell_type": "code",
   "execution_count": 7,
   "id": "a8de3700",
   "metadata": {},
   "outputs": [
    {
     "data": {
      "application/vnd.jupyter.widget-view+json": {
       "model_id": "7906ab84afe745d28d06ec4550c737dd",
       "version_major": 2,
       "version_minor": 0
      },
      "text/plain": [
       "  0%|          | 0/1 [00:00<?, ?it/s]"
      ]
     },
     "metadata": {},
     "output_type": "display_data"
    },
    {
     "data": {
      "image/png": "[encoded data removed]",
      "text/plain": [
       "<Figure size 432x288 with 1 Axes>"
      ]
     },
     "metadata": {
      "needs_background": "light"
     },
     "output_type": "display_data"
    }
   ],
   "source": [
    "class FreqSweepProgram(AveragerProgramV2):\n",
    "    def _initialize(self, cfg):\n",
    "        ro_ch = cfg['ro_ch']\n",
    "        gen_ch = cfg['gen_ch']\n",
    "        \n",
    "        self.declare_gen(ch=gen_ch, nqz=cfg['nqz'], mixer_freq=cfg['mixer_freq'], ro_ch=ro_ch)\n",
    "        self.declare_readout(ch=ro_ch, length=cfg['ro_len'])\n",
    "\n",
    "        self.add_loop(\"myloop\", self.cfg[\"steps\"])\n",
    "        self.add_readoutconfig(ch=ro_ch, name=\"myro\", freq=cfg['freq'], gen_ch=gen_ch)\n",
    "\n",
    "        self.add_pulse(ch=gen_ch, name=\"mypulse\", ro_ch=ro_ch, \n",
    "                       style=\"const\", \n",
    "                       freq=cfg['freq'], \n",
    "                       length=cfg['pulse_len'],\n",
    "                       phase=cfg['phase'],\n",
    "                       gain=cfg['gain'], \n",
    "                      )\n",
    "        \n",
    "    def _body(self, cfg):\n",
    "        # if you delay the config by too long, you can see the readout get reconfigured in the middle of your pulse\n",
    "        self.send_readoutconfig(ch=cfg['ro_ch'], name=\"myro\", t=0)\n",
    "        self.pulse(ch=cfg['gen_ch'], name=\"mypulse\", t=0)\n",
    "        self.trigger(ros=[cfg['ro_ch']], pins=[0], t=cfg['trig_time'])\n",
    "\n",
    "# do a sweep with 5 points and plot decimated\n",
    "config = {'steps': 5,\n",
    "          'gen_ch': GEN_CH,\n",
    "          'ro_ch': RO_CH,\n",
    "          'freq': QickSweep1D(\"myloop\", 4500, 5500),\n",
    "          'mixer_freq': 5000,\n",
    "          'nqz': 2,\n",
    "          'trig_time': 0.4,\n",
    "          'ro_len': 0.3,\n",
    "          'pulse_len': 0.2,\n",
    "          'phase': 0,\n",
    "          'gain': 1.0\n",
    "         }\n",
    "\n",
    "soc.rfb_set_gen_rf(config['gen_ch'], 10, 30)\n",
    "soc.rfb_set_ro_rf(config['ro_ch'], 30)\n",
    "freq = config['mixer_freq']\n",
    "soc.rfb_set_gen_filter(config['gen_ch'], fc=freq/1000, ftype='bandpass', bw=1.0)\n",
    "soc.rfb_set_ro_filter(config['ro_ch'], fc=freq/1000, ftype='bandpass', bw=1.0)\n",
    "\n",
    "prog = FreqSweepProgram(soccfg, reps=1, final_delay=0.5, cfg=config)\n",
    "\n",
    "iq_list = prog.acquire_decimated(soc, soft_avgs=1)\n",
    "t = prog.get_time_axis(ro_index=0)\n",
    "\n",
    "for ii, iq in enumerate(iq_list[0]):\n",
    "#     plt.plot(t, iq[:,0], label=\"I value, step %d\"%(ii))\n",
    "#     plt.plot(t, iq[:,1], label=\"Q value, step %d\"%(ii))\n",
    "    plt.plot(t, np.abs(iq.dot([1,1j])), label=\"mag, step %d\"%(ii))\n",
    "plt.legend()\n",
    "plt.ylabel(\"amplitude [ADU]\")\n",
    "plt.xlabel(\"time [us]\");"
   ]
  },
  {
   "cell_type": "code",
   "execution_count": 8,
   "id": "5398ec78",
   "metadata": {},
   "outputs": [],
   "source": [
    "# for chain in soc.adc_chains:\n",
    "#     chain.set_filter(fc=0, ftype='bypass')\n",
    "# for chain in soc.dac_chains:\n",
    "#     chain.set_filter(fc=0, ftype='bypass')"
   ]
  },
  {
   "cell_type": "code",
   "execution_count": 9,
   "id": "455133ae",
   "metadata": {},
   "outputs": [],
   "source": [
    "# for i, chain in enumerate(soc.adc_chains):\n",
    "#     print(\"ADC\", i, chain.read_filter(reg='CHIPTYPE',debug=False))\n",
    "# for i, chain in enumerate(soc.dac_chains):\n",
    "#     print(\"DAC\", i, chain.read_filter(reg='CHIPTYPE',debug=False))"
   ]
  },
  {
   "cell_type": "code",
   "execution_count": 10,
   "id": "37805678",
   "metadata": {},
   "outputs": [],
   "source": [
    "def measure_s21(gen_ch, ro_ch, nqz, gain, steps=101, dds_range=0.45, overlap=0, plot=False, progress=True):\n",
    "    config = {'steps': steps,\n",
    "              'gen_ch': gen_ch,\n",
    "              'ro_ch': ro_ch,\n",
    "              'nqz': nqz,\n",
    "              'trig_time': 0.4,\n",
    "              'pulse_len': 10.0,\n",
    "              'ro_len': 10.1,\n",
    "              'phase': 0,\n",
    "              'gain': gain\n",
    "             }\n",
    "    allfreqs = []\n",
    "    allpowers = []\n",
    "    f_dds = soccfg['gens'][gen_ch]['f_dds']\n",
    "    mixer_freqs = np.arange(0.5, 10000/f_dds, dds_range*2-overlap)*f_dds    \n",
    "    for i, mixer_freq in enumerate(tqdm(mixer_freqs, disable=not progress)):\n",
    "        config['mixer_freq'] = mixer_freq\n",
    "        config['freq'] = QickSweep1D(\"myloop\", mixer_freq-dds_range*f_dds, mixer_freq+dds_range*f_dds)\n",
    "\n",
    "        prog = FreqSweepProgram(soccfg, reps=10, final_delay=1.0, cfg=config)\n",
    "        freqs = prog.get_pulse_param('myro', 'freq', as_array=True)\n",
    "        iq_list = prog.acquire(soc, soft_avgs=1, progress=False)\n",
    "\n",
    "        iq_complex = iq_list[0][0].dot([1,1j])\n",
    "        mags = np.abs(iq_complex)\n",
    "        powers = 20*np.log10(mags)\n",
    "        allfreqs.append(freqs)\n",
    "        allpowers.append(powers)\n",
    "        if plot:\n",
    "            plt.plot(freqs, powers, label=\"mixer_freq=%f\"%(mixer_freq))\n",
    "        #     plt.plot(freqs, mags, label=\"RO filter BW %.2f GHz\"%(ro_bw))\n",
    "            plt.ylabel(\"S21 [arb. dB]\")\n",
    "            plt.xlabel(\"Frequency [MHz]\")\n",
    "    allfreqs = np.array(allfreqs).flatten()\n",
    "    allpowers = np.array(allpowers).flatten()\n",
    "    return allfreqs, allpowers\n"
   ]
  },
  {
   "cell_type": "code",
   "execution_count": 11,
   "id": "307c5e98",
   "metadata": {},
   "outputs": [
    {
     "data": {
      "application/vnd.jupyter.widget-view+json": {
       "model_id": "5df1aa57fe8f49ad96a4c5f7373f0a8b",
       "version_major": 2,
       "version_minor": 0
      },
      "text/plain": [
       "  0%|          | 0/7 [00:00<?, ?it/s]"
      ]
     },
     "metadata": {},
     "output_type": "display_data"
    },
    {
     "data": {
      "image/png": "[encoded data removed]",
      "text/plain": [
       "<Figure size 432x288 with 1 Axes>"
      ]
     },
     "metadata": {
      "needs_background": "light"
     },
     "output_type": "display_data"
    }
   ],
   "source": [
    "soc.rfb_set_gen_rf(GEN_CH, 30, 30)\n",
    "soc.rfb_set_ro_rf(RO_CH, 30)\n",
    "measure_s21(15,0,2,1.0,steps=501,dds_range=0.45,overlap=0.1,plot=True);"
   ]
  },
  {
   "cell_type": "code",
   "execution_count": 12,
   "id": "4a881b0d",
   "metadata": {},
   "outputs": [
    {
     "data": {
      "application/vnd.jupyter.widget-view+json": {
       "model_id": "67d11a0cac73423c9dcdbd8acf31ed43",
       "version_major": 2,
       "version_minor": 0
      },
      "text/plain": [
       "  0%|          | 0/6 [00:00<?, ?it/s]"
      ]
     },
     "metadata": {},
     "output_type": "display_data"
    },
    {
     "data": {
      "application/vnd.jupyter.widget-view+json": {
       "model_id": "2c1087ac29b440fba7d4ec74631f4e6a",
       "version_major": 2,
       "version_minor": 0
      },
      "text/plain": [
       "  0%|          | 0/6 [00:00<?, ?it/s]"
      ]
     },
     "metadata": {},
     "output_type": "display_data"
    },
    {
     "data": {
      "image/png": "[encoded data removed]",
      "text/plain": [
       "<Figure size 432x288 with 1 Axes>"
      ]
     },
     "metadata": {
      "needs_background": "light"
     },
     "output_type": "display_data"
    }
   ],
   "source": [
    "soc.rfb_set_gen_rf(GEN_CH, 30, 30)\n",
    "soc.rfb_set_ro_rf(RO_CH, 30)\n",
    "soc.rfb_set_gen_filter(GEN_CH, fc=0, ftype='bypass')\n",
    "soc.rfb_set_ro_filter(RO_CH, fc=0, ftype='bypass')\n",
    "\n",
    "plt.plot(*measure_s21(GEN_CH,RO_CH,1,1.0), label=\"nqz=1\")\n",
    "plt.plot(*measure_s21(GEN_CH,RO_CH,2,1.0), label=\"nqz=2\")\n",
    "plt.ylabel(\"S21 [arb. dB]\")\n",
    "plt.xlabel(\"Frequency [MHz]\")\n",
    "plt.ylim(bottom=0)\n",
    "plt.title(\"bypass mode\")\n",
    "plt.legend();"
   ]
  },
  {
   "cell_type": "code",
   "execution_count": 13,
   "id": "bc99da2d",
   "metadata": {},
   "outputs": [],
   "source": [
    "# just to be sure we're doing things right, set registers directly\n",
    "def set_filter(gen_ch, ro_ch, lpf, hpf, filt=0):\n",
    "    sw = 0xc0 + (hpf<<3) + lpf\n",
    "    filt_bits = (filt<<4) + filt\n",
    "    rfb_ch = soc.gens[gen_ch].rfb\n",
    "    rfb_ch.brd_sel.enable(rfb_ch.rfboard_ch)\n",
    "    rfb_ch.filter.reg_wr('WR0_SW', sw)\n",
    "    rfb_ch.filter.reg_wr('WR0_FILTER', filt_bits)\n",
    "    rfb_ch.brd_sel.disable()\n",
    "\n",
    "    rfb_ch = soc.avg_bufs[ro_ch].rfb\n",
    "    rfb_ch.brd_sel.enable(rfb_ch.rfboard_ch)\n",
    "    rfb_ch.filter.reg_wr('WR0_SW', sw)\n",
    "    rfb_ch.filter.reg_wr('WR0_FILTER', filt_bits)\n",
    "    rfb_ch.brd_sel.disable()\n"
   ]
  },
  {
   "cell_type": "code",
   "execution_count": 14,
   "id": "3fedea20",
   "metadata": {},
   "outputs": [
    {
     "data": {
      "application/vnd.jupyter.widget-view+json": {
       "model_id": "a55ab6198b7f414f91002a9d358c06cf",
       "version_major": 2,
       "version_minor": 0
      },
      "text/plain": [
       "  0%|          | 0/5 [00:00<?, ?it/s]"
      ]
     },
     "metadata": {},
     "output_type": "display_data"
    },
    {
     "data": {
      "image/png": "[encoded data removed]",
      "text/plain": [
       "<Figure size 432x288 with 1 Axes>"
      ]
     },
     "metadata": {
      "needs_background": "light"
     },
     "output_type": "display_data"
    }
   ],
   "source": [
    "soc.rfb_set_gen_rf(GEN_CH, 30, 30)\n",
    "soc.rfb_set_ro_rf(RO_CH, 30)\n",
    "soc.rfb_set_gen_filter(GEN_CH, fc=0, ftype='bypass')\n",
    "soc.rfb_set_ro_filter(RO_CH, fc=0, ftype='bypass')\n",
    "\n",
    "for lpf in tqdm(range(0,5)):\n",
    "    set_filter(GEN_CH, RO_CH, lpf, 0, 0)\n",
    "\n",
    "    plt.plot(*measure_s21(GEN_CH,RO_CH,2,1.0, progress=False), label=\"lpf=%d\"%(lpf))\n",
    "plt.ylabel(\"S21 [arb. dB]\")\n",
    "plt.xlabel(\"Frequency [MHz]\")\n",
    "plt.ylim(bottom=0)\n",
    "plt.title(\"LPF bands, state=0\")\n",
    "plt.legend();"
   ]
  },
  {
   "cell_type": "code",
   "execution_count": 15,
   "id": "60d4fb35",
   "metadata": {},
   "outputs": [
    {
     "data": {
      "application/vnd.jupyter.widget-view+json": {
       "model_id": "bda86d8516174a839665713959768b25",
       "version_major": 2,
       "version_minor": 0
      },
      "text/plain": [
       "  0%|          | 0/5 [00:00<?, ?it/s]"
      ]
     },
     "metadata": {},
     "output_type": "display_data"
    },
    {
     "data": {
      "image/png": "[encoded data removed]",
      "text/plain": [
       "<Figure size 432x288 with 1 Axes>"
      ]
     },
     "metadata": {
      "needs_background": "light"
     },
     "output_type": "display_data"
    }
   ],
   "source": [
    "soc.rfb_set_gen_rf(GEN_CH, 30, 30)\n",
    "soc.rfb_set_ro_rf(RO_CH, 30)\n",
    "soc.rfb_set_gen_filter(GEN_CH, fc=0, ftype='bypass')\n",
    "soc.rfb_set_ro_filter(RO_CH, fc=0, ftype='bypass')\n",
    "\n",
    "for hpf in tqdm(range(0,5)):\n",
    "    set_filter(GEN_CH, RO_CH, 0, hpf, 0)\n",
    "\n",
    "    plt.plot(*measure_s21(GEN_CH,RO_CH,2,1.0, progress=False), label=\"hpf=%d\"%(hpf))\n",
    "plt.ylabel(\"S21 [arb. dB]\")\n",
    "plt.xlabel(\"Frequency [MHz]\")\n",
    "plt.ylim(bottom=0)\n",
    "plt.title(\"HPF bands, state=0\")\n",
    "plt.legend();"
   ]
  },
  {
   "cell_type": "code",
   "execution_count": 23,
   "id": "6383ebd4",
   "metadata": {},
   "outputs": [
    {
     "data": {
      "application/vnd.jupyter.widget-view+json": {
       "model_id": "c533b8780e0c4aa09173ed381bb429bb",
       "version_major": 2,
       "version_minor": 0
      },
      "text/plain": [
       "  0%|          | 0/5 [00:00<?, ?it/s]"
      ]
     },
     "metadata": {},
     "output_type": "display_data"
    },
    {
     "data": {
      "image/png": "[encoded data removed]",
      "text/plain": [
       "<Figure size 432x288 with 1 Axes>"
      ]
     },
     "metadata": {
      "needs_background": "light"
     },
     "output_type": "display_data"
    }
   ],
   "source": [
    "soc.rfb_set_gen_rf(config['gen_ch'], 10, 30)\n",
    "soc.rfb_set_ro_rf(config['ro_ch'], 20)\n",
    "freq = 6000\n",
    "for bw in tqdm([1500, 1000, 500, 200, 100]):\n",
    "\n",
    "    soc.rfb_set_ro_filter(config['ro_ch'], fc=freq/1000, ftype='bandpass', bw=bw/1000)\n",
    "    soc.rfb_set_gen_filter(config['gen_ch'], fc=freq/1000, ftype='bandpass', bw=bw/1000)\n",
    "\n",
    "\n",
    "    plt.plot(*measure_s21(GEN_CH,RO_CH,2,1.0, progress=False), label=\"bw=%.2f\"%(bw))\n",
    "plt.ylabel(\"S21 [arb. dB]\")\n",
    "plt.xlabel(\"Frequency [MHz]\")\n",
    "plt.ylim(bottom=0)\n",
    "plt.title(\"filter center = %.2f MHz\"%(freq));\n",
    "plt.legend();\n"
   ]
  },
  {
   "cell_type": "code",
   "execution_count": null,
   "id": "64f6d2ad",
   "metadata": {},
   "outputs": [],
   "source": []
  },
  {
   "cell_type": "code",
   "execution_count": null,
   "id": "3f40fc7b",
   "metadata": {},
   "outputs": [],
   "source": []
  },
  {
   "cell_type": "code",
   "execution_count": null,
   "id": "a3a9010e",
   "metadata": {},
   "outputs": [],
   "source": []
  },
  {
   "cell_type": "code",
   "execution_count": null,
   "id": "e28547b6",
   "metadata": {},
   "outputs": [],
   "source": []
  },
  {
   "cell_type": "markdown",
   "id": "bfdddaf4",
   "metadata": {},
   "source": [
    "## scratchwork below, ignore"
   ]
  },
  {
   "cell_type": "code",
   "execution_count": null,
   "id": "91616a4c",
   "metadata": {},
   "outputs": [],
   "source": []
  },
  {
   "cell_type": "code",
   "execution_count": null,
   "id": "bc65f61e",
   "metadata": {},
   "outputs": [],
   "source": [
    "from tqdm.auto import tqdm\n",
    "config['ro_len'] += 10.0\n",
    "config['pulse_len'] += 10.0\n",
    "config['freq'] = QickSweep1D(\"myloop\", 3800, 4200)\n",
    "# config['freq'] = QickSweep1D(\"myloop\", 3000, 7000)\n",
    "config['steps']=1001\n",
    "\n",
    "freq = 5000\n",
    "soc.rfb_set_gen_filter(config['gen_ch'], fc=0, ftype='bypass')\n",
    "soc.rfb_set_ro_filter(config['ro_ch'], fc=0, ftype='bypass')\n",
    "\n",
    "for ro_bw in tqdm([1.5, 1.0, 0.5, 0.2, 0.1]):\n",
    "#     soc.rfb_set_ro_filter(config['ro_ch'], fc=freq/1000, ftype='bandpass', bw=ro_bw)\n",
    "#     soc.rfb_set_gen_filter(config['gen_ch'], fc=freq/1000, ftype='bandpass', bw=ro_bw)\n",
    "\n",
    "    prog = FreqSweepProgram(soccfg, reps=10, final_delay=1.0, cfg=config)\n",
    "    freqs = prog.get_pulse_param('myro', 'freq', as_array=True)\n",
    "    iq_list = prog.acquire(soc, soft_avgs=1, progress=False)\n",
    "\n",
    "    iq_complex = iq_list[0][0].dot([1,1j])\n",
    "    mags = np.abs(iq_complex)\n",
    "\n",
    "    plt.semilogy(freqs, mags, label=\"RO filter BW %.2f GHz\"%(ro_bw))\n",
    "    # plt.ylabel(\"Phase [cycles]\")\n",
    "    # plt.xlabel(\"Frequency [MHz]\")\n",
    "\n",
    "    # print(\"phase step (cycles):\", phases[1]-phases[0])\n",
    "\n",
    "plt.title(\"filter center = %f MHz\"%(freq))\n",
    "plt.legend();"
   ]
  },
  {
   "cell_type": "code",
   "execution_count": null,
   "id": "94d22940",
   "metadata": {},
   "outputs": [],
   "source": [
    "from tqdm.auto import tqdm\n",
    "config['ro_len'] += 10.0\n",
    "config['pulse_len'] += 10.0\n",
    "config['freq'] = QickSweep1D(\"myloop\", 3800, 4200)\n",
    "# config['freq'] = QickSweep1D(\"myloop\", 3000, 7000)\n",
    "config['steps']=1001\n",
    "\n",
    "freq = 5000\n",
    "soc.rfb_set_gen_filter(config['gen_ch'], fc=0, ftype='bypass')\n",
    "soc.rfb_set_ro_filter(config['ro_ch'], fc=0, ftype='bypass')\n",
    "\n",
    "for ro_bw in tqdm([1.5, 1.0, 0.5, 0.2, 0.1]):\n",
    "#     soc.rfb_set_ro_filter(config['ro_ch'], fc=freq/1000, ftype='bandpass', bw=ro_bw)\n",
    "#     soc.rfb_set_gen_filter(config['gen_ch'], fc=freq/1000, ftype='bandpass', bw=ro_bw)\n",
    "\n",
    "    prog = FreqSweepProgram(soccfg, reps=10, final_delay=1.0, cfg=config)\n",
    "    freqs = prog.get_pulse_param('myro', 'freq', as_array=True)\n",
    "    iq_list = prog.acquire(soc, soft_avgs=1, progress=False)\n",
    "\n",
    "    iq_complex = iq_list[0][0].dot([1,1j])\n",
    "    mags = np.abs(iq_complex)\n",
    "\n",
    "    plt.semilogy(freqs, mags, label=\"RO filter BW %.2f GHz\"%(ro_bw))\n",
    "    # plt.ylabel(\"Phase [cycles]\")\n",
    "    # plt.xlabel(\"Frequency [MHz]\")\n",
    "\n",
    "    # print(\"phase step (cycles):\", phases[1]-phases[0])\n",
    "\n",
    "plt.title(\"filter center = %f MHz\"%(freq))\n",
    "plt.legend();"
   ]
  },
  {
   "cell_type": "code",
   "execution_count": null,
   "id": "ad7f38b3",
   "metadata": {},
   "outputs": [],
   "source": [
    "print(prog.get_pulse_param('myro', 'freq', as_array=True))\n",
    "print(prog.get_pulse_param('mypulse', 'freq', as_array=True))\n"
   ]
  },
  {
   "cell_type": "code",
   "execution_count": null,
   "id": "37cc4c9a",
   "metadata": {},
   "outputs": [],
   "source": []
  },
  {
   "cell_type": "code",
   "execution_count": null,
   "id": "a4df5841",
   "metadata": {},
   "outputs": [],
   "source": []
  },
  {
   "cell_type": "code",
   "execution_count": null,
   "id": "647b54b9",
   "metadata": {},
   "outputs": [],
   "source": [
    "class SimpleSweepProgram2(AveragerProgramV2):\n",
    "    def _initialize(self, cfg):\n",
    "        ro_ch = cfg['ro_ch']\n",
    "        gen_ch = cfg['gen_ch']\n",
    "        \n",
    "        self.declare_gen(ch=gen_ch, nqz=cfg['nqz'])\n",
    "        self.declare_readout(ch=ro_ch, length=cfg['ro_len'])\n",
    "\n",
    "        self.add_readoutconfig(ch=ro_ch, name=\"myro\", \n",
    "                               freq=cfg['freq'], \n",
    "                               gen_ch=gen_ch, \n",
    "                               outsel='input')\n",
    "\n",
    "#         self.add_gauss(ch=gen_ch, name=\"ramp\", sigma=cfg['ramp_len']/10, length=cfg['ramp_len'], even_length=True)\n",
    "#         self.add_pulse(ch=gen_ch, name=\"mypulse\", ro_ch=ro_ch, \n",
    "#                        style=\"flat_top\", \n",
    "#                        envelope=\"ramp\", \n",
    "#                        freq=cfg['freq'], \n",
    "#                        length=cfg['flat_len'],\n",
    "#                        phase=cfg['phase'],\n",
    "#                        gain=cfg['gain'], \n",
    "#                       )\n",
    "        self.add_pulse(ch=gen_ch, name=\"mypulse\", ro_ch=ro_ch, \n",
    "                       style=\"const\", \n",
    "                       freq=cfg['freq'], \n",
    "                       length=cfg['flat_len'],\n",
    "                       phase=cfg['phase'],\n",
    "                       gain=cfg['gain'], \n",
    "#                        mode='periodic'\n",
    "                      )\n",
    "\n",
    "        \n",
    "        self.send_readoutconfig(ch=cfg['ro_ch'], name=\"myro\", t=0)\n",
    "        \n",
    "    def _body(self, cfg):\n",
    "        self.pulse(ch=cfg['gen_ch'], name=\"mypulse\", t=0)\n",
    "        self.trigger(ros=[cfg['ro_ch']], pins=[0], t=cfg['trig_time'], mr=True)"
   ]
  },
  {
   "cell_type": "code",
   "execution_count": null,
   "id": "872edd71",
   "metadata": {},
   "outputs": [],
   "source": [
    "# do a sweep with 5 points and plot decimated\n",
    "config = {'gen_ch': 2,\n",
    "          'ro_ch': 1,\n",
    "          'freq': 5000,\n",
    "          'nqz': 1,\n",
    "          'trig_time': 0.0,\n",
    "          'ro_len': 3.0,\n",
    "          'flat_len': 0.5,\n",
    "          'ramp_len': 0.2,\n",
    "          'phase': 0,\n",
    "          'gain': 1.0\n",
    "         }\n",
    "\n",
    "prog = SimpleSweepProgram2(soccfg, reps=1, final_delay=0.5, cfg=config)\n",
    "\n",
    "\n",
    "\n",
    "freq = config['freq']\n",
    "\n",
    "soc.rfb_set_gen_filter(config['gen_ch'], fc=freq/1000, ftype='bypass')\n",
    "soc.rfb_set_ro_filter(config['ro_ch'], fc=freq/1000, ftype='bypass')\n",
    "\n",
    "\n",
    "\n",
    "# Set Filter.\n",
    "# soc.rfb_set_gen_filter(config['gen_ch'], fc=freq/1000, ftype='bandpass')\n",
    "# soc.rfb_set_gen_filter(config['gen_ch'], fc=2.5, ftype='lowpass')\n",
    "\n",
    "# Set attenuator on DAC.\n",
    "# soc.rfb_set_gen_rf(config['gen_ch'], 5, 5)\n",
    "soc.rfb_set_gen_rf(config['gen_ch'], 10, 30)\n",
    "\n",
    "#######\n",
    "# ADC #\n",
    "#######\n",
    "# Set Filter.\n",
    "# soc.rfb_set_ro_filter(config['ro_ch'], fc=freq/1000, ftype='bandpass')\n",
    "\n",
    "# Set attenuator on ADC.\n",
    "soc.rfb_set_ro_rf(config['ro_ch'], 30)\n",
    "\n",
    "\n",
    "iq_list = prog.acquire_decimated(soc, soft_avgs=10)\n",
    "t = prog.get_time_axis(ro_index=0)\n",
    "\n",
    "iq = iq_list[0]\n",
    "plt.plot(t, iq[:,0], label=\"I value\")\n",
    "plt.plot(t, iq[:,1], label=\"Q value\")\n",
    "# plt.plot(t, np.abs(iq.dot([1,1j])), label=\"mag, step %d\"%(ii))\n",
    "plt.legend()\n",
    "plt.ylabel(\"amplitude [ADU]\")\n",
    "plt.xlabel(\"time [us]\");"
   ]
  },
  {
   "cell_type": "code",
   "execution_count": null,
   "id": "a0dc9a7a",
   "metadata": {},
   "outputs": [],
   "source": [
    "soc.arm_mr(ch=config['ro_ch'])\n",
    "iq_list = prog.acquire_decimated(soc, soft_avgs=1)\n",
    "# look at the MR buffer just to see it works\n",
    "iq_mr = soc.get_mr()[800:900]\n",
    "t = prog.get_time_axis_mr(config['ro_ch'], iq_mr)\n",
    "plt.plot(t, iq_mr[:,0],label=\"I\")\n",
    "plt.plot(t, iq_mr[:,1],label=\"Q\")\n",
    "plt.xlabel(\"us\")\n",
    "plt.legend();"
   ]
  },
  {
   "cell_type": "code",
   "execution_count": null,
   "id": "c45f4383",
   "metadata": {},
   "outputs": [],
   "source": [
    "from scipy.signal import welch\n",
    "from numpy.fft import fftshift\n",
    "\n",
    "soc.rfb_set_gen_filter(config['gen_ch'], fc=freq/1000, ftype='bypass')\n",
    "soc.rfb_set_ro_filter(config['ro_ch'], fc=freq/1000, ftype='bypass')\n",
    "\n",
    "# soc.rfb_set_gen_filter(config['gen_ch'], fc=freq/1000, ftype='bypass')\n",
    "# soc.rfb_set_ro_filter(config['ro_ch'], fc=freq/1000, ftype='bandpass')\n",
    "\n",
    "soc.arm_mr(ch=config['ro_ch'])\n",
    "iq_list = prog.acquire_decimated(soc, soft_avgs=1)\n",
    "\n",
    "iq_mr = soc.get_mr()[:,0]\n",
    "fs_mr = soccfg['readouts'][config['ro_ch']]['fs']\n",
    "# fft_freqs, psd = fftshift(welch(iq_mr, fs_mr, return_onesided=True, nperseg=128, detrend=False), axes=1)\n",
    "fft_freqs, psd = welch(iq_mr, fs_mr, return_onesided=True, nperseg=128, detrend=False)\n",
    "plt.semilogy(fft_freqs, psd)\n",
    "plt.xlabel(\"MHz\")"
   ]
  },
  {
   "cell_type": "code",
   "execution_count": null,
   "id": "56f4b495",
   "metadata": {},
   "outputs": [],
   "source": []
  },
  {
   "cell_type": "code",
   "execution_count": null,
   "id": "e475b66c",
   "metadata": {},
   "outputs": [],
   "source": [
    "for chain in soc.dac_chains:\n",
    "    chain.set_filter(fc=1.5, bw=1, ftype='bypass')\n",
    "    chain.set_rf(5,5)"
   ]
  },
  {
   "cell_type": "code",
   "execution_count": null,
   "id": "6603f7e7",
   "metadata": {},
   "outputs": [],
   "source": [
    "for chain in soc.adc_chains:\n",
    "    chain.set_filter(fc=1.5, bw=1, ftype='bypass')\n",
    "    chain.set_attn_db(5)"
   ]
  },
  {
   "cell_type": "code",
   "execution_count": null,
   "id": "da55e03d",
   "metadata": {},
   "outputs": [],
   "source": [
    "rfb_cfg = {'gen_ch': 2,\n",
    "        'ro_ch': 1,\n",
    "        'gen_att': (10,30),\n",
    "        'ro_att': 30,\n",
    "        }\n",
    "soc.rfb_set_gen_rf(rfb_cfg['gen_ch'], *rfb_cfg['gen_att'])\n",
    "soc.rfb_set_ro_rf(rfb_cfg['ro_ch'], rfb_cfg['ro_att'])\n",
    "\n",
    "soc.rfb_set_ro_filter(rfb_cfg['ro_ch'], fc=1.0, ftype='bypass')\n",
    "soc.rfb_set_gen_filter(rfb_cfg['gen_ch'], fc=1.0, ftype='bypass')\n"
   ]
  },
  {
   "cell_type": "code",
   "execution_count": null,
   "id": "27e65361",
   "metadata": {},
   "outputs": [],
   "source": [
    "class FreqSweepProgram(AveragerProgramV2):\n",
    "    def _initialize(self, cfg):\n",
    "        ro_ch = cfg['ro_ch']\n",
    "        gen_ch = cfg['gen_ch']\n",
    "        \n",
    "        self.declare_gen(ch=gen_ch, nqz=cfg['nqz'])\n",
    "        self.declare_readout(ch=ro_ch, length=cfg['ro_len'])\n",
    "\n",
    "        self.add_loop(\"myloop\", self.cfg[\"steps\"])\n",
    "        self.add_readoutconfig(ch=ro_ch, name=\"myro\", freq=cfg['freq'], gen_ch=gen_ch)\n",
    "\n",
    "        self.add_pulse(ch=gen_ch, name=\"mypulse\", ro_ch=ro_ch, \n",
    "                       style=\"const\", \n",
    "                       freq=cfg['freq'], \n",
    "                       length=cfg['pulse_len'],\n",
    "                       phase=cfg['phase'],\n",
    "                       gain=cfg['gain'], \n",
    "                      )\n",
    "        \n",
    "    def _body(self, cfg):\n",
    "        # if you delay the config by too long, you can see the readout get reconfigured in the middle of your pulse\n",
    "        self.send_readoutconfig(ch=cfg['ro_ch'], name=\"myro\", t=0)\n",
    "        self.pulse(ch=cfg['gen_ch'], name=\"mypulse\", t=0)\n",
    "        self.trigger(ros=[cfg['ro_ch']], pins=[0], t=cfg['trig_time'])\n",
    "\n",
    "# do a sweep with 5 points and plot decimated\n",
    "config = {'steps': 5,\n",
    "          'gen_ch': 2,\n",
    "          'ro_ch': 1,\n",
    "          'freq': QickSweep1D(\"myloop\", 4000, 7000),\n",
    "          'nqz': 2,\n",
    "          'trig_time': 0.4,\n",
    "          'ro_len': 0.3,\n",
    "          'pulse_len': 0.2,\n",
    "          'phase': 0,\n",
    "          'gain': 1.0\n",
    "         }\n",
    "\n",
    "soc.rfb_set_gen_rf(config['gen_ch'], 10, 30)\n",
    "soc.rfb_set_ro_rf(config['ro_ch'], 30)\n",
    "\n",
    "prog = FreqSweepProgram(soccfg, reps=1, final_delay=0.5, cfg=config)\n",
    "\n",
    "iq_list = prog.acquire_decimated(soc, soft_avgs=1)\n",
    "t = prog.get_time_axis(ro_index=0)\n",
    "\n",
    "for ii, iq in enumerate(iq_list[0]):\n",
    "#     plt.plot(t, iq[:,0], label=\"I value, step %d\"%(ii))\n",
    "#     plt.plot(t, iq[:,1], label=\"Q value, step %d\"%(ii))\n",
    "    plt.plot(t, np.abs(iq.dot([1,1j])), label=\"mag, step %d\"%(ii))\n",
    "plt.legend()\n",
    "plt.ylabel(\"amplitude [ADU]\")\n",
    "plt.xlabel(\"time [us]\");"
   ]
  },
  {
   "cell_type": "code",
   "execution_count": null,
   "id": "04b743c1",
   "metadata": {},
   "outputs": [],
   "source": [
    "from tqdm.auto import tqdm\n",
    "config['freq'] = QickSweep1D(\"myloop\", 3000, 6000)\n",
    "config['steps']=5001\n",
    "\n",
    "freq = 5000\n",
    "\n",
    "for ro_bw in tqdm([1.5, 1.0, 0.5, 0.2, 0.1]):\n",
    "#     soc.rfb_set_ro_filter(config['ro_ch'], fc=freq/1000, ftype='bypass')\n",
    "\n",
    "    soc.rfb_set_ro_filter(config['ro_ch'], fc=freq/1000, ftype='bandpass', bw=ro_bw)\n",
    "#     for chain in soc.adc_chains:\n",
    "# #         chain.set_filter(fc=5.0, ftype='bandpass', bw=ro_bw)\n",
    "#         chain.set_filter(fc=9.0, ftype='lowpass', bw=ro_bw)\n",
    "\n",
    "#     soc.rfb_set_gen_filter(config['gen_ch'], fc=freq/1000, ftype='bandpass', bw=ro_bw)\n",
    "#     soc.rfb_set_gen_filter(config['gen_ch'], fc=3.0, ftype='bandpass', bw=0.5)\n",
    "\n",
    "    prog = FreqSweepProgram(soccfg, reps=100, final_delay=1.0, cfg=config)\n",
    "    freqs = prog.get_pulse_param('myro', 'freq', as_array=True)\n",
    "    iq_list = prog.acquire(soc, soft_avgs=1, progress=False)\n",
    "    # plt.plot(np.angle(iq_list[0][0].dot([1,1j]), deg=True))\n",
    "    # plt.plot(iq_list[0][0,:,0], iq_list[0][0,:,1], '.')\n",
    "    # plt.ylabel(\"Q [ADU]\")\n",
    "    # plt.xlabel(\"I [ADU]\");\n",
    "\n",
    "    iq_complex = iq_list[0][0].dot([1,1j])\n",
    "    mags = np.abs(iq_complex)\n",
    "\n",
    "    plt.semilogy(freqs, mags, label=\"RO filter BW %.2f GHz\"%(ro_bw))\n",
    "    # plt.ylabel(\"Phase [cycles]\")\n",
    "    # plt.xlabel(\"Frequency [MHz]\")\n",
    "\n",
    "    # print(\"phase step (cycles):\", phases[1]-phases[0])\n",
    "\n",
    "plt.title(\"filter center = %f MHz\"%(freq))\n",
    "plt.legend();"
   ]
  },
  {
   "cell_type": "code",
   "execution_count": null,
   "id": "11c60790",
   "metadata": {},
   "outputs": [],
   "source": []
  },
  {
   "cell_type": "code",
   "execution_count": null,
   "id": "9dd9243e",
   "metadata": {},
   "outputs": [],
   "source": []
  },
  {
   "cell_type": "code",
   "execution_count": null,
   "id": "356d54f8",
   "metadata": {},
   "outputs": [],
   "source": []
  },
  {
   "cell_type": "code",
   "execution_count": null,
   "id": "9dea4a1b",
   "metadata": {},
   "outputs": [],
   "source": []
  },
  {
   "cell_type": "code",
   "execution_count": null,
   "id": "1c748cb2",
   "metadata": {},
   "outputs": [],
   "source": []
  },
  {
   "cell_type": "code",
   "execution_count": null,
   "id": "99b037ec",
   "metadata": {},
   "outputs": [],
   "source": [
    "class LoopbackProgram(AveragerProgramV2):\n",
    "    def _initialize(self, cfg):\n",
    "        ro_ch = cfg['ro_ch']\n",
    "        gen_ch = cfg['gen_ch']\n",
    "        \n",
    "        self.declare_gen(ch=gen_ch, nqz=cfg['nqz'])\n",
    "        self.declare_readout(ch=ro_ch, length=cfg['ro_len'])\n",
    "\n",
    "        self.add_readoutconfig(ch=ro_ch, name=\"myro\", \n",
    "                               freq=cfg['freq'], \n",
    "                               gen_ch=gen_ch, \n",
    "                               outsel=cfg['ro_outsel'])\n",
    "\n",
    "        self.add_pulse(ch=gen_ch, name=\"mypulse\", ro_ch=ro_ch, \n",
    "                       style=\"const\", \n",
    "                       freq=cfg['freq'], \n",
    "                       length=cfg['pulse_len'],\n",
    "                       phase=cfg['phase'],\n",
    "                       gain=cfg['gain'], \n",
    "                      )\n",
    "        \n",
    "        ramp_len = 2.0\n",
    "#         self.add_gauss(ch=gen_ch, name=\"ramp\", sigma=ramp_len/10, length=ramp_len, even_length=True)\n",
    "        self.add_triangle(ch=gen_ch, name=\"triangle\", length=ramp_len, even_length=True)\n",
    "        \n",
    "#         self.add_pulse(ch=gen_ch, name=\"mygaus\", ro_ch=ro_ch, \n",
    "#                        style=\"arb\", \n",
    "#                        envelope=\"ramp\", \n",
    "#                        freq=cfg['freq'], \n",
    "#                        phase=0,\n",
    "#                        gain=1.0, \n",
    "#                       )\n",
    "        self.add_pulse(ch=gen_ch, name=\"mytri\", ro_ch=ro_ch, \n",
    "                       style=\"arb\", \n",
    "                       envelope=\"triangle\", \n",
    "                       freq=cfg['freq'], \n",
    "                       phase=0,\n",
    "                       gain=1.0, \n",
    "                      )\n",
    "        \n",
    "        self.send_readoutconfig(ch=cfg['ro_ch'], name=\"myro\", t=0)\n",
    "        \n",
    "    def _body(self, cfg):\n",
    "        self.pulse(ch=cfg['gen_ch'], name=\"mytri\", t=0)\n",
    "        self.trigger(ros=[cfg['ro_ch']], pins=[0], t=cfg['trig_time'], mr=True)\n",
    "        \n",
    "        \n",
    "        \n",
    "config = {'gen_ch': 2,\n",
    "          'ro_ch': 1,\n",
    "          'freq': 3000,\n",
    "          'nqz': 1,\n",
    "          'trig_time': 0.0,\n",
    "          'ro_len': 3.0,\n",
    "          'ro_outsel': 'product',\n",
    "          'pulse_len': 0.5,\n",
    "          'phase': 0,\n",
    "          'gain': 1.0\n",
    "         }\n",
    "\n",
    "prog = LoopbackProgram(soccfg, reps=1, final_delay=0.5, cfg=config)\n",
    "\n",
    "freq = config['freq']\n",
    "\n",
    "# soc.rfb_set_gen_filter(config['gen_ch'], fc=freq/1000, ftype='bypass')\n",
    "# soc.rfb_set_ro_filter(config['ro_ch'], fc=freq/1000, ftype='bypass')\n",
    "\n",
    "\n",
    "\n",
    "# # Set Filter.\n",
    "# # soc.rfb_set_gen_filter(config['gen_ch'], fc=freq/1000, ftype='bandpass')\n",
    "# # soc.rfb_set_gen_filter(config['gen_ch'], fc=2.5, ftype='lowpass')\n",
    "\n",
    "# # Set attenuator on DAC.\n",
    "# # soc.rfb_set_gen_rf(config['gen_ch'], 5, 5)\n",
    "# soc.rfb_set_gen_rf(config['gen_ch'], 5, 20)\n",
    "\n",
    "# #######\n",
    "# # ADC #\n",
    "# #######\n",
    "# # Set Filter.\n",
    "# # soc.rfb_set_ro_filter(config['ro_ch'], fc=freq/1000, ftype='bandpass')\n",
    "\n",
    "# # Set attenuator on ADC.\n",
    "# soc.rfb_set_ro_rf(config['ro_ch'], 20)\n",
    "\n",
    "rfb_cfg = {'gen_ch': 2,\n",
    "        'ro_ch': 1,\n",
    "        'gen_att': (10,30),\n",
    "        'ro_att': 30,\n",
    "        }\n",
    "soc.rfb_set_gen_rf(rfb_cfg['gen_ch'], *rfb_cfg['gen_att'])\n",
    "soc.rfb_set_ro_rf(rfb_cfg['ro_ch'], rfb_cfg['ro_att'])\n",
    "\n",
    "soc.rfb_set_ro_filter(rfb_cfg['ro_ch'], fc=1.0, ftype='bypass')\n",
    "soc.rfb_set_gen_filter(rfb_cfg['gen_ch'], fc=1.0, ftype='bypass')\n",
    "\n",
    "iq_list = prog.acquire_decimated(soc, soft_avgs=10)\n",
    "t = prog.get_time_axis(ro_index=0)\n",
    "\n",
    "iq = iq_list[0]\n",
    "plt.plot(t, iq[:,0], label=\"I value\")\n",
    "plt.plot(t, iq[:,1], label=\"Q value\")\n",
    "# plt.plot(t, np.abs(iq.dot([1,1j])), label=\"mag, step %d\"%(ii))\n",
    "plt.legend()\n",
    "plt.ylabel(\"amplitude [ADU]\")\n",
    "plt.xlabel(\"time [us]\");"
   ]
  },
  {
   "cell_type": "code",
   "execution_count": null,
   "id": "37c59c23",
   "metadata": {},
   "outputs": [],
   "source": []
  },
  {
   "cell_type": "code",
   "execution_count": null,
   "id": "d739cdc2",
   "metadata": {},
   "outputs": [],
   "source": []
  },
  {
   "cell_type": "code",
   "execution_count": null,
   "id": "6118357e",
   "metadata": {},
   "outputs": [],
   "source": []
  },
  {
   "cell_type": "code",
   "execution_count": null,
   "id": "1770bcc9",
   "metadata": {},
   "outputs": [],
   "source": []
  },
  {
   "cell_type": "code",
   "execution_count": null,
   "id": "a5e7c4fa",
   "metadata": {},
   "outputs": [],
   "source": []
  },
  {
   "cell_type": "code",
   "execution_count": null,
   "id": "1f61d999",
   "metadata": {},
   "outputs": [],
   "source": [
    "##########################################\n",
    "### One generator/readout and raw-data ###\n",
    "##########################################\n",
    "class ReadoutTest(AveragerProgram):\n",
    "    def initialize(self):\n",
    "        # Set the nyquist zone for the DACs.\n",
    "        self.declare_gen(ch=self.cfg[\"gen_ch\"], nqz=self.cfg['gen_nqz'])\n",
    "        \n",
    "        # DAC channel.\n",
    "        freq = self.freq2reg(self.cfg['pulse_freq'], gen_ch=self.cfg['gen_ch'], ro_ch=self.cfg['ro_ch'][0])\n",
    "        self.set_pulse_registers(ch     = self.cfg['gen_ch'], \n",
    "                                 style  = 'const', \n",
    "                                 freq   = freq,\n",
    "                                 phase  = 0, \n",
    "                                 gain   = self.cfg['pulse_gain'], \n",
    "                                 length = self.us2cycles(self.cfg['pulse_length'],gen_ch=self.cfg['gen_ch']))\n",
    "        \n",
    "        # Readout.\n",
    "        self.declare_readout(ch      = self.cfg['ro_ch'][0], \n",
    "                             length  = self.us2cycles(self.cfg['ro_length'], ro_ch = self.cfg['ro_ch'][0]),\n",
    "                             freq    = self.cfg['ro_freq'],\n",
    "                             gen_ch  = self.cfg['gen_ch'])\n",
    "        \n",
    "        self.synci(200)  # give processor some time to configure pulses\n",
    "    \n",
    "    def body(self):       \n",
    "        self.measure(pulse_ch        = self.cfg['gen_ch'], \n",
    "                     adcs            = self.cfg['ro_ch'],\n",
    "                     pins            = [0],\n",
    "                     t               = self.us2cycles(self.cfg['pulse_start']),\n",
    "                     adc_trig_offset = self.us2cycles(self.cfg['ro_offset'], ro_ch = self.cfg['ro_ch'][0]),\n",
    "                     )        \n",
    "\n",
    "config={\"ro_ch\"       : [5],\n",
    "        \"ro_length\"   : 40,\n",
    "        \"ro_freq\"     : 4000,\n",
    "        \"ro_offset\"   : 0,\n",
    "        \n",
    "        \"gen_ch\"      : 12,        \n",
    "        \"gen_nqz\"     : 2,\n",
    "        \"pulse_length\": 20,\n",
    "        \"pulse_start\" : 10,\n",
    "        \"pulse_gain\"  : 30000,\n",
    "        \"pulse_freq\"  : 4000,\n",
    "        \n",
    "        \"reps\"        : 1,\n",
    "        \"period\"      : 20\n",
    "       }\n",
    "\n",
    "########################\n",
    "### RF Board Setting ###\n",
    "########################\n",
    "\n",
    "#######\n",
    "# DAC #\n",
    "#######\n",
    "freq = config['pulse_freq']\n",
    "\n",
    "# Set Filter.\n",
    "# soc.rfb_set_gen_filter(config['gen_ch'], fc=fc, ftype='bandpass')\n",
    "soc.rfb_set_gen_filter(config['gen_ch'], fc=2.5, ftype='lowpass')\n",
    "\n",
    "# Set attenuator on DAC.\n",
    "soc.rfb_set_gen_rf(config['gen_ch'], 15, 20)\n",
    "\n",
    "#######\n",
    "# ADC #\n",
    "#######\n",
    "# Set Filter.\n",
    "soc.rfb_set_ro_filter(config['ro_ch'][0], fc=freq/1000, ftype='bandpass')\n",
    "\n",
    "# Set attenuator on ADC.\n",
    "soc.rfb_set_ro_rf(config['ro_ch'][0], 20)\n",
    "\n",
    "prog = ReadoutTest(soccfg, config)\n",
    "iq_list = prog.acquire_decimated(soc)\n",
    "\n",
    "# Plot Captured Data.\n",
    "plt.figure(dpi=200)\n",
    "\n",
    "yi = iq_list[0][0]\n",
    "yq = iq_list[0][1]\n",
    "t = soccfg.cycles2us(ro_ch=config['ro_ch'][0], cycles=np.arange(len(iq_list[0][0])))\n",
    "\n",
    "plt.plot(t,yi)\n",
    "plt.plot(t,yq)\n",
    "    \n",
    "plt.xlabel('t [us]');\n",
    "plt.legend(['I','Q']);\n"
   ]
  },
  {
   "cell_type": "code",
   "execution_count": null,
   "id": "31ec01e3",
   "metadata": {},
   "outputs": [],
   "source": [
    "from tqdm.auto import tqdm\n",
    "for i in tqdm(range(1000)):\n",
    "    soc.rfb_set_gen_rf(gen_ch=0, att1=15, att2=20)\n"
   ]
  },
  {
   "cell_type": "markdown",
   "id": "7d3a927e",
   "metadata": {},
   "source": [
    "### little note on the generator outputs\n",
    "This firmware uses the \"tmux\" which multiplexes multiple generators onto each tProc output. Generally this works transparently, but be aware that if you try to play simultaneous pulses on generators that share a tmux channel, the pulses will get offset by a tProc clock cycle (or something like that)."
   ]
  },
  {
   "cell_type": "code",
   "execution_count": null,
   "id": "5858be3a",
   "metadata": {},
   "outputs": [],
   "source": [
    "soccfg['gens']"
   ]
  },
  {
   "cell_type": "code",
   "execution_count": null,
   "id": "8ca89fd0",
   "metadata": {},
   "outputs": [],
   "source": [
    "[(i,gen['tproc_ch']) for i,gen in enumerate(soccfg['gens'])]"
   ]
  },
  {
   "cell_type": "code",
   "execution_count": null,
   "id": "ab69b004",
   "metadata": {},
   "outputs": [],
   "source": [
    "soc.ip_dict.keys()"
   ]
  },
  {
   "cell_type": "markdown",
   "id": "8dac28af",
   "metadata": {},
   "source": [
    "### playing with LEDs (and ribbon I/O connector)\n",
    "The LEDs are wired to the PMOD0 connector on the ZCU216, the ribbon is wired to PMOD1. In this firmware these are connected to an AxiGPIO which is controlled by software (vs. in most QICK firmware, where the PMODs are connected to the tProc). So these are for slow control.\n",
    "\n",
    "The LEDs are very dim (trying to drive the LEDs directly with PMOD outputs?).\n",
    "\n",
    "There is also some weirdness with the AxiGPIO we're using for this.\n",
    "\n",
    "The ribbon connector works identically (`soc.pmod_bits_gpio` instead of `soc.pmod_led_gpio`), except that the pin mapping seems to be screwed up somewhere, such that even and odd pins are swapped: PMOD1_0=ribbon signal 1, PMOD 1_1=ribbon signal 0, etc. The ribbon pins should be input-capable, but I haven't checked."
   ]
  },
  {
   "cell_type": "code",
   "execution_count": null,
   "id": "7aebff6e",
   "metadata": {
    "scrolled": true
   },
   "outputs": [],
   "source": [
    "help(soc.pmod_led_gpio)"
   ]
  },
  {
   "cell_type": "code",
   "execution_count": null,
   "id": "5feff16d",
   "metadata": {},
   "outputs": [],
   "source": [
    "# this works\n",
    "while True:\n",
    "    for ch in soc.pmod_led_gpio:\n",
    "        ch.on()\n",
    "    time.sleep(1)\n",
    "    for ch in soc.pmod_led_gpio:\n",
    "        ch.off()\n",
    "    time.sleep(1)\n",
    "    "
   ]
  },
  {
   "cell_type": "code",
   "execution_count": null,
   "id": "83e700dc",
   "metadata": {},
   "outputs": [],
   "source": [
    "# this works\n",
    "while True:\n",
    "    for i in range(8):\n",
    "        for j in range(8):\n",
    "            if i==j:\n",
    "                soc.pmod_led_gpio[j].on()\n",
    "            else:\n",
    "                soc.pmod_led_gpio[j].off()\n",
    "        time.sleep(0.2)"
   ]
  },
  {
   "cell_type": "code",
   "execution_count": null,
   "id": "18da5393",
   "metadata": {},
   "outputs": [],
   "source": [
    "# this works\n",
    "while True:\n",
    "    for i in range(8):\n",
    "        for j in range(8):\n",
    "            if i==j:\n",
    "                soc.pmod_led_gpio[j].write(1)\n",
    "            else:\n",
    "                soc.pmod_led_gpio[j].write(0)\n",
    "        time.sleep(0.2)"
   ]
  },
  {
   "cell_type": "code",
   "execution_count": null,
   "id": "debb667e",
   "metadata": {},
   "outputs": [],
   "source": [
    "# this works\n",
    "while True:\n",
    "    for i in range(8):\n",
    "        soc.pmod_led_gpio.channel1.write(val=1<<i, mask=0xFF)\n",
    "        time.sleep(0.2)\n"
   ]
  },
  {
   "cell_type": "code",
   "execution_count": null,
   "id": "3f3d3135",
   "metadata": {},
   "outputs": [],
   "source": [
    "# this doesn't work, not sure why\n",
    "while True:\n",
    "    soc.pmod_led_gpio.channel1.write(0x0,0xFF)\n",
    "    time.sleep(1)\n",
    "    soc.pmod_led_gpio.channel1.write(0xFF,0xFF)\n",
    "    time.sleep(1)\n",
    "    "
   ]
  },
  {
   "cell_type": "code",
   "execution_count": null,
   "id": "9497f45f",
   "metadata": {},
   "outputs": [],
   "source": [
    "help(soc.pmod_led_gpio.channel1.write)"
   ]
  }
 ],
 "metadata": {
  "kernelspec": {
   "display_name": "Python 3 (ipykernel)",
   "language": "python",
   "name": "python3"
  },
  "language_info": {
   "codemirror_mode": {
    "name": "ipython",
    "version": 3
   },
   "file_extension": ".py",
   "mimetype": "text/x-python",
   "name": "python",
   "nbconvert_exporter": "python",
   "pygments_lexer": "ipython3",
   "version": "3.10.4"
  }
 },
 "nbformat": 4,
 "nbformat_minor": 5
}
