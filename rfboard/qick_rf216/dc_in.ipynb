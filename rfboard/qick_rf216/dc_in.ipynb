{
 "cells": [
  {
   "cell_type": "code",
   "execution_count": 1,
   "id": "be503286",
   "metadata": {},
   "outputs": [],
   "source": [
    "# jupyter setup boilerplate\n",
    "%matplotlib inline\n",
    "import matplotlib.pyplot as plt\n",
    "import numpy as np\n",
    "\n",
    "from tqdm.auto import tqdm\n",
    "\n",
    "from qick import *\n",
    "from qick.rfboard import RFQickSoc216V1\n",
    "\n",
    "# for now, all the tProc v2 classes need to be individually imported (can't use qick.*)\n",
    "\n",
    "# the main program class\n",
    "from qick.asm_v2 import AveragerProgramV2\n",
    "# for defining sweeps\n",
    "from qick.asm_v2 import QickSweep1D"
   ]
  },
  {
   "cell_type": "code",
   "execution_count": 2,
   "id": "9af73493",
   "metadata": {},
   "outputs": [],
   "source": [
    "# crank up the logging (optional)\n",
    "import logging\n",
    "# logging.basicConfig(level=logging.DEBUG)\n",
    "logging.basicConfig(level=logging.INFO, force=True, format='%(levelname)-8s [%(filename)s:%(lineno)d] %(message)s')\n",
    "\n",
    "# list(logging.root.manager.loggerDict.keys())\n",
    "# suppress the start/stop messages from the tproc logger\n",
    "logging.getLogger('qick_processor').setLevel(logging.WARNING)"
   ]
  },
  {
   "cell_type": "code",
   "execution_count": 3,
   "id": "0d52df3c",
   "metadata": {
    "scrolled": false
   },
   "outputs": [
    {
     "data": {
      "application/javascript": [
       "\n",
       "try {\n",
       "require(['notebook/js/codecell'], function(codecell) {\n",
       "  codecell.CodeCell.options_default.highlight_modes[\n",
       "      'magic_text/x-csrc'] = {'reg':[/^%%microblaze/]};\n",
       "  Jupyter.notebook.events.one('kernel_ready.Kernel', function(){\n",
       "      Jupyter.notebook.get_cells().map(function(cell){\n",
       "          if (cell.cell_type == 'code'){ cell.auto_highlight(); } }) ;\n",
       "  });\n",
       "});\n",
       "} catch (e) {};\n"
      ]
     },
     "metadata": {},
     "output_type": "display_data"
    },
    {
     "data": {
      "application/javascript": [
       "\n",
       "try {\n",
       "require(['notebook/js/codecell'], function(codecell) {\n",
       "  codecell.CodeCell.options_default.highlight_modes[\n",
       "      'magic_text/x-csrc'] = {'reg':[/^%%pybind11/]};\n",
       "  Jupyter.notebook.events.one('kernel_ready.Kernel', function(){\n",
       "      Jupyter.notebook.get_cells().map(function(cell){\n",
       "          if (cell.cell_type == 'code'){ cell.auto_highlight(); } }) ;\n",
       "  });\n",
       "});\n",
       "} catch (e) {};\n"
      ]
     },
     "metadata": {},
     "output_type": "display_data"
    },
    {
     "name": "stdout",
     "output_type": "stream",
     "text": [
      "QICK running on ZCU216, software version 0.2.302\n",
      "\n",
      "Firmware configuration (built Sat Jan  4 11:48:37 2025):\n",
      "\n",
      "\tGlobal clocks (MHz): tProcessor 430.080, RF reference 245.760\n",
      "\n",
      "\t16 signal generator channels:\n",
      "\t0:\taxis_signal_gen_v6 - envelope memory 65536 samples (6.838 us)\n",
      "\t\tfs=9584.640 MHz, fabric=599.040 MHz, 32-bit DDS, range=9584.640 MHz\n",
      "\t\tDAC tile 0, blk 0 is 0_228, on JHC1\n",
      "\t1:\taxis_signal_gen_v6 - envelope memory 16384 samples (1.709 us)\n",
      "\t\tfs=9584.640 MHz, fabric=599.040 MHz, 32-bit DDS, range=9584.640 MHz\n",
      "\t\tDAC tile 0, blk 1 is 1_228, on JHC2\n",
      "\t2:\taxis_signal_gen_v6 - envelope memory 32768 samples (3.419 us)\n",
      "\t\tfs=9584.640 MHz, fabric=599.040 MHz, 32-bit DDS, range=9584.640 MHz\n",
      "\t\tDAC tile 0, blk 2 is 2_228, on JHC1\n",
      "\t3:\taxis_signal_gen_v6 - envelope memory 16384 samples (1.709 us)\n",
      "\t\tfs=9584.640 MHz, fabric=599.040 MHz, 32-bit DDS, range=9584.640 MHz\n",
      "\t\tDAC tile 0, blk 3 is 3_228, on JHC2\n",
      "\t4:\taxis_sg_mixmux8_v1 - envelope memory 0 samples (0.000 us)\n",
      "\t\tfs=6881.280 MHz, fabric=430.080 MHz, 32-bit DDS, range=1720.320 MHz\n",
      "\t\tDAC tile 1, blk 0 is 0_229, on JHC1\n",
      "\t5:\taxis_sg_int4_v2 - envelope memory 16384 samples (38.095 us)\n",
      "\t\tfs=6881.280 MHz, fabric=430.080 MHz, 32-bit DDS, range=1720.320 MHz\n",
      "\t\tDAC tile 1, blk 1 is 1_229, on JHC2\n",
      "\t6:\taxis_sg_int4_v2 - envelope memory 8192 samples (19.048 us)\n",
      "\t\tfs=6881.280 MHz, fabric=430.080 MHz, 32-bit DDS, range=1720.320 MHz\n",
      "\t\tDAC tile 1, blk 2 is 2_229, on JHC1\n",
      "\t7:\taxis_sg_int4_v2 - envelope memory 16384 samples (38.095 us)\n",
      "\t\tfs=6881.280 MHz, fabric=430.080 MHz, 32-bit DDS, range=1720.320 MHz\n",
      "\t\tDAC tile 1, blk 3 is 3_229, on JHC2\n",
      "\t8:\taxis_sg_int4_v2 - envelope memory 8192 samples (19.048 us)\n",
      "\t\tfs=6881.280 MHz, fabric=430.080 MHz, 32-bit DDS, range=1720.320 MHz\n",
      "\t\tDAC tile 2, blk 0 is 0_230, on JHC3\n",
      "\t9:\taxis_sg_int4_v2 - envelope memory 8192 samples (19.048 us)\n",
      "\t\tfs=6881.280 MHz, fabric=430.080 MHz, 32-bit DDS, range=1720.320 MHz\n",
      "\t\tDAC tile 2, blk 1 is 1_230, on JHC4\n",
      "\t10:\taxis_sg_int4_v2 - envelope memory 8192 samples (19.048 us)\n",
      "\t\tfs=6881.280 MHz, fabric=430.080 MHz, 32-bit DDS, range=1720.320 MHz\n",
      "\t\tDAC tile 2, blk 2 is 2_230, on JHC3\n",
      "\t11:\taxis_sg_int4_v2 - envelope memory 8192 samples (19.048 us)\n",
      "\t\tfs=6881.280 MHz, fabric=430.080 MHz, 32-bit DDS, range=1720.320 MHz\n",
      "\t\tDAC tile 2, blk 3 is 3_230, on JHC4\n",
      "\t12:\taxis_sg_int4_v2 - envelope memory 8192 samples (19.048 us)\n",
      "\t\tfs=6881.280 MHz, fabric=430.080 MHz, 32-bit DDS, range=1720.320 MHz\n",
      "\t\tDAC tile 3, blk 0 is 0_231, on JHC3\n",
      "\t13:\taxis_sg_int4_v2 - envelope memory 8192 samples (19.048 us)\n",
      "\t\tfs=6881.280 MHz, fabric=430.080 MHz, 32-bit DDS, range=1720.320 MHz\n",
      "\t\tDAC tile 3, blk 1 is 1_231, on JHC4\n",
      "\t14:\taxis_sg_int4_v2 - envelope memory 8192 samples (19.048 us)\n",
      "\t\tfs=6881.280 MHz, fabric=430.080 MHz, 32-bit DDS, range=1720.320 MHz\n",
      "\t\tDAC tile 3, blk 2 is 2_231, on JHC3\n",
      "\t15:\taxis_sg_int4_v2 - envelope memory 8192 samples (19.048 us)\n",
      "\t\tfs=6881.280 MHz, fabric=430.080 MHz, 32-bit DDS, range=1720.320 MHz\n",
      "\t\tDAC tile 3, blk 3 is 3_231, on JHC4\n",
      "\n",
      "\t11 readout channels:\n",
      "\t0:\taxis_dyn_readout_v1 - configured by tProc output 4\n",
      "\t\tfs=2457.600 MHz, decimated=307.200 MHz, 32-bit DDS, range=2457.600 MHz\n",
      "\t\taxis_avg_buffer v1.1 (has edge counter)\n",
      "\t\tmaxlen 8192 accumulated, 4096 decimated (13.333 us)\n",
      "\t\ttriggered by tport 10, pin 0, feedback to tProc input 0\n",
      "\t\tADC tile 2, blk 0 is 0_226, on JHC7\n",
      "\t1:\taxis_dyn_readout_v1 - configured by tProc output 4\n",
      "\t\tfs=2457.600 MHz, decimated=307.200 MHz, 32-bit DDS, range=2457.600 MHz\n",
      "\t\taxis_avg_buffer v1.1 (has edge counter)\n",
      "\t\tmaxlen 8192 accumulated, 4096 decimated (13.333 us)\n",
      "\t\ttriggered by tport 11, pin 0, feedback to tProc input 1\n",
      "\t\tADC tile 2, blk 2 is 2_226, on JHC7\n",
      "\t2:\taxis_pfb_readout_v4 - configured by PYNQ\n",
      "\t\tfs=2457.600 MHz, decimated=38.400 MHz, 32-bit DDS, range=38.400 MHz\n",
      "\t\taxis_avg_buffer v1.1 (has edge counter)\n",
      "\t\tmaxlen 8192 accumulated, 1024 decimated (26.667 us)\n",
      "\t\ttriggered by tport 12, pin 0, feedback to tProc input 2\n",
      "\t\tADC tile 2, blk 1 is 1_226, on JHC8\n",
      "\t3:\taxis_pfb_readout_v4 - configured by PYNQ\n",
      "\t\tfs=2457.600 MHz, decimated=38.400 MHz, 32-bit DDS, range=38.400 MHz\n",
      "\t\taxis_avg_buffer v1.1 (has edge counter)\n",
      "\t\tmaxlen 8192 accumulated, 1024 decimated (26.667 us)\n",
      "\t\ttriggered by tport 13, pin 0, feedback to tProc input 3\n",
      "\t\tADC tile 2, blk 1 is 1_226, on JHC8\n",
      "\t4:\taxis_pfb_readout_v4 - configured by PYNQ\n",
      "\t\tfs=2457.600 MHz, decimated=38.400 MHz, 32-bit DDS, range=38.400 MHz\n",
      "\t\taxis_avg_buffer v1.1 (has edge counter)\n",
      "\t\tmaxlen 8192 accumulated, 1024 decimated (26.667 us)\n",
      "\t\ttriggered by tport 14, pin 0, feedback to tProc input 4\n",
      "\t\tADC tile 2, blk 1 is 1_226, on JHC8\n",
      "\t5:\taxis_pfb_readout_v4 - configured by PYNQ\n",
      "\t\tfs=2457.600 MHz, decimated=38.400 MHz, 32-bit DDS, range=38.400 MHz\n",
      "\t\taxis_avg_buffer v1.1 (has edge counter)\n",
      "\t\tmaxlen 8192 accumulated, 1024 decimated (26.667 us)\n",
      "\t\ttriggered by tport 15, pin 0, feedback to tProc input 5\n",
      "\t\tADC tile 2, blk 1 is 1_226, on JHC8\n",
      "\t6:\taxis_pfb_readout_v4 - configured by PYNQ\n",
      "\t\tfs=2457.600 MHz, decimated=38.400 MHz, 32-bit DDS, range=38.400 MHz\n",
      "\t\taxis_avg_buffer v1.1 (has edge counter)\n",
      "\t\tmaxlen 8192 accumulated, 1024 decimated (26.667 us)\n",
      "\t\ttriggered by tport 16, pin 0, feedback to tProc input 6\n",
      "\t\tADC tile 2, blk 1 is 1_226, on JHC8\n",
      "\t7:\taxis_pfb_readout_v4 - configured by PYNQ\n",
      "\t\tfs=2457.600 MHz, decimated=38.400 MHz, 32-bit DDS, range=38.400 MHz\n",
      "\t\taxis_avg_buffer v1.1 (has edge counter)\n",
      "\t\tmaxlen 8192 accumulated, 1024 decimated (26.667 us)\n",
      "\t\ttriggered by tport 17, pin 0, feedback to tProc input 7\n",
      "\t\tADC tile 2, blk 1 is 1_226, on JHC8\n",
      "\t8:\taxis_pfb_readout_v4 - configured by PYNQ\n",
      "\t\tfs=2457.600 MHz, decimated=38.400 MHz, 32-bit DDS, range=38.400 MHz\n",
      "\t\taxis_avg_buffer v1.1 (has edge counter)\n",
      "\t\tmaxlen 8192 accumulated, 1024 decimated (26.667 us)\n",
      "\t\ttriggered by tport 6, pin 0, feedback to tProc input -1\n",
      "\t\tADC tile 2, blk 1 is 1_226, on JHC8\n",
      "\t9:\taxis_pfb_readout_v4 - configured by PYNQ\n",
      "\t\tfs=2457.600 MHz, decimated=38.400 MHz, 32-bit DDS, range=38.400 MHz\n",
      "\t\taxis_avg_buffer v1.1 (has edge counter)\n",
      "\t\tmaxlen 8192 accumulated, 1024 decimated (26.667 us)\n",
      "\t\ttriggered by tport 7, pin 0, feedback to tProc input -1\n",
      "\t\tADC tile 2, blk 1 is 1_226, on JHC8\n",
      "\t10:\taxis_dyn_readout_v1 - configured by tProc output 4\n",
      "\t\tfs=2457.600 MHz, decimated=307.200 MHz, 32-bit DDS, range=2457.600 MHz\n",
      "\t\taxis_avg_buffer v1.1 (has edge counter)\n",
      "\t\tmaxlen 8192 accumulated, 4096 decimated (13.333 us)\n",
      "\t\ttriggered by tport 18, pin 0, feedback to tProc input -1\n",
      "\t\tADC tile 1, blk 0 is 0_225, on JHC5\n",
      "\n",
      "\t6 digital output pins:\n",
      "\t0:\tSPARE0_1V8\n",
      "\t1:\tSPARE1_1V8\n",
      "\t2:\tSPARE2_1V8\n",
      "\t3:\tSPARE3_1V8\n",
      "\t4:\tSPARE4_1V8\n",
      "\t5:\tSPARE5_1V8\n",
      "\n",
      "\ttProc qick_processor (\"v2\") rev 21: program memory 4096 words, data memory 16384 words\n",
      "\t\texternal start pin: None\n",
      "\n",
      "\tDDR4 memory buffer: 1073741824 samples (3.495 sec), 128 samples/transfer\n",
      "\t\twired to readouts [0, 1, 2, 3, 4, 5, 6, 7, 8, 9, 10]\n",
      "\n",
      "\tMR buffer: 8192 samples (3.333 us), wired to readouts [0, 1, 10]\n"
     ]
    }
   ],
   "source": [
    "# Load bitstream with custom overlay\n",
    "# soc = RFQickSoc216V1('/home/xilinx/jupyter_notebooks/fw/2024-12-18_216_tprocv2r21_rfbv2_standard_dcin/qick_216_rfbv2.bit')\n",
    "soc = RFQickSoc216V1('/home/xilinx/jupyter_notebooks/fw/2025-01-06_216_tprocv2r21_rfbv2_standard/qick_216_rfbv2.bit')\n",
    "\n",
    "soccfg = soc\n",
    "\n",
    "print(soccfg)"
   ]
  },
  {
   "cell_type": "code",
   "execution_count": 4,
   "id": "56228833",
   "metadata": {},
   "outputs": [],
   "source": [
    "from qick.rfboard import *\n",
    "import time"
   ]
  },
  {
   "cell_type": "code",
   "execution_count": 5,
   "id": "d71d9c34",
   "metadata": {},
   "outputs": [
    {
     "name": "stdout",
     "output_type": "stream",
     "text": [
      "DAC card 0: empty\n",
      "DAC card 1: DC [<qick.rfboard.DacDcChain216 object at 0xffff64379bd0>, <qick.rfboard.DacDcChain216 object at 0xffff64379c60>, <qick.rfboard.DacDcChain216 object at 0xffff64379b70>, <qick.rfboard.DacDcChain216 object at 0xffff64379c90>]\n",
      "DAC card 2: empty\n",
      "DAC card 3: RF\n",
      "filters: [1, 1, 1, 1]\n",
      "ADC card 0: DC?? [<qick.rfboard.AdcDcChain216 object at 0xffff6437a2c0>, <qick.rfboard.AdcDcChain216 object at 0xffff6437a4d0>]\n",
      "ADC card 1: DC?? [<qick.rfboard.AdcDcChain216 object at 0xffff6437a5c0>, <qick.rfboard.AdcDcChain216 object at 0xffff6437a710>]\n",
      "ADC card 2: RF\n",
      "filters: [1, 1]\n",
      "ADC card 3: DC?? [<qick.rfboard.AdcDcChain216 object at 0xffff6437aad0>, <qick.rfboard.AdcDcChain216 object at 0xffff6437ac50>]\n"
     ]
    }
   ],
   "source": [
    "for iCard, card in enumerate(soc.dac_cards):\n",
    "    if card is None:\n",
    "        print(\"DAC card %d: empty\"%(iCard))\n",
    "    elif isinstance(card, DacDcCard216):\n",
    "        print(\"DAC card %d: DC\"%(iCard), card.chains)\n",
    "    elif isinstance(card, DacRfCard216):\n",
    "        print(\"DAC card %d: RF\"%(iCard))\n",
    "        print(\"filters:\", [chain.read_filter(\"CHIPTYPE\") for chain in card.chains])\n",
    "\n",
    "for iCard, card in enumerate(soc.adc_cards):\n",
    "    if card is None:\n",
    "        print(\"ADC card %d: empty\"%(iCard))\n",
    "    elif isinstance(card, AdcDcCard216):\n",
    "        print(\"ADC card %d: DC??\"%(iCard), card.chains)\n",
    "    elif isinstance(card, AdcRfCard216):\n",
    "        print(\"ADC card %d: RF\"%(iCard))\n",
    "        print(\"filters:\", [chain.read_filter(\"CHIPTYPE\") for chain in card.chains])\n"
   ]
  },
  {
   "cell_type": "code",
   "execution_count": 6,
   "id": "d8bd7a7f",
   "metadata": {},
   "outputs": [
    {
     "name": "stdout",
     "output_type": "stream",
     "text": [
      "0 None\n",
      "1 None\n",
      "2 None\n",
      "3 None\n",
      "4 <qick.rfboard.DacDcChain216 object at 0xffff64379bd0>\n",
      "4\n",
      "5 <qick.rfboard.DacDcChain216 object at 0xffff64379c60>\n",
      "5\n",
      "6 <qick.rfboard.DacDcChain216 object at 0xffff64379b70>\n",
      "6\n",
      "7 <qick.rfboard.DacDcChain216 object at 0xffff64379c90>\n",
      "7\n",
      "8 None\n",
      "9 None\n",
      "10 None\n",
      "11 None\n",
      "12 <qick.rfboard.DacRfChain216 object at 0xffff64379db0>\n",
      "12\n",
      "13 <qick.rfboard.DacRfChain216 object at 0xffff64379f30>\n",
      "13\n",
      "14 <qick.rfboard.DacRfChain216 object at 0xffff6437a080>\n",
      "14\n",
      "15 <qick.rfboard.DacRfChain216 object at 0xffff6437a1d0>\n",
      "15\n"
     ]
    }
   ],
   "source": [
    "for i, gen in enumerate(soc.gens):\n",
    "    print(i, gen.rfb_ch)\n",
    "    if isinstance(gen.rfb_ch, Chain216):\n",
    "        print(gen.rfb_ch.global_ch)"
   ]
  },
  {
   "cell_type": "code",
   "execution_count": 7,
   "id": "7bba5075",
   "metadata": {},
   "outputs": [
    {
     "name": "stdout",
     "output_type": "stream",
     "text": [
      "0 <qick.rfboard.AdcRfChain216 object at 0xffff6437a800>\n",
      "4\n",
      "1 <qick.rfboard.AdcDcChain216 object at 0xffff6437aad0>\n",
      "6\n",
      "2 <qick.rfboard.AdcRfChain216 object at 0xffff6437aa10>\n",
      "5\n",
      "3 <qick.rfboard.AdcRfChain216 object at 0xffff6437aa10>\n",
      "5\n",
      "4 <qick.rfboard.AdcRfChain216 object at 0xffff6437aa10>\n",
      "5\n",
      "5 <qick.rfboard.AdcRfChain216 object at 0xffff6437aa10>\n",
      "5\n",
      "6 <qick.rfboard.AdcRfChain216 object at 0xffff6437aa10>\n",
      "5\n",
      "7 <qick.rfboard.AdcRfChain216 object at 0xffff6437aa10>\n",
      "5\n",
      "8 <qick.rfboard.AdcRfChain216 object at 0xffff6437aa10>\n",
      "5\n",
      "9 <qick.rfboard.AdcRfChain216 object at 0xffff6437aa10>\n",
      "5\n",
      "10 <qick.rfboard.AdcDcChain216 object at 0xffff6437a2c0>\n",
      "0\n"
     ]
    }
   ],
   "source": [
    "for i, buf in enumerate(soc.avg_bufs):\n",
    "    print(i, buf.rfb_ch)\n",
    "    if isinstance(buf.rfb_ch, Chain216):\n",
    "        print(buf.rfb_ch.global_ch)"
   ]
  },
  {
   "cell_type": "code",
   "execution_count": 8,
   "id": "4bab550f",
   "metadata": {},
   "outputs": [
    {
     "name": "stdout",
     "output_type": "stream",
     "text": [
      "card 0: ID 15\n",
      "card 1: ID 1\n",
      "card 2: ID 15\n",
      "card 3: ID 3\n",
      "card 4: ID 0\n",
      "card 5: ID 15\n",
      "card 6: ID 2\n",
      "card 7: ID 15\n"
     ]
    }
   ],
   "source": [
    "for card_num in range(8):\n",
    "    soc.board_sel.enable(board_id=card_num)                             \n",
    "    if card_num<4: # DAC\n",
    "        gpio = GpioMCP23S08(soc.filter_spi, ch_en=4, dev_addr=0, iodir=0xf0)\n",
    "    else: # ADC\n",
    "        gpio = GpioMCP23S08(soc.filter_spi, ch_en=2, dev_addr=0, iodir=0xf0)\n",
    "    card_id = gpio.read_reg(\"GPIO_REG\") >> 4                             \n",
    "    print(\"card %d: ID %d\"%(card_num, card_id))                \n"
   ]
  },
  {
   "cell_type": "code",
   "execution_count": 9,
   "id": "7f8c6958",
   "metadata": {},
   "outputs": [
    {
     "name": "stdout",
     "output_type": "stream",
     "text": [
      "read bias: 0.0\n",
      "set bias: 1.0000038146972656\n",
      "read bias: 1.0000038146972656\n"
     ]
    }
   ],
   "source": [
    "print(\"read bias:\", soc.rfb_get_bias(0))\n",
    "print(\"set bias:\", soc.rfb_set_bias(0, 1.0))\n",
    "print(\"read bias:\", soc.rfb_get_bias(0))"
   ]
  },
  {
   "cell_type": "code",
   "execution_count": 10,
   "id": "6c7717da",
   "metadata": {},
   "outputs": [],
   "source": [
    "import xrfdc\n",
    "\n",
    "# 0x0000F000 is only used by DAC, I think\n",
    "# 0x03000000 is not used?\n",
    "# https://docs.amd.com/r/en-US/pg269-rf-data-converter/XRFdc_IntrEnable\n",
    "# https://docs.amd.com/r/en-US/pg269-rf-data-converter/Interrupt-Handling\n",
    "# https://github.com/Xilinx/embeddedsw/blob/master/XilinxProcessorIPLib/drivers/rfdc/src/xrfdc_hw.h\n",
    "\n",
    "def clear_interrupts(soc, verbose=False):\n",
    "    interrupt_masks = [\n",
    "        (0x0000000F, \"XRFDC_IXR_FIFOUSRDAT_MASK\"), # FIFO over/underflow, linked to XRFDC_ADC_FIFO_OVR_MASK?\n",
    "        (0x00000FF0, \"XRFDC_ADC_IXR_DATAPATH_MASK\"), # overflow/saturation in datapath (e.g. decimation), linked to XRFDC_ADC_DAT_OVR_MASK?\n",
    "        (0x00FF0000, \"XRFDC_SUBADC_IXR_DCDR_MASK\"), # analog input over/under full-scale range for individual sub-ADCs, linked to OVR_RANGE interrupt\n",
    "        (0x04000000, \"XRFDC_ADC_OVR_VOLTAGE_MASK\"), # analog input exceeding ADC safe range - gen3 RFSoC\n",
    "        (0x08000000, \"XRFDC_ADC_OVR_RANGE_MASK\"), # analog input exceeding ADC full-scale range\n",
    "        (0x10000000, \"XRFDC_ADC_CMODE_OVR_MASK\"), # analog input common-mode voltage above spec - gen3 RFSoC\n",
    "        (0x20000000, \"XRFDC_ADC_CMODE_UNDR_MASK\"), # analog input common-mode voltage below spec - gen3 RFSoC\n",
    "        (0x40000000, \"XRFDC_ADC_DAT_OVR_MASK\"),\n",
    "        (0x80000000, \"XRFDC_ADC_FIFO_OVR_MASK\"),\n",
    "    ]\n",
    "    arr = xrfdc._ffi.new(\"unsigned int [1]\")\n",
    "    allclear = False\n",
    "    attempts = 0\n",
    "    maxattempts = 5\n",
    "    while not allclear:\n",
    "        allclear = True\n",
    "        for name, cfg in soc['adcs'].items():\n",
    "            tile, block = cfg['index']\n",
    "            status = xrfdc._lib.XRFdc_GetIntrStatus(soc.rf._instance, xrfdc._lib.XRFDC_ADC_TILE,tile,block,arr)\n",
    "            if status != 0: print(\"error in reading interrupts:\", status)\n",
    "            interrupts = arr[0]\n",
    "            if interrupts != 0:\n",
    "                allclear = False\n",
    "                names = []\n",
    "                for mask, name in interrupt_masks:\n",
    "                    if (mask & interrupts) != 0:\n",
    "                        interrupts &= 0xFFFFFFFF - mask\n",
    "                        names.append(name)\n",
    "                if interrupts != 0: print(\"unrecognized interrupts:\", interrupts)\n",
    "                if verbose or attempts == 0:\n",
    "                    print(\"pass %d, interrupts on tile %d block %d:\"%(attempts, tile, block), hex(arr[0]), names)\n",
    "                status = xrfdc._lib.XRFdc_IntrClr(soc.rf._instance, xrfdc._lib.XRFDC_ADC_TILE,tile,block,0xffffffff)\n",
    "                if status != 0: print(\"error in clearing interrupts:\", status)\n",
    "        attempts += 1\n",
    "        if attempts >= maxattempts:\n",
    "            print(\"giving up\")\n",
    "            break\n",
    "    if attempts > 1 and attempts < maxattempts:\n",
    "        print(\"successfully cleared all interrupts in %d attempts\"%(attempts-1))"
   ]
  },
  {
   "cell_type": "code",
   "execution_count": 11,
   "id": "e106955a",
   "metadata": {},
   "outputs": [],
   "source": [
    "GEN_CH=15\n",
    "RO_CH=0"
   ]
  },
  {
   "cell_type": "code",
   "execution_count": 12,
   "id": "874cbfad",
   "metadata": {},
   "outputs": [],
   "source": [
    "def print_attenuator(soc, ro_ch):\n",
    "    tile, block = [int(x) for x in soc['readouts'][ro_ch]['adc']]\n",
    "    adc = soc.rf.adc_tiles[tile].blocks[block]\n",
    "    print(adc.DSA)\n",
    "    \n",
    "def set_attenuator(soc, ro_ch, val, verbose=False):\n",
    "    tile, block = [int(x) for x in soc['readouts'][ro_ch]['adc']]\n",
    "    adc = soc.rf.adc_tiles[tile].blocks[block]\n",
    "    if verbose: print(\"before:\", adc.DSA)\n",
    "    adc.DSA['Attenuation'] = val\n",
    "    if verbose: print(\"after:\", adc.DSA)\n",
    "    "
   ]
  },
  {
   "cell_type": "code",
   "execution_count": 102,
   "id": "73d5ed16",
   "metadata": {},
   "outputs": [
    {
     "name": "stdout",
     "output_type": "stream",
     "text": [
      "set DAC attenuators: (0.0, 10.0)\n",
      "set ADC attenuators: 25.0\n"
     ]
    },
    {
     "data": {
      "application/vnd.jupyter.widget-view+json": {
       "model_id": "433c2dc1c52443ec83bd0634b27bcfc5",
       "version_major": 2,
       "version_minor": 0
      },
      "text/plain": [
       "  0%|          | 0/1 [00:00<?, ?it/s]"
      ]
     },
     "metadata": {},
     "output_type": "display_data"
    },
    {
     "name": "stdout",
     "output_type": "stream",
     "text": [
      "{'DisableRTS': 0, 'Attenuation': 0.0}\n",
      "pass 0, interrupts on tile 2 block 0: 0x2cff0000 ['XRFDC_SUBADC_IXR_DCDR_MASK', 'XRFDC_ADC_OVR_VOLTAGE_MASK', 'XRFDC_ADC_OVR_RANGE_MASK', 'XRFDC_ADC_CMODE_UNDR_MASK']\n",
      "pass 1, interrupts on tile 2 block 0: 0x24000000 ['XRFDC_ADC_OVR_VOLTAGE_MASK', 'XRFDC_ADC_CMODE_UNDR_MASK']\n",
      "successfully cleared all interrupts in 2 attempts\n"
     ]
    },
    {
     "data": {
      "image/png": "[encoded data removed]",
      "text/plain": [
       "<Figure size 432x288 with 1 Axes>"
      ]
     },
     "metadata": {
      "needs_background": "light"
     },
     "output_type": "display_data"
    }
   ],
   "source": [
    "class LoopbackProgram(AveragerProgramV2):\n",
    "    def _initialize(self, cfg):\n",
    "        ro_ch = cfg['ro_ch']\n",
    "        gen_ch = cfg['gen_ch']\n",
    "        self.declare_gen(ch=gen_ch, nqz=cfg['nqz'], mixer_freq=cfg['mixer_freq'], ro_ch=ro_ch)\n",
    "        self.declare_readout(ch=ro_ch, length=cfg['ro_len'])\n",
    "        self.add_readoutconfig(ch=ro_ch, name=\"myro\",\n",
    "                               freq=cfg['freq'],\n",
    "                               gen_ch=gen_ch,\n",
    "                               outsel='product')\n",
    "        self.add_cosine(ch=gen_ch, name=\"ramp\", length=cfg['ramp_len'], even_length=True)\n",
    "        self.add_pulse(ch=gen_ch, name=\"mypulse\", ro_ch=ro_ch,\n",
    "#                        style=\"const\",\n",
    "                       style=\"flat_top\", \n",
    "                       envelope=\"ramp\", \n",
    "                       freq=cfg['freq'],\n",
    "                       length=cfg['flat_len'],\n",
    "                       phase=cfg['phase'],\n",
    "                       gain=cfg['gain'],\n",
    "                      )\n",
    "        self.send_readoutconfig(ch=cfg['ro_ch'], name=\"myro\", t=0)\n",
    "    def _body(self, cfg):\n",
    "        self.delay_auto()\n",
    "        self.pulse(ch=cfg['gen_ch'], name=\"mypulse\", t=0.0)\n",
    "        self.trigger(ros=[cfg['ro_ch']], pins=[0], t=cfg['trig_time'], mr=True)\n",
    "\n",
    "config = {'gen_ch': GEN_CH,\n",
    "          'ro_ch': RO_CH,\n",
    "          'mixer_freq': 3000,\n",
    "          'freq': 3000,\n",
    "          'nqz': 1,\n",
    "          'trig_time': 0.0,\n",
    "          'ro_len': 3.0,\n",
    "          'flat_len': 1.0,\n",
    "          'ramp_len': 1.0,\n",
    "          'phase': 0,\n",
    "          'gain': 1.0\n",
    "         }\n",
    "prog = LoopbackProgram(soccfg, reps=1, final_delay=0.5, cfg=config)\n",
    "freq = config['freq']\n",
    "soc.rfb_set_gen_filter(config['gen_ch'], fc=freq/1000, ftype='bandpass', bw=1.0)\n",
    "soc.rfb_set_ro_filter(config['ro_ch'], fc=freq/1000, ftype='bandpass', bw=1.0)\n",
    "set_attenuator(soc, RO_CH, 0)\n",
    "# soc.rfb_set_gen_filter(config['gen_ch'], fc=freq/1000, ftype='lowpass', bw=1.0)\n",
    "# soc.rfb_set_ro_filter(config['ro_ch'], fc=freq/1000, ftype='lowpass', bw=1.0)\n",
    "\n",
    "# with RO filter bypassed, the ADC goes overrange on noise\n",
    "# set_attenuator(soc, RO_CH, 10)\n",
    "# soc.rfb_set_gen_filter(GEN_CH, fc=0, ftype='bypass')\n",
    "# soc.rfb_set_ro_filter(RO_CH, fc=0, ftype='bypass')\n",
    "print(\"set DAC attenuators:\", soc.rfb_set_gen_rf(config['gen_ch'], 0, 10))\n",
    "print(\"set ADC attenuators:\", soc.rfb_set_ro_rf(config['ro_ch'], 25))\n",
    "\n",
    "# clear_interrupts(soc)\n",
    "iq_list = prog.acquire_decimated(soc, soft_avgs=1)\n",
    "print_attenuator(soc, RO_CH)\n",
    "clear_interrupts(soc, verbose=True)\n",
    "\n",
    "t = prog.get_time_axis(ro_index=0)\n",
    "iq = iq_list[0]\n",
    "plt.plot(t, iq[:,0], label=\"I value\")\n",
    "plt.plot(t, iq[:,1], label=\"Q value\")\n",
    "plt.plot(t, np.abs(iq.dot((1,1j))), label=\"magnitude\")\n",
    "plt.legend()\n",
    "plt.ylabel(\"amplitude [ADU]\")\n",
    "plt.xlabel(\"time [us]\");"
   ]
  },
  {
   "cell_type": "code",
   "execution_count": 220,
   "id": "67f9f2e8",
   "metadata": {},
   "outputs": [],
   "source": []
  },
  {
   "cell_type": "code",
   "execution_count": 268,
   "id": "a73c0d84",
   "metadata": {},
   "outputs": [],
   "source": [
    "# consts from https://github.com/Xilinx/embeddedsw/blob/master/XilinxProcessorIPLib/drivers/rfdc/src/xrfdc.h\n",
    "XRFDC_CAL_BLOCK_OCB1=0\n",
    "XRFDC_CAL_BLOCK_OCB2=1\n",
    "XRFDC_CAL_BLOCK_GCB =2\n",
    "XRFDC_CAL_BLOCK_TSCB=3\n",
    "def get_adc_offsets(soc, ro_ch):\n",
    "    \"\"\"get the offset constants for the specified ADC\n",
    "    \"\"\"\n",
    "    tile, block = [int(x) for x in soc['readouts'][ro_ch]['adc']]\n",
    "    adc = soc.rf.adc_tiles[tile].blocks[block]\n",
    "    a = xrfdc._ffi.new(\"XRFdc_Calibration_Coefficients *\")\n",
    "    adc.GetCalCoefficients(XRFDC_CAL_BLOCK_OCB2, a)\n",
    "    return [getattr(a, 'Coeff%d'%(i)) for i in range(4)]\n",
    "\n",
    "def set_adc_offsets(soc, ro_ch, offsets):\n",
    "    \"\"\"set the offset constants for the specified ADC\n",
    "    \"\"\"\n",
    "    tile, block = [int(x) for x in soc['readouts'][ro_ch]['adc']]\n",
    "    adc = soc.rf.adc_tiles[tile].blocks[block]\n",
    "    a = xrfdc._ffi.new(\"XRFdc_Calibration_Coefficients *\")\n",
    "    for i in range(4):\n",
    "        setattr(a, 'Coeff%d'%(i), offsets[i])\n",
    "    adc.SetCalCoefficients(XRFDC_CAL_BLOCK_OCB2, a)\n",
    "\n",
    "def adjust_adc_offsets(soc, ro_ch, change):\n",
    "    \"\"\"increment the offset constants for the specified ADC\n",
    "    \"\"\"\n",
    "    tile, block = [int(x) for x in soc['readouts'][ro_ch]['adc']]\n",
    "    adc = soc.rf.adc_tiles[tile].blocks[block]\n",
    "    a = xrfdc._ffi.new(\"XRFdc_Calibration_Coefficients *\")\n",
    "    adc.GetCalCoefficients(XRFDC_CAL_BLOCK_OCB2, a)\n",
    "    for i in range(4):\n",
    "        offset = getattr(a, 'Coeff%d'%(i))\n",
    "#         print(offset)\n",
    "        offset = (offset+change)%65536\n",
    "        setattr(a, 'Coeff%d'%(i), offset)\n",
    "    adc.SetCalCoefficients(XRFDC_CAL_BLOCK_OCB2, a)\n",
    "    \n",
    "# cal_orig = get_adc_offsets(soc, RO_DC_CH)\n",
    "# set_adc_offsets(soc, RO_DC_CH, cal_orig)\n",
    "# print(get_adc_offsets(soc, RO_DC_CH))\n",
    "\n",
    "\n",
    "def restart_tile(soc, ro_ch):\n",
    "    \"\"\"just restart the whole ADC tile, as a brute-force way to rerun the offset calibration\n",
    "    whatever voltage the ADC is seeing when you run this, it's going to become 0 ADU\n",
    "    if you run this with DC-in disabled, 0 V on input will end up 0 ADU (more or less)\n",
    "    if you run this with DC-in enabled and gain set to whatever you plan to use, \"baseline\" will be 0 ADU\n",
    "    there is probably no universally good choice!\n",
    "    \"\"\"\n",
    "    tile, block = [int(x) for x in soc['readouts'][ro_ch]['adc']]\n",
    "    adc_tile = soc.rf.adc_tiles[tile]\n",
    "    adc_tile.Reset()"
   ]
  },
  {
   "cell_type": "code",
   "execution_count": 15,
   "id": "c5effe16",
   "metadata": {},
   "outputs": [],
   "source": [
    "GEN_DC_CH=7\n",
    "RO_DC_CH=10"
   ]
  },
  {
   "cell_type": "markdown",
   "id": "65e1a383",
   "metadata": {},
   "source": [
    "DC pulse on DC-out and DC-in (note the differentiating effect of the DC-in's AC-coupled input)"
   ]
  },
  {
   "cell_type": "code",
   "execution_count": 267,
   "id": "52fd15a8",
   "metadata": {},
   "outputs": [
    {
     "name": "stdout",
     "output_type": "stream",
     "text": [
      "set ADC gain: 0\n",
      "read ADC gain: 0\n"
     ]
    },
    {
     "data": {
      "application/vnd.jupyter.widget-view+json": {
       "model_id": "cae1f5ba2d7445eaa660d5ad48ef8dc3",
       "version_major": 2,
       "version_minor": 0
      },
      "text/plain": [
       "  0%|          | 0/1 [00:00<?, ?it/s]"
      ]
     },
     "metadata": {},
     "output_type": "display_data"
    },
    {
     "data": {
      "image/png": "[encoded data removed]",
      "text/plain": [
       "<Figure size 432x288 with 1 Axes>"
      ]
     },
     "metadata": {
      "needs_background": "light"
     },
     "output_type": "display_data"
    }
   ],
   "source": [
    "config = {'gen_ch': GEN_DC_CH,\n",
    "          'ro_ch': RO_DC_CH,\n",
    "          'mixer_freq': 0,\n",
    "          'freq': 0,\n",
    "          'nqz': 1,\n",
    "          'trig_time': 0.0,\n",
    "          'ro_len': 6.0,\n",
    "          'flat_len': 3.0,\n",
    "          'ramp_len': 1.0,\n",
    "          'phase': 0,\n",
    "          'gain': 1.0\n",
    "         }\n",
    "prog = LoopbackProgram(soccfg, reps=1, final_delay=0.5, cfg=config)\n",
    "\n",
    "set_attenuator(soc, RO_DC_CH, 0)\n",
    "soc.rfb_set_gen_dc(GEN_DC_CH)\n",
    "\n",
    "print(\"set ADC gain:\", soc.rfb_set_ro_dc(RO_DC_CH, 0))\n",
    "print(\"read ADC gain:\", soc.avg_bufs[RO_DC_CH].rfb_ch.get_gain())\n",
    "\n",
    "# to power-down the DC-in amp:\n",
    "# soc.avg_bufs[RO_DC_CH].rfb_ch.disable()\n",
    "\n",
    "# to power-down the DC-out amp:\n",
    "# soc.gens[GEN_DC_CH].rfb_ch.disable()\n",
    "\n",
    "# restart the ADC tile!\n",
    "restart_tile(soc, RO_DC_CH)\n",
    "\n",
    "clear_interrupts(soc, verbose=True)\n",
    "iq_list = prog.acquire_decimated(soc, soft_avgs=1)\n",
    "clear_interrupts(soc, verbose=True)\n",
    "\n",
    "t = prog.get_time_axis(ro_index=0)\n",
    "iq = iq_list[0]\n",
    "plt.plot(t, iq[:,0], label=\"I value\")\n",
    "# plt.plot(t, iq[:,1], label=\"Q value\")\n",
    "# plt.plot(t, np.abs(iq.dot((1,1j))), label=\"magnitude\")\n",
    "plt.legend()\n",
    "plt.ylabel(\"amplitude [ADU]\")\n",
    "plt.xlabel(\"time [us]\");"
   ]
  },
  {
   "cell_type": "code",
   "execution_count": 256,
   "id": "248c4f64",
   "metadata": {},
   "outputs": [
    {
     "data": {
      "application/vnd.jupyter.widget-view+json": {
       "model_id": "f4dc002c0b2d4528aa34d8b6c8e68369",
       "version_major": 2,
       "version_minor": 0
      },
      "text/plain": [
       "  0%|          | 0/1 [00:00<?, ?it/s]"
      ]
     },
     "metadata": {},
     "output_type": "display_data"
    },
    {
     "name": "stdout",
     "output_type": "stream",
     "text": [
      "mean value -0.014650, adding 0 to ADC offsets\n"
     ]
    },
    {
     "data": {
      "image/png": "[encoded data removed]",
      "text/plain": [
       "<Figure size 432x288 with 1 Axes>"
      ]
     },
     "metadata": {
      "needs_background": "light"
     },
     "output_type": "display_data"
    }
   ],
   "source": [
    "# run with DC-in disabled, to calibrate the ADC offset\n",
    "\n",
    "# power-down the DC-in amp:\n",
    "soc.avg_bufs[RO_DC_CH].rfb_ch.disable()\n",
    "\n",
    "clear_interrupts(soc, verbose=True)\n",
    "iq_list = prog.acquire_decimated(soc, soft_avgs=1)\n",
    "clear_interrupts(soc, verbose=True)\n",
    "\n",
    "t = prog.get_time_axis(ro_index=0)\n",
    "iq = iq_list[0]\n",
    "plt.plot(t, iq[:,0], label=\"I value\")\n",
    "plt.legend()\n",
    "plt.ylabel(\"amplitude [ADU]\")\n",
    "plt.xlabel(\"time [us]\");\n",
    "\n",
    "# 3.88 is ad-hoc (more or less what I observe), no idea where it comes from\n",
    "mean_val = iq[:,0].mean()\n",
    "offset_correction = int(np.round(mean_val*3.88))\n",
    "print(\"mean value %f, adding %d to ADC offsets\"%(mean_val, offset_correction))\n",
    "adjust_adc_offsets(soc, RO_DC_CH, offset_correction)"
   ]
  },
  {
   "cell_type": "markdown",
   "id": "e4088f16",
   "metadata": {},
   "source": [
    "observations about ADC offsets:\n",
    "* I measured the voltage on the DC-out output: -40 mV with DC-out enabled but 0 output, 1 V with DC-out disabled (because there's a signal path through the LMH5401 feedback resistors - annoying, might be worth warning people about)\n",
    "* for purposes of calibrating the ADC offset, disabling the DC-in seems to be almost as good as terminating the input: I get similar readout values to terminating the input (to within a few ADU), even when I swing the input to 1V by disabling the DC-out"
   ]
  },
  {
   "cell_type": "code",
   "execution_count": 148,
   "id": "0a0af827",
   "metadata": {},
   "outputs": [
    {
     "name": "stdout",
     "output_type": "stream",
     "text": [
      "65535\n",
      "65528\n",
      "41\n",
      "75\n"
     ]
    }
   ],
   "source": [
    "adjust_adc_offsets(soc, RO_DC_CH, -28*4)"
   ]
  },
  {
   "cell_type": "code",
   "execution_count": 105,
   "id": "b2a7e570",
   "metadata": {},
   "outputs": [
    {
     "data": {
      "application/vnd.jupyter.widget-view+json": {
       "model_id": "5553637026a240239c1eae479aa33516",
       "version_major": 2,
       "version_minor": 0
      },
      "text/plain": [
       "  0%|          | 0/1 [00:00<?, ?it/s]"
      ]
     },
     "metadata": {},
     "output_type": "display_data"
    },
    {
     "data": {
      "image/png": "[encoded data removed]",
      "text/plain": [
       "<Figure size 432x288 with 1 Axes>"
      ]
     },
     "metadata": {
      "needs_background": "light"
     },
     "output_type": "display_data"
    }
   ],
   "source": [
    "soc.arm_mr(ch=config['ro_ch'])\n",
    "iq_list = prog.acquire_decimated(soc, soft_avgs=1)\n",
    "# look at the MR buffer just to see it works\n",
    "iq_mr = soc.get_mr()\n",
    "t = prog.get_time_axis_mr(config['ro_ch'], iq_mr)\n",
    "plt.plot(t, iq_mr[:,0],label=\"I\")\n",
    "plt.plot(t, iq_mr[:,1],label=\"Q\")\n",
    "plt.xlabel(\"us\")\n",
    "plt.legend();"
   ]
  },
  {
   "cell_type": "code",
   "execution_count": 108,
   "id": "6aab2749",
   "metadata": {},
   "outputs": [
    {
     "data": {
      "text/plain": [
       "array([-10.16642229,   0.        ])"
      ]
     },
     "execution_count": 108,
     "metadata": {},
     "output_type": "execute_result"
    }
   ],
   "source": [
    "iq_mr.mean(axis=0)"
   ]
  },
  {
   "cell_type": "code",
   "execution_count": null,
   "id": "22e3fdc0",
   "metadata": {},
   "outputs": [],
   "source": [
    "def set_adc_offsets(soc, ro_ch, offsets):\n",
    "    tile, block = [int(x) for x in soc['readouts'][ro_ch]['adc']]\n",
    "    adc = soc.rf.adc_tiles[tile].blocks[block]\n",
    "    a = xrfdc._ffi.new(\"XRFdc_Calibration_Coefficients *\")\n",
    "    for i in range(4):\n",
    "        setattr(a, 'Coeff%d'%(i), offsets)\n",
    "    adc.SetCalCoefficients(XRFDC_CAL_BLOCK_OCB2, a)\n",
    "#     return [getattr(a, 'Coeff%d'%(i)) for i in range(4)]"
   ]
  },
  {
   "cell_type": "code",
   "execution_count": 75,
   "id": "a0b665c4",
   "metadata": {},
   "outputs": [],
   "source": [
    "\n",
    "\n",
    "\n",
    "a = xrfdc._ffi.new(\"XRFdc_Calibration_Coefficients *\")\n",
    "adc.GetCalCoefficients(XRFDC_CAL_BLOCK_OCB2, a)\n",
    "cal_orig = [getattr(a, 'Coeff%d'%(i)) for i in range(8)]\n",
    "# for i in range(8):\n",
    "#     name = 'Coeff%d'%(i)\n",
    "#     print(getattr(a, name))"
   ]
  },
  {
   "cell_type": "code",
   "execution_count": 99,
   "id": "53f413c8",
   "metadata": {},
   "outputs": [],
   "source": [
    "a = xrfdc._ffi.new(\"XRFdc_Calibration_Coefficients *\")\n",
    "# adc.GetCalCoefficients(XRFDC_CAL_BLOCK_OCB2, a)\n",
    "for i in range(8):\n",
    "    name = 'Coeff%d'%(i)\n",
    "    if i<4:\n",
    "        setattr(a, name, cal_orig[i]+3200)\n",
    "# cal_orig = [getattr(a, 'Coeff%d'%(i)) for i in range(4)]\n",
    "adc.SetCalCoefficients(XRFDC_CAL_BLOCK_OCB2, a)"
   ]
  },
  {
   "cell_type": "code",
   "execution_count": 78,
   "id": "2c786f68",
   "metadata": {},
   "outputs": [
    {
     "name": "stdout",
     "output_type": "stream",
     "text": [
      "62239\n",
      "62232\n",
      "62281\n",
      "62315\n",
      "0\n",
      "0\n",
      "0\n",
      "0\n"
     ]
    }
   ],
   "source": [
    "for i in range(8):\n",
    "    name = 'Coeff%d'%(i)\n",
    "    print(getattr(a, name))\n",
    "    \n"
   ]
  },
  {
   "cell_type": "code",
   "execution_count": 115,
   "id": "59bfb4bf",
   "metadata": {},
   "outputs": [
    {
     "data": {
      "text/plain": [
       "{'CalFrozen': 0, 'DisableFreezePin': 0, 'FreezeCalibration': 0}"
      ]
     },
     "execution_count": 115,
     "metadata": {},
     "output_type": "execute_result"
    }
   ],
   "source": [
    "# docs say setting cal coeffs disables real-time cal, but seems likely this is only true for the cal blocks that run in real time\n",
    "# https://docs.amd.com/r/en-US/pg269-rf-data-converter/Getting/Setting-Calibration-Coefficients\n",
    "adc.CalFreeze"
   ]
  },
  {
   "cell_type": "code",
   "execution_count": 24,
   "id": "b5f6ce66",
   "metadata": {},
   "outputs": [
    {
     "data": {
      "text/plain": [
       "['CLK_SRC_EXT',\n",
       " 'CLK_SRC_PLL',\n",
       " 'COARSE_MIX_BYPASS',\n",
       " 'COARSE_MIX_MIN_SAMPLE_FREQ_BY_FOUR',\n",
       " 'COARSE_MIX_OFF',\n",
       " 'COARSE_MIX_SAMPLE_FREQ_BY_FOUR',\n",
       " 'COARSE_MIX_SAMPLE_FREQ_BY_TWO',\n",
       " 'EVENT_CRSE_DLY',\n",
       " 'EVENT_MIXER',\n",
       " 'EVENT_QMC',\n",
       " 'EVNT_SRC_IMMEDIATE',\n",
       " 'EVNT_SRC_MARKER',\n",
       " 'EVNT_SRC_PL',\n",
       " 'EVNT_SRC_SLICE',\n",
       " 'EVNT_SRC_SYSREF',\n",
       " 'EVNT_SRC_TILE',\n",
       " 'FAB_CLK_DIV1',\n",
       " 'FAB_CLK_DIV16',\n",
       " 'FAB_CLK_DIV2',\n",
       " 'FAB_CLK_DIV4',\n",
       " 'FAB_CLK_DIV8',\n",
       " 'MIXER_MODE_C2C',\n",
       " 'MIXER_MODE_C2R',\n",
       " 'MIXER_MODE_OFF',\n",
       " 'MIXER_MODE_R2C',\n",
       " 'MIXER_MODE_R2R',\n",
       " 'MIXER_SCALE_0P7',\n",
       " 'MIXER_SCALE_1P0',\n",
       " 'MIXER_SCALE_AUTO',\n",
       " 'MIXER_TYPE_COARSE',\n",
       " 'MIXER_TYPE_FINE',\n",
       " 'MIXER_TYPE_OFF',\n",
       " 'PropertyDict',\n",
       " 'RFdc',\n",
       " 'RFdcAdcBlock',\n",
       " 'RFdcAdcTile',\n",
       " 'RFdcBlock',\n",
       " 'RFdcDacBlock',\n",
       " 'RFdcDacTile',\n",
       " 'RFdcThreshold',\n",
       " 'RFdcTile',\n",
       " 'THRESHOLD_CLRMD_AUTO_CLR',\n",
       " 'THRESHOLD_CLRMD_MANUAL_CLR',\n",
       " 'TRSHD_HYSTERISIS',\n",
       " 'TRSHD_OFF',\n",
       " 'TRSHD_STICKY_OVER',\n",
       " 'TRSHD_STICKY_UNDER',\n",
       " '_THIS_DIR',\n",
       " '__builtins__',\n",
       " '__cached__',\n",
       " '__doc__',\n",
       " '__file__',\n",
       " '__loader__',\n",
       " '__name__',\n",
       " '__package__',\n",
       " '__path__',\n",
       " '__spec__',\n",
       " '_adc_props',\n",
       " '_block_props',\n",
       " '_create_c_property',\n",
       " '_dac_props',\n",
       " '_ffi',\n",
       " '_lib',\n",
       " '_pack_value',\n",
       " '_rfdc_props',\n",
       " '_safe_wrapper',\n",
       " '_tile_props',\n",
       " '_unpack_value',\n",
       " 'cffi',\n",
       " 'config',\n",
       " 'f',\n",
       " 'header_text',\n",
       " 'implicit_read',\n",
       " 'implicit_write',\n",
       " 'name',\n",
       " 'os',\n",
       " 'pipes',\n",
       " 'pynq',\n",
       " 'readonly',\n",
       " 'typename',\n",
       " 'warnings',\n",
       " 'writeonly']"
      ]
     },
     "execution_count": 24,
     "metadata": {},
     "output_type": "execute_result"
    }
   ],
   "source": [
    "dir(xrfdc)"
   ]
  },
  {
   "cell_type": "code",
   "execution_count": 22,
   "id": "4c39ca4b",
   "metadata": {},
   "outputs": [
    {
     "data": {
      "text/plain": [
       "['XRFDC_ADC_TILE',\n",
       " 'XRFDC_DAC_TILE',\n",
       " 'XRFdc_CfgInitialize',\n",
       " 'XRFdc_DisableCoefficientsOverride',\n",
       " 'XRFdc_DumpRegs',\n",
       " 'XRFdc_DynamicPLLConfig',\n",
       " 'XRFdc_GetBlockStatus',\n",
       " 'XRFdc_GetCalCoefficients',\n",
       " 'XRFdc_GetCalFreeze',\n",
       " 'XRFdc_GetCalibrationMode',\n",
       " 'XRFdc_GetClkDistribution',\n",
       " 'XRFdc_GetClockSource',\n",
       " 'XRFdc_GetCoarseDelaySettings',\n",
       " 'XRFdc_GetConnectedIData',\n",
       " 'XRFdc_GetConnectedIQData',\n",
       " 'XRFdc_GetConnectedQData',\n",
       " 'XRFdc_GetDACCompMode',\n",
       " 'XRFdc_GetDSA',\n",
       " 'XRFdc_GetDataPathMode',\n",
       " 'XRFdc_GetDecimationFactor',\n",
       " 'XRFdc_GetDecimationFactorObs',\n",
       " 'XRFdc_GetDecoderMode',\n",
       " 'XRFdc_GetDither',\n",
       " 'XRFdc_GetEnabledInterrupts',\n",
       " 'XRFdc_GetFIFOStatus',\n",
       " 'XRFdc_GetFIFOStatusObs',\n",
       " 'XRFdc_GetFabClkOutDiv',\n",
       " 'XRFdc_GetFabRdVldWords',\n",
       " 'XRFdc_GetFabRdVldWordsObs',\n",
       " 'XRFdc_GetFabWrVldWords',\n",
       " 'XRFdc_GetFabWrVldWordsObs',\n",
       " 'XRFdc_GetIMRPassMode',\n",
       " 'XRFdc_GetIPStatus',\n",
       " 'XRFdc_GetInterpolationFactor',\n",
       " 'XRFdc_GetIntrStatus',\n",
       " 'XRFdc_GetInvSincFIR',\n",
       " 'XRFdc_GetLinkCoupling',\n",
       " 'XRFdc_GetMixerSettings',\n",
       " 'XRFdc_GetNyquistZone',\n",
       " 'XRFdc_GetOutputCurr',\n",
       " 'XRFdc_GetPLLConfig',\n",
       " 'XRFdc_GetPLLLockStatus',\n",
       " 'XRFdc_GetPwrMode',\n",
       " 'XRFdc_GetQMCSettings',\n",
       " 'XRFdc_GetSignalDetector',\n",
       " 'XRFdc_GetThresholdSettings',\n",
       " 'XRFdc_IntrClr',\n",
       " 'XRFdc_IntrDisable',\n",
       " 'XRFdc_IntrEnable',\n",
       " 'XRFdc_IntrHandler',\n",
       " 'XRFdc_LookupConfig',\n",
       " 'XRFdc_MultiBand',\n",
       " 'XRFdc_RegisterMetal',\n",
       " 'XRFdc_Reset',\n",
       " 'XRFdc_ResetInternalFIFOWidth',\n",
       " 'XRFdc_ResetInternalFIFOWidthObs',\n",
       " 'XRFdc_ResetNCOPhase',\n",
       " 'XRFdc_SetCalCoefficients',\n",
       " 'XRFdc_SetCalFreeze',\n",
       " 'XRFdc_SetCalibrationMode',\n",
       " 'XRFdc_SetClkDistribution',\n",
       " 'XRFdc_SetCoarseDelaySettings',\n",
       " 'XRFdc_SetDACCompMode',\n",
       " 'XRFdc_SetDACVOP',\n",
       " 'XRFdc_SetDSA',\n",
       " 'XRFdc_SetDataPathMode',\n",
       " 'XRFdc_SetDecimationFactor',\n",
       " 'XRFdc_SetDecimationFactorObs',\n",
       " 'XRFdc_SetDecoderMode',\n",
       " 'XRFdc_SetDither',\n",
       " 'XRFdc_SetFabClkOutDiv',\n",
       " 'XRFdc_SetFabRdVldWords',\n",
       " 'XRFdc_SetFabRdVldWordsObs',\n",
       " 'XRFdc_SetFabWrVldWords',\n",
       " 'XRFdc_SetIMRPassMode',\n",
       " 'XRFdc_SetInterpolationFactor',\n",
       " 'XRFdc_SetInvSincFIR',\n",
       " 'XRFdc_SetMixerSettings',\n",
       " 'XRFdc_SetNyquistZone',\n",
       " 'XRFdc_SetPwrMode',\n",
       " 'XRFdc_SetQMCSettings',\n",
       " 'XRFdc_SetSignalDetector',\n",
       " 'XRFdc_SetStatusHandler',\n",
       " 'XRFdc_SetThresholdClrMode',\n",
       " 'XRFdc_SetThresholdSettings',\n",
       " 'XRFdc_SetupFIFO',\n",
       " 'XRFdc_SetupFIFOBoth',\n",
       " 'XRFdc_SetupFIFOObs',\n",
       " 'XRFdc_Shutdown',\n",
       " 'XRFdc_StartUp',\n",
       " 'XRFdc_ThresholdStickyClear',\n",
       " 'XRFdc_UpdateEvent']"
      ]
     },
     "execution_count": 22,
     "metadata": {},
     "output_type": "execute_result"
    }
   ],
   "source": [
    "dir(xrfdc._lib)"
   ]
  },
  {
   "cell_type": "code",
   "execution_count": 36,
   "id": "34630d8d",
   "metadata": {},
   "outputs": [
    {
     "ename": "AttributeError",
     "evalue": "XRFdc_Calibration_Coefficients",
     "output_type": "error",
     "traceback": [
      "\u001b[0;31m---------------------------------------------------------------------------\u001b[0m",
      "\u001b[0;31mAttributeError\u001b[0m                            Traceback (most recent call last)",
      "Input \u001b[0;32mIn [36]\u001b[0m, in \u001b[0;36m<cell line: 1>\u001b[0;34m()\u001b[0m\n\u001b[0;32m----> 1\u001b[0m \u001b[43mxrfdc\u001b[49m\u001b[38;5;241;43m.\u001b[39;49m\u001b[43m_lib\u001b[49m\u001b[38;5;241;43m.\u001b[39;49m\u001b[43mXRFdc_Calibration_Coefficients\u001b[49m\n",
      "File \u001b[0;32m/usr/lib/python3/dist-packages/cffi/api.py:912\u001b[0m, in \u001b[0;36m_make_ffi_library.<locals>.FFILibrary.__getattr__\u001b[0;34m(self, name)\u001b[0m\n\u001b[1;32m    911\u001b[0m \u001b[38;5;28;01mdef\u001b[39;00m \u001b[38;5;21m__getattr__\u001b[39m(\u001b[38;5;28mself\u001b[39m, name):\n\u001b[0;32m--> 912\u001b[0m     \u001b[43mmake_accessor\u001b[49m\u001b[43m(\u001b[49m\u001b[43mname\u001b[49m\u001b[43m)\u001b[49m\n\u001b[1;32m    913\u001b[0m     \u001b[38;5;28;01mreturn\u001b[39;00m \u001b[38;5;28mgetattr\u001b[39m(\u001b[38;5;28mself\u001b[39m, name)\n",
      "File \u001b[0;32m/usr/lib/python3/dist-packages/cffi/api.py:907\u001b[0m, in \u001b[0;36m_make_ffi_library.<locals>.make_accessor\u001b[0;34m(name)\u001b[0m\n\u001b[1;32m    905\u001b[0m     update_accessors()\n\u001b[1;32m    906\u001b[0m     \u001b[38;5;28;01mif\u001b[39;00m name \u001b[38;5;129;01mnot\u001b[39;00m \u001b[38;5;129;01min\u001b[39;00m accessors:\n\u001b[0;32m--> 907\u001b[0m         \u001b[38;5;28;01mraise\u001b[39;00m \u001b[38;5;167;01mAttributeError\u001b[39;00m(name)\n\u001b[1;32m    908\u001b[0m accessors[name](name)\n",
      "\u001b[0;31mAttributeError\u001b[0m: XRFdc_Calibration_Coefficients"
     ]
    }
   ],
   "source": [
    "xrfdc._lib"
   ]
  },
  {
   "cell_type": "code",
   "execution_count": null,
   "id": "e1799b39",
   "metadata": {},
   "outputs": [],
   "source": []
  },
  {
   "cell_type": "code",
   "execution_count": 16,
   "id": "68b3bdaa",
   "metadata": {},
   "outputs": [
    {
     "name": "stdout",
     "output_type": "stream",
     "text": [
      "set ADC gain: 5\n"
     ]
    },
    {
     "data": {
      "text/plain": [
       "5"
      ]
     },
     "execution_count": 16,
     "metadata": {},
     "output_type": "execute_result"
    }
   ],
   "source": [
    "print(\"set ADC gain:\", soc.rfb_set_ro_dc(RO_DC_CH, 5))\n",
    "soc.avg_bufs[RO_DC_CH].rfb_ch.get_gain()"
   ]
  },
  {
   "cell_type": "code",
   "execution_count": 24,
   "id": "747c816c",
   "metadata": {},
   "outputs": [
    {
     "name": "stdout",
     "output_type": "stream",
     "text": [
      "set ADC gain: 0\n",
      "0x1a\n"
     ]
    }
   ],
   "source": [
    "print(\"set ADC gain:\", soc.rfb_set_ro_dc(RO_DC_CH, 0))\n",
    "\n",
    "with soc.board_sel.enable_context(soc.avg_bufs[RO_DC_CH].rfb_ch.card_num):\n",
    "    print(hex(soc.avg_bufs[RO_DC_CH].rfb_ch.gain.read_reg('GAIN_REG')))"
   ]
  },
  {
   "cell_type": "code",
   "execution_count": 21,
   "id": "25403558",
   "metadata": {},
   "outputs": [
    {
     "data": {
      "text/plain": [
       "26"
      ]
     },
     "execution_count": 21,
     "metadata": {},
     "output_type": "execute_result"
    }
   ],
   "source": [
    "soc.avg_bufs[RO_DC_CH].rfb_ch.gain.Gmax"
   ]
  },
  {
   "cell_type": "code",
   "execution_count": null,
   "id": "2211e137",
   "metadata": {},
   "outputs": [],
   "source": [
    "# soc.axi_dma_avg.set_up_rx_channel()\n",
    "# soc.axi_dma_buf.set_up_rx_channel()"
   ]
  },
  {
   "cell_type": "code",
   "execution_count": null,
   "id": "343a5350",
   "metadata": {},
   "outputs": [],
   "source": [
    "tile, block = [int(x) for x in soc['readouts'][RO_CH]['adc']]\n",
    "print(tile, block)\n",
    "adc = soc.rf.adc_tiles[tile].blocks[block]\n",
    "print(adc.DSA)\n",
    "print(adc.CalFreeze)\n",
    "# adc.CalFreeze['FreezeCalibration'] = 0"
   ]
  },
  {
   "cell_type": "code",
   "execution_count": null,
   "id": "06c1b2fb",
   "metadata": {},
   "outputs": [],
   "source": [
    "# # soc.interrupt_pins\n",
    "# from pynq import Interrupt\n",
    "# irq = Interrupt('usp_rf_data_converter_0/irq')\n",
    "# await irq.wait()"
   ]
  },
  {
   "cell_type": "code",
   "execution_count": null,
   "id": "919ebaa4",
   "metadata": {},
   "outputs": [],
   "source": [
    "from scipy.signal import welch\n",
    "# from numpy.fft import fftshift\n",
    "from matplotlib import colors"
   ]
  },
  {
   "cell_type": "code",
   "execution_count": null,
   "id": "073a9684",
   "metadata": {},
   "outputs": [],
   "source": [
    "def fold_freqs(fs, target_f, freqs):\n",
    "    nqz = 1+np.floor(2*freqs/fs)\n",
    "    sign = (-1)**(1 + nqz%2)\n",
    "    folded_freqs = (sign*freqs) % (fs/2)\n",
    "    \n",
    "    target_nqz = 1+np.floor(2*target_f/fs)\n",
    "    target_sign = (-1)**(1 + target_nqz%2)\n",
    "    return ((target_nqz)//2)*fs + target_sign*folded_freqs"
   ]
  },
  {
   "cell_type": "code",
   "execution_count": null,
   "id": "e8906ecb",
   "metadata": {},
   "outputs": [],
   "source": [
    "class ToneProgram(AveragerProgramV2):\n",
    "    def _initialize(self, cfg):\n",
    "        ro_ch = cfg['ro_ch']\n",
    "        gen_ch = cfg['gen_ch']\n",
    "        self.declare_gen(ch=gen_ch, nqz=cfg['nqz'], mixer_freq=cfg['mixer_freq'], ro_ch=ro_ch)\n",
    "        self.declare_readout(ch=ro_ch, length=cfg['ro_len'])\n",
    "        self.add_readoutconfig(ch=ro_ch, name=\"myro\",\n",
    "                               freq=0)\n",
    "        self.add_pulse(ch=gen_ch, name=\"mypulse\", ro_ch=ro_ch,\n",
    "                       style=\"const\",\n",
    "                       freq=cfg['freq'],\n",
    "                       length=cfg['flat_len'],\n",
    "                       phase=cfg['phase'],\n",
    "                       gain=cfg['gain'],\n",
    "                       mode='periodic'\n",
    "                      )\n",
    "        self.send_readoutconfig(ch=cfg['ro_ch'], name=\"myro\", t=0)\n",
    "        \n",
    "    def _body(self, cfg):\n",
    "        self.pulse(ch=cfg['gen_ch'], name=\"mypulse\", t=0.0)\n",
    "        self.delay_auto()\n",
    "        self.trigger(mr=True, t=1.0)\n",
    "\n",
    "def tone_scan(gen_ch, ro_ch, center_freq, delta_freq, gain=1.0):\n",
    "    config = {'gen_ch': gen_ch,\n",
    "              'ro_ch': ro_ch,\n",
    "              'mixer_freq': center_freq,\n",
    "              'freq': center_freq,\n",
    "              'nqz': 1,\n",
    "              'trig_time': 0.0,\n",
    "              'ro_len': 3.0,\n",
    "              'flat_len': 1.0,\n",
    "              'phase': 0,\n",
    "              'gain': gain\n",
    "             }\n",
    "\n",
    "    fs_adc = soc['readouts'][ro_ch]['fs']\n",
    "    fs_dac = soc['gens'][gen_ch]['fs']\n",
    "\n",
    "    tone_freqs = np.linspace(center_freq-delta_freq, center_freq+delta_freq, 41)\n",
    "    psd_2d = []\n",
    "    for tone_freq in tqdm(tone_freqs):\n",
    "        config['freq'] = tone_freq\n",
    "        prog = ToneProgram(soccfg, reps=1, final_delay=0.5, cfg=config)\n",
    "        soc.arm_mr(ch=config['ro_ch'])\n",
    "        iq_list = prog.run_rounds(soc, rounds=1, progress=False)\n",
    "        soc.reset_gens()\n",
    "        clear_interrupts(soc, verbose=False)\n",
    "\n",
    "        iq = soc.get_mr()\n",
    "#         complex_iq = iq.dot([1,1j])\n",
    "\n",
    "        fft_freqs, psd = welch(iq[:,0], fs_adc, return_onesided=True, detrend=False, nperseg=256)\n",
    "        psd_2d.append(psd)\n",
    "    return fs_dac, fs_adc, tone_freqs, fft_freqs, np.array(psd_2d)\n"
   ]
  },
  {
   "cell_type": "code",
   "execution_count": null,
   "id": "82e60ee0",
   "metadata": {
    "scrolled": false
   },
   "outputs": [],
   "source": [
    "set_attenuator(soc, RO_CH, 5)\n",
    "soc.rfb_set_gen_filter(GEN_CH, fc=0, ftype='bypass')\n",
    "soc.rfb_set_ro_filter(RO_CH, fc=0, ftype='bypass')\n",
    "print(\"set attenuators:\", soc.rfb_set_gen_rf(GEN_CH, 20, 30))\n",
    "print(\"set attenuators:\", soc.rfb_set_ro_rf(RO_CH, 30))\n",
    "\n",
    "fs_dac, fs_adc, tone_freqs, fft_freqs, psd_2d = tone_scan(GEN_CH, RO_CH, center_freq=3000, delta_freq=200, gain=1.0)\n",
    "fig, ax = plt.subplots(figsize=(12,12))\n",
    "plt.colorbar(ax.pcolormesh(tone_freqs, fft_freqs, psd_2d.T, norm=colors.LogNorm()), ax=ax)\n",
    "ax.set_ylabel(\"readout freq [MHz]\")\n",
    "ax.set_xlabel(\"generator freq [MHz]\");\n",
    "plt.plot(tone_freqs, fold_freqs(fs_adc, 0, tone_freqs), color='red', linestyle='solid')\n",
    "plt.plot(tone_freqs, fold_freqs(fs_adc, 0, fs_dac-tone_freqs), color='magenta', linestyle='solid')\n",
    "# plt.plot(tone_freqs, fold_freqs(fs_adc, 0, 2*tone_freqs), color='red', linestyle='dashed')\n",
    "# plt.plot(tone_freqs, fold_freqs(fs_adc, 0, 3*tone_freqs), color='red', linestyle='dotted')\n",
    "# plt.plot(tone_freqs, fold_freqs(fs_adc, 0, 4*tone_freqs), color='red', linestyle='dashdot')\n",
    "\n",
    "\n",
    "# ax.legend()\n",
    "ax.set_ylim((fft_freqs[0], fft_freqs[-1]))"
   ]
  },
  {
   "cell_type": "code",
   "execution_count": null,
   "id": "37287956",
   "metadata": {},
   "outputs": [],
   "source": [
    "unfolded_f = []\n",
    "unfolded_psd = []\n",
    "for i in range(8):\n",
    "    if i%2==0:\n",
    "        unfolded_f.append(((i+1)//2)*fs_adc + fft_freqs[:-1])\n",
    "        unfolded_psd.append(psd_2d[:, :-1])\n",
    "    else:\n",
    "        unfolded_f.append(((i+1)//2)*fs_adc - fft_freqs[:0:-1])\n",
    "        unfolded_psd.append(psd_2d[:, :0:-1])\n",
    "unfolded_f = np.concatenate(unfolded_f)\n",
    "unfolded_psd = np.concatenate(unfolded_psd, axis=1)"
   ]
  },
  {
   "cell_type": "code",
   "execution_count": null,
   "id": "277fa719",
   "metadata": {},
   "outputs": [],
   "source": [
    "from matplotlib import colors\n",
    "fig, ax = plt.subplots(figsize=(12,12))\n",
    "plt.colorbar(ax.pcolormesh(tone_freqs, unfolded_f, unfolded_psd.T, norm=colors.LogNorm()), ax=ax)\n",
    "ax.set_ylabel(\"readout freq [MHz]\")\n",
    "ax.set_xlabel(\"generator freq [MHz]\");\n",
    "plt.plot(tone_freqs, tone_freqs, color='red')\n",
    "plt.plot(tone_freqs, 2*tone_freqs, color='red')\n",
    "plt.plot(tone_freqs, 3*tone_freqs, color='red')\n",
    "\n",
    "plt.plot(tone_freqs, fs_dac-tone_freqs, color='magenta')\n",
    "plt.plot(tone_freqs, fs_dac-2*tone_freqs, color='magenta')\n",
    "plt.plot(tone_freqs, fs_dac-3*tone_freqs, color='magenta')\n",
    "ax.set_ylim((unfolded_f[0], unfolded_f[-1]))"
   ]
  },
  {
   "cell_type": "code",
   "execution_count": null,
   "id": "5d4419cd",
   "metadata": {},
   "outputs": [],
   "source": []
  },
  {
   "cell_type": "code",
   "execution_count": null,
   "id": "c60fecc2",
   "metadata": {},
   "outputs": [],
   "source": [
    "# plt.plot(stacked_f[1:]-stacked_f[:-1])"
   ]
  },
  {
   "cell_type": "code",
   "execution_count": null,
   "id": "29d8b0d6",
   "metadata": {},
   "outputs": [],
   "source": [
    "# plt.plot(iq[:100,0])"
   ]
  },
  {
   "cell_type": "code",
   "execution_count": null,
   "id": "4f2ca2b8",
   "metadata": {},
   "outputs": [],
   "source": [
    "# plt.semilogy(np.concatenate(stacked_f), np.concatenate(stacked_psd))"
   ]
  },
  {
   "cell_type": "code",
   "execution_count": null,
   "id": "8818550a",
   "metadata": {},
   "outputs": [],
   "source": []
  },
  {
   "cell_type": "code",
   "execution_count": null,
   "id": "f48ba470",
   "metadata": {},
   "outputs": [],
   "source": [
    "soc.arm_mr(ch=config['ro_ch'])\n",
    "iq_list = prog.acquire_decimated(soc, soft_avgs=1)\n",
    "# look at the MR buffer just to see it works\n",
    "iq_mr = soc.get_mr()[850:950]\n",
    "t = prog.get_time_axis_mr(config['ro_ch'], iq_mr)\n",
    "plt.plot(t, iq_mr[:,0],label=\"I\")\n",
    "plt.plot(t, iq_mr[:,1],label=\"Q\")\n",
    "plt.xlabel(\"us\")\n",
    "plt.legend();"
   ]
  },
  {
   "cell_type": "code",
   "execution_count": null,
   "id": "0fc428a0",
   "metadata": {},
   "outputs": [],
   "source": [
    "class FreqSweepProgram(AveragerProgramV2): # for int gen and dyn RO\n",
    "    def _initialize(self, cfg):\n",
    "        ro_ch = cfg['ro_ch']\n",
    "        gen_ch = cfg['gen_ch']\n",
    "        \n",
    "        self.declare_gen(ch=gen_ch, nqz=cfg['nqz'], mixer_freq=cfg['mixer_freq'], ro_ch=ro_ch)\n",
    "        self.declare_readout(ch=ro_ch, length=cfg['ro_len'])\n",
    "\n",
    "        self.add_loop(\"myloop\", self.cfg[\"steps\"])\n",
    "        self.add_readoutconfig(ch=ro_ch, name=\"myro\", freq=cfg['freq'], gen_ch=gen_ch)\n",
    "\n",
    "        self.add_pulse(ch=gen_ch, name=\"mypulse\", ro_ch=ro_ch, \n",
    "                       style=\"const\", \n",
    "                       freq=cfg['freq'], \n",
    "                       length=cfg['pulse_len'],\n",
    "                       phase=cfg['phase'],\n",
    "                       gain=cfg['gain'], \n",
    "                      )\n",
    "        \n",
    "    def _body(self, cfg):\n",
    "        # if you delay the config by too long, you can see the readout get reconfigured in the middle of your pulse\n",
    "        self.send_readoutconfig(ch=cfg['ro_ch'], name=\"myro\", t=0)\n",
    "        self.pulse(ch=cfg['gen_ch'], name=\"mypulse\", t=0)\n",
    "        self.trigger(ros=[cfg['ro_ch']], pins=[0], t=cfg['trig_time'])\n",
    "\n",
    "\n",
    "# int gen frequency range is limited, so stitch ranges together\n",
    "def measure_s21(gen_ch, ro_ch, nqz, gain, steps=101, dds_range=0.45, overlap=0, plot=False, progress=True):\n",
    "    config = {'steps': steps,\n",
    "              'gen_ch': gen_ch,\n",
    "              'ro_ch': ro_ch,\n",
    "              'nqz': nqz,\n",
    "              'trig_time': 0.4,\n",
    "              'pulse_len': 10.0,\n",
    "              'ro_len': 10.1,\n",
    "              'phase': 0,\n",
    "              'gain': gain\n",
    "             }\n",
    "    allfreqs = []\n",
    "    allpowers = []\n",
    "    f_dds = soccfg['gens'][gen_ch]['f_dds']\n",
    "    mixer_freqs = np.arange(0.5, 10000/f_dds, dds_range*2-overlap)*f_dds    \n",
    "    for i, mixer_freq in enumerate(tqdm(mixer_freqs, disable=not progress)):\n",
    "        config['mixer_freq'] = mixer_freq\n",
    "        config['freq'] = QickSweep1D(\"myloop\", mixer_freq-dds_range*f_dds, mixer_freq+dds_range*f_dds)\n",
    "\n",
    "        prog = FreqSweepProgram(soccfg, reps=10, final_delay=1.0, cfg=config)\n",
    "        freqs = prog.get_pulse_param('myro', 'freq', as_array=True)\n",
    "        iq_list = prog.acquire(soc, soft_avgs=1, progress=False)\n",
    "\n",
    "        iq_complex = iq_list[0][0].dot([1,1j])\n",
    "        mags = np.abs(iq_complex)\n",
    "        powers = 20*np.log10(mags)\n",
    "        allfreqs.append(freqs)\n",
    "        allpowers.append(powers)\n",
    "        if plot:\n",
    "            plt.plot(freqs, powers, label=\"mixer_freq=%f\"%(mixer_freq))\n",
    "        #     plt.plot(freqs, mags, label=\"RO filter BW %.2f GHz\"%(ro_bw))\n",
    "            plt.ylabel(\"S21 [arb. dB]\")\n",
    "            plt.xlabel(\"Frequency [MHz]\")\n",
    "    allfreqs = np.array(allfreqs).flatten()\n",
    "    allpowers = np.array(allpowers).flatten()\n",
    "    return allfreqs, allpowers\n",
    "\n"
   ]
  },
  {
   "cell_type": "code",
   "execution_count": null,
   "id": "b87f4381",
   "metadata": {},
   "outputs": [],
   "source": [
    "# do a sweep with 5 points and plot decimated\n",
    "config = {'steps': 5,\n",
    "          'gen_ch': GEN_CH,\n",
    "          'ro_ch': RO_CH,\n",
    "          'freq': QickSweep1D(\"myloop\", 4500, 5500),\n",
    "          'mixer_freq': 5000,\n",
    "          'nqz': 2,\n",
    "          'trig_time': 0.4,\n",
    "          'ro_len': 0.3,\n",
    "          'pulse_len': 0.2,\n",
    "          'phase': 0,\n",
    "          'gain': 1.0\n",
    "         }\n",
    "\n",
    "# soc.rfb_set_gen_rf(config['gen_ch'], 10, 30)\n",
    "# soc.rfb_set_ro_rf(config['ro_ch'], 30)\n",
    "freq = config['mixer_freq']\n",
    "soc.rfb_set_gen_filter(config['gen_ch'], fc=freq/1000, ftype='bandpass', bw=1.0)\n",
    "soc.rfb_set_ro_filter(config['ro_ch'], fc=freq/1000, ftype='bandpass', bw=1.0)\n",
    "\n",
    "prog = FreqSweepProgram(soccfg, reps=1, final_delay=0.5, cfg=config)\n",
    "\n",
    "iq_list = prog.acquire_decimated(soc, soft_avgs=1)\n",
    "t = prog.get_time_axis(ro_index=0)\n",
    "\n",
    "for ii, iq in enumerate(iq_list[0]):\n",
    "#     plt.plot(t, iq[:,0], label=\"I value, step %d\"%(ii))\n",
    "#     plt.plot(t, iq[:,1], label=\"Q value, step %d\"%(ii))\n",
    "    plt.plot(t, np.abs(iq.dot([1,1j])), label=\"mag, step %d\"%(ii))\n",
    "plt.legend()\n",
    "plt.ylabel(\"amplitude [ADU]\")\n",
    "plt.xlabel(\"time [us]\");"
   ]
  },
  {
   "cell_type": "code",
   "execution_count": null,
   "id": "30e87d98",
   "metadata": {},
   "outputs": [],
   "source": [
    "soc.rfb_set_gen_rf(GEN_CH, 10, 10)\n",
    "soc.rfb_set_ro_rf(RO_CH, 30)\n",
    "soc.rfb_set_gen_filter(GEN_CH, fc=0, ftype='bypass')\n",
    "soc.rfb_set_ro_filter(RO_CH, fc=0, ftype='bypass')\n",
    "measure_s21(GEN_CH,RO_CH,nqz=1,gain=1.0,steps=501,dds_range=0.45,overlap=0.1,plot=True);\n",
    "clear_interrupts(soc)"
   ]
  },
  {
   "cell_type": "code",
   "execution_count": null,
   "id": "0dd03763",
   "metadata": {},
   "outputs": [],
   "source": [
    "raise RuntimeError()"
   ]
  },
  {
   "cell_type": "code",
   "execution_count": null,
   "id": "4ae0a67c",
   "metadata": {},
   "outputs": [],
   "source": []
  },
  {
   "cell_type": "code",
   "execution_count": null,
   "id": "adfa9da2",
   "metadata": {},
   "outputs": [],
   "source": [
    "debug=True\n",
    "\n",
    "lmh = LMH6401()\n",
    "adm = ADMV8818()\n",
    "\n",
    "for b in range(4):\n",
    "\n",
    "    g = gain(soc.filter_spi, ch_en=0)\n",
    "    soc.board_sel.enable(board_id=b, debug=debug)\n",
    "    g.set_gain(2)\n",
    "    g.get_gain()\n",
    "\n",
    "    db = 3\n",
    "    msg = lmh.reg_wr(reg='GAIN_REG', val = int(g.Gmax - db))\n",
    "    print(soc.filter_spi.send_receive_m(msg, g.ch_en, g.cs_t))\n",
    "\n",
    "    msg = lmh.reg_rd(reg='GAIN_REG')\n",
    "    print(soc.filter_spi.send_receive_m(msg, g.ch_en, g.cs_t))"
   ]
  },
  {
   "cell_type": "code",
   "execution_count": null,
   "id": "6c91fedc",
   "metadata": {},
   "outputs": [],
   "source": [
    "adm = ADMV8818()\n",
    "\n",
    "msg = adm.cmd_rd(reg='CHIPTYPE')\n",
    "for b in range(4):\n",
    "    soc.board_sel.enable(board_id=4+b)\n",
    "    for ch in range(2):\n",
    "        print(soc.filter_spi.send_receive_m(msg, ch, ''))"
   ]
  },
  {
   "cell_type": "code",
   "execution_count": null,
   "id": "b5a0d1df",
   "metadata": {},
   "outputs": [],
   "source": [
    "debug=True\n",
    "\n",
    "lmh = LMH6401()\n",
    "adm = ADMV8818()\n",
    "\n",
    "msg = lmh.reg_rd(reg='GAIN_REG')\n",
    "for b in range(4):\n",
    "    soc.board_sel.enable(board_id=4+b)\n",
    "    for ch in range(2):\n",
    "        print(soc.filter_spi.send_receive_m(msg, ch, ''))"
   ]
  },
  {
   "cell_type": "code",
   "execution_count": null,
   "id": "148af269",
   "metadata": {},
   "outputs": [],
   "source": [
    "for i, chain in enumerate(soc.adc_chains):\n",
    "    print(\"ADC\", i, chain.read_filter(reg='CHIPTYPE',debug=False))"
   ]
  },
  {
   "cell_type": "code",
   "execution_count": null,
   "id": "d493e7fe",
   "metadata": {},
   "outputs": [],
   "source": [
    "# soc.rfb_set_gen_dc(0)"
   ]
  },
  {
   "cell_type": "code",
   "execution_count": null,
   "id": "e7162dd2",
   "metadata": {},
   "outputs": [],
   "source": [
    "GEN_CH=15\n",
    "RO_CH=0"
   ]
  },
  {
   "cell_type": "code",
   "execution_count": null,
   "id": "00398ad8",
   "metadata": {},
   "outputs": [],
   "source": [
    "class LoopbackProgram(AveragerProgramV2):\n",
    "    def _initialize(self, cfg):\n",
    "        ro_ch = cfg['ro_ch']\n",
    "        gen_ch = cfg['gen_ch']\n",
    "        self.declare_gen(ch=gen_ch, nqz=cfg['nqz'], mixer_freq=cfg['mixer_freq'], ro_ch=ro_ch)\n",
    "        self.declare_readout(ch=ro_ch, length=cfg['ro_len'])\n",
    "        self.add_readoutconfig(ch=ro_ch, name=\"myro\",\n",
    "                               freq=cfg['freq'],\n",
    "                               gen_ch=gen_ch,\n",
    "                               outsel='product')\n",
    "        self.add_cosine(ch=gen_ch, name=\"ramp\", length=cfg['ramp_len'], even_length=True)\n",
    "        self.add_pulse(ch=gen_ch, name=\"mypulse\", ro_ch=ro_ch,\n",
    "                       style=\"const\",\n",
    "#                        style=\"flat_top\", \n",
    "#                        envelope=\"ramp\", \n",
    "                       freq=cfg['freq'],\n",
    "                       length=cfg['flat_len'],\n",
    "                       phase=cfg['phase'],\n",
    "                       gain=cfg['gain'],\n",
    "                      )\n",
    "        self.send_readoutconfig(ch=cfg['ro_ch'], name=\"myro\", t=0)\n",
    "    def _body(self, cfg):\n",
    "        self.delay_auto()\n",
    "        self.pulse(ch=cfg['gen_ch'], name=\"mypulse\", t=0.0)\n",
    "        self.trigger(ros=[cfg['ro_ch']], pins=[0], t=cfg['trig_time'], mr=True)\n",
    "\n",
    "config = {'gen_ch': GEN_CH,\n",
    "          'ro_ch': RO_CH,\n",
    "          'mixer_freq': 3500,\n",
    "          'freq': 4000,\n",
    "          'nqz': 2,\n",
    "          'trig_time': 0.0,\n",
    "          'ro_len': 3.0,\n",
    "          'flat_len': 1.0,\n",
    "          'ramp_len': 1.0,\n",
    "          'phase': 0,\n",
    "          'gain': 1.0\n",
    "         }\n",
    "prog = LoopbackProgram(soccfg, reps=1, final_delay=0.5, cfg=config)\n",
    "freq = config['freq']\n",
    "soc.rfb_set_gen_filter(config['gen_ch'], fc=freq/1000, ftype='bandpass', bw=1.0)\n",
    "soc.rfb_set_ro_filter(config['ro_ch'], fc=freq/1000, ftype='bandpass', bw=1.0)\n",
    "# Set attenuator on DAC.\n",
    "soc.rfb_set_gen_rf(config['gen_ch'], 10, 30)\n",
    "# Set attenuator on ADC.\n",
    "soc.rfb_set_ro_rf(config['ro_ch'], 20)\n",
    "iq_list = prog.acquire_decimated(soc, soft_avgs=1)\n",
    "t = prog.get_time_axis(ro_index=0)\n",
    "iq = iq_list[0]\n",
    "plt.plot(t, iq[:,0], label=\"I value\")\n",
    "plt.plot(t, iq[:,1], label=\"Q value\")\n",
    "plt.legend()\n",
    "plt.ylabel(\"amplitude [ADU]\")\n",
    "plt.xlabel(\"time [us]\");"
   ]
  },
  {
   "cell_type": "code",
   "execution_count": null,
   "id": "76b98cea",
   "metadata": {},
   "outputs": [],
   "source": [
    "soc.arm_mr(ch=config['ro_ch'])\n",
    "iq_list = prog.acquire_decimated(soc, soft_avgs=1)\n",
    "# look at the MR buffer just to see it works\n",
    "iq_mr = soc.get_mr()[450:550]\n",
    "t = prog.get_time_axis_mr(config['ro_ch'], iq_mr)\n",
    "plt.plot(t, iq_mr[:,0],label=\"I\")\n",
    "plt.plot(t, iq_mr[:,1],label=\"Q\")\n",
    "plt.xlabel(\"us\")\n",
    "plt.legend();"
   ]
  },
  {
   "cell_type": "code",
   "execution_count": null,
   "id": "6ce45668",
   "metadata": {},
   "outputs": [],
   "source": []
  },
  {
   "cell_type": "code",
   "execution_count": null,
   "id": "fd4794eb",
   "metadata": {},
   "outputs": [],
   "source": []
  },
  {
   "cell_type": "code",
   "execution_count": null,
   "id": "a8de3700",
   "metadata": {},
   "outputs": [],
   "source": [
    "class FreqSweepProgram(AveragerProgramV2):\n",
    "    def _initialize(self, cfg):\n",
    "        ro_ch = cfg['ro_ch']\n",
    "        gen_ch = cfg['gen_ch']\n",
    "        \n",
    "        self.declare_gen(ch=gen_ch, nqz=cfg['nqz'], mixer_freq=cfg['mixer_freq'], ro_ch=ro_ch)\n",
    "        self.declare_readout(ch=ro_ch, length=cfg['ro_len'])\n",
    "\n",
    "        self.add_loop(\"myloop\", self.cfg[\"steps\"])\n",
    "        self.add_readoutconfig(ch=ro_ch, name=\"myro\", freq=cfg['freq'], gen_ch=gen_ch)\n",
    "\n",
    "        self.add_pulse(ch=gen_ch, name=\"mypulse\", ro_ch=ro_ch, \n",
    "                       style=\"const\", \n",
    "                       freq=cfg['freq'], \n",
    "                       length=cfg['pulse_len'],\n",
    "                       phase=cfg['phase'],\n",
    "                       gain=cfg['gain'], \n",
    "                      )\n",
    "        \n",
    "    def _body(self, cfg):\n",
    "        # if you delay the config by too long, you can see the readout get reconfigured in the middle of your pulse\n",
    "        self.send_readoutconfig(ch=cfg['ro_ch'], name=\"myro\", t=0)\n",
    "        self.pulse(ch=cfg['gen_ch'], name=\"mypulse\", t=0)\n",
    "        self.trigger(ros=[cfg['ro_ch']], pins=[0], t=cfg['trig_time'])\n",
    "\n",
    "# do a sweep with 5 points and plot decimated\n",
    "config = {'steps': 5,\n",
    "          'gen_ch': GEN_CH,\n",
    "          'ro_ch': RO_CH,\n",
    "          'freq': QickSweep1D(\"myloop\", 4500, 5500),\n",
    "          'mixer_freq': 5000,\n",
    "          'nqz': 2,\n",
    "          'trig_time': 0.4,\n",
    "          'ro_len': 0.3,\n",
    "          'pulse_len': 0.2,\n",
    "          'phase': 0,\n",
    "          'gain': 1.0\n",
    "         }\n",
    "\n",
    "soc.rfb_set_gen_rf(config['gen_ch'], 10, 30)\n",
    "soc.rfb_set_ro_rf(config['ro_ch'], 30)\n",
    "freq = config['mixer_freq']\n",
    "soc.rfb_set_gen_filter(config['gen_ch'], fc=freq/1000, ftype='bandpass', bw=1.0)\n",
    "soc.rfb_set_ro_filter(config['ro_ch'], fc=freq/1000, ftype='bandpass', bw=1.0)\n",
    "\n",
    "prog = FreqSweepProgram(soccfg, reps=1, final_delay=0.5, cfg=config)\n",
    "\n",
    "iq_list = prog.acquire_decimated(soc, soft_avgs=1)\n",
    "t = prog.get_time_axis(ro_index=0)\n",
    "\n",
    "for ii, iq in enumerate(iq_list[0]):\n",
    "#     plt.plot(t, iq[:,0], label=\"I value, step %d\"%(ii))\n",
    "#     plt.plot(t, iq[:,1], label=\"Q value, step %d\"%(ii))\n",
    "    plt.plot(t, np.abs(iq.dot([1,1j])), label=\"mag, step %d\"%(ii))\n",
    "plt.legend()\n",
    "plt.ylabel(\"amplitude [ADU]\")\n",
    "plt.xlabel(\"time [us]\");"
   ]
  },
  {
   "cell_type": "code",
   "execution_count": null,
   "id": "5398ec78",
   "metadata": {},
   "outputs": [],
   "source": [
    "# for chain in soc.adc_chains:\n",
    "#     chain.set_filter(fc=0, ftype='bypass')\n",
    "# for chain in soc.dac_chains:\n",
    "#     chain.set_filter(fc=0, ftype='bypass')"
   ]
  },
  {
   "cell_type": "code",
   "execution_count": null,
   "id": "455133ae",
   "metadata": {},
   "outputs": [],
   "source": [
    "# for i, chain in enumerate(soc.adc_chains):\n",
    "#     print(\"ADC\", i, chain.read_filter(reg='CHIPTYPE',debug=False))\n",
    "# for i, chain in enumerate(soc.dac_chains):\n",
    "#     print(\"DAC\", i, chain.read_filter(reg='CHIPTYPE',debug=False))"
   ]
  },
  {
   "cell_type": "code",
   "execution_count": null,
   "id": "80d3aa7b",
   "metadata": {},
   "outputs": [],
   "source": [
    "def measure_s21(gen_ch, ro_ch, nqz, gain, steps=101, dds_range=0.45, overlap=0, plot=False, progress=True):\n",
    "    config = {'steps': steps,\n",
    "              'gen_ch': gen_ch,\n",
    "              'ro_ch': ro_ch,\n",
    "              'nqz': nqz,\n",
    "              'trig_time': 0.4,\n",
    "              'pulse_len': 10.0,\n",
    "              'ro_len': 10.1,\n",
    "              'phase': 0,\n",
    "              'gain': gain\n",
    "             }\n",
    "    allfreqs = []\n",
    "    allpowers = []\n",
    "    f_dds = soccfg['gens'][gen_ch]['f_dds']\n",
    "    mixer_freqs = np.arange(0.5, 10000/f_dds, dds_range*2-overlap)*f_dds    \n",
    "    for i, mixer_freq in enumerate(tqdm(mixer_freqs, disable=not progress)):\n",
    "        config['mixer_freq'] = mixer_freq\n",
    "        config['freq'] = QickSweep1D(\"myloop\", mixer_freq-dds_range*f_dds, mixer_freq+dds_range*f_dds)\n",
    "\n",
    "        prog = FreqSweepProgram(soccfg, reps=10, final_delay=1.0, cfg=config)\n",
    "        freqs = prog.get_pulse_param('myro', 'freq', as_array=True)\n",
    "        iq_list = prog.acquire(soc, soft_avgs=1, progress=False)\n",
    "\n",
    "        iq_complex = iq_list[0][0].dot([1,1j])\n",
    "        mags = np.abs(iq_complex)\n",
    "        powers = 20*np.log10(mags)\n",
    "        allfreqs.append(freqs)\n",
    "        allpowers.append(powers)\n",
    "        if plot:\n",
    "            plt.plot(freqs, powers, label=\"mixer_freq=%f\"%(mixer_freq))\n",
    "        #     plt.plot(freqs, mags, label=\"RO filter BW %.2f GHz\"%(ro_bw))\n",
    "            plt.ylabel(\"S21 [arb. dB]\")\n",
    "            plt.xlabel(\"Frequency [MHz]\")\n",
    "    allfreqs = np.array(allfreqs).flatten()\n",
    "    allpowers = np.array(allpowers).flatten()\n",
    "    return allfreqs, allpowers\n"
   ]
  },
  {
   "cell_type": "code",
   "execution_count": null,
   "id": "91263fee",
   "metadata": {},
   "outputs": [],
   "source": [
    "soc.rfb_set_gen_rf(GEN_CH, 30, 30)\n",
    "soc.rfb_set_ro_rf(RO_CH, 30)\n",
    "soc.rfb_set_gen_filter(GEN_CH, fc=0, ftype='bypass')\n",
    "soc.rfb_set_ro_filter(RO_CH, fc=0, ftype='bypass')\n",
    "measure_s21(15,0,2,1.0,steps=501,dds_range=0.45,overlap=0.1,plot=True);"
   ]
  },
  {
   "cell_type": "code",
   "execution_count": null,
   "id": "27476d3b",
   "metadata": {},
   "outputs": [],
   "source": [
    "soc.rfb_set_gen_rf(GEN_CH, 30, 30)\n",
    "soc.rfb_set_ro_rf(RO_CH, 30)\n",
    "soc.rfb_set_gen_filter(GEN_CH, fc=0, ftype='bypass')\n",
    "soc.rfb_set_ro_filter(RO_CH, fc=0, ftype='bypass')\n",
    "\n",
    "plt.plot(*measure_s21(GEN_CH,RO_CH,1,1.0), label=\"nqz=1\")\n",
    "plt.plot(*measure_s21(GEN_CH,RO_CH,2,1.0), label=\"nqz=2\")\n",
    "plt.ylabel(\"S21 [arb. dB]\")\n",
    "plt.xlabel(\"Frequency [MHz]\")\n",
    "plt.ylim(bottom=0)\n",
    "plt.title(\"bypass mode\")\n",
    "plt.legend();"
   ]
  },
  {
   "cell_type": "code",
   "execution_count": null,
   "id": "cbae70de",
   "metadata": {},
   "outputs": [],
   "source": [
    "# just to be sure we're doing things right, set registers directly\n",
    "def set_filter(gen_ch, ro_ch, lpf, hpf, filt=0):\n",
    "    sw = 0xc0 + (hpf<<3) + lpf\n",
    "    filt_bits = (filt<<4) + filt\n",
    "    rfb_ch = soc.gens[gen_ch].rfb\n",
    "    rfb_ch.brd_sel.enable(rfb_ch.rfboard_ch)\n",
    "    rfb_ch.filter.reg_wr('WR0_SW', sw)\n",
    "    rfb_ch.filter.reg_wr('WR0_FILTER', filt_bits)\n",
    "    rfb_ch.brd_sel.disable()\n",
    "\n",
    "    rfb_ch = soc.avg_bufs[ro_ch].rfb\n",
    "    rfb_ch.brd_sel.enable(rfb_ch.rfboard_ch)\n",
    "    rfb_ch.filter.reg_wr('WR0_SW', sw)\n",
    "    rfb_ch.filter.reg_wr('WR0_FILTER', filt_bits)\n",
    "    rfb_ch.brd_sel.disable()\n"
   ]
  },
  {
   "cell_type": "code",
   "execution_count": null,
   "id": "ffb6e8ee",
   "metadata": {},
   "outputs": [],
   "source": [
    "soc.rfb_set_gen_rf(GEN_CH, 30, 30)\n",
    "soc.rfb_set_ro_rf(RO_CH, 30)\n",
    "soc.rfb_set_gen_filter(GEN_CH, fc=0, ftype='bypass')\n",
    "soc.rfb_set_ro_filter(RO_CH, fc=0, ftype='bypass')\n",
    "\n",
    "for lpf in tqdm(range(0,5)):\n",
    "    set_filter(GEN_CH, RO_CH, lpf, 0, 0)\n",
    "\n",
    "    plt.plot(*measure_s21(GEN_CH,RO_CH,2,1.0, progress=False), label=\"lpf=%d\"%(lpf))\n",
    "plt.ylabel(\"S21 [arb. dB]\")\n",
    "plt.xlabel(\"Frequency [MHz]\")\n",
    "plt.ylim(bottom=0)\n",
    "plt.title(\"LPF bands, state=0\")\n",
    "plt.legend();"
   ]
  },
  {
   "cell_type": "code",
   "execution_count": null,
   "id": "8853f86b",
   "metadata": {},
   "outputs": [],
   "source": [
    "soc.rfb_set_gen_rf(GEN_CH, 30, 30)\n",
    "soc.rfb_set_ro_rf(RO_CH, 30)\n",
    "soc.rfb_set_gen_filter(GEN_CH, fc=0, ftype='bypass')\n",
    "soc.rfb_set_ro_filter(RO_CH, fc=0, ftype='bypass')\n",
    "\n",
    "for state in tqdm(range(0,16)):\n",
    "    set_filter(GEN_CH, RO_CH, 2, 0, state)\n",
    "\n",
    "    plt.plot(*measure_s21(GEN_CH,RO_CH,2,1.0, progress=False), label=\"state=%d\"%(state))\n",
    "plt.ylabel(\"S21 [arb. dB]\")\n",
    "plt.xlabel(\"Frequency [MHz]\")\n",
    "plt.ylim(bottom=0)\n",
    "plt.title(\"LPF states, band=2\")\n",
    "plt.legend();"
   ]
  },
  {
   "cell_type": "code",
   "execution_count": null,
   "id": "8da05ad8",
   "metadata": {},
   "outputs": [],
   "source": [
    "soc.rfb_set_gen_rf(GEN_CH, 30, 30)\n",
    "soc.rfb_set_ro_rf(RO_CH, 30)\n",
    "soc.rfb_set_gen_filter(GEN_CH, fc=0, ftype='bypass')\n",
    "soc.rfb_set_ro_filter(RO_CH, fc=0, ftype='bypass')\n",
    "\n",
    "for hpf in tqdm(range(0,5)):\n",
    "    set_filter(GEN_CH, RO_CH, 0, hpf, 0)\n",
    "\n",
    "    plt.plot(*measure_s21(GEN_CH,RO_CH,2,1.0, progress=False), label=\"hpf=%d\"%(hpf))\n",
    "plt.ylabel(\"S21 [arb. dB]\")\n",
    "plt.xlabel(\"Frequency [MHz]\")\n",
    "plt.ylim(bottom=0)\n",
    "plt.title(\"HPF bands, state=0\")\n",
    "plt.legend();"
   ]
  },
  {
   "cell_type": "code",
   "execution_count": null,
   "id": "2ad84f65",
   "metadata": {},
   "outputs": [],
   "source": [
    "soc.rfb_set_gen_rf(GEN_CH, 30, 30)\n",
    "soc.rfb_set_ro_rf(RO_CH, 30)\n",
    "soc.rfb_set_gen_filter(GEN_CH, fc=0, ftype='bypass')\n",
    "soc.rfb_set_ro_filter(RO_CH, fc=0, ftype='bypass')\n",
    "\n",
    "for state in tqdm(range(0,16)):\n",
    "    set_filter(GEN_CH, RO_CH, 0, 2, state)\n",
    "\n",
    "    plt.plot(*measure_s21(GEN_CH,RO_CH,2,1.0, progress=False), label=\"state=%d\"%(state))\n",
    "plt.ylabel(\"S21 [arb. dB]\")\n",
    "plt.xlabel(\"Frequency [MHz]\")\n",
    "plt.ylim(bottom=0)\n",
    "plt.title(\"HPF states, band=2\")\n",
    "plt.legend();"
   ]
  },
  {
   "cell_type": "code",
   "execution_count": null,
   "id": "6383ebd4",
   "metadata": {},
   "outputs": [],
   "source": [
    "soc.rfb_set_gen_rf(config['gen_ch'], 10, 30)\n",
    "soc.rfb_set_ro_rf(config['ro_ch'], 20)\n",
    "freq = 6000\n",
    "for bw in tqdm([1500, 1000, 500, 200, 100]):\n",
    "\n",
    "    soc.rfb_set_ro_filter(config['ro_ch'], fc=freq/1000, ftype='bandpass', bw=bw/1000)\n",
    "    soc.rfb_set_gen_filter(config['gen_ch'], fc=freq/1000, ftype='bandpass', bw=bw/1000)\n",
    "\n",
    "\n",
    "    plt.plot(*measure_s21(GEN_CH,RO_CH,2,1.0, progress=False), label=\"bw=%.2f\"%(bw))\n",
    "plt.ylabel(\"S21 [arb. dB]\")\n",
    "plt.xlabel(\"Frequency [MHz]\")\n",
    "plt.ylim(bottom=0)\n",
    "plt.title(\"filter center = %.2f MHz\"%(freq));\n",
    "plt.legend();\n"
   ]
  },
  {
   "cell_type": "code",
   "execution_count": null,
   "id": "caa00819",
   "metadata": {},
   "outputs": [],
   "source": []
  },
  {
   "cell_type": "code",
   "execution_count": null,
   "id": "90e4a1c1",
   "metadata": {},
   "outputs": [],
   "source": []
  },
  {
   "cell_type": "code",
   "execution_count": null,
   "id": "d6365ba6",
   "metadata": {},
   "outputs": [],
   "source": []
  },
  {
   "cell_type": "code",
   "execution_count": null,
   "id": "7d4d5e0b",
   "metadata": {},
   "outputs": [],
   "source": []
  },
  {
   "cell_type": "markdown",
   "id": "b3e84327",
   "metadata": {},
   "source": [
    "## scratchwork below, ignore"
   ]
  },
  {
   "cell_type": "code",
   "execution_count": null,
   "id": "91616a4c",
   "metadata": {},
   "outputs": [],
   "source": []
  },
  {
   "cell_type": "code",
   "execution_count": null,
   "id": "bc65f61e",
   "metadata": {},
   "outputs": [],
   "source": [
    "from tqdm.auto import tqdm\n",
    "config['ro_len'] += 10.0\n",
    "config['pulse_len'] += 10.0\n",
    "config['freq'] = QickSweep1D(\"myloop\", 3800, 4200)\n",
    "# config['freq'] = QickSweep1D(\"myloop\", 3000, 7000)\n",
    "config['steps']=1001\n",
    "\n",
    "freq = 5000\n",
    "soc.rfb_set_gen_filter(config['gen_ch'], fc=0, ftype='bypass')\n",
    "soc.rfb_set_ro_filter(config['ro_ch'], fc=0, ftype='bypass')\n",
    "\n",
    "for ro_bw in tqdm([1.5, 1.0, 0.5, 0.2, 0.1]):\n",
    "#     soc.rfb_set_ro_filter(config['ro_ch'], fc=freq/1000, ftype='bandpass', bw=ro_bw)\n",
    "#     soc.rfb_set_gen_filter(config['gen_ch'], fc=freq/1000, ftype='bandpass', bw=ro_bw)\n",
    "\n",
    "    prog = FreqSweepProgram(soccfg, reps=10, final_delay=1.0, cfg=config)\n",
    "    freqs = prog.get_pulse_param('myro', 'freq', as_array=True)\n",
    "    iq_list = prog.acquire(soc, soft_avgs=1, progress=False)\n",
    "\n",
    "    iq_complex = iq_list[0][0].dot([1,1j])\n",
    "    mags = np.abs(iq_complex)\n",
    "\n",
    "    plt.semilogy(freqs, mags, label=\"RO filter BW %.2f GHz\"%(ro_bw))\n",
    "    # plt.ylabel(\"Phase [cycles]\")\n",
    "    # plt.xlabel(\"Frequency [MHz]\")\n",
    "\n",
    "    # print(\"phase step (cycles):\", phases[1]-phases[0])\n",
    "\n",
    "plt.title(\"filter center = %f MHz\"%(freq))\n",
    "plt.legend();"
   ]
  },
  {
   "cell_type": "code",
   "execution_count": null,
   "id": "94d22940",
   "metadata": {},
   "outputs": [],
   "source": [
    "from tqdm.auto import tqdm\n",
    "config['ro_len'] += 10.0\n",
    "config['pulse_len'] += 10.0\n",
    "config['freq'] = QickSweep1D(\"myloop\", 3800, 4200)\n",
    "# config['freq'] = QickSweep1D(\"myloop\", 3000, 7000)\n",
    "config['steps']=1001\n",
    "\n",
    "freq = 5000\n",
    "soc.rfb_set_gen_filter(config['gen_ch'], fc=0, ftype='bypass')\n",
    "soc.rfb_set_ro_filter(config['ro_ch'], fc=0, ftype='bypass')\n",
    "\n",
    "for ro_bw in tqdm([1.5, 1.0, 0.5, 0.2, 0.1]):\n",
    "#     soc.rfb_set_ro_filter(config['ro_ch'], fc=freq/1000, ftype='bandpass', bw=ro_bw)\n",
    "#     soc.rfb_set_gen_filter(config['gen_ch'], fc=freq/1000, ftype='bandpass', bw=ro_bw)\n",
    "\n",
    "    prog = FreqSweepProgram(soccfg, reps=10, final_delay=1.0, cfg=config)\n",
    "    freqs = prog.get_pulse_param('myro', 'freq', as_array=True)\n",
    "    iq_list = prog.acquire(soc, soft_avgs=1, progress=False)\n",
    "\n",
    "    iq_complex = iq_list[0][0].dot([1,1j])\n",
    "    mags = np.abs(iq_complex)\n",
    "\n",
    "    plt.semilogy(freqs, mags, label=\"RO filter BW %.2f GHz\"%(ro_bw))\n",
    "    # plt.ylabel(\"Phase [cycles]\")\n",
    "    # plt.xlabel(\"Frequency [MHz]\")\n",
    "\n",
    "    # print(\"phase step (cycles):\", phases[1]-phases[0])\n",
    "\n",
    "plt.title(\"filter center = %f MHz\"%(freq))\n",
    "plt.legend();"
   ]
  },
  {
   "cell_type": "code",
   "execution_count": null,
   "id": "ad7f38b3",
   "metadata": {},
   "outputs": [],
   "source": [
    "print(prog.get_pulse_param('myro', 'freq', as_array=True))\n",
    "print(prog.get_pulse_param('mypulse', 'freq', as_array=True))\n"
   ]
  },
  {
   "cell_type": "code",
   "execution_count": null,
   "id": "37cc4c9a",
   "metadata": {},
   "outputs": [],
   "source": []
  },
  {
   "cell_type": "code",
   "execution_count": null,
   "id": "a4df5841",
   "metadata": {},
   "outputs": [],
   "source": []
  },
  {
   "cell_type": "code",
   "execution_count": null,
   "id": "647b54b9",
   "metadata": {},
   "outputs": [],
   "source": [
    "class SimpleSweepProgram2(AveragerProgramV2):\n",
    "    def _initialize(self, cfg):\n",
    "        ro_ch = cfg['ro_ch']\n",
    "        gen_ch = cfg['gen_ch']\n",
    "        \n",
    "        self.declare_gen(ch=gen_ch, nqz=cfg['nqz'])\n",
    "        self.declare_readout(ch=ro_ch, length=cfg['ro_len'])\n",
    "\n",
    "        self.add_readoutconfig(ch=ro_ch, name=\"myro\", \n",
    "                               freq=cfg['freq'], \n",
    "                               gen_ch=gen_ch, \n",
    "                               outsel='input')\n",
    "\n",
    "#         self.add_gauss(ch=gen_ch, name=\"ramp\", sigma=cfg['ramp_len']/10, length=cfg['ramp_len'], even_length=True)\n",
    "#         self.add_pulse(ch=gen_ch, name=\"mypulse\", ro_ch=ro_ch, \n",
    "#                        style=\"flat_top\", \n",
    "#                        envelope=\"ramp\", \n",
    "#                        freq=cfg['freq'], \n",
    "#                        length=cfg['flat_len'],\n",
    "#                        phase=cfg['phase'],\n",
    "#                        gain=cfg['gain'], \n",
    "#                       )\n",
    "        self.add_pulse(ch=gen_ch, name=\"mypulse\", ro_ch=ro_ch, \n",
    "                       style=\"const\", \n",
    "                       freq=cfg['freq'], \n",
    "                       length=cfg['flat_len'],\n",
    "                       phase=cfg['phase'],\n",
    "                       gain=cfg['gain'], \n",
    "#                        mode='periodic'\n",
    "                      )\n",
    "\n",
    "        \n",
    "        self.send_readoutconfig(ch=cfg['ro_ch'], name=\"myro\", t=0)\n",
    "        \n",
    "    def _body(self, cfg):\n",
    "        self.pulse(ch=cfg['gen_ch'], name=\"mypulse\", t=0)\n",
    "        self.trigger(ros=[cfg['ro_ch']], pins=[0], t=cfg['trig_time'], mr=True)"
   ]
  },
  {
   "cell_type": "code",
   "execution_count": null,
   "id": "872edd71",
   "metadata": {},
   "outputs": [],
   "source": [
    "# do a sweep with 5 points and plot decimated\n",
    "config = {'gen_ch': 2,\n",
    "          'ro_ch': 1,\n",
    "          'freq': 5000,\n",
    "          'nqz': 1,\n",
    "          'trig_time': 0.0,\n",
    "          'ro_len': 3.0,\n",
    "          'flat_len': 0.5,\n",
    "          'ramp_len': 0.2,\n",
    "          'phase': 0,\n",
    "          'gain': 1.0\n",
    "         }\n",
    "\n",
    "prog = SimpleSweepProgram2(soccfg, reps=1, final_delay=0.5, cfg=config)\n",
    "\n",
    "\n",
    "\n",
    "freq = config['freq']\n",
    "\n",
    "soc.rfb_set_gen_filter(config['gen_ch'], fc=freq/1000, ftype='bypass')\n",
    "soc.rfb_set_ro_filter(config['ro_ch'], fc=freq/1000, ftype='bypass')\n",
    "\n",
    "\n",
    "\n",
    "# Set Filter.\n",
    "# soc.rfb_set_gen_filter(config['gen_ch'], fc=freq/1000, ftype='bandpass')\n",
    "# soc.rfb_set_gen_filter(config['gen_ch'], fc=2.5, ftype='lowpass')\n",
    "\n",
    "# Set attenuator on DAC.\n",
    "# soc.rfb_set_gen_rf(config['gen_ch'], 5, 5)\n",
    "soc.rfb_set_gen_rf(config['gen_ch'], 10, 30)\n",
    "\n",
    "#######\n",
    "# ADC #\n",
    "#######\n",
    "# Set Filter.\n",
    "# soc.rfb_set_ro_filter(config['ro_ch'], fc=freq/1000, ftype='bandpass')\n",
    "\n",
    "# Set attenuator on ADC.\n",
    "soc.rfb_set_ro_rf(config['ro_ch'], 30)\n",
    "\n",
    "\n",
    "iq_list = prog.acquire_decimated(soc, soft_avgs=10)\n",
    "t = prog.get_time_axis(ro_index=0)\n",
    "\n",
    "iq = iq_list[0]\n",
    "plt.plot(t, iq[:,0], label=\"I value\")\n",
    "plt.plot(t, iq[:,1], label=\"Q value\")\n",
    "# plt.plot(t, np.abs(iq.dot([1,1j])), label=\"mag, step %d\"%(ii))\n",
    "plt.legend()\n",
    "plt.ylabel(\"amplitude [ADU]\")\n",
    "plt.xlabel(\"time [us]\");"
   ]
  },
  {
   "cell_type": "code",
   "execution_count": null,
   "id": "a0dc9a7a",
   "metadata": {},
   "outputs": [],
   "source": [
    "soc.arm_mr(ch=config['ro_ch'])\n",
    "iq_list = prog.acquire_decimated(soc, soft_avgs=1)\n",
    "# look at the MR buffer just to see it works\n",
    "iq_mr = soc.get_mr()[800:900]\n",
    "t = prog.get_time_axis_mr(config['ro_ch'], iq_mr)\n",
    "plt.plot(t, iq_mr[:,0],label=\"I\")\n",
    "plt.plot(t, iq_mr[:,1],label=\"Q\")\n",
    "plt.xlabel(\"us\")\n",
    "plt.legend();"
   ]
  },
  {
   "cell_type": "code",
   "execution_count": null,
   "id": "c45f4383",
   "metadata": {},
   "outputs": [],
   "source": [
    "from scipy.signal import welch\n",
    "from numpy.fft import fftshift\n",
    "\n",
    "soc.rfb_set_gen_filter(config['gen_ch'], fc=freq/1000, ftype='bypass')\n",
    "soc.rfb_set_ro_filter(config['ro_ch'], fc=freq/1000, ftype='bypass')\n",
    "\n",
    "# soc.rfb_set_gen_filter(config['gen_ch'], fc=freq/1000, ftype='bypass')\n",
    "# soc.rfb_set_ro_filter(config['ro_ch'], fc=freq/1000, ftype='bandpass')\n",
    "\n",
    "soc.arm_mr(ch=config['ro_ch'])\n",
    "iq_list = prog.acquire_decimated(soc, soft_avgs=1)\n",
    "\n",
    "iq_mr = soc.get_mr()[:,0]\n",
    "fs_mr = soccfg['readouts'][config['ro_ch']]['fs']\n",
    "# fft_freqs, psd = fftshift(welch(iq_mr, fs_mr, return_onesided=True, nperseg=128, detrend=False), axes=1)\n",
    "fft_freqs, psd = welch(iq_mr, fs_mr, return_onesided=True, nperseg=128, detrend=False)\n",
    "plt.semilogy(fft_freqs, psd)\n",
    "plt.xlabel(\"MHz\")"
   ]
  },
  {
   "cell_type": "code",
   "execution_count": null,
   "id": "56f4b495",
   "metadata": {},
   "outputs": [],
   "source": []
  },
  {
   "cell_type": "code",
   "execution_count": null,
   "id": "e475b66c",
   "metadata": {},
   "outputs": [],
   "source": [
    "for chain in soc.dac_chains:\n",
    "    chain.set_filter(fc=1.5, bw=1, ftype='bypass')\n",
    "    chain.set_rf(5,5)"
   ]
  },
  {
   "cell_type": "code",
   "execution_count": null,
   "id": "6603f7e7",
   "metadata": {},
   "outputs": [],
   "source": [
    "for chain in soc.adc_chains:\n",
    "    chain.set_filter(fc=1.5, bw=1, ftype='bypass')\n",
    "    chain.set_attn_db(5)"
   ]
  },
  {
   "cell_type": "code",
   "execution_count": null,
   "id": "da55e03d",
   "metadata": {},
   "outputs": [],
   "source": [
    "rfb_cfg = {'gen_ch': 2,\n",
    "        'ro_ch': 1,\n",
    "        'gen_att': (10,30),\n",
    "        'ro_att': 30,\n",
    "        }\n",
    "soc.rfb_set_gen_rf(rfb_cfg['gen_ch'], *rfb_cfg['gen_att'])\n",
    "soc.rfb_set_ro_rf(rfb_cfg['ro_ch'], rfb_cfg['ro_att'])\n",
    "\n",
    "soc.rfb_set_ro_filter(rfb_cfg['ro_ch'], fc=1.0, ftype='bypass')\n",
    "soc.rfb_set_gen_filter(rfb_cfg['gen_ch'], fc=1.0, ftype='bypass')\n"
   ]
  },
  {
   "cell_type": "code",
   "execution_count": null,
   "id": "27e65361",
   "metadata": {},
   "outputs": [],
   "source": [
    "class FreqSweepProgram(AveragerProgramV2):\n",
    "    def _initialize(self, cfg):\n",
    "        ro_ch = cfg['ro_ch']\n",
    "        gen_ch = cfg['gen_ch']\n",
    "        \n",
    "        self.declare_gen(ch=gen_ch, nqz=cfg['nqz'])\n",
    "        self.declare_readout(ch=ro_ch, length=cfg['ro_len'])\n",
    "\n",
    "        self.add_loop(\"myloop\", self.cfg[\"steps\"])\n",
    "        self.add_readoutconfig(ch=ro_ch, name=\"myro\", freq=cfg['freq'], gen_ch=gen_ch)\n",
    "\n",
    "        self.add_pulse(ch=gen_ch, name=\"mypulse\", ro_ch=ro_ch, \n",
    "                       style=\"const\", \n",
    "                       freq=cfg['freq'], \n",
    "                       length=cfg['pulse_len'],\n",
    "                       phase=cfg['phase'],\n",
    "                       gain=cfg['gain'], \n",
    "                      )\n",
    "        \n",
    "    def _body(self, cfg):\n",
    "        # if you delay the config by too long, you can see the readout get reconfigured in the middle of your pulse\n",
    "        self.send_readoutconfig(ch=cfg['ro_ch'], name=\"myro\", t=0)\n",
    "        self.pulse(ch=cfg['gen_ch'], name=\"mypulse\", t=0)\n",
    "        self.trigger(ros=[cfg['ro_ch']], pins=[0], t=cfg['trig_time'])\n",
    "\n",
    "# do a sweep with 5 points and plot decimated\n",
    "config = {'steps': 5,\n",
    "          'gen_ch': 2,\n",
    "          'ro_ch': 1,\n",
    "          'freq': QickSweep1D(\"myloop\", 4000, 7000),\n",
    "          'nqz': 2,\n",
    "          'trig_time': 0.4,\n",
    "          'ro_len': 0.3,\n",
    "          'pulse_len': 0.2,\n",
    "          'phase': 0,\n",
    "          'gain': 1.0\n",
    "         }\n",
    "\n",
    "soc.rfb_set_gen_rf(config['gen_ch'], 10, 30)\n",
    "soc.rfb_set_ro_rf(config['ro_ch'], 30)\n",
    "\n",
    "prog = FreqSweepProgram(soccfg, reps=1, final_delay=0.5, cfg=config)\n",
    "\n",
    "iq_list = prog.acquire_decimated(soc, soft_avgs=1)\n",
    "t = prog.get_time_axis(ro_index=0)\n",
    "\n",
    "for ii, iq in enumerate(iq_list[0]):\n",
    "#     plt.plot(t, iq[:,0], label=\"I value, step %d\"%(ii))\n",
    "#     plt.plot(t, iq[:,1], label=\"Q value, step %d\"%(ii))\n",
    "    plt.plot(t, np.abs(iq.dot([1,1j])), label=\"mag, step %d\"%(ii))\n",
    "plt.legend()\n",
    "plt.ylabel(\"amplitude [ADU]\")\n",
    "plt.xlabel(\"time [us]\");"
   ]
  },
  {
   "cell_type": "code",
   "execution_count": null,
   "id": "04b743c1",
   "metadata": {},
   "outputs": [],
   "source": [
    "from tqdm.auto import tqdm\n",
    "config['freq'] = QickSweep1D(\"myloop\", 3000, 6000)\n",
    "config['steps']=5001\n",
    "\n",
    "freq = 5000\n",
    "\n",
    "for ro_bw in tqdm([1.5, 1.0, 0.5, 0.2, 0.1]):\n",
    "#     soc.rfb_set_ro_filter(config['ro_ch'], fc=freq/1000, ftype='bypass')\n",
    "\n",
    "    soc.rfb_set_ro_filter(config['ro_ch'], fc=freq/1000, ftype='bandpass', bw=ro_bw)\n",
    "#     for chain in soc.adc_chains:\n",
    "# #         chain.set_filter(fc=5.0, ftype='bandpass', bw=ro_bw)\n",
    "#         chain.set_filter(fc=9.0, ftype='lowpass', bw=ro_bw)\n",
    "\n",
    "#     soc.rfb_set_gen_filter(config['gen_ch'], fc=freq/1000, ftype='bandpass', bw=ro_bw)\n",
    "#     soc.rfb_set_gen_filter(config['gen_ch'], fc=3.0, ftype='bandpass', bw=0.5)\n",
    "\n",
    "    prog = FreqSweepProgram(soccfg, reps=100, final_delay=1.0, cfg=config)\n",
    "    freqs = prog.get_pulse_param('myro', 'freq', as_array=True)\n",
    "    iq_list = prog.acquire(soc, soft_avgs=1, progress=False)\n",
    "    # plt.plot(np.angle(iq_list[0][0].dot([1,1j]), deg=True))\n",
    "    # plt.plot(iq_list[0][0,:,0], iq_list[0][0,:,1], '.')\n",
    "    # plt.ylabel(\"Q [ADU]\")\n",
    "    # plt.xlabel(\"I [ADU]\");\n",
    "\n",
    "    iq_complex = iq_list[0][0].dot([1,1j])\n",
    "    mags = np.abs(iq_complex)\n",
    "\n",
    "    plt.semilogy(freqs, mags, label=\"RO filter BW %.2f GHz\"%(ro_bw))\n",
    "    # plt.ylabel(\"Phase [cycles]\")\n",
    "    # plt.xlabel(\"Frequency [MHz]\")\n",
    "\n",
    "    # print(\"phase step (cycles):\", phases[1]-phases[0])\n",
    "\n",
    "plt.title(\"filter center = %f MHz\"%(freq))\n",
    "plt.legend();"
   ]
  },
  {
   "cell_type": "code",
   "execution_count": null,
   "id": "11c60790",
   "metadata": {},
   "outputs": [],
   "source": []
  },
  {
   "cell_type": "code",
   "execution_count": null,
   "id": "9dd9243e",
   "metadata": {},
   "outputs": [],
   "source": []
  },
  {
   "cell_type": "code",
   "execution_count": null,
   "id": "356d54f8",
   "metadata": {},
   "outputs": [],
   "source": []
  },
  {
   "cell_type": "code",
   "execution_count": null,
   "id": "9dea4a1b",
   "metadata": {},
   "outputs": [],
   "source": []
  },
  {
   "cell_type": "code",
   "execution_count": null,
   "id": "1c748cb2",
   "metadata": {},
   "outputs": [],
   "source": []
  },
  {
   "cell_type": "code",
   "execution_count": null,
   "id": "99b037ec",
   "metadata": {},
   "outputs": [],
   "source": [
    "class LoopbackProgram(AveragerProgramV2):\n",
    "    def _initialize(self, cfg):\n",
    "        ro_ch = cfg['ro_ch']\n",
    "        gen_ch = cfg['gen_ch']\n",
    "        \n",
    "        self.declare_gen(ch=gen_ch, nqz=cfg['nqz'])\n",
    "        self.declare_readout(ch=ro_ch, length=cfg['ro_len'])\n",
    "\n",
    "        self.add_readoutconfig(ch=ro_ch, name=\"myro\", \n",
    "                               freq=cfg['freq'], \n",
    "                               gen_ch=gen_ch, \n",
    "                               outsel=cfg['ro_outsel'])\n",
    "\n",
    "        self.add_pulse(ch=gen_ch, name=\"mypulse\", ro_ch=ro_ch, \n",
    "                       style=\"const\", \n",
    "                       freq=cfg['freq'], \n",
    "                       length=cfg['pulse_len'],\n",
    "                       phase=cfg['phase'],\n",
    "                       gain=cfg['gain'], \n",
    "                      )\n",
    "        \n",
    "        ramp_len = 2.0\n",
    "#         self.add_gauss(ch=gen_ch, name=\"ramp\", sigma=ramp_len/10, length=ramp_len, even_length=True)\n",
    "        self.add_triangle(ch=gen_ch, name=\"triangle\", length=ramp_len, even_length=True)\n",
    "        \n",
    "#         self.add_pulse(ch=gen_ch, name=\"mygaus\", ro_ch=ro_ch, \n",
    "#                        style=\"arb\", \n",
    "#                        envelope=\"ramp\", \n",
    "#                        freq=cfg['freq'], \n",
    "#                        phase=0,\n",
    "#                        gain=1.0, \n",
    "#                       )\n",
    "        self.add_pulse(ch=gen_ch, name=\"mytri\", ro_ch=ro_ch, \n",
    "                       style=\"arb\", \n",
    "                       envelope=\"triangle\", \n",
    "                       freq=cfg['freq'], \n",
    "                       phase=0,\n",
    "                       gain=1.0, \n",
    "                      )\n",
    "        \n",
    "        self.send_readoutconfig(ch=cfg['ro_ch'], name=\"myro\", t=0)\n",
    "        \n",
    "    def _body(self, cfg):\n",
    "        self.pulse(ch=cfg['gen_ch'], name=\"mytri\", t=0)\n",
    "        self.trigger(ros=[cfg['ro_ch']], pins=[0], t=cfg['trig_time'], mr=True)\n",
    "        \n",
    "        \n",
    "        \n",
    "config = {'gen_ch': 2,\n",
    "          'ro_ch': 1,\n",
    "          'freq': 3000,\n",
    "          'nqz': 1,\n",
    "          'trig_time': 0.0,\n",
    "          'ro_len': 3.0,\n",
    "          'ro_outsel': 'product',\n",
    "          'pulse_len': 0.5,\n",
    "          'phase': 0,\n",
    "          'gain': 1.0\n",
    "         }\n",
    "\n",
    "prog = LoopbackProgram(soccfg, reps=1, final_delay=0.5, cfg=config)\n",
    "\n",
    "freq = config['freq']\n",
    "\n",
    "# soc.rfb_set_gen_filter(config['gen_ch'], fc=freq/1000, ftype='bypass')\n",
    "# soc.rfb_set_ro_filter(config['ro_ch'], fc=freq/1000, ftype='bypass')\n",
    "\n",
    "\n",
    "\n",
    "# # Set Filter.\n",
    "# # soc.rfb_set_gen_filter(config['gen_ch'], fc=freq/1000, ftype='bandpass')\n",
    "# # soc.rfb_set_gen_filter(config['gen_ch'], fc=2.5, ftype='lowpass')\n",
    "\n",
    "# # Set attenuator on DAC.\n",
    "# # soc.rfb_set_gen_rf(config['gen_ch'], 5, 5)\n",
    "# soc.rfb_set_gen_rf(config['gen_ch'], 5, 20)\n",
    "\n",
    "# #######\n",
    "# # ADC #\n",
    "# #######\n",
    "# # Set Filter.\n",
    "# # soc.rfb_set_ro_filter(config['ro_ch'], fc=freq/1000, ftype='bandpass')\n",
    "\n",
    "# # Set attenuator on ADC.\n",
    "# soc.rfb_set_ro_rf(config['ro_ch'], 20)\n",
    "\n",
    "rfb_cfg = {'gen_ch': 2,\n",
    "        'ro_ch': 1,\n",
    "        'gen_att': (10,30),\n",
    "        'ro_att': 30,\n",
    "        }\n",
    "soc.rfb_set_gen_rf(rfb_cfg['gen_ch'], *rfb_cfg['gen_att'])\n",
    "soc.rfb_set_ro_rf(rfb_cfg['ro_ch'], rfb_cfg['ro_att'])\n",
    "\n",
    "soc.rfb_set_ro_filter(rfb_cfg['ro_ch'], fc=1.0, ftype='bypass')\n",
    "soc.rfb_set_gen_filter(rfb_cfg['gen_ch'], fc=1.0, ftype='bypass')\n",
    "\n",
    "iq_list = prog.acquire_decimated(soc, soft_avgs=10)\n",
    "t = prog.get_time_axis(ro_index=0)\n",
    "\n",
    "iq = iq_list[0]\n",
    "plt.plot(t, iq[:,0], label=\"I value\")\n",
    "plt.plot(t, iq[:,1], label=\"Q value\")\n",
    "# plt.plot(t, np.abs(iq.dot([1,1j])), label=\"mag, step %d\"%(ii))\n",
    "plt.legend()\n",
    "plt.ylabel(\"amplitude [ADU]\")\n",
    "plt.xlabel(\"time [us]\");"
   ]
  },
  {
   "cell_type": "code",
   "execution_count": null,
   "id": "37c59c23",
   "metadata": {},
   "outputs": [],
   "source": []
  },
  {
   "cell_type": "code",
   "execution_count": null,
   "id": "d739cdc2",
   "metadata": {},
   "outputs": [],
   "source": []
  },
  {
   "cell_type": "code",
   "execution_count": null,
   "id": "6118357e",
   "metadata": {},
   "outputs": [],
   "source": []
  },
  {
   "cell_type": "code",
   "execution_count": null,
   "id": "1770bcc9",
   "metadata": {},
   "outputs": [],
   "source": []
  },
  {
   "cell_type": "code",
   "execution_count": null,
   "id": "a5e7c4fa",
   "metadata": {},
   "outputs": [],
   "source": []
  },
  {
   "cell_type": "code",
   "execution_count": null,
   "id": "1f61d999",
   "metadata": {},
   "outputs": [],
   "source": [
    "##########################################\n",
    "### One generator/readout and raw-data ###\n",
    "##########################################\n",
    "class ReadoutTest(AveragerProgram):\n",
    "    def initialize(self):\n",
    "        # Set the nyquist zone for the DACs.\n",
    "        self.declare_gen(ch=self.cfg[\"gen_ch\"], nqz=self.cfg['gen_nqz'])\n",
    "        \n",
    "        # DAC channel.\n",
    "        freq = self.freq2reg(self.cfg['pulse_freq'], gen_ch=self.cfg['gen_ch'], ro_ch=self.cfg['ro_ch'][0])\n",
    "        self.set_pulse_registers(ch     = self.cfg['gen_ch'], \n",
    "                                 style  = 'const', \n",
    "                                 freq   = freq,\n",
    "                                 phase  = 0, \n",
    "                                 gain   = self.cfg['pulse_gain'], \n",
    "                                 length = self.us2cycles(self.cfg['pulse_length'],gen_ch=self.cfg['gen_ch']))\n",
    "        \n",
    "        # Readout.\n",
    "        self.declare_readout(ch      = self.cfg['ro_ch'][0], \n",
    "                             length  = self.us2cycles(self.cfg['ro_length'], ro_ch = self.cfg['ro_ch'][0]),\n",
    "                             freq    = self.cfg['ro_freq'],\n",
    "                             gen_ch  = self.cfg['gen_ch'])\n",
    "        \n",
    "        self.synci(200)  # give processor some time to configure pulses\n",
    "    \n",
    "    def body(self):       \n",
    "        self.measure(pulse_ch        = self.cfg['gen_ch'], \n",
    "                     adcs            = self.cfg['ro_ch'],\n",
    "                     pins            = [0],\n",
    "                     t               = self.us2cycles(self.cfg['pulse_start']),\n",
    "                     adc_trig_offset = self.us2cycles(self.cfg['ro_offset'], ro_ch = self.cfg['ro_ch'][0]),\n",
    "                     )        \n",
    "\n",
    "config={\"ro_ch\"       : [5],\n",
    "        \"ro_length\"   : 40,\n",
    "        \"ro_freq\"     : 4000,\n",
    "        \"ro_offset\"   : 0,\n",
    "        \n",
    "        \"gen_ch\"      : 12,        \n",
    "        \"gen_nqz\"     : 2,\n",
    "        \"pulse_length\": 20,\n",
    "        \"pulse_start\" : 10,\n",
    "        \"pulse_gain\"  : 30000,\n",
    "        \"pulse_freq\"  : 4000,\n",
    "        \n",
    "        \"reps\"        : 1,\n",
    "        \"period\"      : 20\n",
    "       }\n",
    "\n",
    "########################\n",
    "### RF Board Setting ###\n",
    "########################\n",
    "\n",
    "#######\n",
    "# DAC #\n",
    "#######\n",
    "freq = config['pulse_freq']\n",
    "\n",
    "# Set Filter.\n",
    "# soc.rfb_set_gen_filter(config['gen_ch'], fc=fc, ftype='bandpass')\n",
    "soc.rfb_set_gen_filter(config['gen_ch'], fc=2.5, ftype='lowpass')\n",
    "\n",
    "# Set attenuator on DAC.\n",
    "soc.rfb_set_gen_rf(config['gen_ch'], 15, 20)\n",
    "\n",
    "#######\n",
    "# ADC #\n",
    "#######\n",
    "# Set Filter.\n",
    "soc.rfb_set_ro_filter(config['ro_ch'][0], fc=freq/1000, ftype='bandpass')\n",
    "\n",
    "# Set attenuator on ADC.\n",
    "soc.rfb_set_ro_rf(config['ro_ch'][0], 20)\n",
    "\n",
    "prog = ReadoutTest(soccfg, config)\n",
    "iq_list = prog.acquire_decimated(soc)\n",
    "\n",
    "# Plot Captured Data.\n",
    "plt.figure(dpi=200)\n",
    "\n",
    "yi = iq_list[0][0]\n",
    "yq = iq_list[0][1]\n",
    "t = soccfg.cycles2us(ro_ch=config['ro_ch'][0], cycles=np.arange(len(iq_list[0][0])))\n",
    "\n",
    "plt.plot(t,yi)\n",
    "plt.plot(t,yq)\n",
    "    \n",
    "plt.xlabel('t [us]');\n",
    "plt.legend(['I','Q']);\n"
   ]
  },
  {
   "cell_type": "code",
   "execution_count": null,
   "id": "31ec01e3",
   "metadata": {},
   "outputs": [],
   "source": [
    "from tqdm.auto import tqdm\n",
    "for i in tqdm(range(1000)):\n",
    "    soc.rfb_set_gen_rf(gen_ch=0, att1=15, att2=20)\n"
   ]
  },
  {
   "cell_type": "markdown",
   "id": "7d3a927e",
   "metadata": {},
   "source": [
    "### little note on the generator outputs\n",
    "This firmware uses the \"tmux\" which multiplexes multiple generators onto each tProc output. Generally this works transparently, but be aware that if you try to play simultaneous pulses on generators that share a tmux channel, the pulses will get offset by a tProc clock cycle (or something like that)."
   ]
  },
  {
   "cell_type": "code",
   "execution_count": null,
   "id": "5858be3a",
   "metadata": {},
   "outputs": [],
   "source": [
    "soccfg['gens']"
   ]
  },
  {
   "cell_type": "code",
   "execution_count": null,
   "id": "8ca89fd0",
   "metadata": {},
   "outputs": [],
   "source": [
    "[(i,gen['tproc_ch']) for i,gen in enumerate(soccfg['gens'])]"
   ]
  },
  {
   "cell_type": "code",
   "execution_count": null,
   "id": "ab69b004",
   "metadata": {},
   "outputs": [],
   "source": [
    "soc.ip_dict.keys()"
   ]
  },
  {
   "cell_type": "markdown",
   "id": "8dac28af",
   "metadata": {},
   "source": [
    "### playing with LEDs (and ribbon I/O connector)\n",
    "The LEDs are wired to the PMOD0 connector on the ZCU216, the ribbon is wired to PMOD1. In this firmware these are connected to an AxiGPIO which is controlled by software (vs. in most QICK firmware, where the PMODs are connected to the tProc). So these are for slow control.\n",
    "\n",
    "The LEDs are very dim (trying to drive the LEDs directly with PMOD outputs?).\n",
    "\n",
    "There is also some weirdness with the AxiGPIO we're using for this.\n",
    "\n",
    "The ribbon connector works identically (`soc.pmod_bits_gpio` instead of `soc.pmod_led_gpio`), except that the pin mapping seems to be screwed up somewhere, such that even and odd pins are swapped: PMOD1_0=ribbon signal 1, PMOD 1_1=ribbon signal 0, etc. The ribbon pins should be input-capable, but I haven't checked."
   ]
  },
  {
   "cell_type": "code",
   "execution_count": null,
   "id": "7aebff6e",
   "metadata": {
    "scrolled": true
   },
   "outputs": [],
   "source": [
    "help(soc.pmod_led_gpio)"
   ]
  },
  {
   "cell_type": "code",
   "execution_count": null,
   "id": "5feff16d",
   "metadata": {},
   "outputs": [],
   "source": [
    "# this works\n",
    "while True:\n",
    "    for ch in soc.pmod_led_gpio:\n",
    "        ch.on()\n",
    "    time.sleep(1)\n",
    "    for ch in soc.pmod_led_gpio:\n",
    "        ch.off()\n",
    "    time.sleep(1)\n",
    "    "
   ]
  },
  {
   "cell_type": "code",
   "execution_count": null,
   "id": "83e700dc",
   "metadata": {},
   "outputs": [],
   "source": [
    "# this works\n",
    "while True:\n",
    "    for i in range(8):\n",
    "        for j in range(8):\n",
    "            if i==j:\n",
    "                soc.pmod_led_gpio[j].on()\n",
    "            else:\n",
    "                soc.pmod_led_gpio[j].off()\n",
    "        time.sleep(0.2)"
   ]
  },
  {
   "cell_type": "code",
   "execution_count": null,
   "id": "18da5393",
   "metadata": {},
   "outputs": [],
   "source": [
    "# this works\n",
    "while True:\n",
    "    for i in range(8):\n",
    "        for j in range(8):\n",
    "            if i==j:\n",
    "                soc.pmod_led_gpio[j].write(1)\n",
    "            else:\n",
    "                soc.pmod_led_gpio[j].write(0)\n",
    "        time.sleep(0.2)"
   ]
  },
  {
   "cell_type": "code",
   "execution_count": null,
   "id": "debb667e",
   "metadata": {},
   "outputs": [],
   "source": [
    "# this works\n",
    "while True:\n",
    "    for i in range(8):\n",
    "        soc.pmod_led_gpio.channel1.write(val=1<<i, mask=0xFF)\n",
    "        time.sleep(0.2)\n"
   ]
  },
  {
   "cell_type": "code",
   "execution_count": null,
   "id": "3f3d3135",
   "metadata": {},
   "outputs": [],
   "source": [
    "# this doesn't work, not sure why\n",
    "while True:\n",
    "    soc.pmod_led_gpio.channel1.write(0x0,0xFF)\n",
    "    time.sleep(1)\n",
    "    soc.pmod_led_gpio.channel1.write(0xFF,0xFF)\n",
    "    time.sleep(1)\n",
    "    "
   ]
  },
  {
   "cell_type": "code",
   "execution_count": null,
   "id": "9497f45f",
   "metadata": {},
   "outputs": [],
   "source": [
    "help(soc.pmod_led_gpio.channel1.write)"
   ]
  }
 ],
 "metadata": {
  "kernelspec": {
   "display_name": "Python 3 (ipykernel)",
   "language": "python",
   "name": "python3"
  },
  "language_info": {
   "codemirror_mode": {
    "name": "ipython",
    "version": 3
   },
   "file_extension": ".py",
   "mimetype": "text/x-python",
   "name": "python",
   "nbconvert_exporter": "python",
   "pygments_lexer": "ipython3",
   "version": "3.10.4"
  }
 },
 "nbformat": 4,
 "nbformat_minor": 5
}
