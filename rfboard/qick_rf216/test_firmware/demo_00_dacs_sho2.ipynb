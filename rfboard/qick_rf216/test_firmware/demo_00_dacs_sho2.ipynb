{
 "cells": [
  {
   "cell_type": "code",
   "execution_count": 1,
   "metadata": {},
   "outputs": [],
   "source": [
    "from qick import *\n",
    "from qick.rfboard import RFQickSoc216V1\n",
    "from test_rf216_v1 import *\n",
    "\n",
    "import pynq.overlay\n",
    "\n",
    "from tqdm.auto import tqdm\n",
    "\n",
    "import numpy as np\n",
    "from numpy.fft import fft, fftshift\n",
    "from scipy.signal import welch\n",
    "\n",
    "import matplotlib.pyplot as plt\n",
    "\n",
    "import scipy.io"
   ]
  },
  {
   "cell_type": "code",
   "execution_count": 2,
   "metadata": {},
   "outputs": [
    {
     "data": {
      "application/javascript": [
       "\n",
       "try {\n",
       "require(['notebook/js/codecell'], function(codecell) {\n",
       "  codecell.CodeCell.options_default.highlight_modes[\n",
       "      'magic_text/x-csrc'] = {'reg':[/^%%microblaze/]};\n",
       "  Jupyter.notebook.events.one('kernel_ready.Kernel', function(){\n",
       "      Jupyter.notebook.get_cells().map(function(cell){\n",
       "          if (cell.cell_type == 'code'){ cell.auto_highlight(); } }) ;\n",
       "  });\n",
       "});\n",
       "} catch (e) {};\n"
      ]
     },
     "metadata": {},
     "output_type": "display_data"
    },
    {
     "data": {
      "application/javascript": [
       "\n",
       "try {\n",
       "require(['notebook/js/codecell'], function(codecell) {\n",
       "  codecell.CodeCell.options_default.highlight_modes[\n",
       "      'magic_text/x-csrc'] = {'reg':[/^%%pybind11/]};\n",
       "  Jupyter.notebook.events.one('kernel_ready.Kernel', function(){\n",
       "      Jupyter.notebook.get_cells().map(function(cell){\n",
       "          if (cell.cell_type == 'code'){ cell.auto_highlight(); } }) ;\n",
       "  });\n",
       "});\n",
       "} catch (e) {};\n"
      ]
     },
     "metadata": {},
     "output_type": "display_data"
    },
    {
     "name": "stdout",
     "output_type": "stream",
     "text": [
      "resetting clocks: 245.76 491.52\n",
      "\n",
      "QICK configuration:\n",
      "\n",
      "\tBoard: ZCU216\n"
     ]
    }
   ],
   "source": [
    "# Load bitstream with custom overlay\n",
    "# soc = RFBoardTestSoc('./test_rf216_v1.bit', clk_output=None, no_tproc=True)\n",
    "# soc = RFBoardTestSoc('./test_rf216_v1_kt.bit', clk_output=None, no_tproc=True)\n",
    "soc = RFBoardTestSoc('./test_rf216_v2_kt.bit', clk_output=None, no_tproc=True)\n",
    "# soc = RFBoardTestSoc('./test_rf216_v2_ktx.bit', clk_output=None, no_tproc=True)\n",
    "# soc = RFBoardTestSoc('./test_rf216_v2-dc_tst_kt.bit', clk_output=None, no_tproc=True)\n",
    "\n",
    "# soc = RFQickSoc216V1('/home/xilinx/jupyter_notebooks/fw/qick_rf216/qick_rf216_v2.bit', clk_output=None)\n",
    "\n",
    "\n",
    "#soc = QickSoc('../qick/qick_lib/qick/qick_216.bit')\n",
    "soccfg = soc\n",
    "\n",
    "print(soccfg)"
   ]
  },
  {
   "cell_type": "code",
   "execution_count": 3,
   "metadata": {},
   "outputs": [],
   "source": [
    "# soc = RFBoardTestSoc('./test_rf216_v1_.bit', clk_output=None, no_tproc=True)\n",
    "# for i, chain in enumerate(soc.adc_chains):\n",
    "#     print(\"ADC\", i, chain.read_filter(reg='CHIPTYPE',debug=False))\n",
    "# for i, chain in enumerate(soc.dac_chains):\n",
    "#     print(\"DAC\", i, chain.read_filter(reg='CHIPTYPE',debug=False))"
   ]
  },
  {
   "cell_type": "code",
   "execution_count": 4,
   "metadata": {},
   "outputs": [],
   "source": [
    "# soc = RFBoardTestSoc('./test_rf216_v1.bit', clk_output=None, no_tproc=True)\n",
    "# for i, chain in enumerate(soc.adc_chains):\n",
    "#     print(\"ADC\", i, chain.read_filter(reg='CHIPTYPE',debug=False))\n",
    "# for i, chain in enumerate(soc.dac_chains):\n",
    "#     print(\"DAC\", i, chain.read_filter(reg='CHIPTYPE',debug=False))"
   ]
  },
  {
   "cell_type": "code",
   "execution_count": 5,
   "metadata": {},
   "outputs": [],
   "source": [
    "# soc = RFBoardTestSoc('./test_rf216_v1_kt.bit', clk_output=None, no_tproc=True)\n",
    "# for i, chain in enumerate(soc.adc_chains):\n",
    "#     print(\"ADC\", i, chain.read_filter(reg='CHIPTYPE',debug=False))\n",
    "# for i, chain in enumerate(soc.dac_chains):\n",
    "#     print(\"DAC\", i, chain.read_filter(reg='CHIPTYPE',debug=False))"
   ]
  },
  {
   "cell_type": "code",
   "execution_count": 6,
   "metadata": {},
   "outputs": [],
   "source": [
    "# soc = RFBoardTestSoc('./test_rf216_v2_ktx.bit', clk_output=None, no_tproc=True)\n",
    "# for i, chain in enumerate(soc.adc_chains):\n",
    "#     print(\"ADC\", i, chain.read_filter(reg='CHIPTYPE',debug=False))\n",
    "# for i, chain in enumerate(soc.dac_chains):\n",
    "#     print(\"DAC\", i, chain.read_filter(reg='CHIPTYPE',debug=False))"
   ]
  },
  {
   "cell_type": "code",
   "execution_count": 7,
   "metadata": {},
   "outputs": [],
   "source": [
    "# soc = RFBoardTestSoc('./test_rf216_v1_kt.bit', clk_output=None, no_tproc=True)\n",
    "# for i, chain in enumerate(soc.adc_chains):\n",
    "#     print(\"ADC\", i, chain.read_filter(reg='CHIPTYPE',debug=False))\n",
    "# for i, chain in enumerate(soc.dac_chains):\n",
    "#     print(\"DAC\", i, chain.read_filter(reg='CHIPTYPE',debug=False))"
   ]
  },
  {
   "cell_type": "code",
   "execution_count": 8,
   "metadata": {},
   "outputs": [],
   "source": [
    "# soc = RFBoardTestSoc('./test_rf216_v2_kt.bit', clk_output=None, no_tproc=True)\n",
    "# for i, chain in enumerate(soc.adc_chains):\n",
    "#     print(\"ADC\", i, chain.read_filter(reg='CHIPTYPE',debug=False))\n",
    "# for i, chain in enumerate(soc.dac_chains):\n",
    "#     print(\"DAC\", i, chain.read_filter(reg='CHIPTYPE',debug=False))"
   ]
  },
  {
   "cell_type": "code",
   "execution_count": 9,
   "metadata": {},
   "outputs": [],
   "source": [
    "# soc = RFBoardTestSoc('./test_rf216_v2-dc_tst_kt.bit', clk_output=None, no_tproc=True)\n",
    "# for i, chain in enumerate(soc.adc_chains):\n",
    "#     print(\"ADC\", i, chain.read_filter(reg='CHIPTYPE',debug=False))\n",
    "# for i, chain in enumerate(soc.dac_chains):\n",
    "#     print(\"DAC\", i, chain.read_filter(reg='CHIPTYPE',debug=False))"
   ]
  },
  {
   "cell_type": "code",
   "execution_count": 10,
   "metadata": {},
   "outputs": [],
   "source": [
    "# soc = RFQickSoc216V1('/home/xilinx/jupyter_notebooks/fw/qick_rf216/qick_rf216_v2.bit', clk_output=None)\n",
    "# for i, chain in enumerate(soc.adc_chains):\n",
    "#     print(\"ADC\", i, chain.read_filter(reg='CHIPTYPE',debug=False))\n",
    "# for i, chain in enumerate(soc.dac_chains):\n",
    "#     print(\"DAC\", i, chain.read_filter(reg='CHIPTYPE',debug=False))"
   ]
  },
  {
   "cell_type": "code",
   "execution_count": 11,
   "metadata": {},
   "outputs": [],
   "source": [
    "# soc = RFQickSoc216V1('/home/xilinx/jupyter_notebooks/fw/2024-08-23_216_tprocv2r20_rfb/qick_216_rfb.bit', clk_output=None)\n",
    "# for i, chain in enumerate(soc.adc_chains):\n",
    "#     print(\"ADC\", i, chain.read_filter(reg='CHIPTYPE',debug=False))\n",
    "# for i, chain in enumerate(soc.dac_chains):\n",
    "#     print(\"DAC\", i, chain.read_filter(reg='CHIPTYPE',debug=False))"
   ]
  },
  {
   "cell_type": "code",
   "execution_count": 12,
   "metadata": {},
   "outputs": [],
   "source": [
    "# soc = RFQickSoc216V1('/home/xilinx/jupyter_notebooks/fw/2024-08-23_216_tprocv2r20_rfb-spifix/qick_216_rfb.bit', clk_output=None)\n",
    "# for i, chain in enumerate(soc.adc_chains):\n",
    "#     print(\"ADC\", i, chain.read_filter(reg='CHIPTYPE',debug=False))\n",
    "# for i, chain in enumerate(soc.dac_chains):\n",
    "#     print(\"DAC\", i, chain.read_filter(reg='CHIPTYPE',debug=False))"
   ]
  },
  {
   "cell_type": "code",
   "execution_count": 13,
   "metadata": {},
   "outputs": [],
   "source": [
    "# debug = False\n",
    "# for chain in soc.adc_chains:\n",
    "#     print(bin(chain.read_filter(reg='CHIPTYPE',debug=debug)))\n",
    "# #     print(bin(chain.read_filter(reg='WR0_SW',debug=debug)))\n",
    "# #     print(bin(chain.read_filter(reg='WR0_FILTER',debug=debug)))"
   ]
  },
  {
   "cell_type": "code",
   "execution_count": 14,
   "metadata": {},
   "outputs": [],
   "source": [
    "# debug = False\n",
    "# for chain in soc.dac_chains:\n",
    "#     print(bin(chain.read_filter(reg='CHIPTYPE',debug=debug)))\n",
    "# #     print(bin(chain.read_filter(reg='WR0_SW',debug=debug)))\n",
    "# #     print(bin(chain.read_filter(reg='WR0_FILTER',debug=debug)))\n"
   ]
  },
  {
   "cell_type": "code",
   "execution_count": null,
   "metadata": {},
   "outputs": [],
   "source": []
  },
  {
   "cell_type": "code",
   "execution_count": 15,
   "metadata": {},
   "outputs": [
    {
     "data": {
      "text/plain": [
       "Text(0.5, 0, 'MHz')"
      ]
     },
     "execution_count": 15,
     "metadata": {},
     "output_type": "execute_result"
    },
    {
     "data": {
      "image/png": "[encoded data removed]",
      "text/plain": [
       "<Figure size 432x288 with 1 Axes>"
      ]
     },
     "metadata": {
      "needs_background": "light"
     },
     "output_type": "display_data"
    }
   ],
   "source": [
    "###################\n",
    "### DAC Setting ###\n",
    "###################\n",
    "dac_channel = 15\n",
    "\n",
    "freq =5500\n",
    "nqz = 2\n",
    "\n",
    "# Set output tone.\n",
    "soc.generator.set(f=freq, g=0.99, ch=dac_channel)\n",
    "\n",
    "# Set Nyquist Zone.\n",
    "soc.set_nyquist(nqz=nqz, ch=dac_channel, btype='dac')\n",
    "\n",
    "# Set Filter.\n",
    "#fc = 2.051  # 2.051 is the lowest fc value for a low pass filter\n",
    "fc = freq/1000\n",
    "bw = 1\n",
    "soc.dac_chains[dac_channel].set_filter(fc=fc, bw=bw, ftype='bandpass')\n",
    "#soc.dac_chains[dac_channel].set_filter(fc=fc, bw=bw, ftype='lowpass')\n",
    "\n",
    "# Set attenuator on DAC.\n",
    "soc.dac_chains[dac_channel].set_attn_db(attn=0, db=30)\n",
    "soc.dac_chains[dac_channel].set_attn_db(attn=1, db=30)\n",
    "###################\n",
    "### ADC Setting ###\n",
    "###################\n",
    "adc_channel = 4\n",
    "nqz = 2\n",
    "\n",
    "# Set Filter.\n",
    "fc = freq/1000\n",
    "bw = 1.0\n",
    "soc.adc_chains[adc_channel].set_filter(fc=fc, bw=bw, ftype='bandpass',debug=False)\n",
    "# soc.adc_chains[adc_channel].set_filter(fc=2.051, bw=bw, ftype='lowpass',debug=False)\n",
    "\n",
    "# Set attenuator on ADC.\n",
    "soc.adc_chains[adc_channel].set_attn_db(db=20)\n",
    "\n",
    "# Set Nyquist Zone.\n",
    "soc.set_nyquist(nqz=nqz, ch=adc_channel, btype='adc')\n",
    "\n",
    "# Get data.\n",
    "fs = soc.buffer.fs\n",
    "x = soc.buffer.get_data(ch=adc_channel)\n",
    "\n",
    "fft_freqs, psd = welch(x, fs, return_onesided=True, nperseg=1024, detrend=False)\n",
    "plt.semilogy(fft_freqs, psd)\n",
    "plt.xlabel(\"MHz\")"
   ]
  },
  {
   "cell_type": "code",
   "execution_count": 16,
   "metadata": {},
   "outputs": [
    {
     "data": {
      "application/vnd.jupyter.widget-view+json": {
       "model_id": "2c511f85e51c4311a40f81b7b235467c",
       "version_major": 2,
       "version_minor": 0
      },
      "text/plain": [
       "  0%|          | 0/20 [00:00<?, ?it/s]"
      ]
     },
     "metadata": {},
     "output_type": "display_data"
    },
    {
     "data": {
      "application/vnd.jupyter.widget-view+json": {
       "model_id": "d648d639a216458e825ba195819bff5d",
       "version_major": 2,
       "version_minor": 0
      },
      "text/plain": [
       "  0%|          | 0/20 [00:00<?, ?it/s]"
      ]
     },
     "metadata": {},
     "output_type": "display_data"
    },
    {
     "data": {
      "application/vnd.jupyter.widget-view+json": {
       "model_id": "511c034a53f44924aaf71ddcfdd18463",
       "version_major": 2,
       "version_minor": 0
      },
      "text/plain": [
       "  0%|          | 0/20 [00:00<?, ?it/s]"
      ]
     },
     "metadata": {},
     "output_type": "display_data"
    },
    {
     "data": {
      "application/vnd.jupyter.widget-view+json": {
       "model_id": "a2fb42203ead4cdc9ae24a0074bbd7c4",
       "version_major": 2,
       "version_minor": 0
      },
      "text/plain": [
       "  0%|          | 0/20 [00:00<?, ?it/s]"
      ]
     },
     "metadata": {},
     "output_type": "display_data"
    },
    {
     "data": {
      "image/png": "[encoded data removed]",
      "text/plain": [
       "<Figure size 432x288 with 1 Axes>"
      ]
     },
     "metadata": {
      "needs_background": "light"
     },
     "output_type": "display_data"
    }
   ],
   "source": [
    "# dac_channel = 14\n",
    "# adc_channel = 5\n",
    "# atts = (10, 30, 20)\n",
    "dac_channel = 15\n",
    "adc_channel = 4\n",
    "atts = (30, 30, 20)\n",
    "\n",
    "\n",
    "# Set Nyquist Zone.\n",
    "soc.set_nyquist(nqz=2, ch=dac_channel, btype='dac')\n",
    "\n",
    "# # Set Nyquist Zone.\n",
    "# soc.set_nyquist(nqz=2, ch=adc_channel, btype='adc')\n",
    "\n",
    "\n",
    "# Set attenuator on DAC.\n",
    "soc.dac_chains[dac_channel].set_attn_db(attn=0, db=atts[0])\n",
    "soc.dac_chains[dac_channel].set_attn_db(attn=1, db=atts[1])\n",
    "\n",
    "# Set attenuator on ADC.\n",
    "soc.adc_chains[adc_channel].set_attn_db(db=atts[2])\n",
    "\n",
    "freq =5500\n",
    "fc = freq/1000\n",
    "bw = 1.0\n",
    "\n",
    "# Set Filter.\n",
    "#fc = 2.051  # 2.051 is the lowest fc value for a low pass filter\n",
    "# fc = freq/1000\n",
    "# bw = 1\n",
    "# soc.dac_chains[dac_channel].set_filter(fc=fc, bw=bw, ftype='bandpass')\n",
    "# #soc.dac_chains[dac_channel].set_filter(fc=fc, bw=bw, ftype='lowpass')\n",
    "# # soc.dac_chains[dac_channel].set_filter(fc=fc, bw=bw, ftype='bypass')\n",
    "\n",
    "\n",
    "# # Set Filter.\n",
    "# fc = freq/1000\n",
    "# bw = 1.0\n",
    "# soc.adc_chains[adc_channel].set_filter(fc=fc, bw=bw, ftype='bandpass',debug=False)\n",
    "# # soc.adc_chains[adc_channel].set_filter(fc=2.051, bw=bw, ftype='lowpass',debug=False)\n",
    "# # soc.adc_chains[adc_channel].set_filter(fc=fc, bw=bw, ftype='bypass',debug=False)\n",
    "\n",
    "fs = soc.buffer.fs\n",
    "freqs = np.linspace(1000, 7000, 20)\n",
    "\n",
    "\n",
    "for filtmode in [('bypass','bypass'), ('bandpass','bypass'), ('bypass','bandpass'), ('bandpass','bandpass')]:\n",
    "    soc.dac_chains[dac_channel].set_filter(fc=fc, bw=bw, ftype=filtmode[0],debug=False)\n",
    "    soc.adc_chains[adc_channel].set_filter(fc=fc, bw=bw, ftype=filtmode[1],debug=False)\n",
    "    \n",
    "    powers = []\n",
    "    for i,f_tone in enumerate(tqdm(freqs)):\n",
    "        # Set output tone.\n",
    "        soc.generator.set(f=f_tone, g=0.99, ch=dac_channel)\n",
    "\n",
    "        # Get data.\n",
    "        x = soc.buffer.get_data(ch=adc_channel)\n",
    "\n",
    "        rounded_freq = np.round(f_tone/soc.generator.ctrl.df)*soc.generator.ctrl.df\n",
    "        demod = np.exp(1j*2*np.pi*np.arange(len(x))*rounded_freq/fs)*x\n",
    "        powers.append(np.abs(demod.mean()))\n",
    "\n",
    "    plt.semilogy(freqs,powers, label=\"DAC %s, ADC %s\"%(filtmode[0], filtmode[1]))\n",
    "    \n",
    "plt.legend();"
   ]
  },
  {
   "cell_type": "code",
   "execution_count": 17,
   "metadata": {},
   "outputs": [
    {
     "name": "stdout",
     "output_type": "stream",
     "text": [
      "9830.4\n",
      "2457.6\n"
     ]
    }
   ],
   "source": [
    "print(soc.generator.ctrl.fs)\n",
    "print(soc.buffer.fs)"
   ]
  }
 ],
 "metadata": {
  "kernelspec": {
   "display_name": "Python 3 (ipykernel)",
   "language": "python",
   "name": "python3"
  },
  "language_info": {
   "codemirror_mode": {
    "name": "ipython",
    "version": 3
   },
   "file_extension": ".py",
   "mimetype": "text/x-python",
   "name": "python",
   "nbconvert_exporter": "python",
   "pygments_lexer": "ipython3",
   "version": "3.10.4"
  }
 },
 "nbformat": 4,
 "nbformat_minor": 4
}
