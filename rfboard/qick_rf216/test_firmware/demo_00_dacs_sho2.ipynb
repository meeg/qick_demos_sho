{
 "cells": [
  {
   "cell_type": "code",
   "execution_count": 1,
   "metadata": {},
   "outputs": [],
   "source": [
    "from qick import *\n",
    "from qick.rfboard import RFQickSoc216V1\n",
    "from test_rf216_v1 import *\n",
    "\n",
    "import pynq.overlay\n",
    "\n",
    "from tqdm.auto import tqdm\n",
    "\n",
    "import numpy as np\n",
    "from numpy.fft import fft, fftshift\n",
    "from scipy.signal import welch\n",
    "\n",
    "import matplotlib.pyplot as plt\n",
    "\n",
    "import scipy.io"
   ]
  },
  {
   "cell_type": "code",
   "execution_count": 127,
   "metadata": {},
   "outputs": [
    {
     "name": "stdout",
     "output_type": "stream",
     "text": [
      "QICK running on ZCU216, software version 0.2.276\n",
      "\n",
      "Firmware configuration (built Wed Jan 31 08:18:41 2024):\n",
      "\n",
      "\tGlobal clocks (MHz): tProcessor 349.997, RF reference 245.760\n",
      "\n",
      "\t16 signal generator channels:\n",
      "\t0:\taxis_sg_int4_v1 - envelope memory 4096 samples (13.333 us)\n",
      "\t\tfs=4915.200 MHz, fabric=307.200 MHz, 16-bit DDS, range=1228.800 MHz\n",
      "\t\tDAC tile 0, blk 0 is 0_228, on JHC1\n",
      "\t1:\taxis_sg_int4_v1 - envelope memory 4096 samples (13.333 us)\n",
      "\t\tfs=4915.200 MHz, fabric=307.200 MHz, 16-bit DDS, range=1228.800 MHz\n",
      "\t\tDAC tile 0, blk 1 is 1_228, on JHC2\n",
      "\t2:\taxis_sg_int4_v1 - envelope memory 4096 samples (13.333 us)\n",
      "\t\tfs=4915.200 MHz, fabric=307.200 MHz, 16-bit DDS, range=1228.800 MHz\n",
      "\t\tDAC tile 0, blk 2 is 2_228, on JHC1\n",
      "\t3:\taxis_sg_int4_v1 - envelope memory 4096 samples (13.333 us)\n",
      "\t\tfs=4915.200 MHz, fabric=307.200 MHz, 16-bit DDS, range=1228.800 MHz\n",
      "\t\tDAC tile 0, blk 3 is 3_228, on JHC2\n",
      "\t4:\taxis_sg_int4_v1 - envelope memory 4096 samples (9.524 us)\n",
      "\t\tfs=6881.280 MHz, fabric=430.080 MHz, 16-bit DDS, range=1720.320 MHz\n",
      "\t\tDAC tile 1, blk 0 is 0_229, on JHC1\n",
      "\t5:\taxis_sg_int4_v1 - envelope memory 4096 samples (9.524 us)\n",
      "\t\tfs=6881.280 MHz, fabric=430.080 MHz, 16-bit DDS, range=1720.320 MHz\n",
      "\t\tDAC tile 1, blk 1 is 1_229, on JHC2\n",
      "\t6:\taxis_sg_int4_v1 - envelope memory 4096 samples (9.524 us)\n",
      "\t\tfs=6881.280 MHz, fabric=430.080 MHz, 16-bit DDS, range=1720.320 MHz\n",
      "\t\tDAC tile 1, blk 2 is 2_229, on JHC1\n",
      "\t7:\taxis_sg_int4_v1 - envelope memory 4096 samples (9.524 us)\n",
      "\t\tfs=6881.280 MHz, fabric=430.080 MHz, 16-bit DDS, range=1720.320 MHz\n",
      "\t\tDAC tile 1, blk 3 is 3_229, on JHC2\n",
      "\t8:\taxis_signal_gen_v6 - envelope memory 16384 samples (1.667 us)\n",
      "\t\tfs=9830.400 MHz, fabric=614.400 MHz, 32-bit DDS, range=9830.400 MHz\n",
      "\t\tDAC tile 2, blk 0 is 0_230, on JHC3\n",
      "\t9:\taxis_signal_gen_v6 - envelope memory 16384 samples (1.667 us)\n",
      "\t\tfs=9830.400 MHz, fabric=614.400 MHz, 32-bit DDS, range=9830.400 MHz\n",
      "\t\tDAC tile 2, blk 1 is 1_230, on JHC4\n",
      "\t10:\taxis_signal_gen_v6 - envelope memory 16384 samples (1.667 us)\n",
      "\t\tfs=9830.400 MHz, fabric=614.400 MHz, 32-bit DDS, range=9830.400 MHz\n",
      "\t\tDAC tile 2, blk 2 is 2_230, on JHC3\n",
      "\t11:\taxis_signal_gen_v6 - envelope memory 16384 samples (1.667 us)\n",
      "\t\tfs=9830.400 MHz, fabric=614.400 MHz, 32-bit DDS, range=9830.400 MHz\n",
      "\t\tDAC tile 2, blk 3 is 3_230, on JHC4\n",
      "\t12:\taxis_signal_gen_v6 - envelope memory 16384 samples (1.667 us)\n",
      "\t\tfs=9830.400 MHz, fabric=614.400 MHz, 32-bit DDS, range=9830.400 MHz\n",
      "\t\tDAC tile 3, blk 0 is 0_231, on JHC3\n",
      "\t13:\taxis_signal_gen_v6 - envelope memory 16384 samples (1.667 us)\n",
      "\t\tfs=9830.400 MHz, fabric=614.400 MHz, 32-bit DDS, range=9830.400 MHz\n",
      "\t\tDAC tile 3, blk 1 is 1_231, on JHC4\n",
      "\t14:\taxis_signal_gen_v6 - envelope memory 16384 samples (1.667 us)\n",
      "\t\tfs=9830.400 MHz, fabric=614.400 MHz, 32-bit DDS, range=9830.400 MHz\n",
      "\t\tDAC tile 3, blk 2 is 2_231, on JHC3\n",
      "\t15:\taxis_sg_mux4_v3 - envelope memory 0 samples (0.000 us)\n",
      "\t\tfs=9830.400 MHz, fabric=614.400 MHz, 32-bit DDS, range=9830.400 MHz\n",
      "\t\tDAC tile 3, blk 3 is 3_231, on JHC4\n",
      "\n",
      "\t8 readout channels:\n",
      "\t0:\taxis_pfb_readout_v2 - configured by PYNQ\n",
      "\t\tfs=2457.600 MHz, decimated=307.200 MHz, 32-bit DDS, range=307.200 MHz\n",
      "\t\tmaxlen 16384 accumulated, 16384 decimated (53.333 us)\n",
      "\t\ttriggered by output 7, pin 4, feedback to tProc input 0\n",
      "\t\tADC tile 2, blk 0 is 0_226, on JHC7\n",
      "\t1:\taxis_pfb_readout_v2 - configured by PYNQ\n",
      "\t\tfs=2457.600 MHz, decimated=307.200 MHz, 32-bit DDS, range=307.200 MHz\n",
      "\t\tmaxlen 16384 accumulated, 16384 decimated (53.333 us)\n",
      "\t\ttriggered by output 7, pin 5, feedback to tProc input 1\n",
      "\t\tADC tile 2, blk 0 is 0_226, on JHC7\n",
      "\t2:\taxis_pfb_readout_v2 - configured by PYNQ\n",
      "\t\tfs=2457.600 MHz, decimated=307.200 MHz, 32-bit DDS, range=307.200 MHz\n",
      "\t\tmaxlen 16384 accumulated, 16384 decimated (53.333 us)\n",
      "\t\ttriggered by output 7, pin 6, feedback to tProc input 2\n",
      "\t\tADC tile 2, blk 0 is 0_226, on JHC7\n",
      "\t3:\taxis_pfb_readout_v2 - configured by PYNQ\n",
      "\t\tfs=2457.600 MHz, decimated=307.200 MHz, 32-bit DDS, range=307.200 MHz\n",
      "\t\tmaxlen 16384 accumulated, 16384 decimated (53.333 us)\n",
      "\t\ttriggered by output 7, pin 7, feedback to tProc input 3\n",
      "\t\tADC tile 2, blk 0 is 0_226, on JHC7\n",
      "\t4:\taxis_readout_v2 - configured by PYNQ\n",
      "\t\tfs=2457.600 MHz, decimated=307.200 MHz, 32-bit DDS, range=2457.600 MHz\n",
      "\t\tmaxlen 16384 accumulated, 16384 decimated (53.333 us)\n",
      "\t\ttriggered by output 7, pin 8, feedback to tProc input -1\n",
      "\t\tADC tile 1, blk 0 is 0_225, on JHC5\n",
      "\t5:\taxis_readout_v2 - configured by PYNQ\n",
      "\t\tfs=2457.600 MHz, decimated=307.200 MHz, 32-bit DDS, range=2457.600 MHz\n",
      "\t\tmaxlen 16384 accumulated, 16384 decimated (53.333 us)\n",
      "\t\ttriggered by output 7, pin 9, feedback to tProc input -1\n",
      "\t\tADC tile 1, blk 1 is 1_225, on JHC6\n",
      "\t6:\taxis_readout_v2 - configured by PYNQ\n",
      "\t\tfs=2457.600 MHz, decimated=307.200 MHz, 32-bit DDS, range=2457.600 MHz\n",
      "\t\tmaxlen 16384 accumulated, 16384 decimated (53.333 us)\n",
      "\t\ttriggered by output 7, pin 10, feedback to tProc input -1\n",
      "\t\tADC tile 1, blk 2 is 2_225, on JHC5\n",
      "\t7:\taxis_readout_v2 - configured by PYNQ\n",
      "\t\tfs=2457.600 MHz, decimated=307.200 MHz, 32-bit DDS, range=2457.600 MHz\n",
      "\t\tmaxlen 16384 accumulated, 16384 decimated (53.333 us)\n",
      "\t\ttriggered by output 7, pin 11, feedback to tProc input -1\n",
      "\t\tADC tile 1, blk 3 is 3_225, on JHC6\n",
      "\n",
      "\t4 digital output pins:\n",
      "\t0:\tSPARE0_1V8\n",
      "\t1:\tSPARE1_1V8\n",
      "\t2:\tSPARE2_1V8\n",
      "\t3:\tSPARE3_1V8\n",
      "\n",
      "\ttProc axis_tproc64x32_x8 (\"v1\") rev 6: program memory 1024 words, data memory 1024 words\n",
      "\t\texternal start pin: None\n"
     ]
    }
   ],
   "source": [
    "# Load bitstream with custom overlay\n",
    "# soc = RFBoardTestSoc('./test_rf216_v1.bit', clk_output=None, no_tproc=True)\n",
    "# soc = RFBoardTestSoc('./test_rf216_v1_kt.bit', clk_output=None, no_tproc=True)\n",
    "# soc = RFBoardTestSoc('./test_rf216_v2_kt.bit', clk_output=None, no_tproc=True)\n",
    "# soc = RFBoardTestSoc('./test_rf216_v2_ktx.bit', clk_output=None, no_tproc=True)\n",
    "# soc = RFBoardTestSoc('./test_rf216_v2-dc_tst_kt.bit', clk_output=None, no_tproc=True)\n",
    "\n",
    "soc = RFQickSoc216V1('/home/xilinx/jupyter_notebooks/fw/qick_rf216/qick_rf216_v2.bit', clk_output=None)\n",
    "\n",
    "\n",
    "#soc = QickSoc('../qick/qick_lib/qick/qick_216.bit')\n",
    "soccfg = soc\n",
    "\n",
    "print(soccfg)"
   ]
  },
  {
   "cell_type": "code",
   "execution_count": 133,
   "metadata": {},
   "outputs": [],
   "source": [
    "# soc = RFBoardTestSoc('./test_rf216_v1_.bit', clk_output=None, no_tproc=True)\n",
    "# for i, chain in enumerate(soc.adc_chains):\n",
    "#     print(\"ADC\", i, chain.read_filter(reg='CHIPTYPE',debug=False))\n",
    "# for i, chain in enumerate(soc.dac_chains):\n",
    "#     print(\"DAC\", i, chain.read_filter(reg='CHIPTYPE',debug=False))"
   ]
  },
  {
   "cell_type": "code",
   "execution_count": 134,
   "metadata": {},
   "outputs": [
    {
     "name": "stdout",
     "output_type": "stream",
     "text": [
      "ADC 0 255\n",
      "ADC 1 255\n",
      "ADC 2 255\n",
      "ADC 3 255\n",
      "ADC 4 1\n",
      "ADC 5 255\n",
      "ADC 6 255\n",
      "ADC 7 255\n",
      "DAC 0 255\n",
      "DAC 1 255\n",
      "DAC 2 255\n",
      "DAC 3 255\n",
      "DAC 4 255\n",
      "DAC 5 255\n",
      "DAC 6 255\n",
      "DAC 7 255\n",
      "DAC 8 255\n",
      "DAC 9 255\n",
      "DAC 10 255\n",
      "DAC 11 255\n",
      "DAC 12 1\n",
      "DAC 13 1\n",
      "DAC 14 255\n",
      "DAC 15 255\n"
     ]
    }
   ],
   "source": [
    "soc = RFBoardTestSoc('./test_rf216_v1.bit', clk_output=None, no_tproc=True)\n",
    "for i, chain in enumerate(soc.adc_chains):\n",
    "    print(\"ADC\", i, chain.read_filter(reg='CHIPTYPE',debug=False))\n",
    "for i, chain in enumerate(soc.dac_chains):\n",
    "    print(\"DAC\", i, chain.read_filter(reg='CHIPTYPE',debug=False))"
   ]
  },
  {
   "cell_type": "code",
   "execution_count": 138,
   "metadata": {},
   "outputs": [
    {
     "name": "stdout",
     "output_type": "stream",
     "text": [
      "ADC 0 255\n",
      "ADC 1 255\n",
      "ADC 2 255\n",
      "ADC 3 255\n",
      "ADC 4 1\n",
      "ADC 5 255\n",
      "ADC 6 255\n",
      "ADC 7 255\n",
      "DAC 0 255\n",
      "DAC 1 255\n",
      "DAC 2 255\n",
      "DAC 3 255\n",
      "DAC 4 255\n",
      "DAC 5 255\n",
      "DAC 6 255\n",
      "DAC 7 255\n",
      "DAC 8 255\n",
      "DAC 9 255\n",
      "DAC 10 255\n",
      "DAC 11 255\n",
      "DAC 12 1\n",
      "DAC 13 1\n",
      "DAC 14 255\n",
      "DAC 15 255\n"
     ]
    }
   ],
   "source": [
    "soc = RFBoardTestSoc('./test_rf216_v1_kt.bit', clk_output=None, no_tproc=True)\n",
    "for i, chain in enumerate(soc.adc_chains):\n",
    "    print(\"ADC\", i, chain.read_filter(reg='CHIPTYPE',debug=False))\n",
    "for i, chain in enumerate(soc.dac_chains):\n",
    "    print(\"DAC\", i, chain.read_filter(reg='CHIPTYPE',debug=False))"
   ]
  },
  {
   "cell_type": "code",
   "execution_count": 137,
   "metadata": {},
   "outputs": [
    {
     "name": "stdout",
     "output_type": "stream",
     "text": [
      "ADC 0 255\n",
      "ADC 1 255\n",
      "ADC 2 255\n",
      "ADC 3 255\n",
      "ADC 4 1\n",
      "ADC 5 1\n",
      "ADC 6 255\n",
      "ADC 7 255\n",
      "DAC 0 255\n",
      "DAC 1 255\n",
      "DAC 2 255\n",
      "DAC 3 255\n",
      "DAC 4 255\n",
      "DAC 5 255\n",
      "DAC 6 255\n",
      "DAC 7 255\n",
      "DAC 8 255\n",
      "DAC 9 255\n",
      "DAC 10 255\n",
      "DAC 11 255\n",
      "DAC 12 1\n",
      "DAC 13 1\n",
      "DAC 14 1\n",
      "DAC 15 1\n"
     ]
    }
   ],
   "source": [
    "soc = RFBoardTestSoc('./test_rf216_v2_ktx.bit', clk_output=None, no_tproc=True)\n",
    "for i, chain in enumerate(soc.adc_chains):\n",
    "    print(\"ADC\", i, chain.read_filter(reg='CHIPTYPE',debug=False))\n",
    "for i, chain in enumerate(soc.dac_chains):\n",
    "    print(\"DAC\", i, chain.read_filter(reg='CHIPTYPE',debug=False))"
   ]
  },
  {
   "cell_type": "code",
   "execution_count": null,
   "metadata": {},
   "outputs": [],
   "source": [
    "# soc = RFBoardTestSoc('./test_rf216_v1_kt.bit', clk_output=None, no_tproc=True)\n",
    "# for i, chain in enumerate(soc.adc_chains):\n",
    "#     print(\"ADC\", i, chain.read_filter(reg='CHIPTYPE',debug=False))\n",
    "# for i, chain in enumerate(soc.dac_chains):\n",
    "#     print(\"DAC\", i, chain.read_filter(reg='CHIPTYPE',debug=False))"
   ]
  },
  {
   "cell_type": "code",
   "execution_count": 139,
   "metadata": {},
   "outputs": [
    {
     "name": "stdout",
     "output_type": "stream",
     "text": [
      "ADC 0 255\n",
      "ADC 1 255\n",
      "ADC 2 255\n",
      "ADC 3 255\n",
      "ADC 4 1\n",
      "ADC 5 1\n",
      "ADC 6 255\n",
      "ADC 7 255\n",
      "DAC 0 255\n",
      "DAC 1 255\n",
      "DAC 2 255\n",
      "DAC 3 255\n",
      "DAC 4 255\n",
      "DAC 5 255\n",
      "DAC 6 255\n",
      "DAC 7 255\n",
      "DAC 8 255\n",
      "DAC 9 255\n",
      "DAC 10 255\n",
      "DAC 11 255\n",
      "DAC 12 1\n",
      "DAC 13 1\n",
      "DAC 14 1\n",
      "DAC 15 1\n"
     ]
    }
   ],
   "source": [
    "soc = RFBoardTestSoc('./test_rf216_v2_kt.bit', clk_output=None, no_tproc=True)\n",
    "for i, chain in enumerate(soc.adc_chains):\n",
    "    print(\"ADC\", i, chain.read_filter(reg='CHIPTYPE',debug=False))\n",
    "for i, chain in enumerate(soc.dac_chains):\n",
    "    print(\"DAC\", i, chain.read_filter(reg='CHIPTYPE',debug=False))"
   ]
  },
  {
   "cell_type": "code",
   "execution_count": 140,
   "metadata": {},
   "outputs": [
    {
     "name": "stdout",
     "output_type": "stream",
     "text": [
      "ADC 0 255\n",
      "ADC 1 255\n",
      "ADC 2 255\n",
      "ADC 3 255\n",
      "ADC 4 1\n",
      "ADC 5 1\n",
      "ADC 6 255\n",
      "ADC 7 255\n",
      "DAC 0 255\n",
      "DAC 1 255\n",
      "DAC 2 255\n",
      "DAC 3 255\n",
      "DAC 4 255\n",
      "DAC 5 255\n",
      "DAC 6 255\n",
      "DAC 7 255\n",
      "DAC 8 255\n",
      "DAC 9 255\n",
      "DAC 10 255\n",
      "DAC 11 255\n",
      "DAC 12 1\n",
      "DAC 13 1\n",
      "DAC 14 1\n",
      "DAC 15 1\n"
     ]
    }
   ],
   "source": [
    "soc = RFBoardTestSoc('./test_rf216_v2-dc_tst_kt.bit', clk_output=None, no_tproc=True)\n",
    "for i, chain in enumerate(soc.adc_chains):\n",
    "    print(\"ADC\", i, chain.read_filter(reg='CHIPTYPE',debug=False))\n",
    "for i, chain in enumerate(soc.dac_chains):\n",
    "    print(\"DAC\", i, chain.read_filter(reg='CHIPTYPE',debug=False))"
   ]
  },
  {
   "cell_type": "code",
   "execution_count": 141,
   "metadata": {},
   "outputs": [
    {
     "name": "stdout",
     "output_type": "stream",
     "text": [
      "ADC 0 255\n",
      "ADC 1 255\n",
      "ADC 2 255\n",
      "ADC 3 255\n",
      "ADC 4 1\n",
      "ADC 5 255\n",
      "ADC 6 255\n",
      "ADC 7 255\n",
      "DAC 0 255\n",
      "DAC 1 255\n",
      "DAC 2 255\n",
      "DAC 3 255\n",
      "DAC 4 255\n",
      "DAC 5 255\n",
      "DAC 6 255\n",
      "DAC 7 255\n",
      "DAC 8 255\n",
      "DAC 9 255\n",
      "DAC 10 255\n",
      "DAC 11 255\n",
      "DAC 12 1\n",
      "DAC 13 1\n",
      "DAC 14 255\n",
      "DAC 15 255\n"
     ]
    }
   ],
   "source": [
    "soc = RFQickSoc216V1('/home/xilinx/jupyter_notebooks/fw/qick_rf216/qick_rf216_v2.bit', clk_output=None)\n",
    "for i, chain in enumerate(soc.adc_chains):\n",
    "    print(\"ADC\", i, chain.read_filter(reg='CHIPTYPE',debug=False))\n",
    "for i, chain in enumerate(soc.dac_chains):\n",
    "    print(\"DAC\", i, chain.read_filter(reg='CHIPTYPE',debug=False))"
   ]
  },
  {
   "cell_type": "code",
   "execution_count": 142,
   "metadata": {},
   "outputs": [
    {
     "name": "stdout",
     "output_type": "stream",
     "text": [
      "ADC 0 255\n",
      "ADC 1 255\n",
      "ADC 2 255\n",
      "ADC 3 255\n",
      "ADC 4 1\n",
      "ADC 5 255\n",
      "ADC 6 255\n",
      "ADC 7 255\n",
      "DAC 0 255\n",
      "DAC 1 255\n",
      "DAC 2 255\n",
      "DAC 3 255\n",
      "DAC 4 255\n",
      "DAC 5 255\n",
      "DAC 6 255\n",
      "DAC 7 255\n",
      "DAC 8 255\n",
      "DAC 9 255\n",
      "DAC 10 255\n",
      "DAC 11 255\n",
      "DAC 12 1\n",
      "DAC 13 1\n",
      "DAC 14 255\n",
      "DAC 15 255\n"
     ]
    }
   ],
   "source": [
    "soc = RFQickSoc216V1('/home/xilinx/jupyter_notebooks/fw/2024-08-23_216_tprocv2r20_rfb/qick_216_rfb.bit', clk_output=None)\n",
    "for i, chain in enumerate(soc.adc_chains):\n",
    "    print(\"ADC\", i, chain.read_filter(reg='CHIPTYPE',debug=False))\n",
    "for i, chain in enumerate(soc.dac_chains):\n",
    "    print(\"DAC\", i, chain.read_filter(reg='CHIPTYPE',debug=False))"
   ]
  },
  {
   "cell_type": "code",
   "execution_count": 143,
   "metadata": {},
   "outputs": [
    {
     "name": "stdout",
     "output_type": "stream",
     "text": [
      "ADC 0 255\n",
      "ADC 1 255\n",
      "ADC 2 255\n",
      "ADC 3 255\n",
      "ADC 4 1\n",
      "ADC 5 1\n",
      "ADC 6 255\n",
      "ADC 7 255\n",
      "DAC 0 255\n",
      "DAC 1 255\n",
      "DAC 2 255\n",
      "DAC 3 255\n",
      "DAC 4 255\n",
      "DAC 5 255\n",
      "DAC 6 255\n",
      "DAC 7 255\n",
      "DAC 8 255\n",
      "DAC 9 255\n",
      "DAC 10 255\n",
      "DAC 11 255\n",
      "DAC 12 1\n",
      "DAC 13 1\n",
      "DAC 14 1\n",
      "DAC 15 1\n"
     ]
    }
   ],
   "source": [
    "soc = RFQickSoc216V1('/home/xilinx/jupyter_notebooks/fw/2024-08-23_216_tprocv2r20_rfb-spifix/qick_216_rfb.bit', clk_output=None)\n",
    "for i, chain in enumerate(soc.adc_chains):\n",
    "    print(\"ADC\", i, chain.read_filter(reg='CHIPTYPE',debug=False))\n",
    "for i, chain in enumerate(soc.dac_chains):\n",
    "    print(\"DAC\", i, chain.read_filter(reg='CHIPTYPE',debug=False))"
   ]
  },
  {
   "cell_type": "code",
   "execution_count": 122,
   "metadata": {},
   "outputs": [
    {
     "name": "stdout",
     "output_type": "stream",
     "text": [
      "0 255\n",
      "1 255\n",
      "2 255\n",
      "3 255\n",
      "4 1\n",
      "5 1\n",
      "6 255\n",
      "7 255\n",
      "0 255\n",
      "1 255\n",
      "2 255\n",
      "3 255\n",
      "4 255\n",
      "5 255\n",
      "6 255\n",
      "7 255\n",
      "8 255\n",
      "9 255\n",
      "10 255\n",
      "11 255\n",
      "12 1\n",
      "13 1\n",
      "14 1\n",
      "15 1\n"
     ]
    }
   ],
   "source": [
    "debug = False\n",
    "for chain in soc.adc_chains:\n",
    "    print(bin(chain.read_filter(reg='CHIPTYPE',debug=debug)))\n",
    "#     print(bin(chain.read_filter(reg='WR0_SW',debug=debug)))\n",
    "#     print(bin(chain.read_filter(reg='WR0_FILTER',debug=debug)))"
   ]
  },
  {
   "cell_type": "code",
   "execution_count": 118,
   "metadata": {},
   "outputs": [
    {
     "name": "stdout",
     "output_type": "stream",
     "text": [
      "0b11111111\n",
      "0b11111111\n",
      "0b11111111\n",
      "0b11111111\n",
      "0b11111111\n",
      "0b11111111\n",
      "0b11111111\n",
      "0b11111111\n",
      "0b11111111\n",
      "0b11111111\n",
      "0b11111111\n",
      "0b11111111\n",
      "0b1\n",
      "0b1\n",
      "0b1\n",
      "0b1\n"
     ]
    }
   ],
   "source": [
    "debug = False\n",
    "for chain in soc.dac_chains:\n",
    "    print(bin(chain.read_filter(reg='CHIPTYPE',debug=debug)))\n",
    "#     print(bin(chain.read_filter(reg='WR0_SW',debug=debug)))\n",
    "#     print(bin(chain.read_filter(reg='WR0_FILTER',debug=debug)))\n"
   ]
  },
  {
   "cell_type": "code",
   "execution_count": null,
   "metadata": {},
   "outputs": [],
   "source": []
  },
  {
   "cell_type": "code",
   "execution_count": null,
   "metadata": {},
   "outputs": [],
   "source": []
  },
  {
   "cell_type": "code",
   "execution_count": 34,
   "metadata": {},
   "outputs": [
    {
     "data": {
      "text/plain": [
       "Text(0.5, 0, 'MHz')"
      ]
     },
     "execution_count": 34,
     "metadata": {},
     "output_type": "execute_result"
    },
    {
     "data": {
      "image/png": "[encoded data removed]",
      "text/plain": [
       "<Figure size 900x600 with 1 Axes>"
      ]
     },
     "metadata": {
      "needs_background": "light"
     },
     "output_type": "display_data"
    }
   ],
   "source": [
    "###################\n",
    "### DAC Setting ###\n",
    "###################\n",
    "dac_channel = 15\n",
    "\n",
    "freq =5500\n",
    "nqz = 2\n",
    "\n",
    "# Set output tone.\n",
    "soc.generator.set(f=freq, g=0.99, ch=dac_channel)\n",
    "\n",
    "# Set Nyquist Zone.\n",
    "soc.set_nyquist(nqz=nqz, ch=dac_channel, btype='dac')\n",
    "\n",
    "# Set Filter.\n",
    "#fc = 2.051  # 2.051 is the lowest fc value for a low pass filter\n",
    "fc = freq/1000\n",
    "bw = 1\n",
    "soc.dac_chains[dac_channel].set_filter(fc=fc, bw=bw, ftype='bandpass')\n",
    "#soc.dac_chains[dac_channel].set_filter(fc=fc, bw=bw, ftype='lowpass')\n",
    "\n",
    "# Set attenuator on DAC.\n",
    "soc.dac_chains[dac_channel].set_attn_db(attn=0, db=30)\n",
    "soc.dac_chains[dac_channel].set_attn_db(attn=1, db=30)\n",
    "###################\n",
    "### ADC Setting ###\n",
    "###################\n",
    "adc_channel = 4\n",
    "nqz = 2\n",
    "\n",
    "# Set Filter.\n",
    "fc = freq/1000\n",
    "bw = 1.0\n",
    "soc.adc_chains[adc_channel].set_filter(fc=fc, bw=bw, ftype='bandpass',debug=False)\n",
    "# soc.adc_chains[adc_channel].set_filter(fc=2.051, bw=bw, ftype='lowpass',debug=False)\n",
    "\n",
    "# Set attenuator on ADC.\n",
    "soc.adc_chains[adc_channel].set_attn_db(db=20)\n",
    "\n",
    "# Set Nyquist Zone.\n",
    "soc.set_nyquist(nqz=nqz, ch=adc_channel, btype='adc')\n",
    "\n",
    "# Get data.\n",
    "fs = soc.buffer.fs\n",
    "x = soc.buffer.get_data(ch=adc_channel)\n",
    "\n",
    "fft_freqs, psd = welch(x, fs, return_onesided=True, nperseg=1024, detrend=False)\n",
    "plt.semilogy(fft_freqs, psd)\n",
    "plt.xlabel(\"MHz\")"
   ]
  },
  {
   "cell_type": "code",
   "execution_count": 106,
   "metadata": {},
   "outputs": [
    {
     "data": {
      "image/png": "[encoded data removed]",
      "text/plain": [
       "<Figure size 432x288 with 1 Axes>"
      ]
     },
     "metadata": {
      "needs_background": "light"
     },
     "output_type": "display_data"
    }
   ],
   "source": [
    "# dac_channel = 14\n",
    "# adc_channel = 5\n",
    "# atts = (10, 30, 20)\n",
    "dac_channel = 15\n",
    "adc_channel = 4\n",
    "atts = (30, 30, 20)\n",
    "\n",
    "\n",
    "# Set Nyquist Zone.\n",
    "soc.set_nyquist(nqz=2, ch=dac_channel, btype='dac')\n",
    "\n",
    "# # Set Nyquist Zone.\n",
    "# soc.set_nyquist(nqz=2, ch=adc_channel, btype='adc')\n",
    "\n",
    "\n",
    "# Set attenuator on DAC.\n",
    "soc.dac_chains[dac_channel].set_attn_db(attn=0, db=atts[0])\n",
    "soc.dac_chains[dac_channel].set_attn_db(attn=1, db=atts[1])\n",
    "\n",
    "# Set attenuator on ADC.\n",
    "soc.adc_chains[adc_channel].set_attn_db(db=atts[2])\n",
    "\n",
    "freq =5500\n",
    "fc = freq/1000\n",
    "bw = 1.0\n",
    "\n",
    "# Set Filter.\n",
    "#fc = 2.051  # 2.051 is the lowest fc value for a low pass filter\n",
    "# fc = freq/1000\n",
    "# bw = 1\n",
    "# soc.dac_chains[dac_channel].set_filter(fc=fc, bw=bw, ftype='bandpass')\n",
    "# #soc.dac_chains[dac_channel].set_filter(fc=fc, bw=bw, ftype='lowpass')\n",
    "# # soc.dac_chains[dac_channel].set_filter(fc=fc, bw=bw, ftype='bypass')\n",
    "\n",
    "\n",
    "# # Set Filter.\n",
    "# fc = freq/1000\n",
    "# bw = 1.0\n",
    "# soc.adc_chains[adc_channel].set_filter(fc=fc, bw=bw, ftype='bandpass',debug=False)\n",
    "# # soc.adc_chains[adc_channel].set_filter(fc=2.051, bw=bw, ftype='lowpass',debug=False)\n",
    "# # soc.adc_chains[adc_channel].set_filter(fc=fc, bw=bw, ftype='bypass',debug=False)\n",
    "\n",
    "fs = soc.buffer.fs\n",
    "freqs = np.linspace(4000, 7000, 10)\n",
    "\n",
    "\n",
    "for filtmode in [('bypass','bypass'), ('bandpass','bypass'), ('bypass','bandpass'), ('bandpass','bandpass')]:\n",
    "    soc.dac_chains[dac_channel].set_filter(fc=fc, bw=bw, ftype=filtmode[0],debug=False)\n",
    "    soc.adc_chains[adc_channel].set_filter(fc=fc, bw=bw, ftype=filtmode[1],debug=False)\n",
    "    \n",
    "    powers = []\n",
    "    for i,f_tone in enumerate(freqs):\n",
    "        # Set output tone.\n",
    "        soc.generator.set(f=f_tone, g=0.99, ch=dac_channel)\n",
    "\n",
    "        # Get data.\n",
    "        x = soc.buffer.get_data(ch=adc_channel)\n",
    "\n",
    "        rounded_freq = np.round(f_tone/soc.generator.ctrl.df)*soc.generator.ctrl.df\n",
    "        demod = np.exp(1j*2*np.pi*np.arange(len(x))*rounded_freq/fs)*x\n",
    "        powers.append(np.abs(demod.mean()))\n",
    "\n",
    "    plt.semilogy(freqs,powers, label=\"DAC %s, ADC %s\"%(filtmode[0], filtmode[1]))\n",
    "    \n",
    "plt.legend();"
   ]
  }
 ],
 "metadata": {
  "kernelspec": {
   "display_name": "Python 3 (ipykernel)",
   "language": "python",
   "name": "python3"
  },
  "language_info": {
   "codemirror_mode": {
    "name": "ipython",
    "version": 3
   },
   "file_extension": ".py",
   "mimetype": "text/x-python",
   "name": "python",
   "nbconvert_exporter": "python",
   "pygments_lexer": "ipython3",
   "version": "3.10.4"
  }
 },
 "nbformat": 4,
 "nbformat_minor": 4
}
