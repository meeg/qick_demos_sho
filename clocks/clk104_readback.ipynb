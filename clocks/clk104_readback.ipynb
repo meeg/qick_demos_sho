{
 "cells": [
  {
   "cell_type": "code",
   "execution_count": 6,
   "id": "7707d7b5",
   "metadata": {},
   "outputs": [
    {
     "name": "stdout",
     "output_type": "stream",
     "text": [
      "%pylab is deprecated, use %matplotlib inline and import the required libraries.\n",
      "Populating the interactive namespace from numpy and matplotlib\n"
     ]
    }
   ],
   "source": [
    "# Import the QICK drivers and auxiliary libraries\n",
    "from qick import *\n",
    "%pylab inline\n",
    "\n",
    "import xrfclk\n",
    "from qick.ipq_pynq_utils import ipq_pynq_utils\n",
    "# import spidev # pip package: \"pip install spidev\" or \"apt install python3-spidev\"\n",
    "from ipq_pynq_utils import spidev # our reimplementation of spidev\n",
    "from importlib.resources import files"
   ]
  },
  {
   "cell_type": "code",
   "execution_count": null,
   "id": "db920c73",
   "metadata": {},
   "outputs": [],
   "source": [
    "# how to use xrfclk to set clocks\n",
    "\n",
    "# xrfclk.set_ref_clks(lmk_freq=245.76, lmx_freq=245.76*2)"
   ]
  },
  {
   "cell_type": "code",
   "execution_count": 8,
   "id": "15aa9886",
   "metadata": {},
   "outputs": [],
   "source": [
    "# how to use IPQ utils to set clocks\n",
    "\n",
    "board = ipq_pynq_utils.ZCU208Board()\n",
    "\n",
    "regs_lmk = ipq_pynq_utils.clock_models.LMK04828B(10, 10, 10, 160)\n",
    "with files(\"xrfclk\").joinpath(\"LMK04828_245.76.txt\").open() as f:\n",
    "    regs_lmk.init_from_file(f)\n",
    "regs_lmx = ipq_pynq_utils.clock_models.LMX2594(245.76)\n",
    "with files(\"xrfclk\").joinpath(\"LMX2594_491.52.txt\").open() as f:\n",
    "    regs_lmx.init_from_file(f)\n",
    "    \n",
    "ipq_pynq_utils.ZCU208Board._write_registers(board.spi_lmk, [0x90] + regs_lmk.get_register_dump())\n",
    "ipq_pynq_utils.ZCU208Board._write_registers(board.spi_adc, \n",
    "                                            [0x700000, 0x6f0000, 0x6e0000] + regs_lmx.get_register_dump())\n",
    "ipq_pynq_utils.ZCU208Board._write_registers(board.spi_dac, \n",
    "                                            [0x700000, 0x6f0000, 0x6e0000] + regs_lmx.get_register_dump())"
   ]
  },
  {
   "cell_type": "code",
   "execution_count": 9,
   "id": "88e5b528",
   "metadata": {
    "scrolled": false
   },
   "outputs": [
    {
     "data": {
      "application/javascript": [
       "\n",
       "try {\n",
       "require(['notebook/js/codecell'], function(codecell) {\n",
       "  codecell.CodeCell.options_default.highlight_modes[\n",
       "      'magic_text/x-csrc'] = {'reg':[/^%%microblaze/]};\n",
       "  Jupyter.notebook.events.one('kernel_ready.Kernel', function(){\n",
       "      Jupyter.notebook.get_cells().map(function(cell){\n",
       "          if (cell.cell_type == 'code'){ cell.auto_highlight(); } }) ;\n",
       "  });\n",
       "});\n",
       "} catch (e) {};\n"
      ]
     },
     "metadata": {},
     "output_type": "display_data"
    },
    {
     "data": {
      "application/javascript": [
       "\n",
       "try {\n",
       "require(['notebook/js/codecell'], function(codecell) {\n",
       "  codecell.CodeCell.options_default.highlight_modes[\n",
       "      'magic_text/x-csrc'] = {'reg':[/^%%pybind11/]};\n",
       "  Jupyter.notebook.events.one('kernel_ready.Kernel', function(){\n",
       "      Jupyter.notebook.get_cells().map(function(cell){\n",
       "          if (cell.cell_type == 'code'){ cell.auto_highlight(); } }) ;\n",
       "  });\n",
       "});\n",
       "} catch (e) {};\n"
      ]
     },
     "metadata": {},
     "output_type": "display_data"
    },
    {
     "name": "stdout",
     "output_type": "stream",
     "text": [
      "resetting clocks: 245.76 491.52\n",
      "QICK running on ZCU216, software version 0.2.301\n",
      "\n",
      "Firmware configuration (built Thu Dec  5 14:57:40 2024):\n",
      "\n",
      "\tGlobal clocks (MHz): tProcessor 614.400, RF reference 245.760\n",
      "\n",
      "\t6 signal generator channels:\n",
      "\t0:\taxis_signal_gen_v6 - envelope memory 16384 samples (1.667 us)\n",
      "\t\tfs=9830.400 MHz, fabric=614.400 MHz, 32-bit DDS, range=9830.400 MHz\n",
      "\t\tDAC tile 2, blk 0 is 0_230, on JHC3\n",
      "\t1:\taxis_sg_mux8_v1 - envelope memory 0 samples (0.000 us)\n",
      "\t\tfs=9830.400 MHz, fabric=614.400 MHz, 32-bit DDS, range=9830.400 MHz\n",
      "\t\tDAC tile 2, blk 1 is 1_230, on JHC4\n",
      "\t2:\taxis_sg_int4_v2 - envelope memory 16384 samples (38.095 us)\n",
      "\t\tfs=6881.280 MHz, fabric=430.080 MHz, 32-bit DDS, range=1720.320 MHz\n",
      "\t\tDAC tile 3, blk 0 is 0_231, on JHC3\n",
      "\t3:\taxis_sg_int4_v2 - envelope memory 16384 samples (38.095 us)\n",
      "\t\tfs=6881.280 MHz, fabric=430.080 MHz, 32-bit DDS, range=1720.320 MHz\n",
      "\t\tDAC tile 3, blk 1 is 1_231, on JHC4\n",
      "\t4:\taxis_signal_gen_v6 - envelope memory 8192 samples (0.833 us)\n",
      "\t\tfs=9830.400 MHz, fabric=614.400 MHz, 32-bit DDS, range=9830.400 MHz\n",
      "\t\tDAC tile 2, blk 2 is 2_230, on JHC3\n",
      "\t5:\taxis_sg_mixmux8_v1 - envelope memory 0 samples (0.000 us)\n",
      "\t\tfs=6881.280 MHz, fabric=430.080 MHz, 32-bit DDS, range=1720.320 MHz\n",
      "\t\tDAC tile 3, blk 2 is 2_231, on JHC3\n",
      "\n",
      "\t7 readout channels:\n",
      "\t0:\taxis_dyn_readout_v1 - configured by tProc output 4\n",
      "\t\tfs=2457.600 MHz, decimated=307.200 MHz, 32-bit DDS, range=2457.600 MHz\n",
      "\t\taxis_avg_buffer v1.1 (has edge counter)\n",
      "\t\tmaxlen 8192 accumulated, 4096 decimated (13.333 us)\n",
      "\t\ttriggered by tport 10, pin 0, feedback to tProc input 0\n",
      "\t\tADC tile 2, blk 0 is 0_226, on JHC7\n",
      "\t1:\taxis_readout_v3 - configured by tProc output 4\n",
      "\t\tfs=2457.600 MHz, decimated=614.400 MHz, 32-bit DDS, range=2457.600 MHz\n",
      "\t\taxis_avg_buffer v1.1 (has edge counter)\n",
      "\t\tmaxlen 8192 accumulated, 4096 decimated (6.667 us)\n",
      "\t\ttriggered by tport 11, pin 0, feedback to tProc input 1\n",
      "\t\tADC tile 2, blk 1 is 1_226, on JHC8\n",
      "\t2:\taxis_pfb_readout_v3 - configured by PYNQ\n",
      "\t\tfs=2457.600 MHz, decimated=38.400 MHz, 32-bit DDS, range=38.400 MHz\n",
      "\t\taxis_avg_buffer v1.1 (has edge counter)\n",
      "\t\tmaxlen 8192 accumulated, 1024 decimated (26.667 us)\n",
      "\t\ttriggered by tport 12, pin 0, feedback to tProc input 2\n",
      "\t\tADC tile 2, blk 2 is 2_226, on JHC7\n",
      "\t3:\taxis_pfb_readout_v3 - configured by PYNQ\n",
      "\t\tfs=2457.600 MHz, decimated=38.400 MHz, 32-bit DDS, range=38.400 MHz\n",
      "\t\taxis_avg_buffer v1.1 (has edge counter)\n",
      "\t\tmaxlen 8192 accumulated, 1024 decimated (26.667 us)\n",
      "\t\ttriggered by tport 13, pin 0, feedback to tProc input 3\n",
      "\t\tADC tile 2, blk 2 is 2_226, on JHC7\n",
      "\t4:\taxis_pfb_readout_v3 - configured by PYNQ\n",
      "\t\tfs=2457.600 MHz, decimated=38.400 MHz, 32-bit DDS, range=38.400 MHz\n",
      "\t\taxis_avg_buffer v1.1 (has edge counter)\n",
      "\t\tmaxlen 8192 accumulated, 1024 decimated (26.667 us)\n",
      "\t\ttriggered by tport 14, pin 0, feedback to tProc input 4\n",
      "\t\tADC tile 2, blk 2 is 2_226, on JHC7\n",
      "\t5:\taxis_pfb_readout_v3 - configured by PYNQ\n",
      "\t\tfs=2457.600 MHz, decimated=38.400 MHz, 32-bit DDS, range=38.400 MHz\n",
      "\t\taxis_avg_buffer v1.1 (has edge counter)\n",
      "\t\tmaxlen 8192 accumulated, 1024 decimated (26.667 us)\n",
      "\t\ttriggered by tport 15, pin 0, feedback to tProc input 5\n",
      "\t\tADC tile 2, blk 2 is 2_226, on JHC7\n",
      "\t6:\taxis_readout_v2 - configured by PYNQ\n",
      "\t\tfs=2457.600 MHz, decimated=307.200 MHz, 32-bit DDS, range=2457.600 MHz\n",
      "\t\taxis_avg_buffer v1.1 (has edge counter)\n",
      "\t\tmaxlen 8192 accumulated, 4096 decimated (13.333 us)\n",
      "\t\ttriggered by tport 16, pin 0, feedback to tProc input 6\n",
      "\t\tADC tile 2, blk 3 is 3_226, on JHC8\n",
      "\n",
      "\t8 digital output pins:\n",
      "\t0:\tPMOD0_0_LS\n",
      "\t1:\tPMOD0_1_LS\n",
      "\t2:\tPMOD0_2_LS\n",
      "\t3:\tPMOD0_3_LS\n",
      "\t4:\tPMOD0_4_LS\n",
      "\t5:\tPMOD0_5_LS\n",
      "\t6:\tPMOD0_6_LS\n",
      "\t7:\tPMOD0_7_LS\n",
      "\n",
      "\ttProc qick_processor (\"v2\") rev 21: program memory 4096 words, data memory 16384 words\n",
      "\t\texternal start pin: None\n",
      "\n",
      "\tDDR4 memory buffer: 1073741824 samples (3.495 sec), 128 samples/transfer\n",
      "\t\twired to readouts [0, 2, 3, 4, 5, 6]\n",
      "\n",
      "\tMR buffer: 8192 samples (3.333 us), wired to readouts [0, 6]\n"
     ]
    }
   ],
   "source": [
    "# force init clocks to make sure we reset the clock chips\n",
    "soc = QickSoc(\"/data/fw/2024-12-05_216_tprocv2r21_demo/qick_216.bit\", force_init_clks=True)\n",
    "soccfg = soc\n",
    "print(soccfg)"
   ]
  },
  {
   "cell_type": "code",
   "execution_count": 10,
   "id": "1c7971c4",
   "metadata": {},
   "outputs": [],
   "source": [
    "def write_reg(spi, regdev, regvals):\n",
    "    for k,v in regvals.items():\n",
    "        getattr(regdev, k).value = v\n",
    "        \n",
    "    for addr in regdev.find_addrs(regvals.keys()):\n",
    "        msg = regdev.registers_by_addr[addr].get_raw().to_bytes(length=3, byteorder='big')\n",
    "        spi.writebytes(msg)\n",
    "\n",
    "def read_reg(spi, dummydev, regnames):\n",
    "    for addr in dummydev.find_addrs(regnames):\n",
    "        msg = (0x800000 + (addr<<dummydev.dw)).to_bytes(length=3, byteorder='big')\n",
    "#         print(msg)\n",
    "        a = spi.xfer(msg)\n",
    "#         print(a)\n",
    "        res = int.from_bytes(a, byteorder='big')\n",
    "\n",
    "        dummydev.registers_by_addr[addr].parse(res)\n",
    "\n",
    "    readbacks = {}\n",
    "    for regname in regnames:\n",
    "        readbacks[regname] = getattr(dummydev, regname).value\n",
    "    return readbacks"
   ]
  },
  {
   "cell_type": "code",
   "execution_count": 13,
   "id": "59409f59",
   "metadata": {},
   "outputs": [
    {
     "name": "stdout",
     "output_type": "stream",
     "text": [
      "RB_DAC_VALUE 512\n",
      "RB_CLKin0_LOS 0\n",
      "RB_CLKin1_LOS 0\n",
      "RB_PLL1_LD 1\n",
      "RB_PLL2_LD 1\n",
      "RB_PLL1_LD_LOST 0\n",
      "RB_PLL2_LD_LOST 0\n"
     ]
    }
   ],
   "source": [
    "dummy_lmk = ipq_pynq_utils.clock_models.LMK04828B(10, 10, 10, 160)\n",
    "regs_lmk = ipq_pynq_utils.clock_models.LMK04828B(10, 10, 10, 160)\n",
    "with files(\"xrfclk\").joinpath(\"LMK04828_245.76.txt\").open() as f:\n",
    "    regs_lmk.init_from_file(f)\n",
    "\n",
    "soc.clk104_gpio.channel1.setdirection('out')\n",
    "soc.clk104_gpio.channel1.write(0x2, 0xff)\n",
    "with spidev.SpiDev(1, 1) as spi:\n",
    "    \n",
    "    spi.bits_per_word = 8\n",
    "    spi.max_speed_hz = 100000\n",
    "\n",
    "    # set SPI output type to push-pull; default is 6 (open-drain) which is incorrect\n",
    "    write_reg(spi, regs_lmk, {\"PLL1_LD_TYPE\": 3})\n",
    "\n",
    "    readbacks = read_reg(spi, dummy_lmk, ['RB_DAC_VALUE', \n",
    "                                    'RB_CLKin0_LOS', \n",
    "                                    'RB_CLKin1_LOS', \n",
    "                                    'RB_PLL1_LD', \n",
    "                                    'RB_PLL2_LD', \n",
    "                                    'RB_PLL1_LD_LOST', \n",
    "                                    'RB_PLL2_LD_LOST'])\n",
    "    \n",
    "    for k,v in readbacks.items():\n",
    "        print(k,v)\n",
    "    \n",
    "    # clear the lock-lost flags\n",
    "    write_reg(spi, regs_lmk, {\"CLR_PLL1_LD_LOST\": 1,\n",
    "                             \"CLR_PLL2_LD_LOST\": 1})\n",
    "    write_reg(spi, regs_lmk, {\"CLR_PLL1_LD_LOST\": 0,\n",
    "                             \"CLR_PLL2_LD_LOST\": 0})"
   ]
  },
  {
   "cell_type": "code",
   "execution_count": 14,
   "id": "402fe1a8",
   "metadata": {},
   "outputs": [
    {
     "name": "stdout",
     "output_type": "stream",
     "text": [
      "rb_LD_VTUNE 2\n",
      "rb_VCO_SEL 1\n",
      "rb_VCO_CAPCTRL 99\n",
      "rb_VCO_DACISET 308\n"
     ]
    }
   ],
   "source": [
    "dummy_lmx = ipq_pynq_utils.clock_models.LMX2594(245.76)\n",
    "regs_lmx = ipq_pynq_utils.clock_models.LMX2594(245.76)\n",
    "with files(\"xrfclk\").joinpath(\"LMX2594_491.52.txt\").open() as f:\n",
    "    regs_lmx.init_from_file(f)\n",
    "\n",
    "soc.clk104_gpio.channel1.setdirection('out')\n",
    "soc.clk104_gpio.channel1.write(0x0, 0xff)\n",
    "\n",
    "with spidev.SpiDev(1, 3) as spi:\n",
    "    spi.bits_per_word = 8\n",
    "    spi.max_speed_hz = 100000\n",
    "\n",
    "    # set output to SPI readback; default is 1 (lock detect) which drives the LED\n",
    "    write_reg(spi, regs_lmx, {\"MUXOUT_LD_SEL\": 0})\n",
    "    readbacks = read_reg(spi, dummy_lmx, ['rb_LD_VTUNE',\n",
    "                                    'rb_VCO_SEL',\n",
    "                                    'rb_VCO_CAPCTRL',\n",
    "                                    'rb_VCO_DACISET'])\n",
    "    \n",
    "    for k,v in readbacks.items():\n",
    "        print(k,v)\n",
    "        \n",
    "    # switch back to indicating lock-detect with the LED\n",
    "    write_reg(spi, regs_lmx, {\"MUXOUT_LD_SEL\": 1})"
   ]
  },
  {
   "cell_type": "code",
   "execution_count": 15,
   "id": "774e8957",
   "metadata": {},
   "outputs": [
    {
     "name": "stdout",
     "output_type": "stream",
     "text": [
      "rb_LD_VTUNE 2\n",
      "rb_VCO_SEL 1\n",
      "rb_VCO_CAPCTRL 101\n",
      "rb_VCO_DACISET 307\n"
     ]
    }
   ],
   "source": [
    "dummy_lmx = ipq_pynq_utils.clock_models.LMX2594(245.76)\n",
    "regs_lmx = ipq_pynq_utils.clock_models.LMX2594(245.76)\n",
    "with files(\"xrfclk\").joinpath(\"LMX2594_491.52.txt\").open() as f:\n",
    "    regs_lmx.init_from_file(f)\n",
    "\n",
    "soc.clk104_gpio.channel1.setdirection('out')\n",
    "soc.clk104_gpio.channel1.write(0x1, 0xff)\n",
    "\n",
    "with spidev.SpiDev(1, 2) as spi:\n",
    "    spi.bits_per_word = 8\n",
    "    spi.max_speed_hz = 100000\n",
    "\n",
    "    # set output to SPI readback; default is 1 (lock detect) which drives the LED\n",
    "    write_reg(spi, regs_lmx, {\"MUXOUT_LD_SEL\": 0})\n",
    "    readbacks = read_reg(spi, dummy_lmx, ['rb_LD_VTUNE',\n",
    "                                    'rb_VCO_SEL',\n",
    "                                    'rb_VCO_CAPCTRL',\n",
    "                                    'rb_VCO_DACISET'])\n",
    "    \n",
    "    for k,v in readbacks.items():\n",
    "        print(k,v)\n",
    "        \n",
    "    # switch back to indicating lock-detect with the LED\n",
    "    write_reg(spi, regs_lmx, {\"MUXOUT_LD_SEL\": 1})\n",
    "    "
   ]
  },
  {
   "cell_type": "code",
   "execution_count": null,
   "id": "9b868ba2",
   "metadata": {},
   "outputs": [],
   "source": []
  },
  {
   "cell_type": "code",
   "execution_count": null,
   "id": "e0967770",
   "metadata": {},
   "outputs": [],
   "source": []
  },
  {
   "cell_type": "code",
   "execution_count": null,
   "id": "e3cf31c4",
   "metadata": {},
   "outputs": [],
   "source": []
  },
  {
   "cell_type": "code",
   "execution_count": null,
   "id": "8d47b5db",
   "metadata": {},
   "outputs": [],
   "source": []
  },
  {
   "cell_type": "code",
   "execution_count": null,
   "id": "8320549c",
   "metadata": {},
   "outputs": [],
   "source": []
  },
  {
   "cell_type": "code",
   "execution_count": null,
   "id": "1fa25c14",
   "metadata": {},
   "outputs": [],
   "source": []
  },
  {
   "cell_type": "code",
   "execution_count": null,
   "id": "75bde9a3",
   "metadata": {},
   "outputs": [],
   "source": []
  },
  {
   "cell_type": "code",
   "execution_count": null,
   "id": "a590f871",
   "metadata": {},
   "outputs": [],
   "source": [
    "# print(ipq_lmk.PLL1_LD_MUX)\n",
    "# print(ipq_lmk.PLL1_LD_TYPE)\n",
    "# print(ipq_adc.MUXOUT_LD_SEL)"
   ]
  },
  {
   "cell_type": "code",
   "execution_count": null,
   "id": "ffc758fe",
   "metadata": {},
   "outputs": [],
   "source": []
  },
  {
   "cell_type": "code",
   "execution_count": null,
   "id": "15e08fa1",
   "metadata": {
    "scrolled": false
   },
   "outputs": [],
   "source": [
    "soc.clk104_gpio.channel1.setdirection('out')\n",
    "soc.clk104_gpio.channel1.write(0x2, 0xff)\n",
    "s = board.spi_lmk\n",
    "\n",
    "addr = 388\n",
    "msg = [((addr>>8) & 0xFF) + (1<<7), addr & 0xFF, 0]\n",
    "print(msg)\n",
    "a = s.xfer(msg)\n",
    "print(hex(a[2]))"
   ]
  },
  {
   "cell_type": "code",
   "execution_count": null,
   "id": "239eb5ad",
   "metadata": {},
   "outputs": [],
   "source": [
    "soc.clk104_gpio.channel1.setdirection('out')\n",
    "soc.clk104_gpio.channel1.write(0x0, 0xff)\n",
    "\n",
    "s = board.spi_adc\n",
    "addr = 110\n",
    "msg = [addr + (1<<7), 0, 0]\n",
    "print(msg)\n",
    "a = s.xfer(msg)\n",
    "print(hex((a[1] << 8)+a[2]))"
   ]
  },
  {
   "cell_type": "code",
   "execution_count": null,
   "id": "f2fb809e",
   "metadata": {},
   "outputs": [],
   "source": [
    "soc.clk104_gpio.channel1.setdirection('out')\n",
    "soc.clk104_gpio.channel1.write(0x1, 0xff)\n",
    "\n",
    "s = board.spi_dac\n",
    "addr = 110\n",
    "msg = [addr + (1<<7), 0, 0]\n",
    "print(msg)\n",
    "a = s.xfer(msg)\n",
    "print(a)"
   ]
  },
  {
   "cell_type": "code",
   "execution_count": null,
   "id": "ba382a92",
   "metadata": {},
   "outputs": [],
   "source": [
    "for k,v in dummy_lmk.registers_by_addr.items():\n",
    "    for x in v.fields:\n",
    "        if x.name != 'CONST':\n",
    "            print(k, x.name)"
   ]
  },
  {
   "cell_type": "code",
   "execution_count": null,
   "id": "a2268bfa",
   "metadata": {},
   "outputs": [],
   "source": []
  },
  {
   "cell_type": "code",
   "execution_count": null,
   "id": "06181e2a",
   "metadata": {
    "scrolled": false
   },
   "outputs": [],
   "source": [
    "dir(dummy_lmk)"
   ]
  },
  {
   "cell_type": "code",
   "execution_count": null,
   "id": "b627ec4c",
   "metadata": {},
   "outputs": [],
   "source": []
  },
  {
   "cell_type": "code",
   "execution_count": null,
   "id": "f22a4515",
   "metadata": {},
   "outputs": [],
   "source": [
    "# for x in dummy_reg.fields:\n",
    "#     print(x.name, x.value)"
   ]
  },
  {
   "cell_type": "code",
   "execution_count": null,
   "id": "3900dfff",
   "metadata": {},
   "outputs": [],
   "source": [
    "# dummy_lmk.registers_by_addr[0x182].fields[0].name"
   ]
  },
  {
   "cell_type": "code",
   "execution_count": null,
   "id": "5db473bc",
   "metadata": {},
   "outputs": [],
   "source": [
    "soc.clk104_gpio.channel1.setdirection('out')\n",
    "soc.clk104_gpio.channel1.write(0x2, 0xff)\n",
    "s = board.spi_lmk\n",
    "\n",
    "for addr in [0x182, 0x183, 0x184, 0x185]:\n",
    "    dummy_reg = dummy_lmk.registers_by_addr[addr]\n",
    "    # print(dummy_reg)\n",
    "    # for x in dummy_reg.fields:\n",
    "    #     print(x.name, x.value)\n",
    "    \n",
    "    msg = [((addr>>8) & 0xFF) + (1<<7), addr & 0xFF, 0]\n",
    "#     print(msg)\n",
    "    a = s.xfer(msg)\n",
    "    res = a[2]\n",
    "    print(\"0x%x: 0x%x\"%(addr,res))\n",
    "    \n",
    "    dummy_reg.parse(res)\n",
    "    for f in dummy_reg.fields:\n",
    "        if f.name != 'CONST':\n",
    "            print(\"%s: 0x%x\"%(f.name, f.value))\n"
   ]
  },
  {
   "cell_type": "code",
   "execution_count": null,
   "id": "2dd06f02",
   "metadata": {},
   "outputs": [],
   "source": []
  },
  {
   "cell_type": "code",
   "execution_count": null,
   "id": "20f6c1ea",
   "metadata": {},
   "outputs": [],
   "source": [
    "xrfclk.lmk_devices=[]\n",
    "xrfclk.lmx_devices=[]\n",
    "xrfclk.xrfclk._find_devices()\n"
   ]
  },
  {
   "cell_type": "code",
   "execution_count": null,
   "id": "27ef0791",
   "metadata": {
    "scrolled": false
   },
   "outputs": [],
   "source": [
    "xrfclk.lmx_devices"
   ]
  },
  {
   "cell_type": "code",
   "execution_count": null,
   "id": "1e889426",
   "metadata": {},
   "outputs": [],
   "source": []
  },
  {
   "cell_type": "code",
   "execution_count": null,
   "id": "230183d2",
   "metadata": {},
   "outputs": [],
   "source": [
    "xrfclk.xrfclk._read_tics_output()"
   ]
  },
  {
   "cell_type": "code",
   "execution_count": null,
   "id": "b71c1b09",
   "metadata": {
    "scrolled": false
   },
   "outputs": [],
   "source": [
    "xrf_conf = xrfclk.xrfclk._Config['lmk04828'][245.76]\n",
    "ipq_conf = [0x90] + ipq_lmk.get_register_dump()\n",
    "\n",
    "for i in range(len(ipq_conf)):\n",
    "    if i<len(xrf_conf):\n",
    "        if ipq_conf[i] != xrf_conf[i]:\n",
    "            print(\"%x\\t%x\"%(ipq_conf[i], xrf_conf[i]))\n",
    "    else:\n",
    "        print(\"%x\"%(ipq_conf[i]))            "
   ]
  },
  {
   "cell_type": "code",
   "execution_count": null,
   "id": "dfc7b983",
   "metadata": {
    "scrolled": false
   },
   "outputs": [],
   "source": [
    "xrf_conf = xrfclk.xrfclk._Config['lmx2594'][491.52]\n",
    "ipq_conf = [0x700000, 0x6f0000, 0x6e0000] + ipq_adc.get_register_dump()\n",
    "\n",
    "for i in range(len(ipq_conf)):\n",
    "    if i<len(xrf_conf):\n",
    "        if ipq_conf[i] != xrf_conf[i]:\n",
    "            print(\"%x\\t%x\"%(ipq_conf[i], xrf_conf[i]))\n",
    "    else:\n",
    "        print(\"%x\"%(ipq_conf[i]))            "
   ]
  },
  {
   "cell_type": "code",
   "execution_count": null,
   "id": "54096e88",
   "metadata": {},
   "outputs": [],
   "source": [
    "xrfclk.xrfclk._Config['lmx2594']"
   ]
  },
  {
   "cell_type": "code",
   "execution_count": null,
   "id": "dc2fbece",
   "metadata": {},
   "outputs": [],
   "source": [
    "board = ipq_pynq_utils.ZCU208Board()\n",
    "board.print_clock_summary()"
   ]
  },
  {
   "cell_type": "code",
   "execution_count": null,
   "id": "78b855b6",
   "metadata": {
    "scrolled": true
   },
   "outputs": [],
   "source": [
    "help(s)"
   ]
  },
  {
   "cell_type": "code",
   "execution_count": null,
   "id": "ae3fd109",
   "metadata": {},
   "outputs": [],
   "source": [
    "# s = board.spi_lmk\n",
    "# addr = 388\n",
    "\n",
    "# s.writebytes([((addr>>8) & 0xFF) + (1<<7), addr & 0xFF, 0])\n",
    "# a = s.readbytes(3)\n",
    "# print(a)"
   ]
  },
  {
   "cell_type": "code",
   "execution_count": null,
   "id": "58f50d0b",
   "metadata": {},
   "outputs": [],
   "source": [
    "for x in soc.clk104_gpio:\n",
    "    print(x)"
   ]
  },
  {
   "cell_type": "code",
   "execution_count": null,
   "id": "d32e9d17",
   "metadata": {},
   "outputs": [],
   "source": [
    "dir(soc.clk104_gpio)"
   ]
  },
  {
   "cell_type": "code",
   "execution_count": null,
   "id": "6a4f3804",
   "metadata": {},
   "outputs": [],
   "source": [
    "dir(soc.clk104_gpio.channel1)"
   ]
  },
  {
   "cell_type": "code",
   "execution_count": null,
   "id": "80642edc",
   "metadata": {},
   "outputs": [],
   "source": [
    "hex(soc.clk104_gpio.channel1.trimask)"
   ]
  },
  {
   "cell_type": "code",
   "execution_count": null,
   "id": "01c6b0d6",
   "metadata": {
    "scrolled": true
   },
   "outputs": [],
   "source": [
    "help(soc.clk104_gpio)"
   ]
  },
  {
   "cell_type": "code",
   "execution_count": null,
   "id": "b956ed3f",
   "metadata": {},
   "outputs": [],
   "source": [
    "soc.clk104_gpio.mmio.array[:4]"
   ]
  },
  {
   "cell_type": "code",
   "execution_count": null,
   "id": "601693a8",
   "metadata": {
    "scrolled": true
   },
   "outputs": [],
   "source": [
    "soc.clk104_gpio._registers"
   ]
  },
  {
   "cell_type": "code",
   "execution_count": null,
   "id": "8625897c",
   "metadata": {},
   "outputs": [],
   "source": [
    "soc.clk104_gpio.channel1.setdirection('out')\n",
    "soc.clk104_gpio.channel1.write(0x0, 0xff)\n",
    "\n",
    "s = board.spi_adc\n",
    "addr = 110\n",
    "msg = [addr + (1<<7), 0, 0]\n",
    "print(msg)\n",
    "a = s.xfer2(msg)\n",
    "print(a)"
   ]
  },
  {
   "cell_type": "code",
   "execution_count": null,
   "id": "2c2ed396",
   "metadata": {},
   "outputs": [],
   "source": [
    "while True:\n",
    "    time.sleep(0.5)\n",
    "    soc.clk104_gpio.channel1.setdirection('out')\n",
    "    soc.clk104_gpio.channel1.write(0x1, 0xff)\n",
    "\n",
    "    s = board.spi_dac\n",
    "    addr = 110\n",
    "    msg = [addr + (1<<7), 0, 0]\n",
    "    print(msg)\n",
    "    a = s.xfer(msg)\n",
    "    print(a)"
   ]
  },
  {
   "cell_type": "code",
   "execution_count": null,
   "id": "ff9f3801",
   "metadata": {},
   "outputs": [],
   "source": [
    "s = board.spi_adc\n",
    "print(s.no_cs)\n",
    "print(s.cshigh)\n",
    "print(s.mode)\n",
    "print(s.bits_per_word)\n",
    "print(s.lsbfirst)"
   ]
  },
  {
   "cell_type": "code",
   "execution_count": null,
   "id": "21eadd70",
   "metadata": {},
   "outputs": [],
   "source": [
    "# s.cshigh = True"
   ]
  },
  {
   "cell_type": "code",
   "execution_count": null,
   "id": "fc18b717",
   "metadata": {},
   "outputs": [],
   "source": [
    "dir(board.spi_adc)"
   ]
  },
  {
   "cell_type": "code",
   "execution_count": null,
   "id": "38e87357",
   "metadata": {},
   "outputs": [],
   "source": [
    "s = board.spi_lmk\n",
    "addr = 388\n",
    "msg = [((addr>>8) & 0xFF) + (1<<7), addr & 0xFF, 0]\n",
    "print(msg)\n",
    "a = s.xfer(msg)\n",
    "print(a)\n",
    "\n",
    "s = board.spi_adc\n",
    "addr = 110\n",
    "msg = [addr + (1<<7), 0, 0]\n",
    "print(msg)\n",
    "a = s.xfer3(msg)\n",
    "print(a)\n",
    "\n",
    "s = board.spi_dac\n",
    "addr = 110\n",
    "msg = [addr + (1<<7), 0, 0]\n",
    "print(msg)\n",
    "a = s.xfer3(msg)\n",
    "print(a)"
   ]
  },
  {
   "cell_type": "code",
   "execution_count": null,
   "id": "f8f8fc24",
   "metadata": {},
   "outputs": [],
   "source": [
    "msg"
   ]
  },
  {
   "cell_type": "code",
   "execution_count": null,
   "id": "1d115769",
   "metadata": {},
   "outputs": [],
   "source": []
  },
  {
   "cell_type": "code",
   "execution_count": null,
   "id": "71874088",
   "metadata": {},
   "outputs": [],
   "source": [
    "clk104 = ipq_pynq_utils.clock_models.CLK104()"
   ]
  },
  {
   "cell_type": "code",
   "execution_count": null,
   "id": "39d111ef",
   "metadata": {},
   "outputs": [],
   "source": [
    "for x in clk104.lmk.get_register_dump():\n",
    "    print(hex(x))"
   ]
  },
  {
   "cell_type": "code",
   "execution_count": null,
   "id": "553c6ec9",
   "metadata": {
    "scrolled": true
   },
   "outputs": [],
   "source": [
    "for k,v in clk104.lmk.registers_by_addr.items():\n",
    "    for x in v.fields:\n",
    "        if x.name != 'CONST':\n",
    "            print(k, x.name)"
   ]
  },
  {
   "cell_type": "code",
   "execution_count": null,
   "id": "6ef07927",
   "metadata": {
    "scrolled": true
   },
   "outputs": [],
   "source": [
    "for k,v in clk104.lmx_adc.registers_by_addr.items():\n",
    "    for x in v.fields:\n",
    "        if x.name != 'CONST':\n",
    "            print(k, x.name)"
   ]
  },
  {
   "cell_type": "code",
   "execution_count": null,
   "id": "95401832",
   "metadata": {
    "scrolled": true
   },
   "outputs": [],
   "source": [
    "help(board.spi_lmk)"
   ]
  },
  {
   "cell_type": "code",
   "execution_count": null,
   "id": "98c67f4c",
   "metadata": {},
   "outputs": [],
   "source": [
    "c = ipq_pynq_utils.clock_models.LMX2594(122.88)"
   ]
  },
  {
   "cell_type": "code",
   "execution_count": null,
   "id": "93105504",
   "metadata": {},
   "outputs": [],
   "source": [
    "for x in c.get_register_dump():\n",
    "    print(hex(x))"
   ]
  },
  {
   "cell_type": "code",
   "execution_count": null,
   "id": "17a11d99",
   "metadata": {},
   "outputs": [],
   "source": [
    "c.rb_LD_VTUNE"
   ]
  },
  {
   "cell_type": "code",
   "execution_count": null,
   "id": "e7acc89b",
   "metadata": {
    "scrolled": true
   },
   "outputs": [],
   "source": [
    "for k,v in c.registers_by_addr.items():\n",
    "    for x in v.fields:\n",
    "        if x.name != 'CONST':\n",
    "            print(k, x.name)\n",
    "#     print(k, v.fields)\n",
    "    "
   ]
  }
 ],
 "metadata": {
  "kernelspec": {
   "display_name": "Python 3 (ipykernel)",
   "language": "python",
   "name": "python3"
  },
  "language_info": {
   "codemirror_mode": {
    "name": "ipython",
    "version": 3
   },
   "file_extension": ".py",
   "mimetype": "text/x-python",
   "name": "python",
   "nbconvert_exporter": "python",
   "pygments_lexer": "ipython3",
   "version": "3.10.4"
  }
 },
 "nbformat": 4,
 "nbformat_minor": 5
}
