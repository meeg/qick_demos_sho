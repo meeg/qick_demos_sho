{
 "cells": [
  {
   "cell_type": "code",
   "execution_count": 1,
   "id": "7707d7b5",
   "metadata": {},
   "outputs": [
    {
     "name": "stdout",
     "output_type": "stream",
     "text": [
      "%pylab is deprecated, use %matplotlib inline and import the required libraries.\n",
      "Populating the interactive namespace from numpy and matplotlib\n"
     ]
    }
   ],
   "source": [
    "# Import the QICK drivers and auxiliary libraries\n",
    "from qick import *\n",
    "%pylab inline\n",
    "\n",
    "import xrfclk\n",
    "from qick.ipq_pynq_utils import ipq_pynq_utils\n",
    "# import spidev # pip package: \"pip install spidev\" or \"apt install python3-spidev\"\n",
    "from qick.ipq_pynq_utils.ipq_pynq_utils import spidev # our reimplementation of spidev\n",
    "from importlib.resources import open_text"
   ]
  },
  {
   "cell_type": "markdown",
   "id": "2d8d8d53",
   "metadata": {},
   "source": [
    "## readback of CLK104 state\n",
    "You need a firmware that includes the GPIO interface to the CLK104's SPI mux. Most recent ZCU216 firmwares should have this."
   ]
  },
  {
   "cell_type": "code",
   "execution_count": 360,
   "id": "88e5b528",
   "metadata": {
    "scrolled": false
   },
   "outputs": [
    {
     "name": "stdout",
     "output_type": "stream",
     "text": [
      "resetting clocks: 245.76 491.52\n",
      "QICK running on ZCU216, software version 0.2.347\n",
      "\n",
      "Firmware configuration (built Thu Dec  5 14:57:40 2024):\n",
      "\n",
      "\tGlobal clocks (MHz): tProc dispatcher timing 614.400, RF reference 245.760\n",
      "\tGroups of related clocks: [tProc timing clock, DAC tile 2], [DAC tile 3], [ADC tile 2]\n",
      "\n",
      "\t6 signal generator channels:\n",
      "\t0:\taxis_signal_gen_v6 - fs=9830.400 Msps, fabric=614.400 MHz\n",
      "\t\tenvelope memory: 16384 complex samples (1.667 us)\n",
      "\t\t32-bit DDS, range=9830.400 MHz\n",
      "\t\tDAC tile 2, blk 0 is 0_230, on JHC3\n",
      "\t1:\taxis_sg_mux8_v1 - fs=9830.400 Msps, fabric=614.400 MHz\n",
      "\t\t32-bit DDS, range=9830.400 MHz\n",
      "\t\tDAC tile 2, blk 1 is 1_230, on JHC4\n",
      "\t2:\taxis_sg_int4_v2 - fs=6881.280 Msps, fabric=430.080 MHz\n",
      "\t\tenvelope memory: 16384 complex samples (38.095 us)\n",
      "\t\t32-bit DDS, range=1720.320 MHz\n",
      "\t\tDAC tile 3, blk 0 is 0_231, on JHC3\n",
      "\t3:\taxis_sg_int4_v2 - fs=6881.280 Msps, fabric=430.080 MHz\n",
      "\t\tenvelope memory: 16384 complex samples (38.095 us)\n",
      "\t\t32-bit DDS, range=1720.320 MHz\n",
      "\t\tDAC tile 3, blk 1 is 1_231, on JHC4\n",
      "\t4:\taxis_signal_gen_v6 - fs=9830.400 Msps, fabric=614.400 MHz\n",
      "\t\tenvelope memory: 8192 complex samples (0.833 us)\n",
      "\t\t32-bit DDS, range=9830.400 MHz\n",
      "\t\tDAC tile 2, blk 2 is 2_230, on JHC3\n",
      "\t5:\taxis_sg_mixmux8_v1 - fs=6881.280 Msps, fabric=430.080 MHz\n",
      "\t\t32-bit DDS, range=1720.320 MHz\n",
      "\t\tDAC tile 3, blk 2 is 2_231, on JHC3\n",
      "\n",
      "\t7 readout channels:\n",
      "\t0:\taxis_dyn_readout_v1 - configured by tProc output 4\n",
      "\t\tfs=2457.600 Msps, decimated=307.200 MHz, 32-bit DDS, range=2457.600 MHz\n",
      "\t\taxis_avg_buffer v1.1 (has edge counter, no weights)\n",
      "\t\tmemory 8192 accumulated, 4096 decimated (13.333 us)\n",
      "\t\ttriggered by tport 10, pin 0, feedback to tProc input 0\n",
      "\t\tADC tile 2, blk 0 is 0_226, on JHC7\n",
      "\t1:\taxis_readout_v3 - configured by tProc output 4\n",
      "\t\tfs=2457.600 Msps, decimated=614.400 MHz, 32-bit DDS, range=2457.600 MHz\n",
      "\t\taxis_avg_buffer v1.1 (has edge counter, no weights)\n",
      "\t\tmemory 8192 accumulated, 4096 decimated (6.667 us)\n",
      "\t\ttriggered by tport 11, pin 0, feedback to tProc input 1\n",
      "\t\tADC tile 2, blk 1 is 1_226, on JHC8\n",
      "\t2:\taxis_pfb_readout_v3 - configured by PYNQ\n",
      "\t\tfs=2457.600 Msps, decimated=38.400 MHz, 32-bit DDS, range=38.400 MHz\n",
      "\t\taxis_avg_buffer v1.1 (has edge counter, no weights)\n",
      "\t\tmemory 8192 accumulated, 1024 decimated (26.667 us)\n",
      "\t\ttriggered by tport 12, pin 0, feedback to tProc input 2\n",
      "\t\tADC tile 2, blk 2 is 2_226, on JHC7\n",
      "\t3:\taxis_pfb_readout_v3 - configured by PYNQ\n",
      "\t\tfs=2457.600 Msps, decimated=38.400 MHz, 32-bit DDS, range=38.400 MHz\n",
      "\t\taxis_avg_buffer v1.1 (has edge counter, no weights)\n",
      "\t\tmemory 8192 accumulated, 1024 decimated (26.667 us)\n",
      "\t\ttriggered by tport 13, pin 0, feedback to tProc input 3\n",
      "\t\tADC tile 2, blk 2 is 2_226, on JHC7\n",
      "\t4:\taxis_pfb_readout_v3 - configured by PYNQ\n",
      "\t\tfs=2457.600 Msps, decimated=38.400 MHz, 32-bit DDS, range=38.400 MHz\n",
      "\t\taxis_avg_buffer v1.1 (has edge counter, no weights)\n",
      "\t\tmemory 8192 accumulated, 1024 decimated (26.667 us)\n",
      "\t\ttriggered by tport 14, pin 0, feedback to tProc input 4\n",
      "\t\tADC tile 2, blk 2 is 2_226, on JHC7\n",
      "\t5:\taxis_pfb_readout_v3 - configured by PYNQ\n",
      "\t\tfs=2457.600 Msps, decimated=38.400 MHz, 32-bit DDS, range=38.400 MHz\n",
      "\t\taxis_avg_buffer v1.1 (has edge counter, no weights)\n",
      "\t\tmemory 8192 accumulated, 1024 decimated (26.667 us)\n",
      "\t\ttriggered by tport 15, pin 0, feedback to tProc input 5\n",
      "\t\tADC tile 2, blk 2 is 2_226, on JHC7\n",
      "\t6:\taxis_readout_v2 - configured by PYNQ\n",
      "\t\tfs=2457.600 Msps, decimated=307.200 MHz, 32-bit DDS, range=2457.600 MHz\n",
      "\t\taxis_avg_buffer v1.1 (has edge counter, no weights)\n",
      "\t\tmemory 8192 accumulated, 4096 decimated (13.333 us)\n",
      "\t\ttriggered by tport 16, pin 0, feedback to tProc input 6\n",
      "\t\tADC tile 2, blk 3 is 3_226, on JHC8\n",
      "\n",
      "\t8 digital output pins:\n",
      "\t0:\tPMOD0_0_LS\n",
      "\t1:\tPMOD0_1_LS\n",
      "\t2:\tPMOD0_2_LS\n",
      "\t3:\tPMOD0_3_LS\n",
      "\t4:\tPMOD0_4_LS\n",
      "\t5:\tPMOD0_5_LS\n",
      "\t6:\tPMOD0_6_LS\n",
      "\t7:\tPMOD0_7_LS\n",
      "\n",
      "\ttProc: qick_processor (\"v2\") rev 21, core execution clock 200.000 MHz\n",
      "\t\tmemories (words): program 4096, data 16384, waveform 1024\n",
      "\t\texternal start pin: PMOD1_0_LS\n",
      "\t\texternal stop pin: PMOD1_1_LS\n",
      "\n",
      "\tDDR4 memory buffer: 1073741824 samples (3.495 sec), 128 samples/transfer\n",
      "\t\twired to readouts [0, 2, 3, 4, 5, 6]\n",
      "\n",
      "\tMR buffer: 8192 samples (3.333 us), wired to readouts [0, 6]\n"
     ]
    }
   ],
   "source": [
    "soc = QickSoc(\"/data/fw/2024-12-05_216_tprocv2r21_demo/qick_216.bit\", \n",
    "#              force_init_clks=True,\n",
    "#              external_clk=True,\n",
    "             )\n",
    "soccfg = soc\n",
    "print(soccfg)\n",
    "if soccfg['board']=='ZCU216' and not hasattr(soc, 'clk104_gpio'):\n",
    "    raise RuntimeError(\"this firmware does not have the CLK104 GPIO block needed for SPI readback on the ZCu216\")"
   ]
  },
  {
   "cell_type": "code",
   "execution_count": 300,
   "id": "1c7971c4",
   "metadata": {},
   "outputs": [],
   "source": [
    "# some generic register read/write functions\n",
    "def write_reg(spi, regdev, regvals):\n",
    "    for k,v in regvals.items():\n",
    "        getattr(regdev, k).value = v\n",
    "        \n",
    "    for addr in regdev.find_addrs(regvals.keys()):\n",
    "        msg = regdev.registers_by_addr[addr].get_raw().to_bytes(length=3, byteorder='big')\n",
    "        spi.writebytes(msg)\n",
    "\n",
    "def read_reg(spi, dummydev, regnames):\n",
    "    for addr in dummydev.find_addrs(regnames):\n",
    "        msg = (0x800000 + (addr<<dummydev.dw)).to_bytes(length=3, byteorder='big')\n",
    "#         print(msg)\n",
    "        a = spi.xfer(msg)\n",
    "#         print(a)\n",
    "        res = int.from_bytes(a, byteorder='big')\n",
    "\n",
    "        dummydev.registers_by_addr[addr].parse(res)\n",
    "\n",
    "    readbacks = {}\n",
    "    for regname in regnames:\n",
    "        readbacks[regname] = getattr(dummydev, regname).value\n",
    "    return readbacks"
   ]
  },
  {
   "cell_type": "code",
   "execution_count": 357,
   "id": "59409f59",
   "metadata": {},
   "outputs": [],
   "source": [
    "# read the LMK04828's readback registers, clear the lock-lost flags, and print a description of the status\n",
    "def check_CLK104(soc):\n",
    "    dummy_lmk = ipq_pynq_utils.clock_models.LMK04828B(10, 10, 10, 160)\n",
    "    regs_lmk = ipq_pynq_utils.clock_models.LMK04828B(10, 10, 10, 160)\n",
    "    with open_text(\"xrfclk\", \"LMK04828_245.76.txt\") as f:\n",
    "        regs_lmk.init_from_file(f)\n",
    "\n",
    "    soc.clk104_gpio.channel1.setdirection('out')\n",
    "    soc.clk104_gpio.channel1.write(0x2, 0xff)\n",
    "    with spidev.SpiDev(1, 1) as spi:\n",
    "\n",
    "        spi.bits_per_word = 8\n",
    "        spi.max_speed_hz = 100000\n",
    "\n",
    "        # set SPI output type to push-pull; default is 6 (open-drain) which is incorrect\n",
    "        write_reg(spi, regs_lmk, {\"PLL1_LD_TYPE\": 3})\n",
    "\n",
    "        readbacks = read_reg(spi, dummy_lmk, ['RB_DAC_VALUE', \n",
    "                                        'RB_CLKin0_LOS', \n",
    "                                        'RB_CLKin1_LOS', \n",
    "                                        'RB_PLL1_LD', \n",
    "                                        'RB_PLL2_LD', \n",
    "                                        'RB_PLL1_LD_LOST', \n",
    "                                        'RB_PLL2_LD_LOST'])\n",
    "\n",
    "    #     for k,v in readbacks.items():\n",
    "    #         print(k,v)\n",
    "\n",
    "        # clear the lock-lost flags\n",
    "        write_reg(spi, regs_lmk, {\"CLR_PLL1_LD_LOST\": 1,\n",
    "                                 \"CLR_PLL2_LD_LOST\": 1})\n",
    "        write_reg(spi, regs_lmk, {\"CLR_PLL1_LD_LOST\": 0,\n",
    "                                 \"CLR_PLL2_LD_LOST\": 0})\n",
    "\n",
    "\n",
    "        for ch, name in [(1, 'PLL1 (input PLL)'), (2, 'PLL2 (loop PLL)')]:\n",
    "            if readbacks['RB_PLL%d_LD'%(ch)] == 1:\n",
    "                if readbacks['RB_PLL%d_LD_LOST'%(ch)] == 0:\n",
    "                    print(\"%s lock is locked, and has held lock since the last time you checked\"%(name))\n",
    "                else:\n",
    "                    print(\"%s is locked, but has lost lock since the last time you checked\"%(name))\n",
    "            else:\n",
    "                print(\"%s not locked\"%(name))\n"
   ]
  },
  {
   "cell_type": "markdown",
   "id": "81a10030",
   "metadata": {},
   "source": [
    "Run this repeatedly to monitor the status of the two PLL stages inside the LMK04828 chip.\n",
    "\n",
    "The first time you run this after initializing clocks, it will tell you that both PLLs are locked, but have lost lock. Further checks will report steady lock."
   ]
  },
  {
   "cell_type": "code",
   "execution_count": 364,
   "id": "76736256",
   "metadata": {},
   "outputs": [
    {
     "name": "stdout",
     "output_type": "stream",
     "text": [
      "PLL1 (input PLL) lock is locked, and has held lock since the last time you checked\n",
      "PLL2 (loop PLL) lock is locked, and has held lock since the last time you checked\n"
     ]
    }
   ],
   "source": [
    "check_CLK104(soc)"
   ]
  },
  {
   "cell_type": "markdown",
   "id": "0d4bc8f2",
   "metadata": {},
   "source": [
    "## scratchwork"
   ]
  },
  {
   "cell_type": "code",
   "execution_count": 2,
   "id": "db920c73",
   "metadata": {},
   "outputs": [],
   "source": [
    "# # how to use xrfclk to set clocks\n",
    "\n",
    "# xrfclk.set_ref_clks(lmk_freq=245.76, lmx_freq=245.76*2)"
   ]
  },
  {
   "cell_type": "code",
   "execution_count": 5,
   "id": "15aa9886",
   "metadata": {},
   "outputs": [],
   "source": [
    "# how to use IPQ utils to set clocks\n",
    "\n",
    "board = ipq_pynq_utils.ZCU208Board()\n",
    "\n",
    "regs_lmk = ipq_pynq_utils.clock_models.LMK04828B(10, 10, 10, 160)\n",
    "with open_text(\"xrfclk\", \"LMK04828_245.76.txt\") as f:\n",
    "    regs_lmk.init_from_file(f)\n",
    "regs_lmx = ipq_pynq_utils.clock_models.LMX2594(245.76)\n",
    "with open_text(\"xrfclk\", \"LMX2594_491.52.txt\") as f:\n",
    "    regs_lmx.init_from_file(f)\n",
    "    \n",
    "ipq_pynq_utils.ZCU208Board._write_registers(board.spi_lmk, [0x90] + regs_lmk.get_register_dump())\n",
    "ipq_pynq_utils.ZCU208Board._write_registers(board.spi_adc, \n",
    "                                            [0x700000, 0x6f0000, 0x6e0000] + regs_lmx.get_register_dump())\n",
    "ipq_pynq_utils.ZCU208Board._write_registers(board.spi_dac, \n",
    "                                            [0x700000, 0x6f0000, 0x6e0000] + regs_lmx.get_register_dump())"
   ]
  },
  {
   "cell_type": "code",
   "execution_count": 291,
   "id": "ae34e24d",
   "metadata": {
    "scrolled": false
   },
   "outputs": [],
   "source": [
    "def make_lmk_regs():\n",
    "    \"\"\"This reproduces the LMK04828_245.76.txt register file from xrfclk.\n",
    "    \"\"\"\n",
    "    regs = ipq_pynq_utils.clock_models.LMK04828B(10, 10, 10, 160)\n",
    "\n",
    "    regs.CLKin0_R.value = 125\n",
    "    regs.CLKin1_R.value = 125\n",
    "    regs.CLKin2_R.value = 960\n",
    "    regs.CLKin_SEL0_TYPE.value = 6\n",
    "    regs.CLKin_SEL1_TYPE.value = 6\n",
    "    regs.CLKin_SEL_MODE.value = 1\n",
    "\n",
    "    regs.DAC_CLK_MULT.value = 3\n",
    "    regs.FB_MUX.value = 1\n",
    "    regs.HOLDOVER_PLL1_DET.value = 1\n",
    "    regs.MAN_DAC_EN.value = 1\n",
    "    regs.OPT_REG_1.value = 21\n",
    "    regs.OPT_REG_2.value = 51\n",
    "    regs.OSCin_FREQ.value = 1\n",
    "    regs.OSCout_FMT.value = 0\n",
    "\n",
    "    regs.PLL1_CP_GAIN.value = 10\n",
    "    regs.PLL1_LD_MUX.value = 7\n",
    "    regs.PLL1_N.value = 2000\n",
    "    regs.PLL2_LD_MUX.value = 3\n",
    "    regs.PLL2_LD_TYPE.value = 3\n",
    "    regs.PLL2_N_CAL.value = 160\n",
    "\n",
    "    regs.RESET_TYPE.value = 6\n",
    "    regs.SPI_3WIRE_DIS.value = 1\n",
    "\n",
    "    for i in range(0,14,2):\n",
    "        getattr(regs, 'SYNC_DIS%d'%(i)).value = 1\n",
    "    regs.SYNC_DISSYSREF.value = 1\n",
    "    regs.SYNC_MODE.value = 1\n",
    "    regs.SYNC_POL.value = 1\n",
    "\n",
    "    regs.SYSREF_DDLY.value = 1\n",
    "    regs.SYSREF_DDLY_PD.value = 0\n",
    "    regs.SYSREF_GBL_PD.value = 1\n",
    "    regs.SYSREF_MUX.value = 3\n",
    "    regs.SYSREF_PD.value = 0\n",
    "\n",
    "    regs.TRACK_EN.value = 0\n",
    "\n",
    "    regs.set_refclk(2457.6)\n",
    "    regs.set_sysref(7.68)\n",
    "\n",
    "    # DOut0: RF_PLL_ADC_REF \n",
    "    # SDOut1: RF_PLL_ADC SYNC\n",
    "    # SDOut3: AMS_SYSREF\n",
    "    # DOut4: RF_PLL_DAC_REF \n",
    "    # SDOut5: RF_PLL_DAC SYNC\n",
    "    # DOut6: DAC_REFCLK\n",
    "    # SDOut7: DDR_PLY_CAP\n",
    "    # DOut8: PL_CLK\n",
    "    # SDOut9: PL_SYSREF\n",
    "    # SDOut11: EXT_REF_OUT\n",
    "    # DOut12: ADC_REFCLK\n",
    "\n",
    "    for i in range(0,14,2):\n",
    "        getattr(regs, 'CLKout%d_%d_IDL'%(i, i+1)).value = 1\n",
    "        getattr(regs, 'CLKout%d_%d_ODL'%(i, i+1)).value = 1\n",
    "        getattr(regs, 'SDCLKout%d_DDLY'%(i+1)).value = 1\n",
    "    for i in [2, 10]:\n",
    "        getattr(regs, 'DCLKout%d_DDLY_PD'%(i)).value = 1\n",
    "    for i in [0, 4, 6, 12]:\n",
    "        getattr(regs, 'SDCLKout%d_DIS_MODE'%(i+1)).value = 1\n",
    "    for i, branch in enumerate(regs.clock_branches):\n",
    "        branch.CLK_PD.value = 0\n",
    "        if i in [0, 2, 3, 4, 6]: \n",
    "            branch.DCLK_MUX.value = 1\n",
    "            branch.DCLK_FMT.value = 3\n",
    "        branch.SDCLK_MUX.value = 1\n",
    "        if i in [0, 2, 6]: branch.SDCLK_PD.value = 1\n",
    "        if i in [1, 4, 5]: branch.SDCLK_FMT.value = 3\n",
    "        if i == 4:\n",
    "            branch.request_freq(122.88)\n",
    "        else:\n",
    "            branch.request_freq(245.76)\n",
    "    return regs\n",
    "\n",
    "regs_lmk = make_lmk_regs()\n",
    "# regs_lmk.update(printDebug=True)"
   ]
  },
  {
   "cell_type": "code",
   "execution_count": 294,
   "id": "3c41d2a0",
   "metadata": {},
   "outputs": [
    {
     "name": "stdout",
     "output_type": "stream",
     "text": [
      "0x4d0 0x404\n",
      "0x55b 0x505\n",
      "0x600 0x620\n",
      "3\n",
      "ID_MASKREV 0\n",
      "1\n"
     ]
    }
   ],
   "source": [
    "from qick.ipq_pynq_utils.ipq_pynq_utils.clock_models import *\n",
    "\n",
    "def compare_regs(regs_theirs, regs_ours):\n",
    "    dump_theirs = regs_theirs.get_register_dump()\n",
    "    dump_ours = regs_ours.get_register_dump()\n",
    "\n",
    "    n_diffs = 0\n",
    "    for i in range(len(dump_theirs)):\n",
    "        if dump_theirs[i] != dump_ours[i]:\n",
    "            n_diffs += 1\n",
    "            print(hex(dump_theirs[i]), hex(dump_ours[i]))\n",
    "    print(n_diffs)\n",
    "\n",
    "    regnames = []\n",
    "    for k,v in regs_theirs.__dict__.items():\n",
    "        if isinstance(v, (MultiRegister, Field)):\n",
    "            regnames.append(k)\n",
    "\n",
    "    changes = []\n",
    "    for k in regnames:\n",
    "        val_theirs = getattr(regs_theirs, k).value\n",
    "        if getattr(regs_ours, k).value != val_theirs:\n",
    "            changes.append((k, val_theirs))\n",
    "    changes.sort()\n",
    "\n",
    "    for k,v in changes:\n",
    "        print(k, v)\n",
    "    print(len(changes))\n",
    "\n",
    "regs_lmk_xrfclk = ipq_pynq_utils.clock_models.LMK04828B(10, 10, 10, 160)\n",
    "with open_text(\"xrfclk\", \"LMK04828_245.76.txt\") as f:\n",
    "    regs_lmk_xrfclk.init_from_file(f)\n",
    "\n",
    "compare_regs(regs_lmk_xrfclk, regs_lmk)"
   ]
  },
  {
   "cell_type": "code",
   "execution_count": 118,
   "id": "94361158",
   "metadata": {},
   "outputs": [
    {
     "data": {
      "text/plain": [
       "{'addr': 271, 'fields': [{'end': 7, 'start': 7, 'width': 1, 'mask': 128, 'name': 'SDCLKout3_POL', 'description': 'Sets the polarity of clock on SDCLKout3 when device clock output is selected with SDCLKout3_MUX.', '__doc__': 'Sets the polarity of clock on SDCLKout3 when device clock output is selected with SDCLKout3_MUX.', 'default': 0, 'value': 0, 'enum_map': {0: NORMAL, 1: INVERTED}, 'valid_type': 'enum', 'NORMAL': NORMAL, 'INVERTED': INVERTED}, {'end': 6, 'start': 4, 'width': 3, 'mask': 112, 'name': 'SDCLKout3_FMT', 'description': 'Sets the output format of the SYSREF clocks', '__doc__': 'Sets the output format of the SYSREF clocks', 'default': 0, 'value': 3, 'enum_map': {0: POWERDOWN, 1: LVDS, 2: HSDS_6_MA, 3: HSDS_8_MA, 4: HSDS_10_MA, 5: LVPECL_1_6_V, 6: LVPECL_2_0_V, 7: LCPECL}, 'valid_type': 'enum', 'POWERDOWN': POWERDOWN, 'LVDS': LVDS, 'HSDS_6_MA': HSDS_6_MA, 'HSDS_8_MA': HSDS_8_MA, 'HSDS_10_MA': HSDS_10_MA, 'LVPECL_1_6_V': LVPECL_1_6_V, 'LVPECL_2_0_V': LVPECL_2_0_V, 'LCPECL': LCPECL}, {'end': 3, 'start': 3, 'width': 1, 'mask': 8, 'name': 'DCLKout2_POL', 'description': 'Sets the polarity of the device clocks from the DCLKoutX outputs', '__doc__': 'Sets the polarity of the device clocks from the DCLKoutX outputs', 'default': 0, 'value': 0, 'enum_map': {0: NORMAL, 1: INVERTED}, 'valid_type': 'enum', 'NORMAL': NORMAL, 'INVERTED': INVERTED}, {'end': 2, 'start': 0, 'width': 3, 'mask': 7, 'name': 'DCLKout2_FMT', 'description': 'Sets the output format of the device clocks.', '__doc__': 'Sets the output format of the device clocks.', 'default': 0, 'value': 0, 'enum_map': {0: POWERDOWN, 1: LVDS, 2: HSDS_6_MA, 3: HSDS_8_MA, 4: HSDS_10_MA, 5: LVPECL_1_6_V, 6: LVPECL_2_0_V, 7: LCPECL}, 'valid_type': 'enum', 'POWERDOWN': POWERDOWN, 'LVDS': LVDS, 'HSDS_6_MA': HSDS_6_MA, 'HSDS_8_MA': HSDS_8_MA, 'HSDS_10_MA': HSDS_10_MA, 'LVPECL_1_6_V': LVPECL_1_6_V, 'LVPECL_2_0_V': LVPECL_2_0_V, 'LCPECL': LCPECL}]}"
      ]
     },
     "execution_count": 118,
     "metadata": {},
     "output_type": "execute_result"
    }
   ],
   "source": [
    "# # to see what fields are in a given register:\n",
    "# regs_lmk.registers_by_addr[0x10F]"
   ]
  },
  {
   "cell_type": "code",
   "execution_count": 330,
   "id": "433e33db",
   "metadata": {},
   "outputs": [
    {
     "data": {
      "text/plain": [
       "0"
      ]
     },
     "execution_count": 330,
     "metadata": {},
     "output_type": "execute_result"
    }
   ],
   "source": [
    "regs_lmk.LOS_EN.value"
   ]
  },
  {
   "cell_type": "code",
   "execution_count": 334,
   "id": "2b677877",
   "metadata": {},
   "outputs": [
    {
     "data": {
      "text/plain": [
       "0"
      ]
     },
     "execution_count": 334,
     "metadata": {},
     "output_type": "execute_result"
    }
   ],
   "source": [
    "regs_lmk.CLKin0_TYPE.value"
   ]
  },
  {
   "cell_type": "code",
   "execution_count": 339,
   "id": "545874b8",
   "metadata": {},
   "outputs": [
    {
     "name": "stdout",
     "output_type": "stream",
     "text": [
      "PLL1 (input PLL) not locked\n",
      "PLL2 (loop PLL) lock is locked, and has held lock since the last time you checked\n"
     ]
    }
   ],
   "source": [
    "\n",
    "        \n",
    "    \n",
    "    "
   ]
  },
  {
   "cell_type": "code",
   "execution_count": null,
   "id": "402fe1a8",
   "metadata": {},
   "outputs": [],
   "source": [
    "dummy_lmx = ipq_pynq_utils.clock_models.LMX2594(245.76)\n",
    "regs_lmx = ipq_pynq_utils.clock_models.LMX2594(245.76)\n",
    "with open_text(\"xrfclk\", \"LMX2594_491.52.txt\") as f:\n",
    "    regs_lmx.init_from_file(f)\n",
    "\n",
    "soc.clk104_gpio.channel1.setdirection('out')\n",
    "soc.clk104_gpio.channel1.write(0x0, 0xff)\n",
    "\n",
    "with spidev.SpiDev(1, 3) as spi:\n",
    "    spi.bits_per_word = 8\n",
    "    spi.max_speed_hz = 100000\n",
    "\n",
    "    # set output to SPI readback; default is 1 (lock detect) which drives the LED\n",
    "    write_reg(spi, regs_lmx, {\"MUXOUT_LD_SEL\": 0})\n",
    "    readbacks = read_reg(spi, dummy_lmx, ['rb_LD_VTUNE',\n",
    "                                    'rb_VCO_SEL',\n",
    "                                    'rb_VCO_CAPCTRL',\n",
    "                                    'rb_VCO_DACISET'])\n",
    "    \n",
    "    for k,v in readbacks.items():\n",
    "        print(k,v)\n",
    "        \n",
    "    # switch back to indicating lock-detect with the LED\n",
    "    write_reg(spi, regs_lmx, {\"MUXOUT_LD_SEL\": 1})"
   ]
  },
  {
   "cell_type": "code",
   "execution_count": null,
   "id": "774e8957",
   "metadata": {},
   "outputs": [],
   "source": [
    "dummy_lmx = ipq_pynq_utils.clock_models.LMX2594(245.76)\n",
    "regs_lmx = ipq_pynq_utils.clock_models.LMX2594(245.76)\n",
    "with open_text(\"xrfclk\", \"LMX2594_491.52.txt\") as f:\n",
    "    regs_lmx.init_from_file(f)\n",
    "\n",
    "soc.clk104_gpio.channel1.setdirection('out')\n",
    "soc.clk104_gpio.channel1.write(0x1, 0xff)\n",
    "\n",
    "with spidev.SpiDev(1, 2) as spi:\n",
    "    spi.bits_per_word = 8\n",
    "    spi.max_speed_hz = 100000\n",
    "\n",
    "    # set output to SPI readback; default is 1 (lock detect) which drives the LED\n",
    "    write_reg(spi, regs_lmx, {\"MUXOUT_LD_SEL\": 0})\n",
    "    readbacks = read_reg(spi, dummy_lmx, ['rb_LD_VTUNE',\n",
    "                                    'rb_VCO_SEL',\n",
    "                                    'rb_VCO_CAPCTRL',\n",
    "                                    'rb_VCO_DACISET'])\n",
    "    \n",
    "    for k,v in readbacks.items():\n",
    "        print(k,v)\n",
    "        \n",
    "    # switch back to indicating lock-detect with the LED\n",
    "    write_reg(spi, regs_lmx, {\"MUXOUT_LD_SEL\": 1})\n",
    "    "
   ]
  },
  {
   "cell_type": "code",
   "execution_count": null,
   "id": "9b868ba2",
   "metadata": {},
   "outputs": [],
   "source": []
  },
  {
   "cell_type": "code",
   "execution_count": null,
   "id": "e0967770",
   "metadata": {},
   "outputs": [],
   "source": []
  },
  {
   "cell_type": "code",
   "execution_count": null,
   "id": "e3cf31c4",
   "metadata": {},
   "outputs": [],
   "source": []
  },
  {
   "cell_type": "code",
   "execution_count": null,
   "id": "8d47b5db",
   "metadata": {},
   "outputs": [],
   "source": []
  },
  {
   "cell_type": "code",
   "execution_count": null,
   "id": "8320549c",
   "metadata": {},
   "outputs": [],
   "source": []
  },
  {
   "cell_type": "code",
   "execution_count": null,
   "id": "1fa25c14",
   "metadata": {},
   "outputs": [],
   "source": []
  },
  {
   "cell_type": "code",
   "execution_count": null,
   "id": "75bde9a3",
   "metadata": {},
   "outputs": [],
   "source": []
  },
  {
   "cell_type": "code",
   "execution_count": null,
   "id": "a590f871",
   "metadata": {},
   "outputs": [],
   "source": [
    "# print(ipq_lmk.PLL1_LD_MUX)\n",
    "# print(ipq_lmk.PLL1_LD_TYPE)\n",
    "# print(ipq_adc.MUXOUT_LD_SEL)"
   ]
  },
  {
   "cell_type": "code",
   "execution_count": null,
   "id": "ffc758fe",
   "metadata": {},
   "outputs": [],
   "source": []
  },
  {
   "cell_type": "code",
   "execution_count": null,
   "id": "15e08fa1",
   "metadata": {
    "scrolled": false
   },
   "outputs": [],
   "source": [
    "soc.clk104_gpio.channel1.setdirection('out')\n",
    "soc.clk104_gpio.channel1.write(0x2, 0xff)\n",
    "s = board.spi_lmk\n",
    "\n",
    "addr = 388\n",
    "msg = [((addr>>8) & 0xFF) + (1<<7), addr & 0xFF, 0]\n",
    "print(msg)\n",
    "a = s.xfer(msg)\n",
    "print(hex(a[2]))"
   ]
  },
  {
   "cell_type": "code",
   "execution_count": null,
   "id": "239eb5ad",
   "metadata": {},
   "outputs": [],
   "source": [
    "soc.clk104_gpio.channel1.setdirection('out')\n",
    "soc.clk104_gpio.channel1.write(0x0, 0xff)\n",
    "\n",
    "s = board.spi_adc\n",
    "addr = 110\n",
    "msg = [addr + (1<<7), 0, 0]\n",
    "print(msg)\n",
    "a = s.xfer(msg)\n",
    "print(hex((a[1] << 8)+a[2]))"
   ]
  },
  {
   "cell_type": "code",
   "execution_count": null,
   "id": "f2fb809e",
   "metadata": {},
   "outputs": [],
   "source": [
    "soc.clk104_gpio.channel1.setdirection('out')\n",
    "soc.clk104_gpio.channel1.write(0x1, 0xff)\n",
    "\n",
    "s = board.spi_dac\n",
    "addr = 110\n",
    "msg = [addr + (1<<7), 0, 0]\n",
    "print(msg)\n",
    "a = s.xfer(msg)\n",
    "print(a)"
   ]
  },
  {
   "cell_type": "code",
   "execution_count": null,
   "id": "ba382a92",
   "metadata": {},
   "outputs": [],
   "source": [
    "for k,v in dummy_lmk.registers_by_addr.items():\n",
    "    for x in v.fields:\n",
    "        if x.name != 'CONST':\n",
    "            print(k, x.name)"
   ]
  },
  {
   "cell_type": "code",
   "execution_count": null,
   "id": "a2268bfa",
   "metadata": {},
   "outputs": [],
   "source": []
  },
  {
   "cell_type": "code",
   "execution_count": null,
   "id": "06181e2a",
   "metadata": {
    "scrolled": false
   },
   "outputs": [],
   "source": [
    "dir(dummy_lmk)"
   ]
  },
  {
   "cell_type": "code",
   "execution_count": null,
   "id": "b627ec4c",
   "metadata": {},
   "outputs": [],
   "source": []
  },
  {
   "cell_type": "code",
   "execution_count": null,
   "id": "f22a4515",
   "metadata": {},
   "outputs": [],
   "source": [
    "# for x in dummy_reg.fields:\n",
    "#     print(x.name, x.value)"
   ]
  },
  {
   "cell_type": "code",
   "execution_count": null,
   "id": "3900dfff",
   "metadata": {},
   "outputs": [],
   "source": [
    "# dummy_lmk.registers_by_addr[0x182].fields[0].name"
   ]
  },
  {
   "cell_type": "code",
   "execution_count": null,
   "id": "5db473bc",
   "metadata": {},
   "outputs": [],
   "source": [
    "soc.clk104_gpio.channel1.setdirection('out')\n",
    "soc.clk104_gpio.channel1.write(0x2, 0xff)\n",
    "s = board.spi_lmk\n",
    "\n",
    "for addr in [0x182, 0x183, 0x184, 0x185]:\n",
    "    dummy_reg = dummy_lmk.registers_by_addr[addr]\n",
    "    # print(dummy_reg)\n",
    "    # for x in dummy_reg.fields:\n",
    "    #     print(x.name, x.value)\n",
    "    \n",
    "    msg = [((addr>>8) & 0xFF) + (1<<7), addr & 0xFF, 0]\n",
    "#     print(msg)\n",
    "    a = s.xfer(msg)\n",
    "    res = a[2]\n",
    "    print(\"0x%x: 0x%x\"%(addr,res))\n",
    "    \n",
    "    dummy_reg.parse(res)\n",
    "    for f in dummy_reg.fields:\n",
    "        if f.name != 'CONST':\n",
    "            print(\"%s: 0x%x\"%(f.name, f.value))\n"
   ]
  },
  {
   "cell_type": "code",
   "execution_count": null,
   "id": "2dd06f02",
   "metadata": {},
   "outputs": [],
   "source": []
  },
  {
   "cell_type": "code",
   "execution_count": null,
   "id": "20f6c1ea",
   "metadata": {},
   "outputs": [],
   "source": [
    "xrfclk.lmk_devices=[]\n",
    "xrfclk.lmx_devices=[]\n",
    "xrfclk.xrfclk._find_devices()\n"
   ]
  },
  {
   "cell_type": "code",
   "execution_count": null,
   "id": "27ef0791",
   "metadata": {
    "scrolled": false
   },
   "outputs": [],
   "source": [
    "xrfclk.lmx_devices"
   ]
  },
  {
   "cell_type": "code",
   "execution_count": null,
   "id": "1e889426",
   "metadata": {},
   "outputs": [],
   "source": []
  },
  {
   "cell_type": "code",
   "execution_count": null,
   "id": "230183d2",
   "metadata": {},
   "outputs": [],
   "source": [
    "xrfclk.xrfclk._read_tics_output()"
   ]
  },
  {
   "cell_type": "code",
   "execution_count": null,
   "id": "b71c1b09",
   "metadata": {
    "scrolled": false
   },
   "outputs": [],
   "source": [
    "xrf_conf = xrfclk.xrfclk._Config['lmk04828'][245.76]\n",
    "ipq_conf = [0x90] + ipq_lmk.get_register_dump()\n",
    "\n",
    "for i in range(len(ipq_conf)):\n",
    "    if i<len(xrf_conf):\n",
    "        if ipq_conf[i] != xrf_conf[i]:\n",
    "            print(\"%x\\t%x\"%(ipq_conf[i], xrf_conf[i]))\n",
    "    else:\n",
    "        print(\"%x\"%(ipq_conf[i]))            "
   ]
  },
  {
   "cell_type": "code",
   "execution_count": null,
   "id": "dfc7b983",
   "metadata": {
    "scrolled": false
   },
   "outputs": [],
   "source": [
    "xrf_conf = xrfclk.xrfclk._Config['lmx2594'][491.52]\n",
    "ipq_conf = [0x700000, 0x6f0000, 0x6e0000] + ipq_adc.get_register_dump()\n",
    "\n",
    "for i in range(len(ipq_conf)):\n",
    "    if i<len(xrf_conf):\n",
    "        if ipq_conf[i] != xrf_conf[i]:\n",
    "            print(\"%x\\t%x\"%(ipq_conf[i], xrf_conf[i]))\n",
    "    else:\n",
    "        print(\"%x\"%(ipq_conf[i]))            "
   ]
  },
  {
   "cell_type": "code",
   "execution_count": null,
   "id": "54096e88",
   "metadata": {},
   "outputs": [],
   "source": [
    "xrfclk.xrfclk._Config['lmx2594']"
   ]
  },
  {
   "cell_type": "code",
   "execution_count": null,
   "id": "dc2fbece",
   "metadata": {},
   "outputs": [],
   "source": [
    "board = ipq_pynq_utils.ZCU208Board()\n",
    "board.print_clock_summary()"
   ]
  },
  {
   "cell_type": "code",
   "execution_count": null,
   "id": "78b855b6",
   "metadata": {
    "scrolled": true
   },
   "outputs": [],
   "source": [
    "help(s)"
   ]
  },
  {
   "cell_type": "code",
   "execution_count": null,
   "id": "ae3fd109",
   "metadata": {},
   "outputs": [],
   "source": [
    "# s = board.spi_lmk\n",
    "# addr = 388\n",
    "\n",
    "# s.writebytes([((addr>>8) & 0xFF) + (1<<7), addr & 0xFF, 0])\n",
    "# a = s.readbytes(3)\n",
    "# print(a)"
   ]
  },
  {
   "cell_type": "code",
   "execution_count": null,
   "id": "58f50d0b",
   "metadata": {},
   "outputs": [],
   "source": [
    "for x in soc.clk104_gpio:\n",
    "    print(x)"
   ]
  },
  {
   "cell_type": "code",
   "execution_count": null,
   "id": "d32e9d17",
   "metadata": {},
   "outputs": [],
   "source": [
    "dir(soc.clk104_gpio)"
   ]
  },
  {
   "cell_type": "code",
   "execution_count": null,
   "id": "6a4f3804",
   "metadata": {},
   "outputs": [],
   "source": [
    "dir(soc.clk104_gpio.channel1)"
   ]
  },
  {
   "cell_type": "code",
   "execution_count": null,
   "id": "80642edc",
   "metadata": {},
   "outputs": [],
   "source": [
    "hex(soc.clk104_gpio.channel1.trimask)"
   ]
  },
  {
   "cell_type": "code",
   "execution_count": null,
   "id": "01c6b0d6",
   "metadata": {
    "scrolled": true
   },
   "outputs": [],
   "source": [
    "help(soc.clk104_gpio)"
   ]
  },
  {
   "cell_type": "code",
   "execution_count": null,
   "id": "b956ed3f",
   "metadata": {},
   "outputs": [],
   "source": [
    "soc.clk104_gpio.mmio.array[:4]"
   ]
  },
  {
   "cell_type": "code",
   "execution_count": null,
   "id": "601693a8",
   "metadata": {
    "scrolled": true
   },
   "outputs": [],
   "source": [
    "soc.clk104_gpio._registers"
   ]
  },
  {
   "cell_type": "code",
   "execution_count": null,
   "id": "8625897c",
   "metadata": {},
   "outputs": [],
   "source": [
    "soc.clk104_gpio.channel1.setdirection('out')\n",
    "soc.clk104_gpio.channel1.write(0x0, 0xff)\n",
    "\n",
    "s = board.spi_adc\n",
    "addr = 110\n",
    "msg = [addr + (1<<7), 0, 0]\n",
    "print(msg)\n",
    "a = s.xfer2(msg)\n",
    "print(a)"
   ]
  },
  {
   "cell_type": "code",
   "execution_count": null,
   "id": "2c2ed396",
   "metadata": {},
   "outputs": [],
   "source": [
    "while True:\n",
    "    time.sleep(0.5)\n",
    "    soc.clk104_gpio.channel1.setdirection('out')\n",
    "    soc.clk104_gpio.channel1.write(0x1, 0xff)\n",
    "\n",
    "    s = board.spi_dac\n",
    "    addr = 110\n",
    "    msg = [addr + (1<<7), 0, 0]\n",
    "    print(msg)\n",
    "    a = s.xfer(msg)\n",
    "    print(a)"
   ]
  },
  {
   "cell_type": "code",
   "execution_count": null,
   "id": "ff9f3801",
   "metadata": {},
   "outputs": [],
   "source": [
    "s = board.spi_adc\n",
    "print(s.no_cs)\n",
    "print(s.cshigh)\n",
    "print(s.mode)\n",
    "print(s.bits_per_word)\n",
    "print(s.lsbfirst)"
   ]
  },
  {
   "cell_type": "code",
   "execution_count": null,
   "id": "21eadd70",
   "metadata": {},
   "outputs": [],
   "source": [
    "# s.cshigh = True"
   ]
  },
  {
   "cell_type": "code",
   "execution_count": null,
   "id": "fc18b717",
   "metadata": {},
   "outputs": [],
   "source": [
    "dir(board.spi_adc)"
   ]
  },
  {
   "cell_type": "code",
   "execution_count": null,
   "id": "38e87357",
   "metadata": {},
   "outputs": [],
   "source": [
    "s = board.spi_lmk\n",
    "addr = 388\n",
    "msg = [((addr>>8) & 0xFF) + (1<<7), addr & 0xFF, 0]\n",
    "print(msg)\n",
    "a = s.xfer(msg)\n",
    "print(a)\n",
    "\n",
    "s = board.spi_adc\n",
    "addr = 110\n",
    "msg = [addr + (1<<7), 0, 0]\n",
    "print(msg)\n",
    "a = s.xfer3(msg)\n",
    "print(a)\n",
    "\n",
    "s = board.spi_dac\n",
    "addr = 110\n",
    "msg = [addr + (1<<7), 0, 0]\n",
    "print(msg)\n",
    "a = s.xfer3(msg)\n",
    "print(a)"
   ]
  },
  {
   "cell_type": "code",
   "execution_count": null,
   "id": "f8f8fc24",
   "metadata": {},
   "outputs": [],
   "source": [
    "msg"
   ]
  },
  {
   "cell_type": "code",
   "execution_count": null,
   "id": "1d115769",
   "metadata": {},
   "outputs": [],
   "source": []
  },
  {
   "cell_type": "code",
   "execution_count": null,
   "id": "71874088",
   "metadata": {},
   "outputs": [],
   "source": [
    "clk104 = ipq_pynq_utils.clock_models.CLK104()"
   ]
  },
  {
   "cell_type": "code",
   "execution_count": null,
   "id": "39d111ef",
   "metadata": {},
   "outputs": [],
   "source": [
    "for x in clk104.lmk.get_register_dump():\n",
    "    print(hex(x))"
   ]
  },
  {
   "cell_type": "code",
   "execution_count": null,
   "id": "553c6ec9",
   "metadata": {
    "scrolled": true
   },
   "outputs": [],
   "source": [
    "for k,v in clk104.lmk.registers_by_addr.items():\n",
    "    for x in v.fields:\n",
    "        if x.name != 'CONST':\n",
    "            print(k, x.name)"
   ]
  },
  {
   "cell_type": "code",
   "execution_count": null,
   "id": "6ef07927",
   "metadata": {
    "scrolled": true
   },
   "outputs": [],
   "source": [
    "for k,v in clk104.lmx_adc.registers_by_addr.items():\n",
    "    for x in v.fields:\n",
    "        if x.name != 'CONST':\n",
    "            print(k, x.name)"
   ]
  },
  {
   "cell_type": "code",
   "execution_count": null,
   "id": "95401832",
   "metadata": {
    "scrolled": true
   },
   "outputs": [],
   "source": [
    "help(board.spi_lmk)"
   ]
  },
  {
   "cell_type": "code",
   "execution_count": null,
   "id": "98c67f4c",
   "metadata": {},
   "outputs": [],
   "source": [
    "c = ipq_pynq_utils.clock_models.LMX2594(122.88)"
   ]
  },
  {
   "cell_type": "code",
   "execution_count": null,
   "id": "93105504",
   "metadata": {},
   "outputs": [],
   "source": [
    "for x in c.get_register_dump():\n",
    "    print(hex(x))"
   ]
  },
  {
   "cell_type": "code",
   "execution_count": null,
   "id": "17a11d99",
   "metadata": {},
   "outputs": [],
   "source": [
    "c.rb_LD_VTUNE"
   ]
  },
  {
   "cell_type": "code",
   "execution_count": null,
   "id": "e7acc89b",
   "metadata": {
    "scrolled": true
   },
   "outputs": [],
   "source": [
    "for k,v in c.registers_by_addr.items():\n",
    "    for x in v.fields:\n",
    "        if x.name != 'CONST':\n",
    "            print(k, x.name)\n",
    "#     print(k, v.fields)\n",
    "    "
   ]
  }
 ],
 "metadata": {
  "kernelspec": {
   "display_name": "Python 3 (ipykernel)",
   "language": "python",
   "name": "python3"
  },
  "language_info": {
   "codemirror_mode": {
    "name": "ipython",
    "version": 3
   },
   "file_extension": ".py",
   "mimetype": "text/x-python",
   "name": "python",
   "nbconvert_exporter": "python",
   "pygments_lexer": "ipython3",
   "version": "3.10.4"
  }
 },
 "nbformat": 4,
 "nbformat_minor": 5
}
