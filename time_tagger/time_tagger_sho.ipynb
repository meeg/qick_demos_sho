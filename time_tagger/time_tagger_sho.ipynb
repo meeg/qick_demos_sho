{
 "cells": [
  {
   "cell_type": "code",
   "execution_count": 1,
   "id": "18cb7e1e",
   "metadata": {},
   "outputs": [],
   "source": [
    "# jupyter setup boilerplate\n",
    "%matplotlib inline\n",
    "import matplotlib.pyplot as plt\n",
    "import numpy as np\n",
    "\n",
    "from qick import *\n",
    "\n",
    "# for now, all the tProc v2 classes need to be individually imported (can't use qick.*)\n",
    "\n",
    "# the main program class\n",
    "from qick.asm_v2 import AveragerProgramV2\n",
    "# for defining sweeps\n",
    "from qick.asm_v2 import QickSpan, QickSweep1D"
   ]
  },
  {
   "cell_type": "code",
   "execution_count": 2,
   "id": "45adee96",
   "metadata": {},
   "outputs": [],
   "source": [
    "from qick.drivers.peripherals import QICK_Time_Tagger"
   ]
  },
  {
   "cell_type": "code",
   "execution_count": 3,
   "id": "ef6d26d6",
   "metadata": {},
   "outputs": [],
   "source": [
    "# crank up the logging (optional)\n",
    "import logging\n",
    "# logging.basicConfig(level=logging.DEBUG)\n",
    "logging.basicConfig(level=logging.INFO, force=True, format='%(levelname)-8s [%(filename)s:%(lineno)d] %(message)s')\n",
    "logging.getLogger(\"qick_processor\").setLevel(logging.WARNING)"
   ]
  },
  {
   "cell_type": "code",
   "execution_count": 4,
   "id": "2354a9e7",
   "metadata": {},
   "outputs": [
    {
     "data": {
      "application/javascript": [
       "\n",
       "try {\n",
       "require(['notebook/js/codecell'], function(codecell) {\n",
       "  codecell.CodeCell.options_default.highlight_modes[\n",
       "      'magic_text/x-csrc'] = {'reg':[/^%%microblaze/]};\n",
       "  Jupyter.notebook.events.one('kernel_ready.Kernel', function(){\n",
       "      Jupyter.notebook.get_cells().map(function(cell){\n",
       "          if (cell.cell_type == 'code'){ cell.auto_highlight(); } }) ;\n",
       "  });\n",
       "});\n",
       "} catch (e) {};\n"
      ]
     },
     "metadata": {},
     "output_type": "display_data"
    },
    {
     "data": {
      "application/javascript": [
       "\n",
       "try {\n",
       "require(['notebook/js/codecell'], function(codecell) {\n",
       "  codecell.CodeCell.options_default.highlight_modes[\n",
       "      'magic_text/x-csrc'] = {'reg':[/^%%pybind11/]};\n",
       "  Jupyter.notebook.events.one('kernel_ready.Kernel', function(){\n",
       "      Jupyter.notebook.get_cells().map(function(cell){\n",
       "          if (cell.cell_type == 'code'){ cell.auto_highlight(); } }) ;\n",
       "  });\n",
       "});\n",
       "} catch (e) {};\n"
      ]
     },
     "metadata": {},
     "output_type": "display_data"
    },
    {
     "name": "stdout",
     "output_type": "stream",
     "text": [
      "QICK running on ZCU111, software version 0.2.309\n",
      "\n",
      "Firmware configuration (built Thu Nov 21 17:25:37 2024):\n",
      "\n",
      "\tGlobal clocks (MHz): tProcessor 409.600, RF reference 204.800\n",
      "\n",
      "\t1 signal generator channels:\n",
      "\t0:\taxis_sg_int4_v2 - envelope memory 1024 samples (2.500 us)\n",
      "\t\tfs=6553.600 MHz, fabric=409.600 MHz, 32-bit DDS, range=1638.400 MHz\n",
      "\t\tDAC tile 0, blk 0 is DAC228_T0_CH0 or RF board output 0\n",
      "\n",
      "\t0 constant-IQ outputs:\n",
      "\n",
      "\t0 readout channels:\n",
      "\n",
      "\t8 digital output pins:\n",
      "\t0:\tPMOD0_0\n",
      "\t1:\tPMOD0_1\n",
      "\t2:\tPMOD0_2\n",
      "\t3:\tPMOD0_3\n",
      "\t4:\tPMOD0_4\n",
      "\t5:\tPMOD0_5\n",
      "\t6:\tPMOD0_6\n",
      "\t7:\tPMOD0_7\n",
      "\n",
      "\ttProc qick_processor (\"v2\") rev 21: program memory 256 words, data memory 256 words\n",
      "\t\texternal start pin: None\n"
     ]
    }
   ],
   "source": [
    "soc = QickSoc('/data/fw/2024-11-21_111_tprocv2r21_qtt-2adc2gsps/qick_111.bit')\n",
    "soccfg = soc\n",
    "print(soccfg)"
   ]
  },
  {
   "cell_type": "code",
   "execution_count": 5,
   "id": "ecc5d5a2",
   "metadata": {},
   "outputs": [],
   "source": [
    "GEN_CH=0"
   ]
  },
  {
   "cell_type": "code",
   "execution_count": 237,
   "id": "5043d6c9",
   "metadata": {},
   "outputs": [
    {
     "name": "stdout",
     "output_type": "stream",
     "text": [
      "---------------------------------------------\n",
      " QICK Time Tagger INFO \n",
      "---------------------------------------------\n",
      "Connections:\n",
      " ADC0 : ADC tile 0, blk 0 is ADC224_T0_CH0 or RF board AC input 0\n",
      " ADC1 : ADC tile 0, blk 2 is ADC224_T0_CH1 or RF board AC input 1\n",
      " ADC2 : Not Connected\n",
      " ADC3 : Not Connected\n",
      "Configuration:\n",
      " adc_qty       : 2\n",
      " tag_mem_size  : 262144\n",
      " cmp_slope     : 0\n",
      " cmp_inter     : 4\n",
      " arm_store     : 1\n",
      " arm_mem_size  : 1024\n",
      " smp_store     : 1\n",
      " smp_mem_size  : 524288\n",
      "----------\n",
      "\n",
      "--- AXI Time Tagger CONFIG\n",
      " FILTER           : 0\n",
      " SLOPE            : 0\n",
      " INTERPOLATION    : 0\n",
      " WRITE SAMPLE QTY : 0\n",
      " INVERT INPUT     : 0\n",
      "---------------------------------------------\n",
      "--- AXI Registers\n",
      "  qtt_ctrl           0 - 0000_0000_0000_0000_0000_0000_0000_0000\n",
      "   qtt_cfg           0 - 0000_0000_0000_0000_0000_0000_0000_0000\n",
      "   dma_cfg        4101 - 0000_0000_0000_0000_0001_0000_0000_0101\n",
      "   axi_dt1        1000 - 0000_0000_0000_0000_0000_0011_1110_1000\n",
      "   proc_dt           0 - 0000_0000_0000_0000_0000_0000_0000_0000\n",
      "  proc_qty         193 - 0000_0000_0000_0000_0000_0000_1100_0001\n",
      "  tag0_qty          93 - 0000_0000_0000_0000_0000_0000_0101_1101\n",
      "  tag1_qty           0 - 0000_0000_0000_0000_0000_0000_0000_0000\n",
      "  tag2_qty           0 - 0000_0000_0000_0000_0000_0000_0000_0000\n",
      "  tag3_qty           0 - 0000_0000_0000_0000_0000_0000_0000_0000\n",
      "   smp_qty        1792 - 0000_0000_0000_0000_0000_0111_0000_0000\n",
      "   arm_qty          69 - 0000_0000_0000_0000_0000_0000_0100_0101\n",
      "   thr_inh     6554600 - 0000_0000_0110_0100_0000_0011_1110_1000\n",
      "qtt_status         333 - 0000_0000_0000_0000_0000_0001_0100_1101\n",
      " qtt_debug           0 - 0000_0000_0000_0000_0000_0000_0000_0000\n",
      "---------------------------------------------\n",
      "--- AXI Time Tagger DEBUG\n",
      " ST_TRIG  : 77\n",
      " ST_DMA   : 1\n",
      " -- FIFO --\n",
      " DMA_FULL   : 0\n",
      " DMA_EMPTY  : 0\n",
      " PROC_FULL  : 0\n",
      " PROC_EMPTY : 0\n",
      " -- DMA --\n",
      " DMA_ST     : 0 - ST_IDLE\n",
      " DMA_REQ    : 0\n",
      " DMA_ACK    : 0\n",
      " POP_REQ    : 0\n",
      " POP_ACK    : 0\n",
      " FIFO_RD  : 0\n",
      " DT_TX    : 0\n",
      " DT_W     : 0\n",
      " DT_VLD   : 0\n",
      " DT_BF    : 0\n",
      " LP_CNT_EN: 0\n",
      " LEN_CNT    : 0\n",
      " FIFO_RD_CNT: 0\n",
      " VLD_CNT    : 0\n",
      " THRESHOLD  : 1000\n",
      " INHIBIT    : 100\n",
      " CMD_CNT    : 0\n"
     ]
    }
   ],
   "source": [
    "soc.qick_time_tagger_0.info()\n",
    "soc.qick_time_tagger_0.get_config()\n",
    "soc.qick_time_tagger_0.print_axi_regs()\n",
    "soc.qick_time_tagger_0.print_debug()"
   ]
  },
  {
   "cell_type": "code",
   "execution_count": 206,
   "id": "44bd319b",
   "metadata": {},
   "outputs": [],
   "source": [
    "# print(soc.qick_time_tagger_0.tag0_qty)\n",
    "# print(soc.qick_time_tagger_0.tag1_qty)"
   ]
  },
  {
   "cell_type": "code",
   "execution_count": 179,
   "id": "23b1dbae",
   "metadata": {},
   "outputs": [],
   "source": [
    "import time\n",
    "class CalPulseProgram(AveragerProgramV2):\n",
    "    def _initialize(self, cfg):\n",
    "        gen_ch = cfg['gen_ch']\n",
    "        \n",
    "        self.declare_gen(ch=gen_ch, nqz=1, mixer_freq=cfg['freq'])\n",
    "\n",
    "        self.add_pulse(ch=gen_ch, name=\"myconst\",\n",
    "                       style=\"const\", \n",
    "                       length=1.0, \n",
    "                       freq=cfg['freq'], \n",
    "                       phase=0,\n",
    "                       gain=1.0,\n",
    "                       mode='periodic'\n",
    "                      )\n",
    "\n",
    "    def _body(self, cfg):\n",
    "        self.pulse(ch=cfg['gen_ch'], name=\"myconst\", t=0)\n",
    "        \n",
    "config = {'gen_ch': GEN_CH,\n",
    "          'freq': 500,\n",
    "         }\n",
    "\n",
    "calprog = CalPulseProgram(soccfg, reps=1, final_delay=0.5, cfg=config)\n",
    "soc.rf.adc_tiles[0].blocks[0].CalibrationMode=2 # optimized for [DC, 0.4*fs]\n",
    "soc.rf.adc_tiles[0].blocks[0].CalFreeze['FreezeCalibration']=0\n",
    "calprog.run_rounds(soc, rounds=1, progress=False)\n",
    "time.sleep(1)\n",
    "soc.rf.adc_tiles[0].blocks[0].CalFreeze['FreezeCalibration']=1\n",
    "soc.reset_gens()\n"
   ]
  },
  {
   "cell_type": "code",
   "execution_count": 214,
   "id": "da18bef6",
   "metadata": {},
   "outputs": [],
   "source": [
    "class MultiPulseProgram(AveragerProgramV2):\n",
    "    def _initialize(self, cfg):\n",
    "        gen_ch = cfg['gen_ch']\n",
    "        \n",
    "        self.declare_gen(ch=gen_ch, nqz=1, mixer_freq=0)\n",
    "\n",
    "        ramp_len = 0.2\n",
    "        self.add_gauss(ch=gen_ch, name=\"ramp\", sigma=ramp_len/10, length=ramp_len, even_length=True)\n",
    "        \n",
    "        self.add_pulse(ch=gen_ch, name=\"myflattop\",\n",
    "                       style=\"flat_top\", \n",
    "                       envelope=\"ramp\", \n",
    "                       freq=cfg['freq'], \n",
    "                       length=0.1,\n",
    "                       phase=0,\n",
    "                       gain=1.0, \n",
    "                      )\n",
    "\n",
    "        self.add_pulse(ch=gen_ch, name=\"mygaus\",\n",
    "                       style=\"arb\", \n",
    "                       envelope=\"ramp\", \n",
    "                       freq=cfg['freq'], \n",
    "                       phase=0,\n",
    "                       gain=1.0, \n",
    "                      )\n",
    "\n",
    "        self.add_pulse(ch=gen_ch, name=\"myconst\",\n",
    "                       style=\"const\", \n",
    "                       length=0.2, \n",
    "                       freq=cfg['freq'], \n",
    "                       phase=0,\n",
    "                       gain=1.0,\n",
    "                      )\n",
    "        self.asm_inst({'CMD': 'PA', 'C_OP': '1', 'R1': 'r1'}) # arm\n",
    "\n",
    "    def _body(self, cfg):\n",
    "        \n",
    "#         {'P_ADDR': 1, 'LINE': 1, 'CMD': 'PA', 'C_OP': '1', 'R1': 'r1'}\n",
    "#         self.pulse(ch=cfg['gen_ch'], name=\"myflattop\", t=0)\n",
    "        self.pulse(ch=cfg['gen_ch'], name=\"mygaus\", t=0)\n",
    "#         self.pulse(ch=cfg['gen_ch'], name=\"myconst\", t=0)\n",
    "\n",
    "    def _cleanup(self, cfg):\n",
    "        self.wait(10)\n",
    "        self.asm_inst({'CMD': 'PA', 'C_OP': '0', 'R1': 'r1'}) # disarm\n",
    "        \n",
    "config = {'gen_ch': GEN_CH,\n",
    "          'freq': 0,\n",
    "         }\n",
    "\n",
    "prog = MultiPulseProgram(soccfg, reps=1, final_delay=0.5, cfg=config)\n",
    "# prog.run_rounds(soc, rounds=10)"
   ]
  },
  {
   "cell_type": "code",
   "execution_count": 246,
   "id": "0d941f39",
   "metadata": {},
   "outputs": [
    {
     "data": {
      "application/vnd.jupyter.widget-view+json": {
       "model_id": "c3168fc1a1e241fc9e074c12df70564f",
       "version_major": 2,
       "version_minor": 0
      },
      "text/plain": [
       "  0%|          | 0/1 [00:00<?, ?it/s]"
      ]
     },
     "metadata": {},
     "output_type": "display_data"
    },
    {
     "name": "stdout",
     "output_type": "stream",
     "text": [
      "1\n",
      "0\n"
     ]
    }
   ],
   "source": [
    "# soc.qick_time_tagger_0.reset()\n",
    "# soc.qick_time_tagger_0.set_config(0, 0, 0, 32, 0)\n",
    "# soc.qick_time_tagger_0.set_dead_time(100)\n",
    "\n",
    "# soc.qick_time_tagger_0.set_threshold(1000)\n",
    "\n",
    "# soc.qick_time_tagger_0.arm()\n",
    "prog.run_rounds(soc, rounds=1)\n",
    "# soc.qick_time_tagger_0.disarm()\n",
    "print(soc.qick_time_tagger_0.tag0_qty)\n",
    "print(soc.qick_time_tagger_0.tag1_qty)\n"
   ]
  },
  {
   "cell_type": "code",
   "execution_count": 220,
   "id": "98f75884",
   "metadata": {},
   "outputs": [
    {
     "data": {
      "image/png": "[encoded data removed]",
      "text/plain": [
       "<Figure size 432x288 with 1 Axes>"
      ]
     },
     "metadata": {
      "needs_background": "light"
     },
     "output_type": "display_data"
    }
   ],
   "source": [
    "to_read = min(1000, soc.qick_time_tagger_0.smp_qty)\n",
    "if to_read>0:\n",
    "    samps = soc.qick_time_tagger_0.read_mem('SMP', length=to_read)\n",
    "    plt.plot(samps)"
   ]
  },
  {
   "cell_type": "code",
   "execution_count": 247,
   "id": "1d634b7e",
   "metadata": {
    "scrolled": false
   },
   "outputs": [
    {
     "name": "stdout",
     "output_type": "stream",
     "text": [
      "[[2388]]\n"
     ]
    }
   ],
   "source": [
    "while True:\n",
    "    to_read = soc.qick_time_tagger_0.tag0_qty\n",
    "    if to_read == 0: break\n",
    "    to_read = min(1000, to_read)\n",
    "    print(soc.qick_time_tagger_0.read_mem('TAG0', length=to_read))"
   ]
  },
  {
   "cell_type": "code",
   "execution_count": 81,
   "id": "26c8dfc8",
   "metadata": {},
   "outputs": [
    {
     "ename": "AttributeError",
     "evalue": "Could not find IP or hierarchy qtt in overlay",
     "output_type": "error",
     "traceback": [
      "\u001b[0;31m---------------------------------------------------------------------------\u001b[0m",
      "\u001b[0;31mAttributeError\u001b[0m                            Traceback (most recent call last)",
      "Input \u001b[0;32mIn [81]\u001b[0m, in \u001b[0;36m<cell line: 1>\u001b[0;34m()\u001b[0m\n\u001b[0;32m----> 1\u001b[0m \u001b[43msoc\u001b[49m\u001b[38;5;241;43m.\u001b[39;49m\u001b[43mqtt\u001b[49m\n",
      "File \u001b[0;32m/usr/local/share/pynq-venv/lib/python3.10/site-packages/pynq/overlay.py:363\u001b[0m, in \u001b[0;36mOverlay.__getattr__\u001b[0;34m(self, key)\u001b[0m\n\u001b[1;32m    358\u001b[0m \u001b[38;5;124;03m\"\"\"Overload of __getattr__ to return a driver for an IP or\u001b[39;00m\n\u001b[1;32m    359\u001b[0m \u001b[38;5;124;03mhierarchy. Throws an `RuntimeError` if the overlay is not loaded.\u001b[39;00m\n\u001b[1;32m    360\u001b[0m \n\u001b[1;32m    361\u001b[0m \u001b[38;5;124;03m\"\"\"\u001b[39;00m\n\u001b[1;32m    362\u001b[0m \u001b[38;5;28;01mif\u001b[39;00m \u001b[38;5;28mself\u001b[39m\u001b[38;5;241m.\u001b[39mis_loaded():\n\u001b[0;32m--> 363\u001b[0m     \u001b[38;5;28;01mreturn\u001b[39;00m \u001b[38;5;28;43mgetattr\u001b[39;49m\u001b[43m(\u001b[49m\u001b[38;5;28;43mself\u001b[39;49m\u001b[38;5;241;43m.\u001b[39;49m\u001b[43m_ip_map\u001b[49m\u001b[43m,\u001b[49m\u001b[43m \u001b[49m\u001b[43mkey\u001b[49m\u001b[43m)\u001b[49m\n\u001b[1;32m    364\u001b[0m \u001b[38;5;28;01melse\u001b[39;00m:\n\u001b[1;32m    365\u001b[0m     \u001b[38;5;28;01mraise\u001b[39;00m \u001b[38;5;167;01mRuntimeError\u001b[39;00m(\u001b[38;5;124m\"\u001b[39m\u001b[38;5;124mOverlay not currently loaded\u001b[39m\u001b[38;5;124m\"\u001b[39m)\n",
      "File \u001b[0;32m/usr/local/share/pynq-venv/lib/python3.10/site-packages/pynq/overlay.py:931\u001b[0m, in \u001b[0;36m_IPMap.__getattr__\u001b[0;34m(self, key)\u001b[0m\n\u001b[1;32m    929\u001b[0m     \u001b[38;5;28;01mreturn\u001b[39;00m mem\n\u001b[1;32m    930\u001b[0m \u001b[38;5;28;01melse\u001b[39;00m:\n\u001b[0;32m--> 931\u001b[0m     \u001b[38;5;28;01mraise\u001b[39;00m \u001b[38;5;167;01mAttributeError\u001b[39;00m(\n\u001b[1;32m    932\u001b[0m         \u001b[38;5;124m\"\u001b[39m\u001b[38;5;124mCould not find IP or hierarchy \u001b[39m\u001b[38;5;132;01m{}\u001b[39;00m\u001b[38;5;124m in overlay\u001b[39m\u001b[38;5;124m\"\u001b[39m\u001b[38;5;241m.\u001b[39mformat(key)\n\u001b[1;32m    933\u001b[0m     )\n",
      "\u001b[0;31mAttributeError\u001b[0m: Could not find IP or hierarchy qtt in overlay"
     ]
    }
   ],
   "source": [
    "soc.qtt"
   ]
  },
  {
   "cell_type": "code",
   "execution_count": null,
   "id": "7fb17a39",
   "metadata": {},
   "outputs": [],
   "source": [
    "print(soc.qick_time_tagger_0.tag1_qty)\n"
   ]
  },
  {
   "cell_type": "code",
   "execution_count": null,
   "id": "94830865",
   "metadata": {},
   "outputs": [],
   "source": [
    "soc.qick_time_tagger_0.read_mem('TAG1', length=1000)"
   ]
  },
  {
   "cell_type": "code",
   "execution_count": 37,
   "id": "a2ab81cd",
   "metadata": {},
   "outputs": [
    {
     "data": {
      "text/plain": [
       "array([[10],\n",
       "       [10],\n",
       "       [10],\n",
       "       [10],\n",
       "       [10],\n",
       "       [10],\n",
       "       [10]], dtype=int32)"
      ]
     },
     "execution_count": 37,
     "metadata": {},
     "output_type": "execute_result"
    }
   ],
   "source": [
    "soc.qick_time_tagger_0.read_mem('ARM')"
   ]
  },
  {
   "cell_type": "code",
   "execution_count": 218,
   "id": "c14acaaf",
   "metadata": {
    "scrolled": false
   },
   "outputs": [
    {
     "name": "stdout",
     "output_type": "stream",
     "text": [
      "1816\n",
      "816\n",
      "0\n"
     ]
    }
   ],
   "source": [
    "while True:\n",
    "    to_read = soc.qick_time_tagger_0.smp_qty\n",
    "    print(to_read)\n",
    "    if to_read == 0: break\n",
    "    to_read = min(1000, to_read)\n",
    "    soc.qick_time_tagger_0.read_mem('SMP', length=to_read)"
   ]
  },
  {
   "cell_type": "code",
   "execution_count": null,
   "id": "193b214d",
   "metadata": {},
   "outputs": [],
   "source": [
    "soc.qick_time_tagger_0.buff_rd.shape"
   ]
  },
  {
   "cell_type": "code",
   "execution_count": null,
   "id": "13f3dd73",
   "metadata": {},
   "outputs": [],
   "source": [
    "soc.qick_time_tagger_0._cfg"
   ]
  }
 ],
 "metadata": {
  "kernelspec": {
   "display_name": "Python 3 (ipykernel)",
   "language": "python",
   "name": "python3"
  },
  "language_info": {
   "codemirror_mode": {
    "name": "ipython",
    "version": 3
   },
   "file_extension": ".py",
   "mimetype": "text/x-python",
   "name": "python",
   "nbconvert_exporter": "python",
   "pygments_lexer": "ipython3",
   "version": "3.10.4"
  }
 },
 "nbformat": 4,
 "nbformat_minor": 5
}
