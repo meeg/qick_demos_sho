{
 "cells": [
  {
   "cell_type": "code",
   "execution_count": 1,
   "id": "18cb7e1e",
   "metadata": {},
   "outputs": [],
   "source": [
    "# jupyter setup boilerplate\n",
    "%matplotlib inline\n",
    "import matplotlib.pyplot as plt\n",
    "import numpy as np\n",
    "\n",
    "from qick import *\n",
    "\n",
    "# for now, all the tProc v2 classes need to be individually imported (can't use qick.*)\n",
    "\n",
    "# the main program class\n",
    "from qick.asm_v2 import AveragerProgramV2\n",
    "# for defining sweeps\n",
    "from qick.asm_v2 import QickSpan, QickSweep1D"
   ]
  },
  {
   "cell_type": "code",
   "execution_count": 2,
   "id": "ef6d26d6",
   "metadata": {},
   "outputs": [],
   "source": [
    "# crank up the logging (optional)\n",
    "import logging\n",
    "# logging.basicConfig(level=logging.DEBUG)\n",
    "logging.basicConfig(level=logging.INFO, force=True, format='%(levelname)-8s [%(filename)s:%(lineno)d] %(message)s')\n",
    "logging.getLogger(\"qick_processor\").setLevel(logging.WARNING)"
   ]
  },
  {
   "cell_type": "code",
   "execution_count": 47,
   "id": "45adee96",
   "metadata": {},
   "outputs": [],
   "source": [
    "from qick.drivers.peripherals import QICK_Time_Tagger\n",
    "import time\n",
    "\n",
    "class QickTTSoc(QickSoc):\n",
    "\n",
    "    # Constructor.\n",
    "    def __init__(self, bitfile, **kwargs):\n",
    "        super().__init__(bitfile=bitfile, **kwargs)\n",
    "        self.qtt = self.qick_time_tagger_0\n",
    "        \n",
    "        # add the time-tagger channels to the firmware description\n",
    "        self['extra_description'].append(\"\\n\\tTime tagger channels:\")\n",
    "        for i, (_, adcdesc) in enumerate(self.qtt.adcs):\n",
    "            self['extra_description'].append(\"\\t%d:\\t%s\" % (i, adcdesc) )\n",
    "            \n",
    "        # add the arm pin to the tproc pins list\n",
    "        tproccfg = self['tprocs'][0]\n",
    "        ((block, port),) = self.metadata.trace_sig('qick_time_tagger_0','arm_i')\n",
    "        portnum, porttype = self.tproc.port2ch(port)\n",
    "        tproccfg['output_pins'].append((porttype, portnum, 0, 'arm time tagger'))\n",
    "            \n",
    "    def tt_calibrate_adc(self, tt_ch):\n",
    "        \"\"\"Calibrate the selected time-tagger channel's ADC.\n",
    "        Before calling this, you need to start playing a continuous low-frequency signal into that ADC.\n",
    "        \"\"\"\n",
    "        tile, block = [int(x) for x in self.qtt.adcs[tt_ch][0]]\n",
    "        self.rf.adc_tiles[tile].blocks[block].CalibrationMode=2 # optimized for [DC, 0.4*fs]\n",
    "        self.rf.adc_tiles[tile].blocks[block].CalFreeze['FreezeCalibration']=0\n",
    "        time.sleep(1)\n",
    "        self.rf.adc_tiles[tile].blocks[block].CalFreeze['FreezeCalibration']=1"
   ]
  },
  {
   "cell_type": "code",
   "execution_count": 48,
   "id": "2354a9e7",
   "metadata": {},
   "outputs": [
    {
     "name": "stdout",
     "output_type": "stream",
     "text": [
      "QICK running on ZCU216, software version 0.2.314\n",
      "\n",
      "Firmware configuration (built Wed Feb 12 18:40:41 2025):\n",
      "\n",
      "\tGlobal clocks (MHz): tProcessor 614.400, RF reference 245.760\n",
      "\n",
      "\t2 signal generator channels:\n",
      "\t0:\taxis_signal_gen_v6 - envelope memory 16384 samples (1.667 us)\n",
      "\t\tfs=9830.400 MHz, fabric=614.400 MHz, 32-bit DDS, range=9830.400 MHz\n",
      "\t\tDAC tile 2, blk 0 is 0_230, on JHC3\n",
      "\t1:\taxis_signal_gen_v6 - envelope memory 16384 samples (1.667 us)\n",
      "\t\tfs=9830.400 MHz, fabric=614.400 MHz, 32-bit DDS, range=9830.400 MHz\n",
      "\t\tDAC tile 2, blk 2 is 2_230, on JHC3\n",
      "\n",
      "\t1 readout channels:\n",
      "\t0:\taxis_dyn_readout_v1 - configured by tProc output 2\n",
      "\t\tfs=2457.600 MHz, decimated=307.200 MHz, 32-bit DDS, range=2457.600 MHz\n",
      "\t\taxis_avg_buffer v1.1 (has edge counter)\n",
      "\t\tmaxlen 8192 accumulated, 4096 decimated (13.333 us)\n",
      "\t\ttriggered by tport 10, pin 0, feedback to tProc input 0\n",
      "\t\tADC tile 2, blk 0 is 0_226, on JHC7\n",
      "\n",
      "\t9 digital output pins:\n",
      "\t0:\tPMOD0_0_LS\n",
      "\t1:\tPMOD0_1_LS\n",
      "\t2:\tPMOD0_2_LS\n",
      "\t3:\tPMOD0_3_LS\n",
      "\t4:\tPMOD0_4_LS\n",
      "\t5:\tPMOD0_5_LS\n",
      "\t6:\tPMOD0_6_LS\n",
      "\t7:\tPMOD0_7_LS\n",
      "\t8:\tarm time tagger\n",
      "\n",
      "\ttProc qick_processor (\"v2\") rev 21: program memory 4096 words, data memory 16384 words\n",
      "\t\texternal start pin: None\n",
      "\n",
      "\tDDR4 memory buffer: 1073741824 samples (3.495 sec), 128 samples/transfer\n",
      "\t\twired to readouts [0]\n",
      "\n",
      "\tMR buffer: 8192 samples (3.333 us), wired to readouts [0]\n",
      "\n",
      "\tTime tagger channels:\n",
      "\t0:\tADC tile 2, blk 2 is 2_226, on JHC7\n",
      "\t1:\tADC tile 2, blk 3 is 3_226, on JHC8\n",
      "\t2:\tnot connected\n",
      "\t3:\tnot connected\n"
     ]
    }
   ],
   "source": [
    "soc = QickTTSoc('/data/fw/2025-02-12_216_tprocv2r21_qtt/qick_216.bit')\n",
    "soccfg = soc\n",
    "print(soccfg)"
   ]
  },
  {
   "cell_type": "code",
   "execution_count": 5,
   "id": "44bd319b",
   "metadata": {},
   "outputs": [],
   "source": [
    "# ID of the generator that's connected to the time tagger\n",
    "GEN_CH_TT = 1\n",
    "# ID of the generator that's connected to regular readout\n",
    "GEN_CH_REG = 0\n",
    "# ID of the regular readout that's connected to a generator\n",
    "RO_CH = 0\n",
    "# ID of the time-tagger channel that's connected to a generator\n",
    "TT_CH = 0"
   ]
  },
  {
   "cell_type": "code",
   "execution_count": 36,
   "id": "5043d6c9",
   "metadata": {},
   "outputs": [
    {
     "name": "stdout",
     "output_type": "stream",
     "text": [
      "---------------------------------------------\n",
      " QICK Time Tagger INFO \n",
      "---------------------------------------------\n",
      "Connections:\n",
      " ADC0 : ADC tile 2, blk 2 is 2_226, on JHC7\n",
      " ADC1 : ADC tile 2, blk 3 is 3_226, on JHC8\n",
      " ADC2 : not connected\n",
      " ADC3 : not connected\n",
      "Configuration:\n",
      " adc_qty       : 2\n",
      " tag_mem_size  : 65536\n",
      " cmp_slope     : 0\n",
      " cmp_inter     : 4\n",
      " arm_store     : 1\n",
      " arm_mem_size  : 1024\n",
      " smp_store     : 1\n",
      " smp_mem_size  : 262144\n",
      "----------\n",
      "\n",
      "--- AXI Time Tagger CONFIG\n",
      "--- AXI Time Tagger CONFIG\n",
      " FILTER           : 0\n",
      " SLOPE            : 0\n",
      " INTERPOLATION    : 0\n",
      " WRITE SAMPLE QTY : 0\n",
      " INVERT INPUT     : 0\n",
      "---------------------------------------------\n",
      "--- AXI Registers\n",
      "  qtt_ctrl           0 - 0000_0000_0000_0000_0000_0000_0000_0000\n",
      "   qtt_cfg           0 - 0000_0000_0000_0000_0000_0000_0000_0000\n",
      "   dma_cfg        4101 - 0000_0000_0000_0000_0001_0000_0000_0101\n",
      "   axi_dt1        1000 - 0000_0000_0000_0000_0000_0011_1110_1000\n",
      "   proc_dt           0 - 0000_0000_0000_0000_0000_0000_0000_0000\n",
      "  proc_qty           5 - 0000_0000_0000_0000_0000_0000_0000_0101\n",
      "  tag0_qty           0 - 0000_0000_0000_0000_0000_0000_0000_0000\n",
      "  tag1_qty           0 - 0000_0000_0000_0000_0000_0000_0000_0000\n",
      "  tag2_qty           0 - 0000_0000_0000_0000_0000_0000_0000_0000\n",
      "  tag3_qty           0 - 0000_0000_0000_0000_0000_0000_0000_0000\n",
      "   smp_qty           0 - 0000_0000_0000_0000_0000_0000_0000_0000\n",
      "   arm_qty           1 - 0000_0000_0000_0000_0000_0000_0000_0001\n",
      "   thr_inh     6554600 - 0000_0000_0110_0100_0000_0011_1110_1000\n",
      "qtt_status         426 - 0000_0000_0000_0000_0000_0001_1010_1010\n",
      " qtt_debug   373358592 - 0001_0110_0100_0001_0000_0000_0000_0000\n",
      "---------------------------------------------\n",
      "--- AXI Time Tagger DEBUG\n",
      " ST_TRIG  : 170\n",
      " ST_DMA   : 1\n",
      " -- FIFO --\n",
      " DMA_FULL   : 0\n",
      " DMA_EMPTY  : 0\n",
      " PROC_FULL  : 0\n",
      " PROC_EMPTY : 0\n",
      " -- DMA --\n",
      " DMA_ST     : 0 - ST_IDLE\n",
      " DMA_REQ    : 0\n",
      " DMA_ACK    : 0\n",
      " POP_REQ    : 0\n",
      " POP_ACK    : 0\n",
      " FIFO_RD  : 0\n",
      " DT_TX    : 0\n",
      " DT_W     : 0\n",
      " DT_VLD   : 0\n",
      " DT_BF    : 0\n",
      " LP_CNT_EN: 0\n",
      " LEN_CNT    : 1\n",
      " FIFO_RD_CNT: 9\n",
      " VLD_CNT    : 5\n",
      " THRESHOLD  : 1000\n",
      " INHIBIT    : 100\n",
      " CMD_CNT    : 0\n"
     ]
    }
   ],
   "source": [
    "soc.qtt.info()\n",
    "soc.qtt.get_config(print_cfg = True)\n",
    "soc.qtt.print_axi_regs()\n",
    "soc.qtt.print_debug()"
   ]
  },
  {
   "cell_type": "code",
   "execution_count": 7,
   "id": "6b7c680e",
   "metadata": {},
   "outputs": [
    {
     "name": "stdout",
     "output_type": "stream",
     "text": [
      "TAG0 0\n",
      "TAG1 0\n",
      "TAG2 0\n",
      "TAG3 0\n",
      "ARM 0\n",
      "SMP 0\n"
     ]
    }
   ],
   "source": [
    "soc.qtt.clear_mems(verbose=True)"
   ]
  },
  {
   "cell_type": "code",
   "execution_count": 134,
   "id": "23b1dbae",
   "metadata": {},
   "outputs": [],
   "source": [
    "class CalProgram(AveragerProgramV2):\n",
    "    def _initialize(self, cfg):\n",
    "        gen_ch = cfg['gen_ch']\n",
    "        self.declare_gen(ch=gen_ch, nqz=1)\n",
    "        self.add_pulse(ch=gen_ch, name=\"myconst\",\n",
    "                       style=\"const\", \n",
    "                       length=1.0, \n",
    "                       freq=cfg['freq'], \n",
    "                       phase=0,\n",
    "                       gain=1.0,\n",
    "                       mode='periodic'\n",
    "                      )\n",
    "\n",
    "    def _body(self, cfg):\n",
    "        self.pulse(ch=cfg['gen_ch'], name=\"myconst\", t=0)\n",
    "        \n",
    "config = {'gen_ch': GEN_CH_TT,\n",
    "          'freq': 100,\n",
    "         }\n",
    "\n",
    "calprog = CalProgram(soccfg, reps=1, final_delay=0.5, cfg=config)\n",
    "calprog.run(soc)\n",
    "soc.tt_calibrate_adc(TT_CH)\n",
    "soc.reset_gens()"
   ]
  },
  {
   "cell_type": "code",
   "execution_count": 58,
   "id": "da18bef6",
   "metadata": {},
   "outputs": [],
   "source": [
    "class PeripheralArmingProgram(AveragerProgramV2):\n",
    "    def _initialize(self, cfg):\n",
    "        gen_ch = cfg['gen_ch']\n",
    "        \n",
    "        self.declare_gen(ch=gen_ch, nqz=1)\n",
    "\n",
    "        ramp_len = 0.2\n",
    "        self.add_gauss(ch=gen_ch, name=\"ramp\", sigma=ramp_len/10, length=ramp_len, even_length=True)\n",
    "        \n",
    "        self.add_pulse(ch=gen_ch, name=\"myflattop\",\n",
    "                       style=\"flat_top\", \n",
    "                       envelope=\"ramp\", \n",
    "                       freq=cfg['freq'], \n",
    "                       length=0.1,\n",
    "                       phase=0,\n",
    "                       gain=1.0, \n",
    "                      )\n",
    "\n",
    "        self.add_pulse(ch=gen_ch, name=\"mygaus\",\n",
    "                       style=\"arb\", \n",
    "                       envelope=\"ramp\", \n",
    "                       freq=cfg['freq'], \n",
    "                       phase=0,\n",
    "                       gain=1.0, \n",
    "                      )\n",
    "\n",
    "        self.add_pulse(ch=gen_ch, name=\"myconst\",\n",
    "                       style=\"const\", \n",
    "                       length=0.2, \n",
    "                       freq=cfg['freq'], \n",
    "                       phase=0,\n",
    "                       gain=1.0,\n",
    "                      )\n",
    "        self.asm_inst({'CMD': 'PA', 'C_OP': '1', 'R1': 'r1'}) # arm\n",
    "\n",
    "    def _body(self, cfg):\n",
    "#         self.pulse(ch=cfg['gen_ch'], name=\"myflattop\", t=0)\n",
    "        self.pulse(ch=cfg['gen_ch'], name=\"mygaus\", t=0)\n",
    "#         self.pulse(ch=cfg['gen_ch'], name=\"myconst\", t=0)\n",
    "\n",
    "    def _cleanup(self, cfg):\n",
    "        self.wait(10)\n",
    "        self.asm_inst({'CMD': 'PA', 'C_OP': '0', 'R1': 'r1'}) # disarm\n",
    "        \n",
    "config = {'gen_ch': GEN_CH_TT,\n",
    "          'freq': 0,\n",
    "         }\n",
    "\n",
    "prog = PeripheralArmingProgram(soccfg, reps=1, final_delay=0.5, cfg=config)"
   ]
  },
  {
   "cell_type": "code",
   "execution_count": 151,
   "id": "591b0b53",
   "metadata": {},
   "outputs": [],
   "source": [
    "class TriggerArmingProgram(AveragerProgramV2):\n",
    "    def _initialize(self, cfg):\n",
    "        gen_ch = cfg['gen_ch']\n",
    "        \n",
    "        self.declare_gen(ch=gen_ch, nqz=1)\n",
    "\n",
    "        ramp_len = 0.1\n",
    "        self.add_gauss(ch=gen_ch, name=\"ramp\", sigma=ramp_len/10, length=ramp_len, even_length=True)\n",
    "        \n",
    "        self.add_pulse(ch=gen_ch, name=\"myflattop\",\n",
    "                       style=\"flat_top\", \n",
    "                       envelope=\"ramp\", \n",
    "                       freq=cfg['freq'], \n",
    "                       length=0.02,\n",
    "                       phase=0,\n",
    "                       gain=1.0, \n",
    "                      )\n",
    "\n",
    "        self.add_pulse(ch=gen_ch, name=\"mygaus\",\n",
    "                       style=\"arb\", \n",
    "                       envelope=\"ramp\", \n",
    "                       freq=cfg['freq'], \n",
    "                       phase=0,\n",
    "                       gain=1.0, \n",
    "                      )\n",
    "\n",
    "        self.add_pulse(ch=gen_ch, name=\"myconst\",\n",
    "                       style=\"const\", \n",
    "                       length=0.05,\n",
    "                       freq=cfg['freq'], \n",
    "                       phase=0,\n",
    "                       gain=1.0,\n",
    "                      )\n",
    "        self.trigger(pins=[8], t=0, width=10)\n",
    "\n",
    "    def _body(self, cfg):\n",
    "        self.pulse(ch=cfg['gen_ch'], name=\"myflattop\", t=0)\n",
    "        self.pulse(ch=cfg['gen_ch'], name=\"mygaus\", t=0.5)\n",
    "        self.pulse(ch=cfg['gen_ch'], name=\"myconst\", t=1.0)\n",
    "\n",
    "config = {'gen_ch': GEN_CH_TT,\n",
    "          'freq': 0,\n",
    "         }\n",
    "\n",
    "prog = TriggerArmingProgram(soccfg, reps=1, final_delay=0.5, cfg=config)"
   ]
  },
  {
   "cell_type": "code",
   "execution_count": 152,
   "id": "0d941f39",
   "metadata": {},
   "outputs": [
    {
     "data": {
      "application/vnd.jupyter.widget-view+json": {
       "model_id": "53104e370ec34f65bf7eea0491748fac",
       "version_major": 2,
       "version_minor": 0
      },
      "text/plain": [
       "  0%|          | 0/1 [00:00<?, ?it/s]"
      ]
     },
     "metadata": {},
     "output_type": "display_data"
    },
    {
     "name": "stdout",
     "output_type": "stream",
     "text": [
      "3\n",
      "[2627 3860 5016]\n"
     ]
    }
   ],
   "source": [
    "soc.qtt.set_config(cfg_filter=0, cfg_slope=0, cfg_inter=0, smp_wr_qty=32, cfg_invert=0)\n",
    "soc.qtt.set_dead_time(100)\n",
    "soc.qtt.set_threshold(500)\n",
    "\n",
    "soc.qtt.clear_mems()\n",
    "\n",
    "# soc.qtt.arm()\n",
    "prog.run_rounds(soc, rounds=1)\n",
    "# soc.qtt.disarm()\n",
    "print(soc.qtt.tag0_qty)\n",
    "print(soc.qtt.read_mem('TAG0'))"
   ]
  },
  {
   "cell_type": "code",
   "execution_count": 153,
   "id": "98f75884",
   "metadata": {},
   "outputs": [
    {
     "data": {
      "image/png": "[encoded data removed]",
      "text/plain": [
       "<Figure size 432x288 with 1 Axes>"
      ]
     },
     "metadata": {
      "needs_background": "light"
     },
     "output_type": "display_data"
    }
   ],
   "source": [
    "if soc.qtt.smp_qty>0:\n",
    "    allsamps = soc.qtt.read_mem('SMP')\n",
    "    for i, samps in enumerate(allsamps.reshape((-1, 256))):\n",
    "        plt.plot(samps)\n"
   ]
  },
  {
   "cell_type": "code",
   "execution_count": 14,
   "id": "1d634b7e",
   "metadata": {
    "scrolled": false
   },
   "outputs": [],
   "source": [
    "# while True:\n",
    "#     to_read = soc.qick_time_tagger_0.tag0_qty\n",
    "#     if to_read == 0: break\n",
    "#     to_read = min(1000, to_read)\n",
    "#     print(soc.qick_time_tagger_0.read_mem('TAG0', length=to_read))"
   ]
  },
  {
   "cell_type": "code",
   "execution_count": 15,
   "id": "26c8dfc8",
   "metadata": {},
   "outputs": [],
   "source": [
    "# soc.qtt"
   ]
  },
  {
   "cell_type": "code",
   "execution_count": 16,
   "id": "7fb17a39",
   "metadata": {},
   "outputs": [],
   "source": [
    "# print(soc.qick_time_tagger_0.tag1_qty)\n"
   ]
  },
  {
   "cell_type": "code",
   "execution_count": 18,
   "id": "a2ab81cd",
   "metadata": {},
   "outputs": [],
   "source": [
    "# soc.qick_time_tagger_0.read_mem('ARM')"
   ]
  },
  {
   "cell_type": "code",
   "execution_count": 19,
   "id": "c14acaaf",
   "metadata": {
    "scrolled": false
   },
   "outputs": [],
   "source": [
    "# while True:\n",
    "#     to_read = soc.qick_time_tagger_0.smp_qty\n",
    "#     print(to_read)\n",
    "#     if to_read == 0: break\n",
    "#     to_read = min(1000, to_read)\n",
    "#     soc.qick_time_tagger_0.read_mem('SMP', length=to_read)"
   ]
  },
  {
   "cell_type": "code",
   "execution_count": 20,
   "id": "193b214d",
   "metadata": {},
   "outputs": [],
   "source": [
    "# soc.qick_time_tagger_0.buff_rd.shape"
   ]
  },
  {
   "cell_type": "code",
   "execution_count": 21,
   "id": "13f3dd73",
   "metadata": {},
   "outputs": [],
   "source": [
    "# soc.qick_time_tagger_0._cfg"
   ]
  }
 ],
 "metadata": {
  "kernelspec": {
   "display_name": "Python 3 (ipykernel)",
   "language": "python",
   "name": "python3"
  },
  "language_info": {
   "codemirror_mode": {
    "name": "ipython",
    "version": 3
   },
   "file_extension": ".py",
   "mimetype": "text/x-python",
   "name": "python",
   "nbconvert_exporter": "python",
   "pygments_lexer": "ipython3",
   "version": "3.10.4"
  }
 },
 "nbformat": 4,
 "nbformat_minor": 5
}
