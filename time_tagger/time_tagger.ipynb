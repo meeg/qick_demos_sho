{
 "cells": [
  {
   "cell_type": "code",
   "execution_count": 1,
   "id": "18cb7e1e",
   "metadata": {},
   "outputs": [],
   "source": [
    "# jupyter setup boilerplate\n",
    "%matplotlib inline\n",
    "import matplotlib.pyplot as plt\n",
    "import numpy as np\n",
    "\n",
    "from qick import *\n",
    "\n",
    "# for now, all the tProc v2 classes need to be individually imported (can't use qick.*)\n",
    "\n",
    "# the main program class\n",
    "from qick.asm_v2 import AveragerProgramV2\n",
    "# for defining sweeps\n",
    "from qick.asm_v2 import QickSpan, QickSweep1D"
   ]
  },
  {
   "cell_type": "code",
   "execution_count": 2,
   "id": "ef6d26d6",
   "metadata": {},
   "outputs": [],
   "source": [
    "# crank up the logging (optional)\n",
    "import logging\n",
    "# logging.basicConfig(level=logging.DEBUG)\n",
    "logging.basicConfig(level=logging.INFO, force=True, format='%(levelname)-8s [%(filename)s:%(lineno)d] %(message)s')\n",
    "logging.getLogger(\"qick_processor\").setLevel(logging.WARNING)"
   ]
  },
  {
   "cell_type": "markdown",
   "id": "bae209e5",
   "metadata": {},
   "source": [
    "We extend the QickSoc class with some special methods for ADC calibration."
   ]
  },
  {
   "cell_type": "code",
   "execution_count": 3,
   "id": "45adee96",
   "metadata": {},
   "outputs": [],
   "source": [
    "from qick.drivers.peripherals import QICK_Time_Tagger\n",
    "import time\n",
    "\n",
    "class QickTTSoc(QickSoc):\n",
    "\n",
    "    # Constructor.\n",
    "    def __init__(self, bitfile, **kwargs):\n",
    "        super().__init__(bitfile=bitfile, **kwargs)\n",
    "        self.qtt = self.qick_time_tagger_0\n",
    "        \n",
    "        # add the time-tagger channels to the firmware description\n",
    "        self['extra_description'].append(\"\\n\\tTime tagger channels:\")\n",
    "        for i, (_, adcdesc) in enumerate(self.qtt['adcs']):\n",
    "            self['extra_description'].append(\"\\t%d:\\t%s\" % (i, adcdesc) )\n",
    "            \n",
    "        # add the arm pin to the tproc pins list\n",
    "        tproccfg = self['tprocs'][0]\n",
    "        ((block, port),) = self.metadata.trace_sig('qick_time_tagger_0','arm_i')\n",
    "        portnum, porttype = self.tproc.port2ch(port)\n",
    "        tproccfg['output_pins'].append((porttype, portnum, 0, 'arm time tagger'))\n",
    "            \n",
    "    def tt_calibrate_adc(self, tt_ch):\n",
    "        \"\"\"Calibrate the gain and time skew of the selected time-tagger channel's ADC.\n",
    "        Before calling this, you need to start playing a continuous low-frequency signal into that ADC.\n",
    "        If you don't calibrate, you may see gain shifts between the sub-ADCs, which will show up as period-4 or period-8 wiggles in the sample data.\n",
    "        \"\"\"\n",
    "        adcname = self.qtt['adcs'][tt_ch][0]\n",
    "#         tile, block = [int(x) for x in adcname]\n",
    "#         self.rf.adc_tiles[tile].blocks[block].CalibrationMode=2 # optimized for [DC, 0.4*fs]\n",
    "        self.rf.unfreeze_adc_cal(adcname)\n",
    "        time.sleep(1)\n",
    "        self.rf.freeze_adc_cal(adcname)\n",
    "\n",
    "    def tt_get_adc_cal(self, tt_ch):\n",
    "        \"\"\"Get the selected time-tagger channel's ADC calibration.\n",
    "        You can calibrate, save the result, and load it later with tt_set_adc_cal_gain()/_dc().\n",
    "        \"\"\"\n",
    "        adcname = self.qtt['adcs'][tt_ch][0]\n",
    "        return self.rf.get_adc_cal(adcname)\n",
    "\n",
    "    def tt_set_adc_cal_gain(self, tt_ch, cal):\n",
    "        \"\"\"Set the gain/skew portion of the selected time-tagger channel's ADC calibration.\n",
    "        The DC offset won't be touched.\n",
    "        \"\"\"\n",
    "        adcname = self.qtt['adcs'][tt_ch][0]\n",
    "        soc.rf.set_adc_cal(adcname, cal, ['GCB', 'TSCB'])\n",
    "\n",
    "    def tt_set_adc_cal_offset(self, tt_ch, cal):\n",
    "        \"\"\"Set the DC offset portion of the selected time-tagger channel's ADC calibration.\n",
    "        The gain/skew won't be touched.\n",
    "        \"\"\"\n",
    "        adcname = self.qtt['adcs'][tt_ch][0]\n",
    "        soc.rf.set_adc_cal(adcname, cal, ['OCB2'])\n",
    "\n",
    "    def tt_restart_adc_tile(self, tt_ch):\n",
    "        \"\"\"Restart the ADC tile used by the selected time-tagger channel.\n",
    "        This will zero the DC offset (as well as resetting the rest of the ADC calibration).\n",
    "        \"\"\"\n",
    "        adcname = self.qtt['adcs'][tt_ch][0]\n",
    "        soc.rf.restart_adc_tile(int(adcname[0]))\n"
   ]
  },
  {
   "cell_type": "markdown",
   "id": "77627dba",
   "metadata": {},
   "source": [
    "The current time-tagger demo firmware is for ZCU216:\n",
    "\n",
    "https://s3df.slac.stanford.edu/people/meeg/qick/tprocv2/2025-02-25_216_tprocv2r21_qtt/"
   ]
  },
  {
   "cell_type": "code",
   "execution_count": 4,
   "id": "2354a9e7",
   "metadata": {},
   "outputs": [
    {
     "data": {
      "application/javascript": [
       "\n",
       "try {\n",
       "require(['notebook/js/codecell'], function(codecell) {\n",
       "  codecell.CodeCell.options_default.highlight_modes[\n",
       "      'magic_text/x-csrc'] = {'reg':[/^%%microblaze/]};\n",
       "  Jupyter.notebook.events.one('kernel_ready.Kernel', function(){\n",
       "      Jupyter.notebook.get_cells().map(function(cell){\n",
       "          if (cell.cell_type == 'code'){ cell.auto_highlight(); } }) ;\n",
       "  });\n",
       "});\n",
       "} catch (e) {};\n"
      ]
     },
     "metadata": {},
     "output_type": "display_data"
    },
    {
     "data": {
      "application/javascript": [
       "\n",
       "try {\n",
       "require(['notebook/js/codecell'], function(codecell) {\n",
       "  codecell.CodeCell.options_default.highlight_modes[\n",
       "      'magic_text/x-csrc'] = {'reg':[/^%%pybind11/]};\n",
       "  Jupyter.notebook.events.one('kernel_ready.Kernel', function(){\n",
       "      Jupyter.notebook.get_cells().map(function(cell){\n",
       "          if (cell.cell_type == 'code'){ cell.auto_highlight(); } }) ;\n",
       "  });\n",
       "});\n",
       "} catch (e) {};\n"
      ]
     },
     "metadata": {},
     "output_type": "display_data"
    },
    {
     "name": "stdout",
     "output_type": "stream",
     "text": [
      "QICK running on ZCU216, software version 0.2.314\n",
      "\n",
      "Firmware configuration (built Tue Feb 25 20:48:05 2025):\n",
      "\n",
      "\tGlobal clocks (MHz): tProcessor 307.200, RF reference 245.760\n",
      "\n",
      "\t4 signal generator channels:\n",
      "\t0:\taxis_signal_gen_v6 - envelope memory 65536 samples (6.667 us)\n",
      "\t\tfs=9830.400 MHz, fabric=614.400 MHz, 32-bit DDS, range=9830.400 MHz\n",
      "\t\tDAC tile 2, blk 0 is 0_230, on JHC3\n",
      "\t1:\taxis_signal_gen_v6 - envelope memory 65536 samples (6.667 us)\n",
      "\t\tfs=9830.400 MHz, fabric=614.400 MHz, 32-bit DDS, range=9830.400 MHz\n",
      "\t\tDAC tile 2, blk 2 is 2_230, on JHC3\n",
      "\t2:\taxis_signal_gen_v6 - envelope memory 65536 samples (13.333 us)\n",
      "\t\tfs=4915.200 MHz, fabric=307.200 MHz, 32-bit DDS, range=4915.200 MHz\n",
      "\t\tDAC tile 3, blk 0 is 0_231, on JHC3\n",
      "\t3:\taxis_signal_gen_v6 - envelope memory 65536 samples (13.333 us)\n",
      "\t\tfs=4915.200 MHz, fabric=307.200 MHz, 32-bit DDS, range=4915.200 MHz\n",
      "\t\tDAC tile 3, blk 2 is 2_231, on JHC3\n",
      "\n",
      "\t1 readout channels:\n",
      "\t0:\taxis_dyn_readout_v1 - configured by tProc output 4\n",
      "\t\tfs=2457.600 MHz, decimated=307.200 MHz, 32-bit DDS, range=2457.600 MHz\n",
      "\t\taxis_avg_buffer v1.1 (has edge counter)\n",
      "\t\tmaxlen 16384 accumulated, 4096 decimated (13.333 us)\n",
      "\t\ttriggered by tport 10, pin 0, feedback to tProc input 0\n",
      "\t\tADC tile 2, blk 0 is 0_226, on JHC7\n",
      "\n",
      "\t9 digital output pins:\n",
      "\t0:\tPMOD0_0_LS\n",
      "\t1:\tPMOD0_1_LS\n",
      "\t2:\tPMOD0_2_LS\n",
      "\t3:\tPMOD0_3_LS\n",
      "\t4:\tPMOD0_4_LS\n",
      "\t5:\tPMOD0_5_LS\n",
      "\t6:\tPMOD0_6_LS\n",
      "\t7:\tPMOD0_7_LS\n",
      "\t8:\tarm time tagger\n",
      "\n",
      "\ttProc qick_processor (\"v2\") rev 21: program memory 4096 words, data memory 16384 words\n",
      "\t\texternal start pin: None\n",
      "\n",
      "\tDDR4 memory buffer: 1073741824 samples (3.495 sec), 128 samples/transfer\n",
      "\t\twired to readouts [0]\n",
      "\n",
      "\tMR buffer: 8192 samples (3.333 us), wired to readouts [0]\n",
      "\n",
      "\tTime tagger channels:\n",
      "\t0:\tADC tile 2, blk 2 is 2_226, on JHC7\n",
      "\t1:\tADC tile 2, blk 3 is 3_226, on JHC8\n",
      "\t2:\tnot connected\n",
      "\t3:\tnot connected\n"
     ]
    }
   ],
   "source": [
    "# soc = QickTTSoc('/data/fw/2025-02-13_216_tprocv2r21_qtt/qick_216.bit')\n",
    "# soc = QickTTSoc('/data/fw/2025-02-23_216_tprocv2r21_qtt/qick_216.bit')\n",
    "soc = QickTTSoc('/data/fw/2025-02-25_216_tprocv2r21_qtt/qick_216.bit')\n",
    "\n",
    "soccfg = soc\n",
    "print(soccfg)"
   ]
  },
  {
   "cell_type": "markdown",
   "id": "9155d5ee",
   "metadata": {},
   "source": [
    "### This firmware\n",
    "In this notebook we'll play identical pulses on two generators.\n",
    "The first (on 0_230) will be connected to a regular QICK dynamic readout (on 0_226).\n",
    "The second (on 2_230) will be connected to a time-tagger input (on 2_226).\n",
    "The low-frequency baluns will work fine.\n",
    "In a real measurement you might prefer to use DC-coupled differential amps (LMH5401 eval board, or similar) instead of baluns.\n",
    "\n",
    "For jitter-free pulse generation, the tProc timing clock must evenly divide the generator fabric clock; for jitter-free time-tagger arming, the tProc timing clock must evenly divide the ADC fabric clock. In this firmware the tProc timing clock is 307.2 MHz, the generator fabric clocks are 614.4 and 307.2 MHz, and the ADC fabric clock is 307.2 MHz. So, all good."
   ]
  },
  {
   "cell_type": "code",
   "execution_count": 5,
   "id": "44bd319b",
   "metadata": {},
   "outputs": [],
   "source": [
    "# ID of the generator that's connected to regular readout\n",
    "GEN_CH_REG = 0\n",
    "# ID of the generator that's connected to the time tagger\n",
    "GEN_CH_TT = 1\n",
    "# ID of the regular readout that's connected to a generator\n",
    "RO_CH = 0\n",
    "# ID of the time-tagger channel that's connected to a generator\n",
    "TT_CH = 0\n",
    "\n",
    "# trigger time for the regular readout, to align the readout window with the pulses\n",
    "TRIG_TIME_RO = 0.4\n",
    "# trigger time for the time-tagger, to align the arm window with the pulses\n",
    "TRIG_TIME_TT = 0.1"
   ]
  },
  {
   "cell_type": "markdown",
   "id": "9b00fa77",
   "metadata": {},
   "source": [
    "### ADC calibration\n",
    "The RF-ADCs work by running 4 or 8 sub-ADCs (depending on the RFSoC type) in parallel.\n",
    "When looking at DC pulses, differences in the sub-ADC calibration will show up as period-4 or -8 ripples.\n",
    "You can calibrate the ADC by playing a low-frequency RF tone (power is not very critical, it needs to be between 0 and -40 dB full-scale) and using tt_calibrate_adc()."
   ]
  },
  {
   "cell_type": "code",
   "execution_count": 6,
   "id": "23b1dbae",
   "metadata": {},
   "outputs": [],
   "source": [
    "class CalProgram(AveragerProgramV2):\n",
    "    def _initialize(self, cfg):\n",
    "        gen_ch = cfg['gen_ch']\n",
    "        self.declare_gen(ch=gen_ch, nqz=1)\n",
    "        self.add_pulse(ch=gen_ch, name=\"myconst\",\n",
    "                       style=\"const\", \n",
    "                       length=1.0, \n",
    "                       freq=cfg['freq'], \n",
    "                       phase=0,\n",
    "                       gain=1.0,\n",
    "                       mode='periodic', # play repeatedly, forever\n",
    "                      )\n",
    "\n",
    "    def _body(self, cfg):\n",
    "        self.pulse(ch=cfg['gen_ch'], name=\"myconst\", t=0)\n",
    "        \n",
    "config = {'gen_ch': GEN_CH_TT,\n",
    "          'freq': 100,\n",
    "         }\n",
    "calprog = CalProgram(soccfg, reps=1, final_delay=0.5, cfg=config)\n",
    "\n",
    "calprog.run(soc) # run the program, which will play a continuous calibration tone.\n",
    "soc.tt_calibrate_adc(TT_CH) # calibrate the ADC for 1 second and freeze the ADC calibration\n",
    "soc.reset_gens() # stop playing the calibration tone"
   ]
  },
  {
   "cell_type": "markdown",
   "id": "3dd83bee",
   "metadata": {},
   "source": [
    "### Configuring the time-tagger\n",
    "Here I'm just using defaults.\n",
    "You can read about the config options in the time-tagger manual.\n",
    "\n",
    "minor observations:\n",
    "* at least with default settings, if the pulse width exceeds the dead time the time-tagger will retrigger in the middle of the pulse\n",
    "* if wr_smp is bigger than the dead time, the number of captures in the SMP memory will be smaller than the number of tags"
   ]
  },
  {
   "cell_type": "code",
   "execution_count": 7,
   "id": "0d941f39",
   "metadata": {},
   "outputs": [],
   "source": [
    "NSAMP = 32 # units of ADC fabric clocks\n",
    "soc.qtt.set_config(filt=0, slope=0, interp=0, wr_smp=NSAMP, invert=0)\n",
    "soc.qtt.set_dead_time(20) # units of ADC fabric clocks\n",
    "soc.qtt.set_threshold(2000) # units of ADU, as measured by time-tagger"
   ]
  },
  {
   "cell_type": "markdown",
   "id": "37260c32",
   "metadata": {},
   "source": [
    "### Reading the time-tagger\n",
    "As the time-tagger captures tags, it fills some internal memories:\n",
    "* TAG0-3: tags from each channel, in units of ADC sampling ticks (times interpolation, if used)\n",
    "* SMP: `8*NSAMP` raw ADC samples for each tag, channel 0 only\n",
    "* ARM: number of tags per arming window, channel 0 only\n",
    "\n",
    "Each memory has an associated counter that tells you how many values are currently stored.\n",
    "\n",
    "Note that the memories are FIFO queues and values are popped (deleted) as you read them.\n",
    "The `plot_tag()` code below reads all of the memories, so it clears them.\n",
    "There's a `flush_mems()` method that just clears the memories; maybe it's good hygiene to always run this before a measurement.\n",
    "\n",
    "Note that the SMP memory captures samples in groups of 8, where the tag is somewhere in the first group.\n",
    "In other words, the exact position of the tag in the capture window will vary."
   ]
  },
  {
   "cell_type": "code",
   "execution_count": 8,
   "id": "98f75884",
   "metadata": {},
   "outputs": [],
   "source": [
    "def plot_tags(nsamp):\n",
    "    print(\"total tags:\", soc.qtt.tag0_qty)\n",
    "    print(\"tags per arming window:\", soc.qtt.read_mem('ARM'))\n",
    "    print(\"tags:\", soc.qtt.read_mem('TAG0'))\n",
    "    print(\"total samples:\", soc.qtt.smp_qty)\n",
    "\n",
    "    t = np.arange(nsamp*8)/(8*soc.qtt['f_fabric'])\n",
    "    if soc.qtt.smp_qty>0:\n",
    "        allsamps = soc.qtt.read_mem('SMP')\n",
    "        for i, samps in enumerate(allsamps.reshape((-1, nsamp*8))):\n",
    "            plt.plot(t, samps, label='tag %d'%(i))\n",
    "        plt.legend()\n",
    "        plt.ylabel(\"amplitude [ADU]\")\n",
    "        plt.xlabel(\"time [us]\");"
   ]
  },
  {
   "cell_type": "markdown",
   "id": "ff8d9e23",
   "metadata": {},
   "source": [
    "### Arming the time-tagger\n",
    "You activate the time-tagger by \"arming\" it for some window of time.\n",
    "It captures pulses during that time window and records tags relative to the arming time.\n",
    "\n",
    "There are three ways to arm the time-tagger:\n",
    "* with arm/disarm commands sent with Python methods before/after running your program (very slow, arming time is completely uncontrolled relative to start-of-program) - this is easy and may be appropriate if you just want to run the tagger for a while and look at what's coming in\n",
    "* with arm/disarm commands sent from the tProc using its \"peripheral\" interface (clunky, arming time is not well controlled) - not very useful, included for completeness\n",
    "* with a trigger pulse sent from the tProc - this is the preferred way to arm the tagger synchronously with the rest of a program"
   ]
  },
  {
   "cell_type": "code",
   "execution_count": 9,
   "id": "9e5c5656",
   "metadata": {},
   "outputs": [],
   "source": [
    "class ArmingProgram(AveragerProgramV2):\n",
    "    def _initialize(self, cfg):\n",
    "        ro_ch = cfg['ro_ch']\n",
    "        gen_ch0 = cfg['gen_chs'][0]\n",
    "        \n",
    "        ramp_len = 0.1\n",
    "\n",
    "        for gen_ch in cfg['gen_chs']:\n",
    "            self.declare_gen(ch=gen_ch, nqz=1)\n",
    "            self.add_gauss(ch=gen_ch, name=\"ramp\", sigma=ramp_len/10, length=ramp_len, even_length=True)\n",
    "        self.declare_readout(ch=ro_ch, length=cfg['ro_len'])\n",
    "        \n",
    "        self.add_pulse(ch=cfg['gen_chs'], name=\"myflattop\",\n",
    "                       style=\"flat_top\", \n",
    "                       envelope=\"ramp\", \n",
    "                       freq=0, \n",
    "                       length=0.02,\n",
    "                       phase=0,\n",
    "                       gain=1.0, \n",
    "                      )\n",
    "        self.add_pulse(ch=cfg['gen_chs'], name=\"mygaus\",\n",
    "                       style=\"arb\", \n",
    "                       envelope=\"ramp\", \n",
    "                       freq=0, \n",
    "                       phase=0,\n",
    "                       gain=1.0, \n",
    "                      )\n",
    "        self.add_pulse(ch=cfg['gen_chs'], name=\"myconst\",\n",
    "                       style=\"const\", \n",
    "                       length=0.05,\n",
    "                       freq=0, \n",
    "                       phase=0,\n",
    "                       gain=1.0,\n",
    "                      )\n",
    "        self.add_readoutconfig(ch=ro_ch, name=\"myro\", freq=0)\n",
    "        \n",
    "        if cfg['arming']=='peripheral':\n",
    "            # unlike pulses/triggers that can be pre-scheduled, peripheral commands don't go through a timed queue\n",
    "            # so the time-tagger gets the command whenever this executes\n",
    "            # to control when this happens, you need to use \"wait\"\n",
    "            self.wait(0.5)\n",
    "            self.asm_inst({'CMD': 'PA', 'C_OP': '1', 'R1': 's0'}) # arm\n",
    "            # the R1 argument is not used (s0 is the zero register and is used here as a placeholder)\n",
    "            # C_OP=0: disarm\n",
    "            # C_OP=1: arm\n",
    "            # C_OP=2: pop\n",
    "            # C_OP=3: peek (just update the queue size)\n",
    "            # C_OP=4: set threshold to R1[15:0]\n",
    "            # C_OP=5: set deadtime to R1[7:0]\n",
    "            # C_OP=6: undefined\n",
    "            # C_OP=7: reset\n",
    "\n",
    "        self.delay(0.5)\n",
    "        if cfg['arming']=='trigger':\n",
    "            self.trigger(pins=[8], t=0, width=10.0) # make the arming window big enough to capture all the pulses\n",
    "\n",
    "        # configure the regular readout\n",
    "        self.send_readoutconfig(ch=ro_ch, name=\"myro\", t=0)\n",
    "\n",
    "    def _body(self, cfg):\n",
    "        self.trigger(ros=[cfg['ro_ch']], pins=[0], t=cfg['trig_time'], ddr4=True)\n",
    "        for gen_ch in cfg['gen_chs']:\n",
    "            self.pulse(ch=gen_ch, name=\"myconst\", t=0)\n",
    "            self.pulse(ch=gen_ch, name=\"myflattop\", t=0.2)\n",
    "            self.pulse(ch=gen_ch, name=\"mygaus\", t=0.4)\n",
    "            \n",
    "    def _cleanup(self, cfg):\n",
    "        if cfg['arming']=='peripheral':\n",
    "            self.asm_inst({'CMD': 'PA', 'C_OP': '0', 'R1': 's0'}) # disarm\n",
    "            # the R1 argument is not used (s0 is the zero register and is used here as a placeholder)\n",
    "\n",
    "config = {'gen_chs': [GEN_CH_TT, GEN_CH_REG],\n",
    "          'ro_ch': RO_CH,\n",
    "          'ro_len': 0.8, # readout window for the regular readout\n",
    "          'trig_time': TRIG_TIME_RO, # trigger time for the regular readout\n",
    "          'arming': 'none', # how to arm the time-tagger\n",
    "         }"
   ]
  },
  {
   "cell_type": "code",
   "execution_count": 10,
   "id": "91da2313",
   "metadata": {},
   "outputs": [
    {
     "data": {
      "application/vnd.jupyter.widget-view+json": {
       "model_id": "7f697fc0af72439fac5ddd4b6844c872",
       "version_major": 2,
       "version_minor": 0
      },
      "text/plain": [
       "  0%|          | 0/1 [00:00<?, ?it/s]"
      ]
     },
     "metadata": {},
     "output_type": "display_data"
    },
    {
     "data": {
      "image/png": "[encoded data removed]",
      "text/plain": [
       "<Figure size 432x288 with 1 Axes>"
      ]
     },
     "metadata": {
      "needs_background": "light"
     },
     "output_type": "display_data"
    }
   ],
   "source": [
    "# use the regular readout in decimated mode to see the full pulse sequence\n",
    "\n",
    "config['arming'] = 'none'\n",
    "prog = ArmingProgram(soccfg, reps=1, final_delay=0.5, cfg=config)\n",
    "\n",
    "iq_list = prog.acquire_decimated(soc)\n",
    "\n",
    "t = prog.get_time_axis(0)\n",
    "plt.plot(t, iq_list[0][:,0])\n",
    "plt.ylabel(\"amplitude [ADU]\")\n",
    "plt.xlabel(\"time [us]\");"
   ]
  },
  {
   "cell_type": "code",
   "execution_count": 11,
   "id": "bc53a385",
   "metadata": {},
   "outputs": [
    {
     "data": {
      "application/vnd.jupyter.widget-view+json": {
       "model_id": "3e5b6f0475ee49d4bf5ee458c35e10ed",
       "version_major": 2,
       "version_minor": 0
      },
      "text/plain": [
       "  0%|          | 0/1 [00:00<?, ?it/s]"
      ]
     },
     "metadata": {},
     "output_type": "display_data"
    },
    {
     "name": "stdout",
     "output_type": "stream",
     "text": [
      "total tags: 3\n",
      "tags per arming window: [3]\n",
      "tags: [366114511 366115089 366115586]\n",
      "total samples: 768\n"
     ]
    },
    {
     "data": {
      "image/png": "[encoded data removed]",
      "text/plain": [
       "<Figure size 432x288 with 1 Axes>"
      ]
     },
     "metadata": {
      "needs_background": "light"
     },
     "output_type": "display_data"
    }
   ],
   "source": [
    "config['arming'] = 'none'\n",
    "prog = ArmingProgram(soccfg, reps=1, final_delay=0.5, cfg=config)\n",
    "\n",
    "# soc.qtt.reset()\n",
    "soc.qtt.flush_mems()\n",
    "soc.qtt.arm()\n",
    "iq_list = prog.acquire_decimated(soc)\n",
    "soc.qtt.disarm()\n",
    "\n",
    "plot_tags(NSAMP)"
   ]
  },
  {
   "cell_type": "code",
   "execution_count": 12,
   "id": "b468fcce",
   "metadata": {},
   "outputs": [
    {
     "data": {
      "application/vnd.jupyter.widget-view+json": {
       "model_id": "4f1ac6f16a7a49a1a3c3da8235a9dcfd",
       "version_major": 2,
       "version_minor": 0
      },
      "text/plain": [
       "  0%|          | 0/1 [00:00<?, ?it/s]"
      ]
     },
     "metadata": {},
     "output_type": "display_data"
    },
    {
     "name": "stdout",
     "output_type": "stream",
     "text": [
      "total tags: 3\n",
      "tags per arming window: [3]\n",
      "tags: [2735 3313 3814]\n",
      "total samples: 768\n"
     ]
    },
    {
     "data": {
      "image/png": "[encoded data removed]",
      "text/plain": [
       "<Figure size 432x288 with 1 Axes>"
      ]
     },
     "metadata": {
      "needs_background": "light"
     },
     "output_type": "display_data"
    }
   ],
   "source": [
    "config['arming'] = 'peripheral'\n",
    "prog = ArmingProgram(soccfg, reps=1, final_delay=0.5, cfg=config)\n",
    "\n",
    "soc.qtt.flush_mems()\n",
    "iq_list = prog.acquire_decimated(soc)\n",
    "plot_tags(NSAMP)"
   ]
  },
  {
   "cell_type": "code",
   "execution_count": 13,
   "id": "49d9d502",
   "metadata": {},
   "outputs": [
    {
     "data": {
      "application/vnd.jupyter.widget-view+json": {
       "model_id": "b5f4825ad65847b7809a8365bf786480",
       "version_major": 2,
       "version_minor": 0
      },
      "text/plain": [
       "  0%|          | 0/1 [00:00<?, ?it/s]"
      ]
     },
     "metadata": {},
     "output_type": "display_data"
    },
    {
     "name": "stdout",
     "output_type": "stream",
     "text": [
      "total tags: 3\n",
      "tags per arming window: [3]\n",
      "tags: [2831 3409 3906]\n",
      "total samples: 768\n"
     ]
    },
    {
     "data": {
      "image/png": "[encoded data removed]",
      "text/plain": [
       "<Figure size 432x288 with 1 Axes>"
      ]
     },
     "metadata": {
      "needs_background": "light"
     },
     "output_type": "display_data"
    }
   ],
   "source": [
    "config['arming'] = 'trigger'\n",
    "prog = ArmingProgram(soccfg, reps=1, final_delay=0.5, cfg=config)\n",
    "\n",
    "soc.qtt.flush_mems()\n",
    "iq_list = prog.acquire_decimated(soc)\n",
    "plot_tags(NSAMP)"
   ]
  },
  {
   "cell_type": "markdown",
   "id": "27853260",
   "metadata": {},
   "source": [
    "### reading tags from the tProc\n",
    "The time tagger has one more memory: this is a another queue for tags (only from channel 0), but is only readable by the tProc.\n",
    "Here's a little program that flushes the contents of this queue into the tProc data memory.\n",
    "\n",
    "If you run this after running the cells above, you should see the same 9 tags again."
   ]
  },
  {
   "cell_type": "code",
   "execution_count": 14,
   "id": "1d47c32e",
   "metadata": {},
   "outputs": [
    {
     "name": "stdout",
     "output_type": "stream",
     "text": [
      "tag queue for tproc: 9\n"
     ]
    },
    {
     "data": {
      "application/vnd.jupyter.widget-view+json": {
       "model_id": "9b58eebe5c5b4f2bb41afd4bc7f23c25",
       "version_major": 2,
       "version_minor": 0
      },
      "text/plain": [
       "  0%|          | 0/1 [00:00<?, ?it/s]"
      ]
     },
     "metadata": {},
     "output_type": "display_data"
    },
    {
     "name": "stdout",
     "output_type": "stream",
     "text": [
      "[366114511 366115089 366115586      2735      3313      3814      2831\n",
      "      3409      3906]\n",
      "loop counter: 9\n"
     ]
    }
   ],
   "source": [
    "# we want to be able to use run_rounds() to wait for this program to finish\n",
    "# AcquireProgramV2 is the base class for programs that support run_rounds()\n",
    "from qick.asm_v2 import AcquireProgramV2\n",
    "\n",
    "def flush_tproc_tags(soc):\n",
    "    prog = AcquireProgramV2(soccfg)\n",
    "    prog.setup_counter(counter_addr=1, loop_dims=[1])\n",
    "    \n",
    "    # now let's write the program:\n",
    "    prog.set_ext_counter(addr=1, val=0) # we'll set this to 1 at the end, so run_rounds() knows we're done\n",
    "    prog.set_ext_counter(addr=2, val=0) # we'll use this (s_core_w2) to count how many tags we've popped\n",
    "\n",
    "    prog.write_reg('s_cfg', 0x10_0004) # clear qpa_dt_new bit, wire s_core_r registers to peripheral\n",
    "    prog.asm_inst({'CMD': 'PA', 'C_OP': '3', 'R1': 's0'}) # peek (update s_core_r2 with queue size)\n",
    "    prog.asm_inst({'CMD': 'WAIT', 'C_OP': 'qpa_dt'}, addr_inc=2)\n",
    "    \n",
    "    # this is a while loop\n",
    "    prog.label('LOOP')\n",
    "    prog.cond_jump('DONE','s_core_r2', 'Z') # if tag queue is empty, break out of the loop\n",
    "    prog.write_reg('s_cfg', 0x10_0004) # clear qpa_dt_new bit, wire s_core_r registers to peripheral\n",
    "    prog.asm_inst({'CMD': 'PA', 'C_OP': '2', 'R1': 's0'}) # pop (move a tag from the queue into s_core_r1, update s_core_r2)\n",
    "    prog.asm_inst({'CMD': 'WAIT', 'C_OP': 'qpa_dt'}, addr_inc=2)\n",
    "    prog.write_dmem('s_core_w2', 's_core_r1') # copy the tag into the data memory\n",
    "    prog.inc_ext_counter(addr=2, val=1)\n",
    "    prog.jump('LOOP')\n",
    "    \n",
    "    prog.label('DONE')\n",
    "    prog.inc_ext_counter(addr=1, val=1)\n",
    "    prog.end()\n",
    "    \n",
    "    to_flush = soc.qtt.proc_qty # get the queue size from the time-tagger register\n",
    "    print(\"tag queue for tproc:\", to_flush)\n",
    "    if to_flush:\n",
    "        # just to be sure, zero the tProc data memory\n",
    "        soc.load_mem(buff=np.zeros(to_flush, dtype=np.int32), mem_sel='dmem')\n",
    "        soc.qtt.dma_cfg = soc.qtt.MEMS['TAG0'][0] # enable tProc access to the tag queue\n",
    "        prog.run_rounds(soc)\n",
    "        print(soc.read_mem(length=to_flush, mem_sel='dmem'))\n",
    "        print(\"loop counter:\", soc.get_tproc_counter(2)) # this should match to_flush\n",
    "flush_tproc_tags(soc)"
   ]
  },
  {
   "cell_type": "markdown",
   "id": "c2638b41",
   "metadata": {},
   "source": [
    "Now let's write a program where we arm the time-tagger in each shot, and read the tags from each shot into the tProc.\n",
    "\n",
    "In this toy program, we're copying the last tag from each shot into the tProc data memory.\n",
    "In a real experiment, you might do some sort of feedback on the tags, and you might handle differently cases where you have either no tag or multiple tags.\n",
    "\n",
    "First, use a constant pulse time to see the (lack of) jitter."
   ]
  },
  {
   "cell_type": "code",
   "execution_count": 15,
   "id": "14e45380",
   "metadata": {},
   "outputs": [],
   "source": [
    "class MultiArmProgram(AveragerProgramV2):\n",
    "    def _initialize(self, cfg):\n",
    "        ro_ch = cfg['ro_ch']\n",
    "        gen_ch0 = cfg['gen_chs'][0]\n",
    "        \n",
    "        for gen_ch in cfg['gen_chs']:\n",
    "            self.declare_gen(ch=gen_ch, nqz=1)\n",
    "        self.declare_readout(ch=ro_ch, length=cfg['ro_len'])\n",
    "        \n",
    "        self.add_pulse(ch=cfg['gen_chs'], name=\"myconst\",\n",
    "                       style=\"const\", \n",
    "                       length=0.01,\n",
    "                       freq=0, \n",
    "                       phase=0,\n",
    "                       gain=1.0,\n",
    "                      )\n",
    "        self.add_readoutconfig(ch=ro_ch, name=\"myro\", freq=0)\n",
    "#         self.write_reg('s_cfg', 4)\n",
    "\n",
    "        # configure the regular readout\n",
    "        self.send_readoutconfig(ch=ro_ch, name=\"myro\", t=0)\n",
    "\n",
    "    def _body(self, cfg):\n",
    "        self.trigger(pins=[8], t=cfg['trig_time_tt'], width=cfg['ro_len'])\n",
    "        self.trigger(ros=[cfg['ro_ch']], pins=[0], t=cfg['trig_time_ro'], ddr4=True)\n",
    "        for gen_ch in cfg['gen_chs']:\n",
    "            self.pulse(ch=gen_ch, name=\"myconst\", t=cfg['pulse_time'])\n",
    "            \n",
    "        self.write_reg('s_cfg', 0x10_0004) # clear qpa_dt_new bit, wire s_core_r registers to peripheral\n",
    "        self.wait(cfg['trig_time_tt']+cfg['ro_len'])\n",
    "\n",
    "        self.asm_inst({'CMD': 'PA', 'C_OP': '3', 'R1': 's0'}) # peek (update s_core_r2 with queue size)\n",
    "        self.asm_inst({'CMD': 'WAIT', 'C_OP': 'qpa_dt'}, addr_inc=2)\n",
    "\n",
    "        # this is a while loop\n",
    "        self.label('LOOP')\n",
    "        self.cond_jump('DONE','s_core_r2', 'Z') # if tag queue is empty, break out of the loop\n",
    "        self.write_reg('s_cfg', 0x10_0004) # clear qpa_dt_new bit, wire s_core_r registers to peripheral\n",
    "        self.asm_inst({'CMD': 'PA', 'C_OP': '2', 'R1': 's0'}) # pop (move a tag from the queue into s_core_r1, update s_core_r2)\n",
    "        self.asm_inst({'CMD': 'WAIT', 'C_OP': 'qpa_dt'}, addr_inc=2)\n",
    "        self.write_dmem('reps', 's_core_r1') # copy the tag into the data memory\n",
    "        self.jump('LOOP')\n",
    "        self.label('DONE')\n",
    "\n",
    "        self.resync(0.05)\n",
    "        \n",
    "    def compile_datamem(self):\n",
    "        # zero out the data memory that we plan to write to\n",
    "        return np.zeros(self.reps, dtype=np.int32)\n",
    "            \n",
    "config = {'gen_chs': [GEN_CH_TT, GEN_CH_REG],\n",
    "          'ro_ch': RO_CH,\n",
    "          'pulse_time': 0.0,\n",
    "          'ro_len': 0.5,\n",
    "          'trig_time_ro': TRIG_TIME_RO,\n",
    "          'trig_time_tt': TRIG_TIME_TT,\n",
    "         }\n",
    "\n",
    "NSAMP = 5 # units of ADC fabric clocks\n",
    "soc.qtt.flush_mems()\n",
    "soc.qtt.set_config(filt=0, slope=0, interp=0, wr_smp=NSAMP, invert=0)\n",
    "soc.qtt.set_dead_time(10) # units of ADC fabric clocks\n",
    "soc.qtt.set_threshold(2000) # units of ADU, as measured by time-tagger"
   ]
  },
  {
   "cell_type": "code",
   "execution_count": 16,
   "id": "1201f122",
   "metadata": {
    "scrolled": false
   },
   "outputs": [
    {
     "data": {
      "application/vnd.jupyter.widget-view+json": {
       "model_id": "8a9890fff5ab4b04b427af0efa7297c2",
       "version_major": 2,
       "version_minor": 0
      },
      "text/plain": [
       "  0%|          | 0/10 [00:00<?, ?it/s]"
      ]
     },
     "metadata": {},
     "output_type": "display_data"
    },
    {
     "name": "stdout",
     "output_type": "stream",
     "text": [
      "total tags: 10\n",
      "tags per arming window: [1 1 1 1 1 1 1 1 1 1]\n",
      "tags: [127 127 127 127 127 127 127 127 127 127]\n",
      "total samples: 400\n",
      "tags from tproc: [127 127 127 127 127 127 127 127 127 127]\n"
     ]
    },
    {
     "data": {
      "image/png": "[encoded data removed]",
      "text/plain": [
       "<Figure size 432x288 with 1 Axes>"
      ]
     },
     "metadata": {
      "needs_background": "light"
     },
     "output_type": "display_data"
    }
   ],
   "source": [
    "reps = 10\n",
    "prog = MultiArmProgram(soccfg, reps=reps, final_delay=1.0, cfg=config)\n",
    "\n",
    "soc.qtt.flush_mems()\n",
    "soc.qtt.dma_cfg = soc.qtt.MEMS['TAG0'][0] # must select ch 0 for the tProc queue to work\n",
    "iq_list = prog.acquire(soc)\n",
    "plot_tags(NSAMP)\n",
    "# print(prog.get_raw()[0][:,0,0])\n",
    "print(\"tags from tproc:\", soc.read_mem(length=reps, mem_sel='dmem'))"
   ]
  },
  {
   "cell_type": "markdown",
   "id": "6ce4ab69",
   "metadata": {},
   "source": [
    "Now, sweep the pulse time to show that the shot-by-shot tags make sense."
   ]
  },
  {
   "cell_type": "code",
   "execution_count": 17,
   "id": "7541f5ba",
   "metadata": {},
   "outputs": [
    {
     "data": {
      "application/vnd.jupyter.widget-view+json": {
       "model_id": "2b92edc6cd744febac30ee29ca03a4c4",
       "version_major": 2,
       "version_minor": 0
      },
      "text/plain": [
       "  0%|          | 0/10 [00:00<?, ?it/s]"
      ]
     },
     "metadata": {},
     "output_type": "display_data"
    },
    {
     "name": "stdout",
     "output_type": "stream",
     "text": [
      "total tags: 10\n",
      "tags per arming window: [1 1 1 1 1 1 1 1 1 1]\n",
      "tags: [127 175 223 271 319 367 415 463 515 559]\n",
      "total samples: 400\n",
      "tags from tproc: [127 175 223 271 319 367 415 463 515 559]\n"
     ]
    },
    {
     "data": {
      "image/png": "[encoded data removed]",
      "text/plain": [
       "<Figure size 432x288 with 1 Axes>"
      ]
     },
     "metadata": {
      "needs_background": "light"
     },
     "output_type": "display_data"
    }
   ],
   "source": [
    "config['pulse_time'] = QickSweep1D(\"reps\", 0.0, 0.2)\n",
    "reps = 10\n",
    "prog = MultiArmProgram(soccfg, reps=reps, final_delay=1.0, cfg=config)\n",
    "\n",
    "soc.qtt.flush_mems()\n",
    "soc.qtt.dma_cfg = soc.qtt.MEMS['TAG0'][0]\n",
    "iq_list = prog.acquire(soc)\n",
    "plot_tags(NSAMP)\n",
    "# print(prog.get_raw()[0][:,0,0])\n",
    "print(\"tags from tproc:\", soc.read_mem(length=reps, mem_sel='dmem'))"
   ]
  },
  {
   "cell_type": "markdown",
   "id": "17feb388",
   "metadata": {},
   "source": [
    "### scratchwork\n",
    "everything below is scratchwork"
   ]
  },
  {
   "cell_type": "code",
   "execution_count": 18,
   "id": "e1de7d25",
   "metadata": {},
   "outputs": [],
   "source": [
    "# plot_tags(NSAMP)\n"
   ]
  },
  {
   "cell_type": "code",
   "execution_count": 19,
   "id": "c509b49f",
   "metadata": {},
   "outputs": [],
   "source": [
    "# from qick.asm_v2 import QickProgramV2\n",
    "# # use QickProgramV2 to write the same program using asm_inst\n",
    "# lname = 'reps'\n",
    "# prog = QickProgramV2(soccfg)\n",
    "# prog.add_reg(lname)\n",
    "# prog.write_reg(lname, 0)\n",
    "# prog.label(lname)\n",
    "\n",
    "# addr = prog.reg_dict[lname].full_addr()\n",
    "\n",
    "# # prog.open_loop(10, 'reps')\n",
    "# prog.write_dmem(lname, lname)\n",
    "\n",
    "# # prog.asm_inst({'CMD':'REG_WR', 'DST':addr, 'SRC':'op', 'OP':f'{addr} - #1', 'UF':'1'})\n",
    "# # prog.asm_inst({'CMD':'JUMP', 'LABEL':lname, 'IF':'NZ'})\n",
    "\n",
    "# # prog.asm_inst({'CMD':'TEST', 'OP':f'{addr} - #9', 'UF':'1'})\n",
    "# prog.asm_inst({'CMD':'TEST', 'OP':f'{addr} - #9'})\n",
    "\n",
    "# # 'OP': 'r3 - #3', 'CMD': 'TEST'\n",
    "# prog.asm_inst({'CMD':'JUMP', 'LABEL':lname, 'IF':'NZ', 'WR': 'r0 op', 'OP': 'r0 + #1'})\n",
    "\n",
    "# # {'CMD': 'JUMP', 'LABEL': 'LOOP', 'IF': 'NZ', 'WR': 'r1 op', 'OP': 'r1 - #1'}\n",
    "# prog.write_dmem(20, lname)\n",
    "\n",
    "# # prog.close_loop()\n",
    "# prog.end()\n",
    "\n",
    "# soc.tproc.load_mem(mem_sel='dmem', buff_in=np.zeros(100,dtype=np.int32))\n",
    "# prog.run(soc)\n",
    "# print(soc.tproc.read_mem(mem_sel='dmem', length=100))"
   ]
  },
  {
   "cell_type": "code",
   "execution_count": 20,
   "id": "57bdfa8e",
   "metadata": {},
   "outputs": [],
   "source": [
    "# iq_list = prog.acquire_decimated(soc)\n",
    "# iq_list = prog.acquire_decimated(soc)\n",
    "# iq_list = prog.acquire_decimated(soc)\n",
    "# iq_list = prog.acquire_decimated(soc)\n",
    "# iq_list = prog.acquire_decimated(soc)\n"
   ]
  },
  {
   "cell_type": "code",
   "execution_count": 21,
   "id": "a9efd0bc",
   "metadata": {},
   "outputs": [],
   "source": [
    "# soc.qtt.reset()"
   ]
  },
  {
   "cell_type": "code",
   "execution_count": 22,
   "id": "c1ccd82a",
   "metadata": {},
   "outputs": [
    {
     "name": "stdout",
     "output_type": "stream",
     "text": [
      "---------------------------------------------\n",
      " QICK Time Tagger INFO \n",
      "---------------------------------------------\n",
      "Connections:\n",
      " ADC0 : ADC tile 2, blk 2 is 2_226, on JHC7\n",
      " ADC1 : ADC tile 2, blk 3 is 3_226, on JHC8\n",
      " ADC2 : not connected\n",
      " ADC3 : not connected\n",
      "Configuration:\n",
      " adc_qty       : 2\n",
      " tag_mem_size  : 65536\n",
      " cmp_slope     : 0\n",
      " cmp_inter     : 4\n",
      " arm_store     : 1\n",
      " arm_mem_size  : 1024\n",
      " smp_store     : 1\n",
      " smp_mem_size  : 262144\n",
      "----------\n",
      "\n",
      "--- AXI Time Tagger CONFIG\n",
      " FILTER           : 0\n",
      " SLOPE            : 0\n",
      " INTERPOLATION    : 0\n",
      " WRITE SAMPLE QTY : 5\n",
      " INVERT INPUT     : 0\n",
      "---------------------------------------------\n",
      "--- AXI Registers\n",
      "  qtt_ctrl           0 - 0000_0000_0000_0000_0000_0000_0000_0000\n",
      "   qtt_cfg         160 - 0000_0000_0000_0000_0000_0000_1010_0000\n",
      "   dma_cfg        6405 - 0000_0000_0000_0000_0001_1001_0000_0101\n",
      "   axi_dt1        2000 - 0000_0000_0000_0000_0000_0111_1101_0000\n",
      "   proc_dt         559 - 0000_0000_0000_0000_0000_0010_0010_1111\n",
      "  proc_qty           0 - 0000_0000_0000_0000_0000_0000_0000_0000\n",
      "  tag0_qty           0 - 0000_0000_0000_0000_0000_0000_0000_0000\n",
      "  tag1_qty           0 - 0000_0000_0000_0000_0000_0000_0000_0000\n",
      "  tag2_qty           0 - 0000_0000_0000_0000_0000_0000_0000_0000\n",
      "  tag3_qty           0 - 0000_0000_0000_0000_0000_0000_0000_0000\n",
      "   smp_qty           0 - 0000_0000_0000_0000_0000_0000_0000_0000\n",
      "   arm_qty           0 - 0000_0000_0000_0000_0000_0000_0000_0000\n",
      "   thr_inh      657360 - 0000_0000_0000_1010_0000_0111_1101_0000\n",
      "qtt_status         486 - 0000_0000_0000_0000_0000_0001_1110_0110\n",
      " qtt_debug   620822528 - 0010_0101_0000_0001_0000_0000_0000_0000\n",
      "---------------------------------------------\n",
      "--- AXI Time Tagger DEBUG\n",
      " ST_TRIG  : 230\n",
      " ST_DMA   : 1\n",
      " -- FIFO --\n",
      " DMA_FULL   : 0\n",
      " DMA_EMPTY  : 0\n",
      " PROC_FULL  : 0\n",
      " PROC_EMPTY : 0\n",
      " -- DMA --\n",
      " DMA_ST     : 0 - ST_IDLE\n",
      " DMA_REQ    : 0\n",
      " DMA_ACK    : 0\n",
      " POP_REQ    : 0\n",
      " POP_ACK    : 0\n",
      " FIFO_RD  : 0\n",
      " DT_TX    : 0\n",
      " DT_W     : 0\n",
      " DT_VLD   : 0\n",
      " DT_BF    : 0\n",
      " LP_CNT_EN: 0\n",
      " LEN_CNT    : 1\n",
      " FIFO_RD_CNT: 4\n",
      " VLD_CNT    : 9\n",
      " THRESHOLD  : 2000\n",
      " INHIBIT    : 10\n",
      " CMD_CNT    : 0\n"
     ]
    }
   ],
   "source": [
    "# additional info on the time-tagger config and state\n",
    "\n",
    "soc.qtt.info()\n",
    "soc.qtt.get_config(print_cfg = True)\n",
    "soc.qtt.print_axi_regs()\n",
    "soc.qtt.print_debug()"
   ]
  },
  {
   "cell_type": "code",
   "execution_count": null,
   "id": "76fd9d1f",
   "metadata": {},
   "outputs": [],
   "source": []
  }
 ],
 "metadata": {
  "kernelspec": {
   "display_name": "Python 3 (ipykernel)",
   "language": "python",
   "name": "python3"
  },
  "language_info": {
   "codemirror_mode": {
    "name": "ipython",
    "version": 3
   },
   "file_extension": ".py",
   "mimetype": "text/x-python",
   "name": "python",
   "nbconvert_exporter": "python",
   "pygments_lexer": "ipython3",
   "version": "3.10.4"
  }
 },
 "nbformat": 4,
 "nbformat_minor": 5
}
